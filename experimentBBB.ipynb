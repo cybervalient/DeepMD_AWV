{
  "cells": [
    {
      "cell_type": "markdown",
      "metadata": {
        "id": "view-in-github",
        "colab_type": "text"
      },
      "source": [
        "<a href=\"https://colab.research.google.com/github/cybervalient/DeepMD_AWV/blob/main/experimentBBB.ipynb\" target=\"_parent\"><img src=\"https://colab.research.google.com/assets/colab-badge.svg\" alt=\"Open In Colab\"/></a>"
      ]
    },
    {
      "cell_type": "code",
      "execution_count": null,
      "metadata": {
        "colab": {
          "base_uri": "https://localhost:8080/"
        },
        "id": "3iU9nutWL0EU",
        "outputId": "0134be70-f38e-45c5-a19e-05098f19efdd"
      },
      "outputs": [
        {
          "name": "stdout",
          "output_type": "stream",
          "text": [
            "Collecting h2o\n",
            "  Downloading h2o-3.36.0.4.tar.gz (176.2 MB)\n",
            "\u001b[K     |████████████████████████████████| 176.2 MB 1.6 kB/s \n",
            "\u001b[?25hRequirement already satisfied: requests in /usr/local/lib/python3.7/dist-packages (from h2o) (2.23.0)\n",
            "Requirement already satisfied: tabulate in /usr/local/lib/python3.7/dist-packages (from h2o) (0.8.9)\n",
            "Requirement already satisfied: future in /usr/local/lib/python3.7/dist-packages (from h2o) (0.16.0)\n",
            "Requirement already satisfied: certifi>=2017.4.17 in /usr/local/lib/python3.7/dist-packages (from requests->h2o) (2021.10.8)\n",
            "Requirement already satisfied: urllib3!=1.25.0,!=1.25.1,<1.26,>=1.21.1 in /usr/local/lib/python3.7/dist-packages (from requests->h2o) (1.24.3)\n",
            "Requirement already satisfied: idna<3,>=2.5 in /usr/local/lib/python3.7/dist-packages (from requests->h2o) (2.10)\n",
            "Requirement already satisfied: chardet<4,>=3.0.2 in /usr/local/lib/python3.7/dist-packages (from requests->h2o) (3.0.4)\n",
            "Building wheels for collected packages: h2o\n",
            "  Building wheel for h2o (setup.py) ... \u001b[?25l\u001b[?25hdone\n",
            "  Created wheel for h2o: filename=h2o-3.36.0.4-py2.py3-none-any.whl size=176245474 sha256=e58b535f50a2527cf5d6d925df06787a99afc76e15a7ea54f6e3b93ec987a3d5\n",
            "  Stored in directory: /root/.cache/pip/wheels/66/7c/3b/6558f625a9415a96f7f650d33f1def07b6e30b0c871e8407a1\n",
            "Successfully built h2o\n",
            "Installing collected packages: h2o\n",
            "Successfully installed h2o-3.36.0.4\n"
          ]
        }
      ],
      "source": [
        "!pip install h2o"
      ]
    },
    {
      "cell_type": "code",
      "execution_count": null,
      "metadata": {
        "colab": {
          "base_uri": "https://localhost:8080/"
        },
        "id": "oE4yROocNy0V",
        "outputId": "23169fef-1dd8-460e-9a42-f66537e01242"
      },
      "outputs": [
        {
          "name": "stdout",
          "output_type": "stream",
          "text": [
            "Requirement already satisfied: pandas in /usr/local/lib/python3.7/dist-packages (1.3.5)\n",
            "Requirement already satisfied: python-dateutil>=2.7.3 in /usr/local/lib/python3.7/dist-packages (from pandas) (2.8.2)\n",
            "Requirement already satisfied: numpy>=1.17.3 in /usr/local/lib/python3.7/dist-packages (from pandas) (1.21.5)\n",
            "Requirement already satisfied: pytz>=2017.3 in /usr/local/lib/python3.7/dist-packages (from pandas) (2018.9)\n",
            "Requirement already satisfied: six>=1.5 in /usr/local/lib/python3.7/dist-packages (from python-dateutil>=2.7.3->pandas) (1.15.0)\n"
          ]
        }
      ],
      "source": [
        "!pip install pandas"
      ]
    },
    {
      "cell_type": "code",
      "execution_count": null,
      "metadata": {
        "colab": {
          "base_uri": "https://localhost:8080/",
          "height": 520
        },
        "id": "39zE-AGVMb5c",
        "outputId": "06b199a5-b109-4832-cf8e-44361e0e51d2"
      },
      "outputs": [
        {
          "name": "stdout",
          "output_type": "stream",
          "text": [
            "Checking whether there is an H2O instance running at http://localhost:54321 . connected.\n"
          ]
        },
        {
          "data": {
            "text/html": [
              "<div style=\"overflow:auto\"><table style=\"width:50%\"><tr><td>H2O_cluster_uptime:</td>\n",
              "<td>1 day 13 hours 27 mins</td></tr>\n",
              "<tr><td>H2O_cluster_timezone:</td>\n",
              "<td>Europe/Paris</td></tr>\n",
              "<tr><td>H2O_data_parsing_timezone:</td>\n",
              "<td>UTC</td></tr>\n",
              "<tr><td>H2O_cluster_version:</td>\n",
              "<td>3.36.0.4</td></tr>\n",
              "<tr><td>H2O_cluster_version_age:</td>\n",
              "<td>1 month and 22 days </td></tr>\n",
              "<tr><td>H2O_cluster_name:</td>\n",
              "<td>H2O_from_python_Administrator_53bgr6</td></tr>\n",
              "<tr><td>H2O_cluster_total_nodes:</td>\n",
              "<td>1</td></tr>\n",
              "<tr><td>H2O_cluster_free_memory:</td>\n",
              "<td>15.54 Gb</td></tr>\n",
              "<tr><td>H2O_cluster_total_cores:</td>\n",
              "<td>12</td></tr>\n",
              "<tr><td>H2O_cluster_allowed_cores:</td>\n",
              "<td>12</td></tr>\n",
              "<tr><td>H2O_cluster_status:</td>\n",
              "<td>locked, healthy</td></tr>\n",
              "<tr><td>H2O_connection_url:</td>\n",
              "<td>http://localhost:54321</td></tr>\n",
              "<tr><td>H2O_connection_proxy:</td>\n",
              "<td>{\"http\": null, \"https\": null}</td></tr>\n",
              "<tr><td>H2O_internal_security:</td>\n",
              "<td>False</td></tr>\n",
              "<tr><td>Python_version:</td>\n",
              "<td>3.9.7 final</td></tr></table></div>"
            ],
            "text/plain": [
              "--------------------------  ------------------------------------\n",
              "H2O_cluster_uptime:         1 day 13 hours 27 mins\n",
              "H2O_cluster_timezone:       Europe/Paris\n",
              "H2O_data_parsing_timezone:  UTC\n",
              "H2O_cluster_version:        3.36.0.4\n",
              "H2O_cluster_version_age:    1 month and 22 days\n",
              "H2O_cluster_name:           H2O_from_python_Administrator_53bgr6\n",
              "H2O_cluster_total_nodes:    1\n",
              "H2O_cluster_free_memory:    15.54 Gb\n",
              "H2O_cluster_total_cores:    12\n",
              "H2O_cluster_allowed_cores:  12\n",
              "H2O_cluster_status:         locked, healthy\n",
              "H2O_connection_url:         http://localhost:54321\n",
              "H2O_connection_proxy:       {\"http\": null, \"https\": null}\n",
              "H2O_internal_security:      False\n",
              "Python_version:             3.9.7 final\n",
              "--------------------------  ------------------------------------"
            ]
          },
          "metadata": {},
          "output_type": "display_data"
        }
      ],
      "source": [
        "import h2o\n",
        "from h2o.automl import H2OAutoML\n",
        "h2o.init(max_mem_size='16G')"
      ]
    },
    {
      "cell_type": "code",
      "execution_count": null,
      "metadata": {
        "id": "CMMz9Jy9M3Bc"
      },
      "outputs": [],
      "source": [
        "#from google.colab import files  \n",
        "#uploaded = files.upload()\n"
      ]
    },
    {
      "cell_type": "code",
      "execution_count": null,
      "metadata": {
        "colab": {
          "base_uri": "https://localhost:8080/",
          "height": 342
        },
        "id": "uXSg-YMiOWXo",
        "outputId": "1f2aefe1-e892-4295-aadd-5bb3d6dc6182"
      },
      "outputs": [
        {
          "name": "stdout",
          "output_type": "stream",
          "text": [
            "Parse progress: |████████████████████████████████████████████████████████████████| (done) 100%\n"
          ]
        },
        {
          "data": {
            "text/html": [
              "<table>\n",
              "<thead>\n",
              "<tr><th>name                                                                                   </th><th style=\"text-align: right;\">  N3-NE-P-WH-T</th><th style=\"text-align: right;\">  1AC-NE(N2)-P-WH-T</th><th style=\"text-align: right;\">  1AC-NE(N3)-P-WH-T</th><th style=\"text-align: right;\">  1AC-NE(I50)-P-WH-T</th><th style=\"text-align: right;\">  3AC-NE(N3)-P-WH-T</th><th style=\"text-align: right;\">  5AC-NE(I50)-P-WH-T</th><th style=\"text-align: right;\">  1AC-NE(N3)-C-WH-T</th><th style=\"text-align: right;\">  2AC-NE(DE)-C-WH-T</th><th style=\"text-align: right;\">  3AC-NE(CV)-C-WH-T</th><th style=\"text-align: right;\">  2AC-NE(DE)-L-WH-T</th><th style=\"text-align: right;\">  2AC-NE(I50)-L-WH-T</th><th style=\"text-align: right;\">  1AC-NE(Q1)-HX-WH-T</th><th style=\"text-align: right;\">  3AC-NE(S)-HX-WH-T</th><th style=\"text-align: right;\">  4AC-NE(V)-HX-WH-T</th><th style=\"text-align: right;\">  4AC-NE(S)-HX-WH-T</th><th style=\"text-align: right;\">  4AC-NE(K)-HX-WH-T</th><th style=\"text-align: right;\">  5AC-NE(V)-HX-WH-T</th><th style=\"text-align: right;\">  5AC-NE(S)-HX-WH-T</th><th style=\"text-align: right;\">  5AC-NE(K)-HX-WH-T</th><th style=\"text-align: right;\">  1AC-NE(P3)-KU-WH-T</th><th style=\"text-align: right;\">  2AC-NE(P3)-KU-WH-T</th><th style=\"text-align: right;\">  3AC-NE(P3)-KU-WH-T</th><th style=\"text-align: right;\">  TAC-NE(A)-KU-WH-T</th><th style=\"text-align: right;\">  S-NE-Alk-WH-T</th><th style=\"text-align: right;\">  R-NE-Alk-WH-T</th><th style=\"text-align: right;\">  2AC-NE(S)-Alk-WH-T</th><th style=\"text-align: right;\">  3AC-NE(V)-Alk-WH-T</th><th style=\"text-align: right;\">  3AC-NE(S)-Alk-WH-T</th><th style=\"text-align: right;\">  3AC-NE(K)-Alk-WH-T</th><th style=\"text-align: right;\">  4AC-NE(V)-Alk-WH-T</th><th style=\"text-align: right;\">  4AC-NE(S)-Alk-WH-T</th><th style=\"text-align: right;\">  4AC-NE(K)-Alk-WH-T</th><th style=\"text-align: right;\">  5AC-NE(V)-Alk-WH-T</th><th style=\"text-align: right;\">  5AC-NE(S)-Alk-WH-T</th><th style=\"text-align: right;\">  5AC-NE(K)-Alk-WH-T</th><th style=\"text-align: right;\">  6AC-NE(V)-Alk-WH-T</th><th style=\"text-align: right;\">  6AC-NE(K)-Alk-WH-T</th><th style=\"text-align: right;\">  6AC-NE(DE)-Alk-WH-T</th><th style=\"text-align: right;\">  TAC-NE(S)-Alk-WH-T</th><th style=\"text-align: right;\">  TAC-NE(R)-Alk-WH-T</th><th style=\"text-align: right;\">  1AC-NE(N2)-IN4-WH-T</th><th style=\"text-align: right;\">  1AC-NE(N2)-IN5-WH-T</th><th style=\"text-align: right;\">  4AC-NE(MX)-IN10-WH-T</th><th style=\"text-align: right;\">  5AC-NE(MX)-IN10-WH-T</th><th style=\"text-align: right;\">  6AC-NE(MX)-IN10-WH-T</th><th style=\"text-align: right;\">  5AC-NE(MX)-IN11-WH-T</th><th style=\"text-align: right;\">  6AC-NE(MX)-IN11-WH-T</th><th style=\"text-align: right;\">  4AC-NE(MX)-IN12-WH-T</th><th style=\"text-align: right;\">  5AC-NE(MX)-IN12-WH-T</th><th style=\"text-align: right;\">  6AC-NE(MX)-IN12-WH-T</th><th style=\"text-align: right;\">  1AC-NE(Q2)-IN13-WH-T</th><th style=\"text-align: right;\">  1AC-NE(Q2)-IN14-WH-T</th><th style=\"text-align: right;\">  1AC-NE(Q2)-IN15-WH-T</th><th style=\"text-align: right;\">  2AC-NE(R)-DC3-WH-T</th><th style=\"text-align: right;\">  4AC-NE(S)-DC3-WH-T</th><th style=\"text-align: right;\">  4AC-NE(R)-DC3-WH-T</th><th style=\"text-align: right;\">  5AC-NE(V)-DC3-WH-T</th><th style=\"text-align: right;\">  5AC-NE(S)-DC3-WH-T</th><th style=\"text-align: right;\">  5AC-NE(K)-DC3-WH-T</th><th style=\"text-align: right;\">  5AC-NE(R)-DC3-WH-T</th><th style=\"text-align: right;\">  6AC-NE(S)-DC3-WH-T</th><th style=\"text-align: right;\">  6AC-NE(R)-DC3-WH-T</th><th style=\"text-align: right;\">  TAC-NE(V)-DC3-WH-T</th><th style=\"text-align: right;\">  TAC-NE(S)-DC3-WH-T</th><th style=\"text-align: right;\">  TAC-NE(K)-DC3-WH-T</th><th style=\"text-align: right;\">  TAC-NE(R)-DC3-WH-T</th><th style=\"text-align: right;\">  P3-NE-P-WH-HT</th><th style=\"text-align: right;\">  A-NE-P-WH-HT</th><th style=\"text-align: right;\">  TAC-NE(Q2)-IN16-WH-HT</th><th style=\"text-align: right;\">  TAC-NE(Q2)-IN17-WH-HT</th><th style=\"text-align: right;\">  TAC-NE(Q2)-IN18-WH-HT</th><th style=\"text-align: right;\">  TAC-NE(I50)-DC2-WH-HT</th><th style=\"text-align: right;\">  P3-NE-P-WH-HA</th><th style=\"text-align: right;\">  A-NE-P-WH-HA</th><th style=\"text-align: right;\">  MX-NE-P-WH-HA</th><th style=\"text-align: right;\">  TAC-NE(Q2)-IN16-WH-HA</th><th style=\"text-align: right;\">  TAC-NE(Q2)-IN17-WH-HA</th><th style=\"text-align: right;\">  TAC-NE(Q2)-IN18-WH-HA</th><th style=\"text-align: right;\">  TAC-NE(I50)-DC2-WH-HA</th><th style=\"text-align: right;\">  1AC-NE(P2)-P-WH-IS</th><th style=\"text-align: right;\">  1AC-NE(P3)-P-WH-IS</th><th style=\"text-align: right;\">  1AC-NE(A)-P-WH-IS</th><th style=\"text-align: right;\">  TAC-NE(P3)-P-WH-IS</th><th style=\"text-align: right;\">  TAC-NE(A)-P-WH-IS</th><th style=\"text-align: right;\">  MX-NE-IN16-WH-IS</th><th style=\"text-align: right;\">  MX-NE-IN17-WH-IS</th><th style=\"text-align: right;\">  MX-NE-IN18-WH-IS</th><th style=\"text-align: right;\">  TAC-NE(I50)-DC2-WH-IS</th><th style=\"text-align: right;\">  TAC-NE(I50)-DC4-WH-IS</th><th style=\"text-align: right;\">  A-NE-P-WH-LA</th><th style=\"text-align: right;\">  1AC-NE(I50)-P-WH-LA</th><th style=\"text-align: right;\">  2AC-NE(PN)-P-WH-LA</th><th style=\"text-align: right;\">  3AC-NE(A)-P-WH-LA</th><th style=\"text-align: right;\">  3AC-NE(MN)-P-WH-LA</th><th style=\"text-align: right;\">  4AC-NE(PN)-P-WH-LA</th><th style=\"text-align: right;\">  5AC-NE(PN)-P-WH-LA</th><th style=\"text-align: right;\">  6AC-NE(PN)-P-WH-LA</th><th style=\"text-align: right;\">  K-NE-C-WH-LA</th><th style=\"text-align: right;\">  2AC-NE(I50)-C-WH-LA</th><th style=\"text-align: right;\">  3AC-NE(MX)-C-WH-LA</th><th style=\"text-align: right;\">  1AC-NE(I50)-L-WH-LA</th><th style=\"text-align: right;\">  3AC-NE(PN)-L-WH-LA</th><th style=\"text-align: right;\">  TAC-NE(MX)-L-WH-LA</th><th style=\"text-align: right;\">  2AC-NE(N1)-HX-WH-LA</th><th style=\"text-align: right;\">  2AC-NE(R)-HX-WH-LA</th><th style=\"text-align: right;\">  2AC-NE(Q1)-HX-WH-LA</th><th style=\"text-align: right;\">  2AC-NE(Q3)-HX-WH-LA</th><th style=\"text-align: right;\">  3AC-NE(N1)-HX-WH-LA</th><th style=\"text-align: right;\">  3AC-NE(PN)-HX-WH-LA</th><th style=\"text-align: right;\">  3AC-NE(Q1)-HX-WH-LA</th><th style=\"text-align: right;\">  3AC-NE(Q3)-HX-WH-LA</th><th style=\"text-align: right;\">  3AC-NE(I50)-HX-WH-LA</th><th style=\"text-align: right;\">  3AC-NE(MX)-HX-WH-LA</th><th style=\"text-align: right;\">  4AC-NE(PN)-HX-WH-LA</th><th style=\"text-align: right;\">  4AC-NE(Q1)-HX-WH-LA</th><th style=\"text-align: right;\">  4AC-NE(Q3)-HX-WH-LA</th><th style=\"text-align: right;\">  4AC-NE(I50)-HX-WH-LA</th><th style=\"text-align: right;\">  4AC-NE(MX)-HX-WH-LA</th><th style=\"text-align: right;\">  5AC-NE(N2)-HX-WH-LA</th><th style=\"text-align: right;\">  5AC-NE(PN)-HX-WH-LA</th><th style=\"text-align: right;\">  5AC-NE(Q1)-HX-WH-LA</th><th style=\"text-align: right;\">  5AC-NE(Q3)-HX-WH-LA</th><th style=\"text-align: right;\">  5AC-NE(I50)-HX-WH-LA</th><th style=\"text-align: right;\">  5AC-NE(MX)-HX-WH-LA</th><th style=\"text-align: right;\">  6AC-NE(PN)-HX-WH-LA</th><th style=\"text-align: right;\">  6AC-NE(Q1)-HX-WH-LA</th><th style=\"text-align: right;\">  6AC-NE(Q3)-HX-WH-LA</th><th style=\"text-align: right;\">  6AC-NE(MX)-HX-WH-LA</th><th style=\"text-align: right;\">  7AC-NE(PN)-HX-WH-LA</th><th style=\"text-align: right;\">  8AC-NE(PN)-HX-WH-LA</th><th style=\"text-align: right;\">  DE-NE-KU-WH-LA</th><th style=\"text-align: right;\">  TAC-NE(R)-KU-WH-LA</th><th style=\"text-align: right;\">  1AC-NE(R)-Alk-WH-LA</th><th style=\"text-align: right;\">  1AC-NE(Q1)-Alk-WH-LA</th><th style=\"text-align: right;\">  1AC-NE(Q3)-Alk-WH-LA</th><th style=\"text-align: right;\">  2AC-NE(Q1)-Alk-WH-LA</th><th style=\"text-align: right;\">  2AC-NE(Q2)-Alk-WH-LA</th><th style=\"text-align: right;\">  2AC-NE(Q3)-Alk-WH-LA</th><th style=\"text-align: right;\">  2AC-NE(I50)-Alk-WH-LA</th><th style=\"text-align: right;\">  3AC-NE(PN)-Alk-WH-LA</th><th style=\"text-align: right;\">  3AC-NE(Q1)-Alk-WH-LA</th><th style=\"text-align: right;\">  3AC-NE(Q3)-Alk-WH-LA</th><th style=\"text-align: right;\">  3AC-NE(I50)-Alk-WH-LA</th><th style=\"text-align: right;\">  3AC-NE(MX)-Alk-WH-LA</th><th style=\"text-align: right;\">  4AC-NE(PN)-Alk-WH-LA</th><th style=\"text-align: right;\">  4AC-NE(Q1)-Alk-WH-LA</th><th style=\"text-align: right;\">  4AC-NE(Q2)-Alk-WH-LA</th><th style=\"text-align: right;\">  4AC-NE(Q3)-Alk-WH-LA</th><th style=\"text-align: right;\">  4AC-NE(I50)-Alk-WH-LA</th><th style=\"text-align: right;\">  4AC-NE(MX)-Alk-WH-LA</th><th style=\"text-align: right;\">  5AC-NE(N2)-Alk-WH-LA</th><th style=\"text-align: right;\">  5AC-NE(PN)-Alk-WH-LA</th><th style=\"text-align: right;\">  5AC-NE(Q1)-Alk-WH-LA</th><th style=\"text-align: right;\">  5AC-NE(Q3)-Alk-WH-LA</th><th style=\"text-align: right;\">  5AC-NE(I50)-Alk-WH-LA</th><th style=\"text-align: right;\">  6AC-NE(PN)-Alk-WH-LA</th><th style=\"text-align: right;\">  6AC-NE(I50)-Alk-WH-LA</th><th style=\"text-align: right;\">  7AC-NE(PN)-Alk-WH-LA</th><th style=\"text-align: right;\">  5AC-NE(N2)-IN7-WH-LA</th><th style=\"text-align: right;\">  5AC-NE(N2)-IN8-WH-LA</th><th style=\"text-align: right;\">  5AC-NE(N2)-IN9-WH-LA</th><th style=\"text-align: right;\">  4AC-NE(N3)-IN10-WH-LA</th><th style=\"text-align: right;\">  4AC-NE(N3)-IN11-WH-LA</th><th style=\"text-align: right;\">  5AC-NE(N3)-IN11-WH-LA</th><th style=\"text-align: right;\">  4AC-NE(N3)-IN12-WH-LA</th><th style=\"text-align: right;\">  1AC-NE(N1)-DC2-WH-LA</th><th style=\"text-align: right;\">  1AC-NE(Q1)-DC2-WH-LA</th><th style=\"text-align: right;\">  1AC-NE(Q2)-DC2-WH-LA</th><th style=\"text-align: right;\">  1AC-NE(Q3)-DC2-WH-LA</th><th style=\"text-align: right;\">  1AC-NE(I50)-DC2-WH-LA</th><th style=\"text-align: right;\">  1AC-NE(MN)-DC2-WH-LA</th><th style=\"text-align: right;\">  2AC-NE(Q1)-DC2-WH-LA</th><th style=\"text-align: right;\">  2AC-NE(Q2)-DC2-WH-LA</th><th style=\"text-align: right;\">  2AC-NE(Q3)-DC2-WH-LA</th><th style=\"text-align: right;\">  3AC-NE(Q1)-DC2-WH-LA</th><th style=\"text-align: right;\">  3AC-NE(Q3)-DC2-WH-LA</th><th style=\"text-align: right;\">  4AC-NE(Q1)-DC2-WH-LA</th><th style=\"text-align: right;\">  4AC-NE(Q3)-DC2-WH-LA</th><th style=\"text-align: right;\">  5AC-NE(Q1)-DC2-WH-LA</th><th style=\"text-align: right;\">  5AC-NE(Q3)-DC2-WH-LA</th><th style=\"text-align: right;\">  TAC-NE(Q1)-DC2-WH-LA</th><th style=\"text-align: right;\">  TAC-NE(Q3)-DC2-WH-LA</th><th style=\"text-align: right;\">  TAC-NE(I50)-DC2-WH-LA</th><th style=\"text-align: right;\">  TAC-NE(MX)-DC2-WH-LA</th><th style=\"text-align: right;\">  PN-NE-DC3-WH-LA</th><th style=\"text-align: right;\">  2AC-NE(Q2)-DC3-WH-LA</th><th style=\"text-align: right;\">  2AC-NE(MN)-DC3-WH-LA</th><th style=\"text-align: right;\">  3AC-NE(Q2)-DC3-WH-LA</th><th style=\"text-align: right;\">  3AC-NE(MN)-DC3-WH-LA</th><th style=\"text-align: right;\">  4AC-NE(Q2)-DC3-WH-LA</th><th style=\"text-align: right;\">  4AC-NE(MN)-DC3-WH-LA</th><th style=\"text-align: right;\">  5AC-NE(Q2)-DC3-WH-LA</th><th style=\"text-align: right;\">  5AC-NE(MN)-DC3-WH-LA</th><th style=\"text-align: right;\">  6AC-NE(Q2)-DC3-WH-LA</th><th style=\"text-align: right;\">  6AC-NE(MN)-DC3-WH-LA</th><th style=\"text-align: right;\">  TAC-NE(Q1)-DC3-WH-LA</th><th style=\"text-align: right;\">  TAC-NE(Q2)-DC3-WH-LA</th><th style=\"text-align: right;\">  TAC-NE(Q3)-DC3-WH-LA</th><th style=\"text-align: right;\">  TAC-NE(MN)-DC3-WH-LA</th></tr>\n",
              "</thead>\n",
              "<tbody>\n",
              "<tr><td>A001_ICI17148.mol_A001_ICI17148                                                        </td><td style=\"text-align: right;\">       8.75365</td><td style=\"text-align: right;\">            28.773 </td><td style=\"text-align: right;\">            18.6434</td><td style=\"text-align: right;\">             2.03617</td><td style=\"text-align: right;\">            33.7296</td><td style=\"text-align: right;\">             6.79272</td><td style=\"text-align: right;\">                  0</td><td style=\"text-align: right;\">           0.011618</td><td style=\"text-align: right;\">           -2.30571</td><td style=\"text-align: right;\">           0.346023</td><td style=\"text-align: right;\">            0.02872 </td><td style=\"text-align: right;\">             7.93725</td><td style=\"text-align: right;\">           1.10603 </td><td style=\"text-align: right;\">            520.537</td><td style=\"text-align: right;\">            1.1302 </td><td style=\"text-align: right;\">          -0.518476</td><td style=\"text-align: right;\">            670.494</td><td style=\"text-align: right;\">            1.04202</td><td style=\"text-align: right;\">          -0.925318</td><td style=\"text-align: right;\">            12.2546 </td><td style=\"text-align: right;\">            11.1722 </td><td style=\"text-align: right;\">             8.18448</td><td style=\"text-align: right;\">           33.8609 </td><td style=\"text-align: right;\">       0.569787</td><td style=\"text-align: right;\">        27.2006</td><td style=\"text-align: right;\">            1.65408 </td><td style=\"text-align: right;\">             45771.9</td><td style=\"text-align: right;\">             2.03602</td><td style=\"text-align: right;\">            4.33001 </td><td style=\"text-align: right;\">             32725.9</td><td style=\"text-align: right;\">             2.45861</td><td style=\"text-align: right;\">            6.25734 </td><td style=\"text-align: right;\">             55797.2</td><td style=\"text-align: right;\">             1.45353</td><td style=\"text-align: right;\">            1.01869 </td><td style=\"text-align: right;\">             24982  </td><td style=\"text-align: right;\">            4.26606 </td><td style=\"text-align: right;\">              158.057</td><td style=\"text-align: right;\">             1.85488</td><td style=\"text-align: right;\">             887.999</td><td style=\"text-align: right;\">              8547.71</td><td style=\"text-align: right;\">             34190.8 </td><td style=\"text-align: right;\">                  6889</td><td style=\"text-align: right;\">                  4648</td><td style=\"text-align: right;\">                  5025</td><td style=\"text-align: right;\">       15939          </td><td style=\"text-align: right;\">       17653          </td><td style=\"text-align: right;\">               3201.67</td><td style=\"text-align: right;\">               2362.35</td><td style=\"text-align: right;\">               2478.26</td><td style=\"text-align: right;\">       17808          </td><td style=\"text-align: right;\">       61341          </td><td style=\"text-align: right;\">               9697.25</td><td style=\"text-align: right;\">                  28</td><td style=\"text-align: right;\">            1.36096 </td><td style=\"text-align: right;\">                  16</td><td style=\"text-align: right;\">             13.6103</td><td style=\"text-align: right;\">           -0.131356</td><td style=\"text-align: right;\">           -1.89309 </td><td style=\"text-align: right;\">                   9</td><td style=\"text-align: right;\">           -0.265776</td><td style=\"text-align: right;\">                   7</td><td style=\"text-align: right;\">             28.4579</td><td style=\"text-align: right;\">            2.1208  </td><td style=\"text-align: right;\">             6.3046 </td><td style=\"text-align: right;\">                  35</td><td style=\"text-align: right;\">        3.06909</td><td style=\"text-align: right;\">       2.43493</td><td style=\"text-align: right;\">                      0</td><td style=\"text-align: right;\">                      0</td><td style=\"text-align: right;\">                      0</td><td style=\"text-align: right;\">                      0</td><td style=\"text-align: right;\">        3.06909</td><td style=\"text-align: right;\">       2.43493</td><td style=\"text-align: right;\">        4.55987</td><td style=\"text-align: right;\">                      0</td><td style=\"text-align: right;\">                      0</td><td style=\"text-align: right;\">                      0</td><td style=\"text-align: right;\">                      0</td><td style=\"text-align: right;\">             5.55623</td><td style=\"text-align: right;\">             5.62204</td><td style=\"text-align: right;\">            5.36268</td><td style=\"text-align: right;\">             5.58468</td><td style=\"text-align: right;\">            5.12407</td><td style=\"text-align: right;\">              28  </td><td style=\"text-align: right;\">              49.5</td><td style=\"text-align: right;\">            20.875</td><td style=\"text-align: right;\">                      0</td><td style=\"text-align: right;\">                      0</td><td style=\"text-align: right;\">       2.79594</td><td style=\"text-align: right;\">              6.56986</td><td style=\"text-align: right;\">             4.27161</td><td style=\"text-align: right;\">            7.81168</td><td style=\"text-align: right;\">             6.56986</td><td style=\"text-align: right;\">             4.95055</td><td style=\"text-align: right;\">             2.66953</td><td style=\"text-align: right;\">             3.10213</td><td style=\"text-align: right;\">       4.56042</td><td style=\"text-align: right;\">                    0</td><td style=\"text-align: right;\">            0       </td><td style=\"text-align: right;\">             0       </td><td style=\"text-align: right;\">            0       </td><td style=\"text-align: right;\">             2.43454</td><td style=\"text-align: right;\">              181.394</td><td style=\"text-align: right;\">              62    </td><td style=\"text-align: right;\">               0     </td><td style=\"text-align: right;\">              7.34847</td><td style=\"text-align: right;\">              62.713 </td><td style=\"text-align: right;\">              2.50852</td><td style=\"text-align: right;\">                    0</td><td style=\"text-align: right;\">              5.2915 </td><td style=\"text-align: right;\">               5.2915 </td><td style=\"text-align: right;\">              9.79796</td><td style=\"text-align: right;\">              2.5655 </td><td style=\"text-align: right;\">                    0</td><td style=\"text-align: right;\">              1      </td><td style=\"text-align: right;\">               1      </td><td style=\"text-align: right;\">              51.8459</td><td style=\"text-align: right;\">              72.952 </td><td style=\"text-align: right;\">             5.60135 </td><td style=\"text-align: right;\">                    0</td><td style=\"text-align: right;\">              5.2915 </td><td style=\"text-align: right;\">               5.2915 </td><td style=\"text-align: right;\">             72      </td><td style=\"text-align: right;\">            12.8972  </td><td style=\"text-align: right;\">                    0</td><td style=\"text-align: right;\">              7.93725</td><td style=\"text-align: right;\">             77.7689 </td><td style=\"text-align: right;\">              6.48681</td><td style=\"text-align: right;\">              1      </td><td style=\"text-align: right;\">         2.99961</td><td style=\"text-align: right;\">             38.7032</td><td style=\"text-align: right;\">              405.901</td><td style=\"text-align: right;\">                0     </td><td style=\"text-align: right;\">               80.4262</td><td style=\"text-align: right;\">               0      </td><td style=\"text-align: right;\">               0      </td><td style=\"text-align: right;\">              75.7279 </td><td style=\"text-align: right;\">               75.7279 </td><td style=\"text-align: right;\">              16.39   </td><td style=\"text-align: right;\">               0      </td><td style=\"text-align: right;\">              31.5936 </td><td style=\"text-align: right;\">                31.5936</td><td style=\"text-align: right;\">              80.4262 </td><td style=\"text-align: right;\">              16.2904 </td><td style=\"text-align: right;\">               0      </td><td style=\"text-align: right;\">               0      </td><td style=\"text-align: right;\">               7.41421</td><td style=\"text-align: right;\">                7.41421</td><td style=\"text-align: right;\">              321.705 </td><td style=\"text-align: right;\">               776.078</td><td style=\"text-align: right;\">              54.7743 </td><td style=\"text-align: right;\">               0      </td><td style=\"text-align: right;\">              29.6569 </td><td style=\"text-align: right;\">               29.6569 </td><td style=\"text-align: right;\">               89.4529</td><td style=\"text-align: right;\">               71.0856 </td><td style=\"text-align: right;\">               47.148 </td><td style=\"text-align: right;\">               301.869</td><td style=\"text-align: right;\">               1207.48</td><td style=\"text-align: right;\">               128.632</td><td style=\"text-align: right;\">        12805.2        </td><td style=\"text-align: right;\">        46879.5        </td><td style=\"text-align: right;\">        23519.9        </td><td style=\"text-align: right;\">                6059.83</td><td style=\"text-align: right;\">                    74</td><td style=\"text-align: right;\">                     0</td><td style=\"text-align: right;\">                     4</td><td style=\"text-align: right;\">                     6</td><td style=\"text-align: right;\">                      6</td><td style=\"text-align: right;\">                     4</td><td style=\"text-align: right;\">                     0</td><td style=\"text-align: right;\">                     0</td><td style=\"text-align: right;\">                     9</td><td style=\"text-align: right;\">                     0</td><td style=\"text-align: right;\">                     4</td><td style=\"text-align: right;\">                     0</td><td style=\"text-align: right;\">                     4</td><td style=\"text-align: right;\">                     0</td><td style=\"text-align: right;\">                    10</td><td style=\"text-align: right;\">                     0</td><td style=\"text-align: right;\">                     6</td><td style=\"text-align: right;\">                      6</td><td style=\"text-align: right;\">                    25</td><td style=\"text-align: right;\">          2.61538</td><td style=\"text-align: right;\">                     0</td><td style=\"text-align: right;\">                     4</td><td style=\"text-align: right;\">                     0</td><td style=\"text-align: right;\">                     6</td><td style=\"text-align: right;\">                     0</td><td style=\"text-align: right;\">                     4</td><td style=\"text-align: right;\">                     0</td><td style=\"text-align: right;\">                     6</td><td style=\"text-align: right;\">                     0</td><td style=\"text-align: right;\">                     4</td><td style=\"text-align: right;\">                     0</td><td style=\"text-align: right;\">                     4</td><td style=\"text-align: right;\">                     6</td><td style=\"text-align: right;\">                     4</td></tr>\n",
              "<tr><td>A003_SKF93319.mol_A003_SKF93319.mol                                                    </td><td style=\"text-align: right;\">      15.4049 </td><td style=\"text-align: right;\">            64.873 </td><td style=\"text-align: right;\">            35.1119</td><td style=\"text-align: right;\">             5.18288</td><td style=\"text-align: right;\">            71.9244</td><td style=\"text-align: right;\">             7.50634</td><td style=\"text-align: right;\">                  0</td><td style=\"text-align: right;\">           0.011093</td><td style=\"text-align: right;\">          -50.1252 </td><td style=\"text-align: right;\">           0.468009</td><td style=\"text-align: right;\">            0.045326</td><td style=\"text-align: right;\">             9.79796</td><td style=\"text-align: right;\">           0.99698 </td><td style=\"text-align: right;\">            610.864</td><td style=\"text-align: right;\">            1.35928</td><td style=\"text-align: right;\">           0.284046</td><td style=\"text-align: right;\">            665.347</td><td style=\"text-align: right;\">            1.18792</td><td style=\"text-align: right;\">          -0.312015</td><td style=\"text-align: right;\">            11.713  </td><td style=\"text-align: right;\">            10.345  </td><td style=\"text-align: right;\">             7.77582</td><td style=\"text-align: right;\">          231.87   </td><td style=\"text-align: right;\">       0.476058</td><td style=\"text-align: right;\">        37.291 </td><td style=\"text-align: right;\">            1.41903 </td><td style=\"text-align: right;\">             79426.6</td><td style=\"text-align: right;\">             1.70159</td><td style=\"text-align: right;\">            2.42485 </td><td style=\"text-align: right;\">             66230  </td><td style=\"text-align: right;\">             2.04704</td><td style=\"text-align: right;\">            4.02645 </td><td style=\"text-align: right;\">             77784.2</td><td style=\"text-align: right;\">             1.64972</td><td style=\"text-align: right;\">            1.46309 </td><td style=\"text-align: right;\">             84035  </td><td style=\"text-align: right;\">            5.16386 </td><td style=\"text-align: right;\">              289.888</td><td style=\"text-align: right;\">             1.83545</td><td style=\"text-align: right;\">            1593.7  </td><td style=\"text-align: right;\">            215760   </td><td style=\"text-align: right;\">            951501   </td><td style=\"text-align: right;\">                494209</td><td style=\"text-align: right;\">                453973</td><td style=\"text-align: right;\">                428311</td><td style=\"text-align: right;\">           1.8439e+06 </td><td style=\"text-align: right;\">           1.77282e+06</td><td style=\"text-align: right;\">             231438   </td><td style=\"text-align: right;\">             216457   </td><td style=\"text-align: right;\">             204485   </td><td style=\"text-align: right;\">           1.52747e+06</td><td style=\"text-align: right;\">           6.30403e+06</td><td style=\"text-align: right;\">             743112   </td><td style=\"text-align: right;\">                  68</td><td style=\"text-align: right;\">            1.08827 </td><td style=\"text-align: right;\">                  50</td><td style=\"text-align: right;\">             61.676 </td><td style=\"text-align: right;\">            0.821792</td><td style=\"text-align: right;\">            0.862968</td><td style=\"text-align: right;\">                  40</td><td style=\"text-align: right;\">            0.878057</td><td style=\"text-align: right;\">                  42</td><td style=\"text-align: right;\">            104.709 </td><td style=\"text-align: right;\">            1.31457 </td><td style=\"text-align: right;\">             9.83121</td><td style=\"text-align: right;\">                  77</td><td style=\"text-align: right;\">        3.32511</td><td style=\"text-align: right;\">       2.99649</td><td style=\"text-align: right;\">                      0</td><td style=\"text-align: right;\">                      0</td><td style=\"text-align: right;\">                      0</td><td style=\"text-align: right;\">                      0</td><td style=\"text-align: right;\">        3.32511</td><td style=\"text-align: right;\">       2.99649</td><td style=\"text-align: right;\">        4.62954</td><td style=\"text-align: right;\">                      0</td><td style=\"text-align: right;\">                      0</td><td style=\"text-align: right;\">                      0</td><td style=\"text-align: right;\">                      0</td><td style=\"text-align: right;\">             4.82158</td><td style=\"text-align: right;\">             4.89109</td><td style=\"text-align: right;\">            4.5725 </td><td style=\"text-align: right;\">             4.88625</td><td style=\"text-align: right;\">            4.61665</td><td style=\"text-align: right;\">             477  </td><td style=\"text-align: right;\">             954  </td><td style=\"text-align: right;\">           330.333</td><td style=\"text-align: right;\">                      0</td><td style=\"text-align: right;\">                      0</td><td style=\"text-align: right;\">       3.3273 </td><td style=\"text-align: right;\">              6.44069</td><td style=\"text-align: right;\">             6.3575 </td><td style=\"text-align: right;\">            9.17868</td><td style=\"text-align: right;\">             5.1265 </td><td style=\"text-align: right;\">             9.23051</td><td style=\"text-align: right;\">             8.28843</td><td style=\"text-align: right;\">             9.1988 </td><td style=\"text-align: right;\">       2.57673</td><td style=\"text-align: right;\">                    0</td><td style=\"text-align: right;\">            0.021498</td><td style=\"text-align: right;\">             0       </td><td style=\"text-align: right;\">            0.030232</td><td style=\"text-align: right;\">             3.19694</td><td style=\"text-align: right;\">             1421.51 </td><td style=\"text-align: right;\">              95    </td><td style=\"text-align: right;\">               0     </td><td style=\"text-align: right;\">              8      </td><td style=\"text-align: right;\">            1219.09  </td><td style=\"text-align: right;\">              9.16609</td><td style=\"text-align: right;\">                    0</td><td style=\"text-align: right;\">              9.79796</td><td style=\"text-align: right;\">               9.79796</td><td style=\"text-align: right;\">             96      </td><td style=\"text-align: right;\">              6.29141</td><td style=\"text-align: right;\">                    0</td><td style=\"text-align: right;\">              5.2915 </td><td style=\"text-align: right;\">               5.2915 </td><td style=\"text-align: right;\">              96     </td><td style=\"text-align: right;\">             218.506 </td><td style=\"text-align: right;\">             7.43928 </td><td style=\"text-align: right;\">                    0</td><td style=\"text-align: right;\">              7.34847</td><td style=\"text-align: right;\">               7.34847</td><td style=\"text-align: right;\">             78.3837 </td><td style=\"text-align: right;\">             8.65434 </td><td style=\"text-align: right;\">                    0</td><td style=\"text-align: right;\">              7.34847</td><td style=\"text-align: right;\">             96      </td><td style=\"text-align: right;\">              9.45854</td><td style=\"text-align: right;\">              7.9557 </td><td style=\"text-align: right;\">         2.87156</td><td style=\"text-align: right;\">             55.2819</td><td style=\"text-align: right;\">             1338.85 </td><td style=\"text-align: right;\">                0     </td><td style=\"text-align: right;\">              108.954 </td><td style=\"text-align: right;\">               0      </td><td style=\"text-align: right;\">               7.41421</td><td style=\"text-align: right;\">              66.7279 </td><td style=\"text-align: right;\">               66.7279 </td><td style=\"text-align: right;\">              82.8077 </td><td style=\"text-align: right;\">               0      </td><td style=\"text-align: right;\">              82.363  </td><td style=\"text-align: right;\">                82.363 </td><td style=\"text-align: right;\">            1397.48   </td><td style=\"text-align: right;\">              60.6756 </td><td style=\"text-align: right;\">               0      </td><td style=\"text-align: right;\">               7.41421</td><td style=\"text-align: right;\">              29.6569 </td><td style=\"text-align: right;\">               29.6569 </td><td style=\"text-align: right;\">             1397.48  </td><td style=\"text-align: right;\">              2353.63 </td><td style=\"text-align: right;\">              69.7917 </td><td style=\"text-align: right;\">               0      </td><td style=\"text-align: right;\">              58.6302 </td><td style=\"text-align: right;\">               58.6302 </td><td style=\"text-align: right;\">               83.8339</td><td style=\"text-align: right;\">               58.6302 </td><td style=\"text-align: right;\">               90.3326</td><td style=\"text-align: right;\">             18891.1  </td><td style=\"text-align: right;\">              83309.6 </td><td style=\"text-align: right;\">              8084.13 </td><td style=\"text-align: right;\">            1.46866e+06</td><td style=\"text-align: right;\">            6.2665e+06 </td><td style=\"text-align: right;\">            4.5015e+06 </td><td style=\"text-align: right;\">              643999   </td><td style=\"text-align: right;\">                   517</td><td style=\"text-align: right;\">                     0</td><td style=\"text-align: right;\">                     6</td><td style=\"text-align: right;\">                    15</td><td style=\"text-align: right;\">                     15</td><td style=\"text-align: right;\">                     6</td><td style=\"text-align: right;\">                     0</td><td style=\"text-align: right;\">                     8</td><td style=\"text-align: right;\">                    15</td><td style=\"text-align: right;\">                     0</td><td style=\"text-align: right;\">                     9</td><td style=\"text-align: right;\">                     0</td><td style=\"text-align: right;\">                     9</td><td style=\"text-align: right;\">                     0</td><td style=\"text-align: right;\">                     9</td><td style=\"text-align: right;\">                     0</td><td style=\"text-align: right;\">                     9</td><td style=\"text-align: right;\">                      9</td><td style=\"text-align: right;\">                    81</td><td style=\"text-align: right;\">          4.24444</td><td style=\"text-align: right;\">                     4</td><td style=\"text-align: right;\">                     4</td><td style=\"text-align: right;\">                    12</td><td style=\"text-align: right;\">                    12</td><td style=\"text-align: right;\">                     8</td><td style=\"text-align: right;\">                     4</td><td style=\"text-align: right;\">                    12</td><td style=\"text-align: right;\">                     8</td><td style=\"text-align: right;\">                    12</td><td style=\"text-align: right;\">                     6</td><td style=\"text-align: right;\">                     0</td><td style=\"text-align: right;\">                     8</td><td style=\"text-align: right;\">                    16</td><td style=\"text-align: right;\">                     4</td></tr>\n",
              "<tr><td>A015_BBcpd60_(ranitidine_analog).mol_A015_BBcpd60_(ranitidine_analog).mol              </td><td style=\"text-align: right;\">      14.8726 </td><td style=\"text-align: right;\">            60.9246</td><td style=\"text-align: right;\">            33.6666</td><td style=\"text-align: right;\">             4.40651</td><td style=\"text-align: right;\">            70.406 </td><td style=\"text-align: right;\">             9.02503</td><td style=\"text-align: right;\">                  0</td><td style=\"text-align: right;\">           0.009188</td><td style=\"text-align: right;\">            8.2411 </td><td style=\"text-align: right;\">           0.497194</td><td style=\"text-align: right;\">            0.045326</td><td style=\"text-align: right;\">             9.79796</td><td style=\"text-align: right;\">           1.10219 </td><td style=\"text-align: right;\">            629.294</td><td style=\"text-align: right;\">            1.41051</td><td style=\"text-align: right;\">           0.469799</td><td style=\"text-align: right;\">            696.551</td><td style=\"text-align: right;\">            1.23079</td><td style=\"text-align: right;\">          -0.131134</td><td style=\"text-align: right;\">            10.4709 </td><td style=\"text-align: right;\">             8.36709</td><td style=\"text-align: right;\">             7.69864</td><td style=\"text-align: right;\">          195.729  </td><td style=\"text-align: right;\">       0.528818</td><td style=\"text-align: right;\">        37.291 </td><td style=\"text-align: right;\">            1.40946 </td><td style=\"text-align: right;\">             92111  </td><td style=\"text-align: right;\">             1.66511</td><td style=\"text-align: right;\">            1.85021 </td><td style=\"text-align: right;\">             72229.4</td><td style=\"text-align: right;\">             2.09101</td><td style=\"text-align: right;\">            3.92141 </td><td style=\"text-align: right;\">             83952.3</td><td style=\"text-align: right;\">             1.7827 </td><td style=\"text-align: right;\">            2.15943 </td><td style=\"text-align: right;\">             88228.9</td><td style=\"text-align: right;\">            5.92696 </td><td style=\"text-align: right;\">              297.033</td><td style=\"text-align: right;\">             1.93417</td><td style=\"text-align: right;\">            1593.7  </td><td style=\"text-align: right;\">            172928   </td><td style=\"text-align: right;\">            742935   </td><td style=\"text-align: right;\">                327184</td><td style=\"text-align: right;\">                288444</td><td style=\"text-align: right;\">                267124</td><td style=\"text-align: right;\">           1.14288e+06</td><td style=\"text-align: right;\">           1.09581e+06</td><td style=\"text-align: right;\">             153077   </td><td style=\"text-align: right;\">             141828   </td><td style=\"text-align: right;\">             130620   </td><td style=\"text-align: right;\">           1.05037e+06</td><td style=\"text-align: right;\">           3.95826e+06</td><td style=\"text-align: right;\">             534982   </td><td style=\"text-align: right;\">                  68</td><td style=\"text-align: right;\">            1.21842 </td><td style=\"text-align: right;\">                  52</td><td style=\"text-align: right;\">             71.1898</td><td style=\"text-align: right;\">            0.705391</td><td style=\"text-align: right;\">            0.504412</td><td style=\"text-align: right;\">                  39</td><td style=\"text-align: right;\">            1.31287 </td><td style=\"text-align: right;\">                  50</td><td style=\"text-align: right;\">            113.621 </td><td style=\"text-align: right;\">            1.42561 </td><td style=\"text-align: right;\">           -16.6782 </td><td style=\"text-align: right;\">                  77</td><td style=\"text-align: right;\">        3.39464</td><td style=\"text-align: right;\">       2.77711</td><td style=\"text-align: right;\">                      0</td><td style=\"text-align: right;\">                      0</td><td style=\"text-align: right;\">                      0</td><td style=\"text-align: right;\">                      0</td><td style=\"text-align: right;\">        3.53015</td><td style=\"text-align: right;\">       3.04895</td><td style=\"text-align: right;\">        4.64416</td><td style=\"text-align: right;\">                      0</td><td style=\"text-align: right;\">                      0</td><td style=\"text-align: right;\">                      0</td><td style=\"text-align: right;\">                      0</td><td style=\"text-align: right;\">             4.27678</td><td style=\"text-align: right;\">             4.38248</td><td style=\"text-align: right;\">            3.97356</td><td style=\"text-align: right;\">             4.33802</td><td style=\"text-align: right;\">            4.05006</td><td style=\"text-align: right;\">             443  </td><td style=\"text-align: right;\">             877  </td><td style=\"text-align: right;\">           311.25 </td><td style=\"text-align: right;\">                      0</td><td style=\"text-align: right;\">                      0</td><td style=\"text-align: right;\">       3.36479</td><td style=\"text-align: right;\">              6.5445 </td><td style=\"text-align: right;\">             5.42603</td><td style=\"text-align: right;\">            9.51806</td><td style=\"text-align: right;\">             3.99117</td><td style=\"text-align: right;\">             8.20214</td><td style=\"text-align: right;\">             7.63756</td><td style=\"text-align: right;\">             7.62794</td><td style=\"text-align: right;\">       3.42745</td><td style=\"text-align: right;\">                    0</td><td style=\"text-align: right;\">            0.023551</td><td style=\"text-align: right;\">             0       </td><td style=\"text-align: right;\">            0.027886</td><td style=\"text-align: right;\">             3.19694</td><td style=\"text-align: right;\">              719.515</td><td style=\"text-align: right;\">              95    </td><td style=\"text-align: right;\">               0     </td><td style=\"text-align: right;\">              7.93725</td><td style=\"text-align: right;\">             606.826 </td><td style=\"text-align: right;\">              5.14259</td><td style=\"text-align: right;\">                    0</td><td style=\"text-align: right;\">              9.79796</td><td style=\"text-align: right;\">               9.79796</td><td style=\"text-align: right;\">             96      </td><td style=\"text-align: right;\">              4.61275</td><td style=\"text-align: right;\">                    0</td><td style=\"text-align: right;\">              1      </td><td style=\"text-align: right;\">               1      </td><td style=\"text-align: right;\">              96     </td><td style=\"text-align: right;\">             175.351 </td><td style=\"text-align: right;\">             5.11473 </td><td style=\"text-align: right;\">                    0</td><td style=\"text-align: right;\">              2.82843</td><td style=\"text-align: right;\">               2.82843</td><td style=\"text-align: right;\">             96      </td><td style=\"text-align: right;\">             6.3995  </td><td style=\"text-align: right;\">                    0</td><td style=\"text-align: right;\">              2.82843</td><td style=\"text-align: right;\">             96      </td><td style=\"text-align: right;\">              7.79254</td><td style=\"text-align: right;\">              7.36361</td><td style=\"text-align: right;\">         2.47412</td><td style=\"text-align: right;\">             55.2819</td><td style=\"text-align: right;\">             1336.56 </td><td style=\"text-align: right;\">                0     </td><td style=\"text-align: right;\">               95.0967</td><td style=\"text-align: right;\">               0      </td><td style=\"text-align: right;\">               0      </td><td style=\"text-align: right;\">              29.6569 </td><td style=\"text-align: right;\">               29.6569 </td><td style=\"text-align: right;\">              49.5615 </td><td style=\"text-align: right;\">               0      </td><td style=\"text-align: right;\">              82.363  </td><td style=\"text-align: right;\">                82.363 </td><td style=\"text-align: right;\">            1397.48   </td><td style=\"text-align: right;\">              43.6946 </td><td style=\"text-align: right;\">               0      </td><td style=\"text-align: right;\">               0      </td><td style=\"text-align: right;\">               7.41421</td><td style=\"text-align: right;\">                7.41421</td><td style=\"text-align: right;\">             1397.48  </td><td style=\"text-align: right;\">              1959.08 </td><td style=\"text-align: right;\">              47.6465 </td><td style=\"text-align: right;\">               0      </td><td style=\"text-align: right;\">               8.41421</td><td style=\"text-align: right;\">                8.41421</td><td style=\"text-align: right;\">               63.4979</td><td style=\"text-align: right;\">                7.8984 </td><td style=\"text-align: right;\">               65.939 </td><td style=\"text-align: right;\">             16825.1  </td><td style=\"text-align: right;\">              72284.2 </td><td style=\"text-align: right;\">              7511.87 </td><td style=\"text-align: right;\">       969217          </td><td style=\"text-align: right;\">            3.94779e+06</td><td style=\"text-align: right;\">            2.79672e+06</td><td style=\"text-align: right;\">              451800   </td><td style=\"text-align: right;\">                   333</td><td style=\"text-align: right;\">                     0</td><td style=\"text-align: right;\">                     0</td><td style=\"text-align: right;\">                    12</td><td style=\"text-align: right;\">                     12</td><td style=\"text-align: right;\">                     4</td><td style=\"text-align: right;\">                     0</td><td style=\"text-align: right;\">                     0</td><td style=\"text-align: right;\">                     9</td><td style=\"text-align: right;\">                     0</td><td style=\"text-align: right;\">                     6</td><td style=\"text-align: right;\">                     0</td><td style=\"text-align: right;\">                     9</td><td style=\"text-align: right;\">                     0</td><td style=\"text-align: right;\">                     6</td><td style=\"text-align: right;\">                     0</td><td style=\"text-align: right;\">                     8</td><td style=\"text-align: right;\">                      8</td><td style=\"text-align: right;\">                    81</td><td style=\"text-align: right;\">          4.05128</td><td style=\"text-align: right;\">                     0</td><td style=\"text-align: right;\">                     4</td><td style=\"text-align: right;\">                     0</td><td style=\"text-align: right;\">                    12</td><td style=\"text-align: right;\">                     0</td><td style=\"text-align: right;\">                     4</td><td style=\"text-align: right;\">                     0</td><td style=\"text-align: right;\">                     6</td><td style=\"text-align: right;\">                     0</td><td style=\"text-align: right;\">                     6</td><td style=\"text-align: right;\">                     0</td><td style=\"text-align: right;\">                     4</td><td style=\"text-align: right;\">                    16</td><td style=\"text-align: right;\">                     4</td></tr>\n",
              "<tr><td>A017_SKB29.mol_A017_SKB29.mol                                                          </td><td style=\"text-align: right;\">      12.7702 </td><td style=\"text-align: right;\">            47.8776</td><td style=\"text-align: right;\">            27.5122</td><td style=\"text-align: right;\">             3.1087 </td><td style=\"text-align: right;\">            48.1537</td><td style=\"text-align: right;\">             6.62268</td><td style=\"text-align: right;\">                  0</td><td style=\"text-align: right;\">           0.007142</td><td style=\"text-align: right;\">           -6.03099</td><td style=\"text-align: right;\">           0.52309 </td><td style=\"text-align: right;\">            0.015412</td><td style=\"text-align: right;\">             9.79796</td><td style=\"text-align: right;\">           0.78993 </td><td style=\"text-align: right;\">            551.534</td><td style=\"text-align: right;\">            1.08998</td><td style=\"text-align: right;\">          -0.496709</td><td style=\"text-align: right;\">            604.008</td><td style=\"text-align: right;\">            0.84341</td><td style=\"text-align: right;\">          -1.05111 </td><td style=\"text-align: right;\">            10.4532 </td><td style=\"text-align: right;\">             9.44195</td><td style=\"text-align: right;\">             8.95185</td><td style=\"text-align: right;\">          243.989  </td><td style=\"text-align: right;\">       0.176445</td><td style=\"text-align: right;\">        32.2018</td><td style=\"text-align: right;\">            0.871434</td><td style=\"text-align: right;\">             54133.9</td><td style=\"text-align: right;\">             1.05705</td><td style=\"text-align: right;\">           -0.361279</td><td style=\"text-align: right;\">             49772.8</td><td style=\"text-align: right;\">             1.30494</td><td style=\"text-align: right;\">            0.157169</td><td style=\"text-align: right;\">             56528.9</td><td style=\"text-align: right;\">             1.04971</td><td style=\"text-align: right;\">           -0.501475</td><td style=\"text-align: right;\">             51130.8</td><td style=\"text-align: right;\">            0.490758</td><td style=\"text-align: right;\">              226.121</td><td style=\"text-align: right;\">             1.3448 </td><td style=\"text-align: right;\">            1212.32 </td><td style=\"text-align: right;\">             95474.4 </td><td style=\"text-align: right;\">            417405   </td><td style=\"text-align: right;\">                127445</td><td style=\"text-align: right;\">                128163</td><td style=\"text-align: right;\">                 98649</td><td style=\"text-align: right;\">      512647          </td><td style=\"text-align: right;\">      404019          </td><td style=\"text-align: right;\">              60392.1 </td><td style=\"text-align: right;\">              60721.1 </td><td style=\"text-align: right;\">              44573.8 </td><td style=\"text-align: right;\">      402732          </td><td style=\"text-align: right;\">           1.56927e+06</td><td style=\"text-align: right;\">             173160   </td><td style=\"text-align: right;\">                  66</td><td style=\"text-align: right;\">            1.13381 </td><td style=\"text-align: right;\">                  56</td><td style=\"text-align: right;\">            122.115 </td><td style=\"text-align: right;\">            1.87233 </td><td style=\"text-align: right;\">            4.93338 </td><td style=\"text-align: right;\">                  64</td><td style=\"text-align: right;\">            0.911129</td><td style=\"text-align: right;\">                  44</td><td style=\"text-align: right;\">            130.721 </td><td style=\"text-align: right;\">            1.73793 </td><td style=\"text-align: right;\">             5.26593</td><td style=\"text-align: right;\">                  96</td><td style=\"text-align: right;\">        2.7764 </td><td style=\"text-align: right;\">       2.39366</td><td style=\"text-align: right;\">                      0</td><td style=\"text-align: right;\">                      0</td><td style=\"text-align: right;\">                      0</td><td style=\"text-align: right;\">                      0</td><td style=\"text-align: right;\">        2.89832</td><td style=\"text-align: right;\">       2.63196</td><td style=\"text-align: right;\">        3.94913</td><td style=\"text-align: right;\">                      0</td><td style=\"text-align: right;\">                      0</td><td style=\"text-align: right;\">                      0</td><td style=\"text-align: right;\">                      0</td><td style=\"text-align: right;\">             4.77777</td><td style=\"text-align: right;\">             4.88941</td><td style=\"text-align: right;\">            4.39942</td><td style=\"text-align: right;\">             4.6648 </td><td style=\"text-align: right;\">            4.29019</td><td style=\"text-align: right;\">             359  </td><td style=\"text-align: right;\">             719  </td><td style=\"text-align: right;\">           246.75 </td><td style=\"text-align: right;\">                      0</td><td style=\"text-align: right;\">                      0</td><td style=\"text-align: right;\">       3.23975</td><td style=\"text-align: right;\">              3.80181</td><td style=\"text-align: right;\">             2.67788</td><td style=\"text-align: right;\">            8.12758</td><td style=\"text-align: right;\">             4.66904</td><td style=\"text-align: right;\">             6.98867</td><td style=\"text-align: right;\">             3.86593</td><td style=\"text-align: right;\">             4.41385</td><td style=\"text-align: right;\">       4.30261</td><td style=\"text-align: right;\">                    0</td><td style=\"text-align: right;\">            0       </td><td style=\"text-align: right;\">             0       </td><td style=\"text-align: right;\">            0.004918</td><td style=\"text-align: right;\">             3.19694</td><td style=\"text-align: right;\">              366.498</td><td style=\"text-align: right;\">              95    </td><td style=\"text-align: right;\">               0     </td><td style=\"text-align: right;\">              1      </td><td style=\"text-align: right;\">             276.112 </td><td style=\"text-align: right;\">              2.96895</td><td style=\"text-align: right;\">                    0</td><td style=\"text-align: right;\">              1      </td><td style=\"text-align: right;\">               1      </td><td style=\"text-align: right;\">             63      </td><td style=\"text-align: right;\">              1.41309</td><td style=\"text-align: right;\">                    0</td><td style=\"text-align: right;\">              1      </td><td style=\"text-align: right;\">               1      </td><td style=\"text-align: right;\">              22.4499</td><td style=\"text-align: right;\">              23.8118</td><td style=\"text-align: right;\">             0.880835</td><td style=\"text-align: right;\">                    0</td><td style=\"text-align: right;\">              0      </td><td style=\"text-align: right;\">               0      </td><td style=\"text-align: right;\">              9.79796</td><td style=\"text-align: right;\">             0.835088</td><td style=\"text-align: right;\">                    0</td><td style=\"text-align: right;\">              1      </td><td style=\"text-align: right;\">              9.79796</td><td style=\"text-align: right;\">              1.67366</td><td style=\"text-align: right;\">              2.46663</td><td style=\"text-align: right;\">         2.63989</td><td style=\"text-align: right;\">             55.2819</td><td style=\"text-align: right;\">              794.959</td><td style=\"text-align: right;\">                0     </td><td style=\"text-align: right;\">               77.0963</td><td style=\"text-align: right;\">               0      </td><td style=\"text-align: right;\">               0      </td><td style=\"text-align: right;\">               7.41421</td><td style=\"text-align: right;\">                7.41421</td><td style=\"text-align: right;\">              26.1044 </td><td style=\"text-align: right;\">               0      </td><td style=\"text-align: right;\">               7.8984 </td><td style=\"text-align: right;\">                 7.8984</td><td style=\"text-align: right;\">             558.111  </td><td style=\"text-align: right;\">               9.11162</td><td style=\"text-align: right;\">               0      </td><td style=\"text-align: right;\">               0      </td><td style=\"text-align: right;\">               7.41421</td><td style=\"text-align: right;\">                7.41421</td><td style=\"text-align: right;\">               95.0967</td><td style=\"text-align: right;\">               189.16 </td><td style=\"text-align: right;\">               6.20643</td><td style=\"text-align: right;\">               0      </td><td style=\"text-align: right;\">               0      </td><td style=\"text-align: right;\">                0      </td><td style=\"text-align: right;\">                7.1314</td><td style=\"text-align: right;\">                7.41421</td><td style=\"text-align: right;\">               14.1369</td><td style=\"text-align: right;\">              7615.21 </td><td style=\"text-align: right;\">              33292.9 </td><td style=\"text-align: right;\">              3213.68 </td><td style=\"text-align: right;\">       342813          </td><td style=\"text-align: right;\">            1.39409e+06</td><td style=\"text-align: right;\">            1.00241e+06</td><td style=\"text-align: right;\">              154727   </td><td style=\"text-align: right;\">                   148</td><td style=\"text-align: right;\">                     0</td><td style=\"text-align: right;\">                     0</td><td style=\"text-align: right;\">                     6</td><td style=\"text-align: right;\">                      6</td><td style=\"text-align: right;\">                     4</td><td style=\"text-align: right;\">                     0</td><td style=\"text-align: right;\">                     0</td><td style=\"text-align: right;\">                     4</td><td style=\"text-align: right;\">                     0</td><td style=\"text-align: right;\">                     4</td><td style=\"text-align: right;\">                     0</td><td style=\"text-align: right;\">                     8</td><td style=\"text-align: right;\">                     0</td><td style=\"text-align: right;\">                     0</td><td style=\"text-align: right;\">                     0</td><td style=\"text-align: right;\">                     4</td><td style=\"text-align: right;\">                      4</td><td style=\"text-align: right;\">                    81</td><td style=\"text-align: right;\">          3.81481</td><td style=\"text-align: right;\">                     0</td><td style=\"text-align: right;\">                     4</td><td style=\"text-align: right;\">                     0</td><td style=\"text-align: right;\">                    12</td><td style=\"text-align: right;\">                     0</td><td style=\"text-align: right;\">                     4</td><td style=\"text-align: right;\">                     0</td><td style=\"text-align: right;\">                     6</td><td style=\"text-align: right;\">                     0</td><td style=\"text-align: right;\">                     8</td><td style=\"text-align: right;\">                     0</td><td style=\"text-align: right;\">                     0</td><td style=\"text-align: right;\">                     8</td><td style=\"text-align: right;\">                     4</td></tr>\n",
              "<tr><td>A020_SKB36_(2pyridineaminen33npiperidinylmethylphenoxypropyl).mol_mol_20               </td><td style=\"text-align: right;\">      14.0241 </td><td style=\"text-align: right;\">            51.2333</td><td style=\"text-align: right;\">            27.9583</td><td style=\"text-align: right;\">             4.4013 </td><td style=\"text-align: right;\">            67.8401</td><td style=\"text-align: right;\">            11.9612 </td><td style=\"text-align: right;\">                  0</td><td style=\"text-align: right;\">           0.005801</td><td style=\"text-align: right;\">           -9.41142</td><td style=\"text-align: right;\">           0.36346 </td><td style=\"text-align: right;\">            0       </td><td style=\"text-align: right;\">             9.79796</td><td style=\"text-align: right;\">           1.56931 </td><td style=\"text-align: right;\">            633.075</td><td style=\"text-align: right;\">            1.66501</td><td style=\"text-align: right;\">           1.1198  </td><td style=\"text-align: right;\">            721.47 </td><td style=\"text-align: right;\">            1.45202</td><td style=\"text-align: right;\">           0.362917</td><td style=\"text-align: right;\">             9.5384 </td><td style=\"text-align: right;\">             6.66064</td><td style=\"text-align: right;\">             4.59334</td><td style=\"text-align: right;\">          183.341  </td><td style=\"text-align: right;\">       0.568696</td><td style=\"text-align: right;\">        32.8719</td><td style=\"text-align: right;\">            1.62492 </td><td style=\"text-align: right;\">             88072.8</td><td style=\"text-align: right;\">             2.01477</td><td style=\"text-align: right;\">            3.1281  </td><td style=\"text-align: right;\">             73389.9</td><td style=\"text-align: right;\">             1.95089</td><td style=\"text-align: right;\">            2.4992  </td><td style=\"text-align: right;\">             84053.1</td><td style=\"text-align: right;\">             1.68922</td><td style=\"text-align: right;\">            1.49848 </td><td style=\"text-align: right;\">             76873  </td><td style=\"text-align: right;\">            2.00512 </td><td style=\"text-align: right;\">              277.26 </td><td style=\"text-align: right;\">             2.00143</td><td style=\"text-align: right;\">            1259.58 </td><td style=\"text-align: right;\">            157956   </td><td style=\"text-align: right;\">            682350   </td><td style=\"text-align: right;\">                246015</td><td style=\"text-align: right;\">                226632</td><td style=\"text-align: right;\">                206896</td><td style=\"text-align: right;\">      923595          </td><td style=\"text-align: right;\">      840251          </td><td style=\"text-align: right;\">             123317   </td><td style=\"text-align: right;\">             113960   </td><td style=\"text-align: right;\">             104079   </td><td style=\"text-align: right;\">      662310          </td><td style=\"text-align: right;\">           2.62875e+06</td><td style=\"text-align: right;\">             325265   </td><td style=\"text-align: right;\">                  74</td><td style=\"text-align: right;\">            1.23411 </td><td style=\"text-align: right;\">                  58</td><td style=\"text-align: right;\">            103.418 </td><td style=\"text-align: right;\">            0.903875</td><td style=\"text-align: right;\">            1.46975 </td><td style=\"text-align: right;\">                  51</td><td style=\"text-align: right;\">            0.933814</td><td style=\"text-align: right;\">                  50</td><td style=\"text-align: right;\">            117.839 </td><td style=\"text-align: right;\">            1.31227 </td><td style=\"text-align: right;\">            -4.07084</td><td style=\"text-align: right;\">                  96</td><td style=\"text-align: right;\">        3.00846</td><td style=\"text-align: right;\">       2.8055 </td><td style=\"text-align: right;\">                      0</td><td style=\"text-align: right;\">                      0</td><td style=\"text-align: right;\">                      0</td><td style=\"text-align: right;\">                      0</td><td style=\"text-align: right;\">        3.00846</td><td style=\"text-align: right;\">       2.8055 </td><td style=\"text-align: right;\">        3.73263</td><td style=\"text-align: right;\">                      0</td><td style=\"text-align: right;\">                      0</td><td style=\"text-align: right;\">                      0</td><td style=\"text-align: right;\">                      0</td><td style=\"text-align: right;\">             3.88219</td><td style=\"text-align: right;\">             3.9562 </td><td style=\"text-align: right;\">            3.63409</td><td style=\"text-align: right;\">             3.91511</td><td style=\"text-align: right;\">            3.65535</td><td style=\"text-align: right;\">             204.5</td><td style=\"text-align: right;\">             409.5</td><td style=\"text-align: right;\">           146.417</td><td style=\"text-align: right;\">                      0</td><td style=\"text-align: right;\">                      0</td><td style=\"text-align: right;\">       3.31763</td><td style=\"text-align: right;\">              7.80167</td><td style=\"text-align: right;\">             6.14178</td><td style=\"text-align: right;\">           10.6928 </td><td style=\"text-align: right;\">             3.54188</td><td style=\"text-align: right;\">             9.68544</td><td style=\"text-align: right;\">             8.02712</td><td style=\"text-align: right;\">             7.15677</td><td style=\"text-align: right;\">       7.90123</td><td style=\"text-align: right;\">                    0</td><td style=\"text-align: right;\">            0.001737</td><td style=\"text-align: right;\">             0       </td><td style=\"text-align: right;\">            0.043976</td><td style=\"text-align: right;\">             1.559  </td><td style=\"text-align: right;\">             1289.49 </td><td style=\"text-align: right;\">              95    </td><td style=\"text-align: right;\">               0     </td><td style=\"text-align: right;\">              9.79796</td><td style=\"text-align: right;\">            1007.89  </td><td style=\"text-align: right;\">              7.87413</td><td style=\"text-align: right;\">                    0</td><td style=\"text-align: right;\">              9.79796</td><td style=\"text-align: right;\">               9.79796</td><td style=\"text-align: right;\">             96      </td><td style=\"text-align: right;\">              4.14723</td><td style=\"text-align: right;\">                    0</td><td style=\"text-align: right;\">              7.93725</td><td style=\"text-align: right;\">               7.93725</td><td style=\"text-align: right;\">              96     </td><td style=\"text-align: right;\">             113.824 </td><td style=\"text-align: right;\">             3.23974 </td><td style=\"text-align: right;\">                    0</td><td style=\"text-align: right;\">              1      </td><td style=\"text-align: right;\">               1      </td><td style=\"text-align: right;\">             96      </td><td style=\"text-align: right;\">             4.59186 </td><td style=\"text-align: right;\">                    0</td><td style=\"text-align: right;\">              1      </td><td style=\"text-align: right;\">             96      </td><td style=\"text-align: right;\">              6.75116</td><td style=\"text-align: right;\">              9.52002</td><td style=\"text-align: right;\">         2.56658</td><td style=\"text-align: right;\">             55.2819</td><td style=\"text-align: right;\">             1156.91 </td><td style=\"text-align: right;\">                0     </td><td style=\"text-align: right;\">               95.0967</td><td style=\"text-align: right;\">               0      </td><td style=\"text-align: right;\">               7.41421</td><td style=\"text-align: right;\">              93.1599 </td><td style=\"text-align: right;\">               93.1599 </td><td style=\"text-align: right;\">              81.8284 </td><td style=\"text-align: right;\">               0      </td><td style=\"text-align: right;\">              93.1599 </td><td style=\"text-align: right;\">                93.1599</td><td style=\"text-align: right;\">            1194.89   </td><td style=\"text-align: right;\">              37.1424 </td><td style=\"text-align: right;\">               0      </td><td style=\"text-align: right;\">               7.41421</td><td style=\"text-align: right;\">              57.1776 </td><td style=\"text-align: right;\">               57.1776 </td><td style=\"text-align: right;\">             1194.89  </td><td style=\"text-align: right;\">              1328.1  </td><td style=\"text-align: right;\">              30.8861 </td><td style=\"text-align: right;\">               0      </td><td style=\"text-align: right;\">               7.41421</td><td style=\"text-align: right;\">                7.41421</td><td style=\"text-align: right;\">               44.4522</td><td style=\"text-align: right;\">                7.41421</td><td style=\"text-align: right;\">               69.2235</td><td style=\"text-align: right;\">             14757.4  </td><td style=\"text-align: right;\">              63750.2 </td><td style=\"text-align: right;\">              6785.84 </td><td style=\"text-align: right;\">       585846          </td><td style=\"text-align: right;\">            2.34297e+06</td><td style=\"text-align: right;\">            2.04288e+06</td><td style=\"text-align: right;\">              283853   </td><td style=\"text-align: right;\">                   649</td><td style=\"text-align: right;\">                     0</td><td style=\"text-align: right;\">                    12</td><td style=\"text-align: right;\">                    18</td><td style=\"text-align: right;\">                     18</td><td style=\"text-align: right;\">                    10</td><td style=\"text-align: right;\">                     0</td><td style=\"text-align: right;\">                     9</td><td style=\"text-align: right;\">                    18</td><td style=\"text-align: right;\">                     0</td><td style=\"text-align: right;\">                    15</td><td style=\"text-align: right;\">                     0</td><td style=\"text-align: right;\">                     9</td><td style=\"text-align: right;\">                     0</td><td style=\"text-align: right;\">                     9</td><td style=\"text-align: right;\">                     0</td><td style=\"text-align: right;\">                    12</td><td style=\"text-align: right;\">                     12</td><td style=\"text-align: right;\">                    81</td><td style=\"text-align: right;\">          5.17949</td><td style=\"text-align: right;\">                    18</td><td style=\"text-align: right;\">                    12</td><td style=\"text-align: right;\">                    24</td><td style=\"text-align: right;\">                    12</td><td style=\"text-align: right;\">                    16</td><td style=\"text-align: right;\">                    12</td><td style=\"text-align: right;\">                     0</td><td style=\"text-align: right;\">                    12</td><td style=\"text-align: right;\">                     0</td><td style=\"text-align: right;\">                     9</td><td style=\"text-align: right;\">                     0</td><td style=\"text-align: right;\">                    16</td><td style=\"text-align: right;\">                    25</td><td style=\"text-align: right;\">                     9</td></tr>\n",
              "<tr><td>A021_SKB37.mol_mol_21                                                                  </td><td style=\"text-align: right;\">      14.1608 </td><td style=\"text-align: right;\">            54.1326</td><td style=\"text-align: right;\">            29.6831</td><td style=\"text-align: right;\">             4.50224</td><td style=\"text-align: right;\">            70.3071</td><td style=\"text-align: right;\">            11.7682 </td><td style=\"text-align: right;\">                  0</td><td style=\"text-align: right;\">           0.006281</td><td style=\"text-align: right;\">           -6.88413</td><td style=\"text-align: right;\">           0.393824</td><td style=\"text-align: right;\">            0       </td><td style=\"text-align: right;\">             9.79796</td><td style=\"text-align: right;\">           1.58074 </td><td style=\"text-align: right;\">            662.58 </td><td style=\"text-align: right;\">            1.62   </td><td style=\"text-align: right;\">           0.956247</td><td style=\"text-align: right;\">            736.939</td><td style=\"text-align: right;\">            1.42665</td><td style=\"text-align: right;\">           0.292984</td><td style=\"text-align: right;\">             9.55167</td><td style=\"text-align: right;\">             6.393  </td><td style=\"text-align: right;\">             4.453  </td><td style=\"text-align: right;\">          201.698  </td><td style=\"text-align: right;\">       0.556762</td><td style=\"text-align: right;\">        32.8719</td><td style=\"text-align: right;\">            1.57094 </td><td style=\"text-align: right;\">             92784.2</td><td style=\"text-align: right;\">             2.0276 </td><td style=\"text-align: right;\">            3.10428 </td><td style=\"text-align: right;\">             78925.7</td><td style=\"text-align: right;\">             1.95949</td><td style=\"text-align: right;\">            2.56095 </td><td style=\"text-align: right;\">             84762.8</td><td style=\"text-align: right;\">             1.70898</td><td style=\"text-align: right;\">            1.62139 </td><td style=\"text-align: right;\">             82079.3</td><td style=\"text-align: right;\">            1.84962 </td><td style=\"text-align: right;\">              286.495</td><td style=\"text-align: right;\">             1.97539</td><td style=\"text-align: right;\">            1259.58 </td><td style=\"text-align: right;\">            136287   </td><td style=\"text-align: right;\">            591523   </td><td style=\"text-align: right;\">                162498</td><td style=\"text-align: right;\">                179564</td><td style=\"text-align: right;\">                165044</td><td style=\"text-align: right;\">      730845          </td><td style=\"text-align: right;\">      670023          </td><td style=\"text-align: right;\">              82224.1 </td><td style=\"text-align: right;\">              90246.5 </td><td style=\"text-align: right;\">              82804.3 </td><td style=\"text-align: right;\">      545484          </td><td style=\"text-align: right;\">           2.12152e+06</td><td style=\"text-align: right;\">             248159   </td><td style=\"text-align: right;\">                  77</td><td style=\"text-align: right;\">            1.01629 </td><td style=\"text-align: right;\">                  65</td><td style=\"text-align: right;\">            121.176 </td><td style=\"text-align: right;\">            0.61565 </td><td style=\"text-align: right;\">            1.18204 </td><td style=\"text-align: right;\">                  57</td><td style=\"text-align: right;\">            0.653008</td><td style=\"text-align: right;\">                  51</td><td style=\"text-align: right;\">            143.937 </td><td style=\"text-align: right;\">            0.971441</td><td style=\"text-align: right;\">             2.53339</td><td style=\"text-align: right;\">                  99</td><td style=\"text-align: right;\">        3.41657</td><td style=\"text-align: right;\">       3.15968</td><td style=\"text-align: right;\">                      0</td><td style=\"text-align: right;\">                      0</td><td style=\"text-align: right;\">                      0</td><td style=\"text-align: right;\">                      0</td><td style=\"text-align: right;\">        3.41657</td><td style=\"text-align: right;\">       3.15968</td><td style=\"text-align: right;\">        4.31019</td><td style=\"text-align: right;\">                      0</td><td style=\"text-align: right;\">                      0</td><td style=\"text-align: right;\">                      0</td><td style=\"text-align: right;\">                      0</td><td style=\"text-align: right;\">             4.462  </td><td style=\"text-align: right;\">             4.53422</td><td style=\"text-align: right;\">            4.26471</td><td style=\"text-align: right;\">             4.58683</td><td style=\"text-align: right;\">            4.32966</td><td style=\"text-align: right;\">             199.5</td><td style=\"text-align: right;\">             400.5</td><td style=\"text-align: right;\">           142.583</td><td style=\"text-align: right;\">                      0</td><td style=\"text-align: right;\">                      0</td><td style=\"text-align: right;\">       3.33782</td><td style=\"text-align: right;\">              8.31909</td><td style=\"text-align: right;\">             6.6338 </td><td style=\"text-align: right;\">           10.7885 </td><td style=\"text-align: right;\">             3.54243</td><td style=\"text-align: right;\">            10.0751 </td><td style=\"text-align: right;\">             8.02211</td><td style=\"text-align: right;\">             7.2013 </td><td style=\"text-align: right;\">       7.46568</td><td style=\"text-align: right;\">                    0</td><td style=\"text-align: right;\">            0.001737</td><td style=\"text-align: right;\">             0       </td><td style=\"text-align: right;\">            0.04976 </td><td style=\"text-align: right;\">             1.559  </td><td style=\"text-align: right;\">             1289.49 </td><td style=\"text-align: right;\">              95    </td><td style=\"text-align: right;\">               0     </td><td style=\"text-align: right;\">              9.79796</td><td style=\"text-align: right;\">             997.951 </td><td style=\"text-align: right;\">              8.45721</td><td style=\"text-align: right;\">                    0</td><td style=\"text-align: right;\">              9.79796</td><td style=\"text-align: right;\">               9.79796</td><td style=\"text-align: right;\">             96      </td><td style=\"text-align: right;\">              4.35686</td><td style=\"text-align: right;\">                    0</td><td style=\"text-align: right;\">              7.93725</td><td style=\"text-align: right;\">               7.93725</td><td style=\"text-align: right;\">              96     </td><td style=\"text-align: right;\">             113.111 </td><td style=\"text-align: right;\">             3.2586  </td><td style=\"text-align: right;\">                    0</td><td style=\"text-align: right;\">              1      </td><td style=\"text-align: right;\">               1      </td><td style=\"text-align: right;\">             96      </td><td style=\"text-align: right;\">             4.73325 </td><td style=\"text-align: right;\">                    0</td><td style=\"text-align: right;\">              1      </td><td style=\"text-align: right;\">             96      </td><td style=\"text-align: right;\">              7.17699</td><td style=\"text-align: right;\">             10.1888 </td><td style=\"text-align: right;\">         2.60829</td><td style=\"text-align: right;\">             55.2819</td><td style=\"text-align: right;\">             1156.91 </td><td style=\"text-align: right;\">                0     </td><td style=\"text-align: right;\">               96.9214</td><td style=\"text-align: right;\">               0      </td><td style=\"text-align: right;\">              29.6569 </td><td style=\"text-align: right;\">              93.1599 </td><td style=\"text-align: right;\">               93.1599 </td><td style=\"text-align: right;\">              88.1528 </td><td style=\"text-align: right;\">               0      </td><td style=\"text-align: right;\">              95.0967 </td><td style=\"text-align: right;\">                95.0967</td><td style=\"text-align: right;\">            1194.89   </td><td style=\"text-align: right;\">              38.9925 </td><td style=\"text-align: right;\">               0      </td><td style=\"text-align: right;\">               7.41421</td><td style=\"text-align: right;\">              57.1776 </td><td style=\"text-align: right;\">               57.1776 </td><td style=\"text-align: right;\">             1194.89  </td><td style=\"text-align: right;\">              1323.53 </td><td style=\"text-align: right;\">              31.3097 </td><td style=\"text-align: right;\">               0      </td><td style=\"text-align: right;\">               7.41421</td><td style=\"text-align: right;\">                7.41421</td><td style=\"text-align: right;\">               45.8609</td><td style=\"text-align: right;\">                7.41421</td><td style=\"text-align: right;\">               74.0744</td><td style=\"text-align: right;\">             12411.2  </td><td style=\"text-align: right;\">              53868.2 </td><td style=\"text-align: right;\">              5660.68 </td><td style=\"text-align: right;\">       438106          </td><td style=\"text-align: right;\">            1.75401e+06</td><td style=\"text-align: right;\">            1.55994e+06</td><td style=\"text-align: right;\">              208874   </td><td style=\"text-align: right;\">                   649</td><td style=\"text-align: right;\">                     0</td><td style=\"text-align: right;\">                    15</td><td style=\"text-align: right;\">                    18</td><td style=\"text-align: right;\">                     18</td><td style=\"text-align: right;\">                    10</td><td style=\"text-align: right;\">                     0</td><td style=\"text-align: right;\">                    12</td><td style=\"text-align: right;\">                    18</td><td style=\"text-align: right;\">                     0</td><td style=\"text-align: right;\">                    15</td><td style=\"text-align: right;\">                     0</td><td style=\"text-align: right;\">                    10</td><td style=\"text-align: right;\">                     0</td><td style=\"text-align: right;\">                     9</td><td style=\"text-align: right;\">                     0</td><td style=\"text-align: right;\">                    12</td><td style=\"text-align: right;\">                     12</td><td style=\"text-align: right;\">                    81</td><td style=\"text-align: right;\">          5.18919</td><td style=\"text-align: right;\">                    20</td><td style=\"text-align: right;\">                    12</td><td style=\"text-align: right;\">                    25</td><td style=\"text-align: right;\">                     9</td><td style=\"text-align: right;\">                    16</td><td style=\"text-align: right;\">                    15</td><td style=\"text-align: right;\">                     0</td><td style=\"text-align: right;\">                    12</td><td style=\"text-align: right;\">                     0</td><td style=\"text-align: right;\">                     9</td><td style=\"text-align: right;\">                     0</td><td style=\"text-align: right;\">                    16</td><td style=\"text-align: right;\">                    25</td><td style=\"text-align: right;\">                     9</td></tr>\n",
              "<tr><td>A022_zolantidine_(SKB41).mol_mol_22                                                    </td><td style=\"text-align: right;\">      14.7495 </td><td style=\"text-align: right;\">            59.5927</td><td style=\"text-align: right;\">            32.2534</td><td style=\"text-align: right;\">             4.34012</td><td style=\"text-align: right;\">            74.436 </td><td style=\"text-align: right;\">            11.4856 </td><td style=\"text-align: right;\">                  0</td><td style=\"text-align: right;\">           0.005807</td><td style=\"text-align: right;\">           -7.81686</td><td style=\"text-align: right;\">           0.363267</td><td style=\"text-align: right;\">            0.000505</td><td style=\"text-align: right;\">             9.79796</td><td style=\"text-align: right;\">           1.38244 </td><td style=\"text-align: right;\">            654.365</td><td style=\"text-align: right;\">            1.4943 </td><td style=\"text-align: right;\">           0.591392</td><td style=\"text-align: right;\">            758.465</td><td style=\"text-align: right;\">            1.30678</td><td style=\"text-align: right;\">          -0.062405</td><td style=\"text-align: right;\">             9.9906 </td><td style=\"text-align: right;\">             7.5493 </td><td style=\"text-align: right;\">             5.89083</td><td style=\"text-align: right;\">          242.972  </td><td style=\"text-align: right;\">       0.482935</td><td style=\"text-align: right;\">        32.8719</td><td style=\"text-align: right;\">            1.50149 </td><td style=\"text-align: right;\">             88386.4</td><td style=\"text-align: right;\">             1.91662</td><td style=\"text-align: right;\">            2.79705 </td><td style=\"text-align: right;\">             77528.8</td><td style=\"text-align: right;\">             1.92587</td><td style=\"text-align: right;\">            2.52256 </td><td style=\"text-align: right;\">             87864.1</td><td style=\"text-align: right;\">             1.61323</td><td style=\"text-align: right;\">            1.27846 </td><td style=\"text-align: right;\">             88741  </td><td style=\"text-align: right;\">            1.21871 </td><td style=\"text-align: right;\">              297.894</td><td style=\"text-align: right;\">             1.84564</td><td style=\"text-align: right;\">            1259.58 </td><td style=\"text-align: right;\">            182617   </td><td style=\"text-align: right;\">            813886   </td><td style=\"text-align: right;\">                324459</td><td style=\"text-align: right;\">                301401</td><td style=\"text-align: right;\">                224541</td><td style=\"text-align: right;\">           1.24992e+06</td><td style=\"text-align: right;\">      924586          </td><td style=\"text-align: right;\">             158842   </td><td style=\"text-align: right;\">             148161   </td><td style=\"text-align: right;\">             110503   </td><td style=\"text-align: right;\">      907412          </td><td style=\"text-align: right;\">           3.89994e+06</td><td style=\"text-align: right;\">             405510   </td><td style=\"text-align: right;\">                  68</td><td style=\"text-align: right;\">            1.43188 </td><td style=\"text-align: right;\">                  58</td><td style=\"text-align: right;\">             89.7889</td><td style=\"text-align: right;\">            1.13839 </td><td style=\"text-align: right;\">            2.21928 </td><td style=\"text-align: right;\">                  51</td><td style=\"text-align: right;\">            1.13297 </td><td style=\"text-align: right;\">                  44</td><td style=\"text-align: right;\">             99.1121</td><td style=\"text-align: right;\">            1.61888 </td><td style=\"text-align: right;\">           -15.3463 </td><td style=\"text-align: right;\">                  91</td><td style=\"text-align: right;\">        3.71154</td><td style=\"text-align: right;\">       3.39399</td><td style=\"text-align: right;\">                      0</td><td style=\"text-align: right;\">                      0</td><td style=\"text-align: right;\">                      0</td><td style=\"text-align: right;\">                      0</td><td style=\"text-align: right;\">        3.71154</td><td style=\"text-align: right;\">       3.39399</td><td style=\"text-align: right;\">        4.96578</td><td style=\"text-align: right;\">                      0</td><td style=\"text-align: right;\">                      0</td><td style=\"text-align: right;\">                      0</td><td style=\"text-align: right;\">                      0</td><td style=\"text-align: right;\">             5.06707</td><td style=\"text-align: right;\">             5.26132</td><td style=\"text-align: right;\">            4.54112</td><td style=\"text-align: right;\">             5.12708</td><td style=\"text-align: right;\">            4.61736</td><td style=\"text-align: right;\">             211  </td><td style=\"text-align: right;\">             424  </td><td style=\"text-align: right;\">           150.083</td><td style=\"text-align: right;\">                      0</td><td style=\"text-align: right;\">                      0</td><td style=\"text-align: right;\">       3.40936</td><td style=\"text-align: right;\">              7.80287</td><td style=\"text-align: right;\">             5.92824</td><td style=\"text-align: right;\">           11.0163 </td><td style=\"text-align: right;\">             3.54272</td><td style=\"text-align: right;\">             9.06259</td><td style=\"text-align: right;\">             7.3189 </td><td style=\"text-align: right;\">             6.50293</td><td style=\"text-align: right;\">       8.00642</td><td style=\"text-align: right;\">                    0</td><td style=\"text-align: right;\">            0.001737</td><td style=\"text-align: right;\">             0       </td><td style=\"text-align: right;\">            0.043494</td><td style=\"text-align: right;\">             1.559  </td><td style=\"text-align: right;\">             1289.49 </td><td style=\"text-align: right;\">              95    </td><td style=\"text-align: right;\">               0     </td><td style=\"text-align: right;\">              9.79796</td><td style=\"text-align: right;\">             999.951 </td><td style=\"text-align: right;\">              7.40704</td><td style=\"text-align: right;\">                    0</td><td style=\"text-align: right;\">              9.79796</td><td style=\"text-align: right;\">               9.79796</td><td style=\"text-align: right;\">             96      </td><td style=\"text-align: right;\">              3.72841</td><td style=\"text-align: right;\">                    0</td><td style=\"text-align: right;\">              1      </td><td style=\"text-align: right;\">               1      </td><td style=\"text-align: right;\">              96     </td><td style=\"text-align: right;\">             112.814 </td><td style=\"text-align: right;\">             2.95459 </td><td style=\"text-align: right;\">                    0</td><td style=\"text-align: right;\">              1      </td><td style=\"text-align: right;\">               1      </td><td style=\"text-align: right;\">             96      </td><td style=\"text-align: right;\">             4.42908 </td><td style=\"text-align: right;\">                    0</td><td style=\"text-align: right;\">              1      </td><td style=\"text-align: right;\">             96      </td><td style=\"text-align: right;\">              6.35189</td><td style=\"text-align: right;\">              8.67362</td><td style=\"text-align: right;\">         2.56658</td><td style=\"text-align: right;\">             55.2819</td><td style=\"text-align: right;\">             1156.91 </td><td style=\"text-align: right;\">                0     </td><td style=\"text-align: right;\">               95.0967</td><td style=\"text-align: right;\">               0      </td><td style=\"text-align: right;\">               7.41421</td><td style=\"text-align: right;\">              93.1599 </td><td style=\"text-align: right;\">               93.1599 </td><td style=\"text-align: right;\">              77.1619 </td><td style=\"text-align: right;\">               0      </td><td style=\"text-align: right;\">              93.1599 </td><td style=\"text-align: right;\">                93.1599</td><td style=\"text-align: right;\">            1194.89   </td><td style=\"text-align: right;\">              33.5534 </td><td style=\"text-align: right;\">               0      </td><td style=\"text-align: right;\">               7.41421</td><td style=\"text-align: right;\">               7.8984 </td><td style=\"text-align: right;\">                7.8984 </td><td style=\"text-align: right;\">             1194.89  </td><td style=\"text-align: right;\">              1319.14 </td><td style=\"text-align: right;\">              28.0417 </td><td style=\"text-align: right;\">               0      </td><td style=\"text-align: right;\">               7.41421</td><td style=\"text-align: right;\">                7.41421</td><td style=\"text-align: right;\">               42.6406</td><td style=\"text-align: right;\">                7.41421</td><td style=\"text-align: right;\">               65.3423</td><td style=\"text-align: right;\">             15461.7  </td><td style=\"text-align: right;\">              68909.5 </td><td style=\"text-align: right;\">              6776.75 </td><td style=\"text-align: right;\">       734107          </td><td style=\"text-align: right;\">            3.09859e+06</td><td style=\"text-align: right;\">            2.53928e+06</td><td style=\"text-align: right;\">              329703   </td><td style=\"text-align: right;\">                   649</td><td style=\"text-align: right;\">                     0</td><td style=\"text-align: right;\">                    12</td><td style=\"text-align: right;\">                    18</td><td style=\"text-align: right;\">                     18</td><td style=\"text-align: right;\">                    10</td><td style=\"text-align: right;\">                     0</td><td style=\"text-align: right;\">                     9</td><td style=\"text-align: right;\">                    18</td><td style=\"text-align: right;\">                     0</td><td style=\"text-align: right;\">                    15</td><td style=\"text-align: right;\">                     0</td><td style=\"text-align: right;\">                     9</td><td style=\"text-align: right;\">                     0</td><td style=\"text-align: right;\">                     9</td><td style=\"text-align: right;\">                     0</td><td style=\"text-align: right;\">                    10</td><td style=\"text-align: right;\">                     10</td><td style=\"text-align: right;\">                    81</td><td style=\"text-align: right;\">          5.17949</td><td style=\"text-align: right;\">                    15</td><td style=\"text-align: right;\">                    12</td><td style=\"text-align: right;\">                    24</td><td style=\"text-align: right;\">                    15</td><td style=\"text-align: right;\">                    16</td><td style=\"text-align: right;\">                    16</td><td style=\"text-align: right;\">                     0</td><td style=\"text-align: right;\">                    12</td><td style=\"text-align: right;\">                     0</td><td style=\"text-align: right;\">                    12</td><td style=\"text-align: right;\">                     0</td><td style=\"text-align: right;\">                    16</td><td style=\"text-align: right;\">                    24</td><td style=\"text-align: right;\">                     9</td></tr>\n",
              "<tr><td>A023_SKB42.mol_mol_23                                                                  </td><td style=\"text-align: right;\">      14.1756 </td><td style=\"text-align: right;\">            52.8601</td><td style=\"text-align: right;\">            28.4174</td><td style=\"text-align: right;\">             4.05389</td><td style=\"text-align: right;\">            68.4996</td><td style=\"text-align: right;\">            11.4398 </td><td style=\"text-align: right;\">                  0</td><td style=\"text-align: right;\">           0.010261</td><td style=\"text-align: right;\">           -6.77851</td><td style=\"text-align: right;\">           0.358132</td><td style=\"text-align: right;\">            0.000505</td><td style=\"text-align: right;\">             9.79796</td><td style=\"text-align: right;\">           1.42639 </td><td style=\"text-align: right;\">            630.696</td><td style=\"text-align: right;\">            1.51639</td><td style=\"text-align: right;\">           0.695778</td><td style=\"text-align: right;\">            741.053</td><td style=\"text-align: right;\">            1.31314</td><td style=\"text-align: right;\">          -0.030766</td><td style=\"text-align: right;\">            11.613  </td><td style=\"text-align: right;\">            10.5202 </td><td style=\"text-align: right;\">             6.4512 </td><td style=\"text-align: right;\">          252.967  </td><td style=\"text-align: right;\">       0.493192</td><td style=\"text-align: right;\">        32.8719</td><td style=\"text-align: right;\">            1.54964 </td><td style=\"text-align: right;\">             85577.9</td><td style=\"text-align: right;\">             1.94762</td><td style=\"text-align: right;\">            2.99309 </td><td style=\"text-align: right;\">             73884.9</td><td style=\"text-align: right;\">             1.9047 </td><td style=\"text-align: right;\">            2.41616 </td><td style=\"text-align: right;\">             86425.3</td><td style=\"text-align: right;\">             1.60583</td><td style=\"text-align: right;\">            1.2412  </td><td style=\"text-align: right;\">             86316.8</td><td style=\"text-align: right;\">            1.17104 </td><td style=\"text-align: right;\">              293.797</td><td style=\"text-align: right;\">             1.86259</td><td style=\"text-align: right;\">            1259.58 </td><td style=\"text-align: right;\">            182617   </td><td style=\"text-align: right;\">            813886   </td><td style=\"text-align: right;\">                324459</td><td style=\"text-align: right;\">                301401</td><td style=\"text-align: right;\">                224541</td><td style=\"text-align: right;\">           1.24992e+06</td><td style=\"text-align: right;\">      924586          </td><td style=\"text-align: right;\">             158842   </td><td style=\"text-align: right;\">             148161   </td><td style=\"text-align: right;\">             110503   </td><td style=\"text-align: right;\">      907412          </td><td style=\"text-align: right;\">           3.89994e+06</td><td style=\"text-align: right;\">             405510   </td><td style=\"text-align: right;\">                  68</td><td style=\"text-align: right;\">            1.43188 </td><td style=\"text-align: right;\">                  58</td><td style=\"text-align: right;\">             89.7889</td><td style=\"text-align: right;\">            1.13839 </td><td style=\"text-align: right;\">            2.21928 </td><td style=\"text-align: right;\">                  51</td><td style=\"text-align: right;\">            1.13297 </td><td style=\"text-align: right;\">                  44</td><td style=\"text-align: right;\">             99.1121</td><td style=\"text-align: right;\">            1.61888 </td><td style=\"text-align: right;\">           -15.3463 </td><td style=\"text-align: right;\">                  91</td><td style=\"text-align: right;\">        3.16265</td><td style=\"text-align: right;\">       2.98465</td><td style=\"text-align: right;\">                      0</td><td style=\"text-align: right;\">                      0</td><td style=\"text-align: right;\">                      0</td><td style=\"text-align: right;\">                      0</td><td style=\"text-align: right;\">        3.16265</td><td style=\"text-align: right;\">       2.98465</td><td style=\"text-align: right;\">        3.72886</td><td style=\"text-align: right;\">                      0</td><td style=\"text-align: right;\">                      0</td><td style=\"text-align: right;\">                      0</td><td style=\"text-align: right;\">                      0</td><td style=\"text-align: right;\">             4.06969</td><td style=\"text-align: right;\">             4.13531</td><td style=\"text-align: right;\">            3.85932</td><td style=\"text-align: right;\">             4.08234</td><td style=\"text-align: right;\">            3.86657</td><td style=\"text-align: right;\">             211  </td><td style=\"text-align: right;\">             424  </td><td style=\"text-align: right;\">           150.083</td><td style=\"text-align: right;\">                      0</td><td style=\"text-align: right;\">                      0</td><td style=\"text-align: right;\">       3.32137</td><td style=\"text-align: right;\">              7.80155</td><td style=\"text-align: right;\">             5.70069</td><td style=\"text-align: right;\">           10.6721 </td><td style=\"text-align: right;\">             3.5418 </td><td style=\"text-align: right;\">             8.80365</td><td style=\"text-align: right;\">             7.09026</td><td style=\"text-align: right;\">             6.24235</td><td style=\"text-align: right;\">       8.32075</td><td style=\"text-align: right;\">                    0</td><td style=\"text-align: right;\">            0.001737</td><td style=\"text-align: right;\">             0       </td><td style=\"text-align: right;\">            0.043494</td><td style=\"text-align: right;\">             1.559  </td><td style=\"text-align: right;\">             1289.49 </td><td style=\"text-align: right;\">              95    </td><td style=\"text-align: right;\">               0     </td><td style=\"text-align: right;\">              9.79796</td><td style=\"text-align: right;\">             999.951 </td><td style=\"text-align: right;\">              7.40704</td><td style=\"text-align: right;\">                    0</td><td style=\"text-align: right;\">              9.79796</td><td style=\"text-align: right;\">               9.79796</td><td style=\"text-align: right;\">             96      </td><td style=\"text-align: right;\">              3.72841</td><td style=\"text-align: right;\">                    0</td><td style=\"text-align: right;\">              1      </td><td style=\"text-align: right;\">               1      </td><td style=\"text-align: right;\">              96     </td><td style=\"text-align: right;\">             112.814 </td><td style=\"text-align: right;\">             2.95459 </td><td style=\"text-align: right;\">                    0</td><td style=\"text-align: right;\">              1      </td><td style=\"text-align: right;\">               1      </td><td style=\"text-align: right;\">             96      </td><td style=\"text-align: right;\">             4.42908 </td><td style=\"text-align: right;\">                    0</td><td style=\"text-align: right;\">              1      </td><td style=\"text-align: right;\">             96      </td><td style=\"text-align: right;\">              6.35189</td><td style=\"text-align: right;\">              8.67362</td><td style=\"text-align: right;\">         2.56658</td><td style=\"text-align: right;\">             55.2819</td><td style=\"text-align: right;\">             1156.91 </td><td style=\"text-align: right;\">                0     </td><td style=\"text-align: right;\">               95.0967</td><td style=\"text-align: right;\">               0      </td><td style=\"text-align: right;\">               7.41421</td><td style=\"text-align: right;\">              93.1599 </td><td style=\"text-align: right;\">               93.1599 </td><td style=\"text-align: right;\">              77.1619 </td><td style=\"text-align: right;\">               0      </td><td style=\"text-align: right;\">              93.1599 </td><td style=\"text-align: right;\">                93.1599</td><td style=\"text-align: right;\">            1194.89   </td><td style=\"text-align: right;\">              33.5534 </td><td style=\"text-align: right;\">               0      </td><td style=\"text-align: right;\">               7.41421</td><td style=\"text-align: right;\">               7.8984 </td><td style=\"text-align: right;\">                7.8984 </td><td style=\"text-align: right;\">             1194.89  </td><td style=\"text-align: right;\">              1319.14 </td><td style=\"text-align: right;\">              28.0417 </td><td style=\"text-align: right;\">               0      </td><td style=\"text-align: right;\">               7.41421</td><td style=\"text-align: right;\">                7.41421</td><td style=\"text-align: right;\">               42.6406</td><td style=\"text-align: right;\">                7.41421</td><td style=\"text-align: right;\">               65.3423</td><td style=\"text-align: right;\">             15461.7  </td><td style=\"text-align: right;\">              68909.5 </td><td style=\"text-align: right;\">              6776.75 </td><td style=\"text-align: right;\">       734107          </td><td style=\"text-align: right;\">            3.09859e+06</td><td style=\"text-align: right;\">            2.53928e+06</td><td style=\"text-align: right;\">              329703   </td><td style=\"text-align: right;\">                   649</td><td style=\"text-align: right;\">                     0</td><td style=\"text-align: right;\">                    12</td><td style=\"text-align: right;\">                    18</td><td style=\"text-align: right;\">                     18</td><td style=\"text-align: right;\">                    10</td><td style=\"text-align: right;\">                     0</td><td style=\"text-align: right;\">                     9</td><td style=\"text-align: right;\">                    18</td><td style=\"text-align: right;\">                     0</td><td style=\"text-align: right;\">                    15</td><td style=\"text-align: right;\">                     0</td><td style=\"text-align: right;\">                     9</td><td style=\"text-align: right;\">                     0</td><td style=\"text-align: right;\">                     9</td><td style=\"text-align: right;\">                     0</td><td style=\"text-align: right;\">                    10</td><td style=\"text-align: right;\">                     10</td><td style=\"text-align: right;\">                    81</td><td style=\"text-align: right;\">          5.17949</td><td style=\"text-align: right;\">                    15</td><td style=\"text-align: right;\">                    12</td><td style=\"text-align: right;\">                    24</td><td style=\"text-align: right;\">                    15</td><td style=\"text-align: right;\">                    16</td><td style=\"text-align: right;\">                    16</td><td style=\"text-align: right;\">                     0</td><td style=\"text-align: right;\">                    12</td><td style=\"text-align: right;\">                     0</td><td style=\"text-align: right;\">                    12</td><td style=\"text-align: right;\">                     0</td><td style=\"text-align: right;\">                    16</td><td style=\"text-align: right;\">                    24</td><td style=\"text-align: right;\">                     9</td></tr>\n",
              "<tr><td>A039_1-(8-fluorooctyl)-2-nitroimidazole.mol_A041_1-(8-fluorooctyl)-2-nitroimidazole.mol</td><td style=\"text-align: right;\">      11.8091 </td><td style=\"text-align: right;\">            37.1392</td><td style=\"text-align: right;\">            21.8289</td><td style=\"text-align: right;\">             4.45671</td><td style=\"text-align: right;\">            61.9172</td><td style=\"text-align: right;\">            10.1956 </td><td style=\"text-align: right;\">                  0</td><td style=\"text-align: right;\">           0.010945</td><td style=\"text-align: right;\">            4.04147</td><td style=\"text-align: right;\">           0.382028</td><td style=\"text-align: right;\">            0       </td><td style=\"text-align: right;\">             9.79796</td><td style=\"text-align: right;\">           1.99623 </td><td style=\"text-align: right;\">            657.016</td><td style=\"text-align: right;\">            2.23332</td><td style=\"text-align: right;\">           3.7947  </td><td style=\"text-align: right;\">            621.212</td><td style=\"text-align: right;\">            2.35401</td><td style=\"text-align: right;\">           4.32193 </td><td style=\"text-align: right;\">             9.6388 </td><td style=\"text-align: right;\">             7.99   </td><td style=\"text-align: right;\">             8.76383</td><td style=\"text-align: right;\">          154.601  </td><td style=\"text-align: right;\">       0.691286</td><td style=\"text-align: right;\">        33.5073</td><td style=\"text-align: right;\">            1.81781 </td><td style=\"text-align: right;\">            107298  </td><td style=\"text-align: right;\">             2.28356</td><td style=\"text-align: right;\">            3.9221  </td><td style=\"text-align: right;\">             93563.4</td><td style=\"text-align: right;\">             2.61156</td><td style=\"text-align: right;\">            5.58561 </td><td style=\"text-align: right;\">             86873.1</td><td style=\"text-align: right;\">             2.70951</td><td style=\"text-align: right;\">            6.24762 </td><td style=\"text-align: right;\">             85493.2</td><td style=\"text-align: right;\">            5.88514 </td><td style=\"text-align: right;\">              292.392</td><td style=\"text-align: right;\">             2.22003</td><td style=\"text-align: right;\">            1305.22 </td><td style=\"text-align: right;\">             62941.6 </td><td style=\"text-align: right;\">            251767   </td><td style=\"text-align: right;\">                 48144</td><td style=\"text-align: right;\">                 55932</td><td style=\"text-align: right;\">                 38157</td><td style=\"text-align: right;\">      198912          </td><td style=\"text-align: right;\">      137108          </td><td style=\"text-align: right;\">              28654.5 </td><td style=\"text-align: right;\">              32851.6 </td><td style=\"text-align: right;\">              22122.7 </td><td style=\"text-align: right;\">      145044          </td><td style=\"text-align: right;\">      525360          </td><td style=\"text-align: right;\">              86042.7 </td><td style=\"text-align: right;\">                  38</td><td style=\"text-align: right;\">           -0.288098</td><td style=\"text-align: right;\">                  38</td><td style=\"text-align: right;\">            104.022 </td><td style=\"text-align: right;\">           -0.027943</td><td style=\"text-align: right;\">           -1.25001 </td><td style=\"text-align: right;\">                  36</td><td style=\"text-align: right;\">            0.319114</td><td style=\"text-align: right;\">                  30</td><td style=\"text-align: right;\">            109.166 </td><td style=\"text-align: right;\">            0.101472</td><td style=\"text-align: right;\">            -1.27086</td><td style=\"text-align: right;\">                  45</td><td style=\"text-align: right;\">        2.79204</td><td style=\"text-align: right;\">       2.2988 </td><td style=\"text-align: right;\">                      0</td><td style=\"text-align: right;\">                      0</td><td style=\"text-align: right;\">                      0</td><td style=\"text-align: right;\">                      0</td><td style=\"text-align: right;\">        2.94272</td><td style=\"text-align: right;\">       2.59085</td><td style=\"text-align: right;\">        3.78735</td><td style=\"text-align: right;\">                      0</td><td style=\"text-align: right;\">                      0</td><td style=\"text-align: right;\">                      0</td><td style=\"text-align: right;\">                      0</td><td style=\"text-align: right;\">             3.2548 </td><td style=\"text-align: right;\">             3.30574</td><td style=\"text-align: right;\">            3.12209</td><td style=\"text-align: right;\">             3.35403</td><td style=\"text-align: right;\">            3.12301</td><td style=\"text-align: right;\">             237  </td><td style=\"text-align: right;\">             448  </td><td style=\"text-align: right;\">           181.167</td><td style=\"text-align: right;\">                      0</td><td style=\"text-align: right;\">                      0</td><td style=\"text-align: right;\">       2.8163 </td><td style=\"text-align: right;\">              8.08467</td><td style=\"text-align: right;\">             6.57685</td><td style=\"text-align: right;\">            8.82907</td><td style=\"text-align: right;\">             2.31512</td><td style=\"text-align: right;\">             9.28149</td><td style=\"text-align: right;\">            10.023  </td><td style=\"text-align: right;\">             9.43305</td><td style=\"text-align: right;\">       5.73085</td><td style=\"text-align: right;\">                    0</td><td style=\"text-align: right;\">            0.007409</td><td style=\"text-align: right;\">             0       </td><td style=\"text-align: right;\">            0.068482</td><td style=\"text-align: right;\">             1.559  </td><td style=\"text-align: right;\">              901.737</td><td style=\"text-align: right;\">              95    </td><td style=\"text-align: right;\">               0     </td><td style=\"text-align: right;\">              9.79796</td><td style=\"text-align: right;\">             867.112 </td><td style=\"text-align: right;\">             10.3228 </td><td style=\"text-align: right;\">                    1</td><td style=\"text-align: right;\">              9.79796</td><td style=\"text-align: right;\">               8.79796</td><td style=\"text-align: right;\">             96      </td><td style=\"text-align: right;\">             10.1962 </td><td style=\"text-align: right;\">                    1</td><td style=\"text-align: right;\">              9.79796</td><td style=\"text-align: right;\">               8.79796</td><td style=\"text-align: right;\">              96     </td><td style=\"text-align: right;\">             195.079 </td><td style=\"text-align: right;\">             9.1507  </td><td style=\"text-align: right;\">                    1</td><td style=\"text-align: right;\">              9.79796</td><td style=\"text-align: right;\">               8.79796</td><td style=\"text-align: right;\">             96      </td><td style=\"text-align: right;\">             8.64997 </td><td style=\"text-align: right;\">                    1</td><td style=\"text-align: right;\">              9.79796</td><td style=\"text-align: right;\">             96      </td><td style=\"text-align: right;\">              7.514  </td><td style=\"text-align: right;\">              5.92365</td><td style=\"text-align: right;\">         2.82855</td><td style=\"text-align: right;\">             74.0553</td><td style=\"text-align: right;\">             1162.46 </td><td style=\"text-align: right;\">                0     </td><td style=\"text-align: right;\">               98.6515</td><td style=\"text-align: right;\">               0      </td><td style=\"text-align: right;\">              93.1599 </td><td style=\"text-align: right;\">              93.1599 </td><td style=\"text-align: right;\">               93.1599 </td><td style=\"text-align: right;\">             113.609  </td><td style=\"text-align: right;\">               7.41421</td><td style=\"text-align: right;\">              93.1599 </td><td style=\"text-align: right;\">                85.7457</td><td style=\"text-align: right;\">            1239.56   </td><td style=\"text-align: right;\">             105.482  </td><td style=\"text-align: right;\">               7.41421</td><td style=\"text-align: right;\">               7.41421</td><td style=\"text-align: right;\">              93.1599 </td><td style=\"text-align: right;\">               85.7457 </td><td style=\"text-align: right;\">             1239.56  </td><td style=\"text-align: right;\">              2315.43 </td><td style=\"text-align: right;\">              90.7688 </td><td style=\"text-align: right;\">               7.41421</td><td style=\"text-align: right;\">              93.1599 </td><td style=\"text-align: right;\">               85.7457 </td><td style=\"text-align: right;\">               84.0314</td><td style=\"text-align: right;\">               85.7457 </td><td style=\"text-align: right;\">               68.9363</td><td style=\"text-align: right;\">              7304.27 </td><td style=\"text-align: right;\">              29217.1 </td><td style=\"text-align: right;\">              3776.52 </td><td style=\"text-align: right;\">       124355          </td><td style=\"text-align: right;\">       444169          </td><td style=\"text-align: right;\">       474739          </td><td style=\"text-align: right;\">               68497.1 </td><td style=\"text-align: right;\">                   509</td><td style=\"text-align: right;\">                     0</td><td style=\"text-align: right;\">                    18</td><td style=\"text-align: right;\">                    18</td><td style=\"text-align: right;\">                     18</td><td style=\"text-align: right;\">                     4</td><td style=\"text-align: right;\">                     0</td><td style=\"text-align: right;\">                    15</td><td style=\"text-align: right;\">                    18</td><td style=\"text-align: right;\">                     4</td><td style=\"text-align: right;\">                    18</td><td style=\"text-align: right;\">                     4</td><td style=\"text-align: right;\">                    18</td><td style=\"text-align: right;\">                     6</td><td style=\"text-align: right;\">                    12</td><td style=\"text-align: right;\">                     0</td><td style=\"text-align: right;\">                    12</td><td style=\"text-align: right;\">                     12</td><td style=\"text-align: right;\">                    36</td><td style=\"text-align: right;\">          4.9    </td><td style=\"text-align: right;\">                    25</td><td style=\"text-align: right;\">                     4</td><td style=\"text-align: right;\">                    30</td><td style=\"text-align: right;\">                    12</td><td style=\"text-align: right;\">                    18</td><td style=\"text-align: right;\">                     9</td><td style=\"text-align: right;\">                    18</td><td style=\"text-align: right;\">                     6</td><td style=\"text-align: right;\">                    18</td><td style=\"text-align: right;\">                    12</td><td style=\"text-align: right;\">                     0</td><td style=\"text-align: right;\">                    18</td><td style=\"text-align: right;\">                    30</td><td style=\"text-align: right;\">                     4</td></tr>\n",
              "<tr><td>A042_1_1-dichloroethane.mol_mol_42                                                     </td><td style=\"text-align: right;\">       8.45046</td><td style=\"text-align: right;\">            20.2429</td><td style=\"text-align: right;\">            15.5653</td><td style=\"text-align: right;\">             5.58426</td><td style=\"text-align: right;\">            40.1662</td><td style=\"text-align: right;\">             0      </td><td style=\"text-align: right;\">                  0</td><td style=\"text-align: right;\">           0.006335</td><td style=\"text-align: right;\">            0      </td><td style=\"text-align: right;\">           0.328915</td><td style=\"text-align: right;\">            0       </td><td style=\"text-align: right;\">             9.79796</td><td style=\"text-align: right;\">          -0.857142</td><td style=\"text-align: right;\">              0    </td><td style=\"text-align: right;\">            0      </td><td style=\"text-align: right;\">           0       </td><td style=\"text-align: right;\">              0    </td><td style=\"text-align: right;\">            0      </td><td style=\"text-align: right;\">           0       </td><td style=\"text-align: right;\">            -3.78314</td><td style=\"text-align: right;\">            -3.61266</td><td style=\"text-align: right;\">             3.9716 </td><td style=\"text-align: right;\">            4.46362</td><td style=\"text-align: right;\">       1.84744 </td><td style=\"text-align: right;\">        48.7132</td><td style=\"text-align: right;\">            0.459033</td><td style=\"text-align: right;\">                 0  </td><td style=\"text-align: right;\">             1.21218</td><td style=\"text-align: right;\">           -2.66667 </td><td style=\"text-align: right;\">                 0  </td><td style=\"text-align: right;\">             0      </td><td style=\"text-align: right;\">            0       </td><td style=\"text-align: right;\">                 0  </td><td style=\"text-align: right;\">             0      </td><td style=\"text-align: right;\">            0       </td><td style=\"text-align: right;\">                 0  </td><td style=\"text-align: right;\">            0       </td><td style=\"text-align: right;\">                0    </td><td style=\"text-align: right;\">             4.04744</td><td style=\"text-align: right;\">            2638.26 </td><td style=\"text-align: right;\">              1200.75</td><td style=\"text-align: right;\">              3677.29</td><td style=\"text-align: right;\">                     0</td><td style=\"text-align: right;\">                     0</td><td style=\"text-align: right;\">                     0</td><td style=\"text-align: right;\">           0          </td><td style=\"text-align: right;\">           0          </td><td style=\"text-align: right;\">                  0   </td><td style=\"text-align: right;\">                  0   </td><td style=\"text-align: right;\">                  0   </td><td style=\"text-align: right;\">         640          </td><td style=\"text-align: right;\">        1300          </td><td style=\"text-align: right;\">                508.75</td><td style=\"text-align: right;\">                   0</td><td style=\"text-align: right;\">            0       </td><td style=\"text-align: right;\">                   0</td><td style=\"text-align: right;\">              0     </td><td style=\"text-align: right;\">            0       </td><td style=\"text-align: right;\">            0       </td><td style=\"text-align: right;\">                   0</td><td style=\"text-align: right;\">            0       </td><td style=\"text-align: right;\">                   0</td><td style=\"text-align: right;\">              8.4375</td><td style=\"text-align: right;\">           -1.31226 </td><td style=\"text-align: right;\">           -11.4584 </td><td style=\"text-align: right;\">                   0</td><td style=\"text-align: right;\">        5.59425</td><td style=\"text-align: right;\">       5.59425</td><td style=\"text-align: right;\">                      0</td><td style=\"text-align: right;\">                      0</td><td style=\"text-align: right;\">                      0</td><td style=\"text-align: right;\">                      0</td><td style=\"text-align: right;\">        5.59425</td><td style=\"text-align: right;\">       5.59425</td><td style=\"text-align: right;\">        5.59425</td><td style=\"text-align: right;\">                      0</td><td style=\"text-align: right;\">                      0</td><td style=\"text-align: right;\">                      0</td><td style=\"text-align: right;\">                      0</td><td style=\"text-align: right;\">             0      </td><td style=\"text-align: right;\">             0      </td><td style=\"text-align: right;\">            0      </td><td style=\"text-align: right;\">             0      </td><td style=\"text-align: right;\">            0      </td><td style=\"text-align: right;\">               0  </td><td style=\"text-align: right;\">               0  </td><td style=\"text-align: right;\">             0    </td><td style=\"text-align: right;\">                      0</td><td style=\"text-align: right;\">                      0</td><td style=\"text-align: right;\">       3.07765</td><td style=\"text-align: right;\">              5.58426</td><td style=\"text-align: right;\">            13.9088 </td><td style=\"text-align: right;\">           19.0107 </td><td style=\"text-align: right;\">            16.7951 </td><td style=\"text-align: right;\">             0      </td><td style=\"text-align: right;\">             0      </td><td style=\"text-align: right;\">             0      </td><td style=\"text-align: right;\">       1.69023</td><td style=\"text-align: right;\">                    0</td><td style=\"text-align: right;\">            0       </td><td style=\"text-align: right;\">             0.205901</td><td style=\"text-align: right;\">            0       </td><td style=\"text-align: right;\">             2.43454</td><td style=\"text-align: right;\">              148.234</td><td style=\"text-align: right;\">              39.398</td><td style=\"text-align: right;\">               4.1231</td><td style=\"text-align: right;\">             17      </td><td style=\"text-align: right;\">              27.7386</td><td style=\"text-align: right;\">              3.08207</td><td style=\"text-align: right;\">                    1</td><td style=\"text-align: right;\">              4.1231 </td><td style=\"text-align: right;\">               3.1231 </td><td style=\"text-align: right;\">              4.1231 </td><td style=\"text-align: right;\">              0      </td><td style=\"text-align: right;\">                    0</td><td style=\"text-align: right;\">              0      </td><td style=\"text-align: right;\">               0      </td><td style=\"text-align: right;\">               0     </td><td style=\"text-align: right;\">               0     </td><td style=\"text-align: right;\">             0       </td><td style=\"text-align: right;\">                    0</td><td style=\"text-align: right;\">              0      </td><td style=\"text-align: right;\">               0      </td><td style=\"text-align: right;\">              0      </td><td style=\"text-align: right;\">             0       </td><td style=\"text-align: right;\">                    0</td><td style=\"text-align: right;\">              0      </td><td style=\"text-align: right;\">              0      </td><td style=\"text-align: right;\">              0      </td><td style=\"text-align: right;\">              0      </td><td style=\"text-align: right;\">         2.11982</td><td style=\"text-align: right;\">             16.2188</td><td style=\"text-align: right;\">             1438.84 </td><td style=\"text-align: right;\">               80.4262</td><td style=\"text-align: right;\">              140.056 </td><td style=\"text-align: right;\">               7.41421</td><td style=\"text-align: right;\">              80.4262 </td><td style=\"text-align: right;\">             140.056  </td><td style=\"text-align: right;\">              132.642  </td><td style=\"text-align: right;\">               7.41421</td><td style=\"text-align: right;\">               7.41421</td><td style=\"text-align: right;\">               7.41421</td><td style=\"text-align: right;\">                 0     </td><td style=\"text-align: right;\">               7.41421</td><td style=\"text-align: right;\">               0      </td><td style=\"text-align: right;\">               0      </td><td style=\"text-align: right;\">               0      </td><td style=\"text-align: right;\">               0      </td><td style=\"text-align: right;\">                0      </td><td style=\"text-align: right;\">                0     </td><td style=\"text-align: right;\">                 0    </td><td style=\"text-align: right;\">               0      </td><td style=\"text-align: right;\">               0      </td><td style=\"text-align: right;\">               0      </td><td style=\"text-align: right;\">                0      </td><td style=\"text-align: right;\">                0     </td><td style=\"text-align: right;\">                0      </td><td style=\"text-align: right;\">                0     </td><td style=\"text-align: right;\">                 0    </td><td style=\"text-align: right;\">                  0   </td><td style=\"text-align: right;\">                 0    </td><td style=\"text-align: right;\">            0          </td><td style=\"text-align: right;\">            0          </td><td style=\"text-align: right;\">            0          </td><td style=\"text-align: right;\">                   0   </td><td style=\"text-align: right;\">                    63</td><td style=\"text-align: right;\">                     9</td><td style=\"text-align: right;\">                     9</td><td style=\"text-align: right;\">                     9</td><td style=\"text-align: right;\">                      0</td><td style=\"text-align: right;\">                     9</td><td style=\"text-align: right;\">                     9</td><td style=\"text-align: right;\">                     9</td><td style=\"text-align: right;\">                     9</td><td style=\"text-align: right;\">                     9</td><td style=\"text-align: right;\">                     9</td><td style=\"text-align: right;\">                     0</td><td style=\"text-align: right;\">                     0</td><td style=\"text-align: right;\">                     0</td><td style=\"text-align: right;\">                     0</td><td style=\"text-align: right;\">                     9</td><td style=\"text-align: right;\">                     9</td><td style=\"text-align: right;\">                      0</td><td style=\"text-align: right;\">                     9</td><td style=\"text-align: right;\">          2.25   </td><td style=\"text-align: right;\">                     9</td><td style=\"text-align: right;\">                     9</td><td style=\"text-align: right;\">                     9</td><td style=\"text-align: right;\">                     9</td><td style=\"text-align: right;\">                     0</td><td style=\"text-align: right;\">                     0</td><td style=\"text-align: right;\">                     0</td><td style=\"text-align: right;\">                     0</td><td style=\"text-align: right;\">                     0</td><td style=\"text-align: right;\">                     0</td><td style=\"text-align: right;\">                     0</td><td style=\"text-align: right;\">                     9</td><td style=\"text-align: right;\">                     9</td><td style=\"text-align: right;\">                     9</td></tr>\n",
              "</tbody>\n",
              "</table>"
            ]
          },
          "metadata": {},
          "output_type": "display_data"
        },
        {
          "data": {
            "text/plain": []
          },
          "execution_count": 41,
          "metadata": {},
          "output_type": "execute_result"
        }
      ],
      "source": [
        "import io  \n",
        "df = h2o.import_file('BBB-AWV(final).csv')\n",
        "df.head()\n"
      ]
    },
    {
      "cell_type": "code",
      "execution_count": null,
      "metadata": {
        "colab": {
          "base_uri": "https://localhost:8080/"
        },
        "id": "1KbwuP672W6q",
        "outputId": "12a125c2-f3d4-44c4-9264-ba9c1b6fd1dd"
      },
      "outputs": [
        {
          "name": "stdout",
          "output_type": "stream",
          "text": [
            "Size of training set: 580 rows and 1625 columns\n"
          ]
        }
      ],
      "source": [
        "print(f'Size of training set: {df.shape[0]} rows and {df.shape[1]} columns')"
      ]
    },
    {
      "cell_type": "code",
      "execution_count": null,
      "metadata": {
        "id": "DWQFs-A2Phey"
      },
      "outputs": [],
      "source": [
        "splits = df.split_frame(ratios=[0.7],seed=1)\n",
        "train = splits[0]\n",
        "test = splits[1]"
      ]
    },
    {
      "cell_type": "code",
      "execution_count": null,
      "metadata": {
        "id": "4hbyek9JyMtw"
      },
      "outputs": [],
      "source": [
        "y = \"log BBB\" \n",
        "x = df.columns \n",
        "x.remove(y) \n",
        "x.remove(\"name\")\n"
      ]
    },
    {
      "cell_type": "code",
      "execution_count": null,
      "metadata": {
        "colab": {
          "base_uri": "https://localhost:8080/",
          "height": 269
        },
        "id": "33_w5Ib-yw1n",
        "outputId": "16373e39-48e9-4c78-ddbb-f3c3bd3daf38"
      },
      "outputs": [
        {
          "name": "stdout",
          "output_type": "stream",
          "text": [
            "AutoML progress: |█\n",
            "00:58:57.346: AutoML: XGBoost is not available; skipping it.\n",
            "00:58:57.346: Step 'best_of_family_xgboost' not defined in provider 'StackedEnsemble': skipping it.\n",
            "00:58:57.346: Step 'all_xgboost' not defined in provider 'StackedEnsemble': skipping it.\n",
            "\n",
            "██████████████████████████████████████████████████████████████| (done) 100%\n"
          ]
        },
        {
          "data": {
            "text/html": [
              "<table>\n",
              "<thead>\n",
              "<tr><th>model_id                                              </th><th style=\"text-align: right;\">  mean_residual_deviance</th><th style=\"text-align: right;\">   rmse</th><th style=\"text-align: right;\">    mse</th><th style=\"text-align: right;\">     mae</th><th style=\"text-align: right;\">  rmsle</th></tr>\n",
              "</thead>\n",
              "<tbody>\n",
              "<tr><td>StackedEnsemble_AllModels_1_AutoML_6_20220523_05857   </td><td style=\"text-align: right;\">                 1.90619</td><td style=\"text-align: right;\">1.38065</td><td style=\"text-align: right;\">1.90619</td><td style=\"text-align: right;\">0.792957</td><td style=\"text-align: right;\">    nan</td></tr>\n",
              "<tr><td>StackedEnsemble_BestOfFamily_3_AutoML_6_20220523_05857</td><td style=\"text-align: right;\">                 2.01269</td><td style=\"text-align: right;\">1.41869</td><td style=\"text-align: right;\">2.01269</td><td style=\"text-align: right;\">0.796843</td><td style=\"text-align: right;\">    nan</td></tr>\n",
              "<tr><td>StackedEnsemble_AllModels_2_AutoML_6_20220523_05857   </td><td style=\"text-align: right;\">                 2.04753</td><td style=\"text-align: right;\">1.43092</td><td style=\"text-align: right;\">2.04753</td><td style=\"text-align: right;\">0.789648</td><td style=\"text-align: right;\">    nan</td></tr>\n",
              "<tr><td>GLM_1_AutoML_6_20220523_05857                         </td><td style=\"text-align: right;\">                 2.3778 </td><td style=\"text-align: right;\">1.54201</td><td style=\"text-align: right;\">2.3778 </td><td style=\"text-align: right;\">0.867066</td><td style=\"text-align: right;\">    nan</td></tr>\n",
              "<tr><td>StackedEnsemble_BestOfFamily_2_AutoML_6_20220523_05857</td><td style=\"text-align: right;\">                 2.651  </td><td style=\"text-align: right;\">1.62819</td><td style=\"text-align: right;\">2.651  </td><td style=\"text-align: right;\">0.841986</td><td style=\"text-align: right;\">    nan</td></tr>\n",
              "<tr><td>XRT_1_AutoML_6_20220523_05857                         </td><td style=\"text-align: right;\">                 2.92925</td><td style=\"text-align: right;\">1.71151</td><td style=\"text-align: right;\">2.92925</td><td style=\"text-align: right;\">0.842489</td><td style=\"text-align: right;\">    nan</td></tr>\n",
              "<tr><td>GBM_3_AutoML_6_20220523_05857                         </td><td style=\"text-align: right;\">                 3.04943</td><td style=\"text-align: right;\">1.74626</td><td style=\"text-align: right;\">3.04943</td><td style=\"text-align: right;\">0.76381 </td><td style=\"text-align: right;\">    nan</td></tr>\n",
              "<tr><td>GBM_2_AutoML_6_20220523_05857                         </td><td style=\"text-align: right;\">                 3.05386</td><td style=\"text-align: right;\">1.74753</td><td style=\"text-align: right;\">3.05386</td><td style=\"text-align: right;\">0.761652</td><td style=\"text-align: right;\">    nan</td></tr>\n",
              "<tr><td>GBM_5_AutoML_6_20220523_05857                         </td><td style=\"text-align: right;\">                 3.05857</td><td style=\"text-align: right;\">1.74888</td><td style=\"text-align: right;\">3.05857</td><td style=\"text-align: right;\">0.804194</td><td style=\"text-align: right;\">    nan</td></tr>\n",
              "<tr><td>GBM_4_AutoML_6_20220523_05857                         </td><td style=\"text-align: right;\">                 3.10405</td><td style=\"text-align: right;\">1.76183</td><td style=\"text-align: right;\">3.10405</td><td style=\"text-align: right;\">0.757537</td><td style=\"text-align: right;\">    nan</td></tr>\n",
              "</tbody>\n",
              "</table>"
            ]
          },
          "metadata": {},
          "output_type": "display_data"
        },
        {
          "data": {
            "text/plain": []
          },
          "execution_count": 45,
          "metadata": {},
          "output_type": "execute_result"
        }
      ],
      "source": [
        "aml = H2OAutoML(max_runtime_secs=120, seed=1)\n",
        "aml.train(x=x,y=y, training_frame=train)\n",
        "\n",
        "lb = aml.leaderboard\n",
        "lb.head()"
      ]
    },
    {
      "cell_type": "code",
      "execution_count": null,
      "metadata": {
        "colab": {
          "base_uri": "https://localhost:8080/"
        },
        "id": "MEeq7rY50hwg",
        "outputId": "5e972850-f744-4959-dfb3-ffb425f8347c"
      },
      "outputs": [
        {
          "name": "stderr",
          "output_type": "stream",
          "text": [
            "C:\\ProgramData\\Anaconda3\\lib\\site-packages\\h2o\\estimators\\stackedensemble.py:925: H2ODeprecationWarning: The usage of stacked_ensemble.metalearner()['name'] will be deprecated. Metalearner now returns the metalearner object. If you need to get the 'name' please use stacked_ensemble.metalearner().model_id\n",
            "  warnings.warn(\n"
          ]
        }
      ],
      "source": [
        "# Get model ids for all models in the AutoML Leaderboard\n",
        "model_ids = list(aml.leaderboard['model_id'].as_data_frame().iloc[:,0])\n",
        "# Get the \"All Models\" Stacked Ensemble model\n",
        "se = h2o.get_model([mid for mid in model_ids if \"StackedEnsemble_AllModels\" in mid][0])\n",
        "# Get the Stacked Ensemble metalearner model\n",
        "metalearner = h2o.get_model(se.metalearner()['name'])\n"
      ]
    },
    {
      "cell_type": "code",
      "execution_count": null,
      "metadata": {
        "id": "dFKdoi1SWsh_",
        "outputId": "f1b42b87-05aa-4555-ea46-47e39c327ab6"
      },
      "outputs": [
        {
          "name": "stdout",
          "output_type": "stream",
          "text": [
            "Model Details\n",
            "=============\n",
            "H2OGeneralizedLinearEstimator :  Generalized Linear Modeling\n",
            "Model Key:  metalearner_AUTO_StackedEnsemble_AllModels_1_AutoML_6_20220523_05857\n",
            "\n",
            "\n",
            "GLM Model: summary\n"
          ]
        },
        {
          "data": {
            "text/html": [
              "<div>\n",
              "<style scoped>\n",
              "    .dataframe tbody tr th:only-of-type {\n",
              "        vertical-align: middle;\n",
              "    }\n",
              "\n",
              "    .dataframe tbody tr th {\n",
              "        vertical-align: top;\n",
              "    }\n",
              "\n",
              "    .dataframe thead th {\n",
              "        text-align: right;\n",
              "    }\n",
              "</style>\n",
              "<table border=\"1\" class=\"dataframe\">\n",
              "  <thead>\n",
              "    <tr style=\"text-align: right;\">\n",
              "      <th></th>\n",
              "      <th></th>\n",
              "      <th>family</th>\n",
              "      <th>link</th>\n",
              "      <th>regularization</th>\n",
              "      <th>number_of_predictors_total</th>\n",
              "      <th>number_of_active_predictors</th>\n",
              "      <th>number_of_iterations</th>\n",
              "      <th>training_frame</th>\n",
              "    </tr>\n",
              "  </thead>\n",
              "  <tbody>\n",
              "    <tr>\n",
              "      <th>0</th>\n",
              "      <td></td>\n",
              "      <td>gaussian</td>\n",
              "      <td>identity</td>\n",
              "      <td>Elastic Net (alpha = 0.5, lambda = 0.005075 )</td>\n",
              "      <td>6</td>\n",
              "      <td>4</td>\n",
              "      <td>2</td>\n",
              "      <td>levelone_training_StackedEnsemble_AllModels_1_AutoML_6_20220523_05857</td>\n",
              "    </tr>\n",
              "  </tbody>\n",
              "</table>\n",
              "</div>"
            ],
            "text/plain": [
              "       family      link                                 regularization  \\\n",
              "0    gaussian  identity  Elastic Net (alpha = 0.5, lambda = 0.005075 )   \n",
              "\n",
              "   number_of_predictors_total number_of_active_predictors  \\\n",
              "0                           6                           4   \n",
              "\n",
              "   number_of_iterations  \\\n",
              "0                     2   \n",
              "\n",
              "                                                          training_frame  \n",
              "0  levelone_training_StackedEnsemble_AllModels_1_AutoML_6_20220523_05857  "
            ]
          },
          "metadata": {},
          "output_type": "display_data"
        },
        {
          "name": "stdout",
          "output_type": "stream",
          "text": [
            "\n",
            "\n",
            "ModelMetricsRegressionGLM: glm\n",
            "** Reported on train data. **\n",
            "\n",
            "MSE: 1.7015198817483321\n",
            "RMSE: 1.3044231988692674\n",
            "MAE: 0.7684800428301726\n",
            "RMSLE: NaN\n",
            "R^2: 0.6808296230503132\n",
            "Mean Residual Deviance: 1.7015198817483321\n",
            "Null degrees of freedom: 400\n",
            "Residual degrees of freedom: 396\n",
            "Null deviance: 2137.75939704028\n",
            "Residual deviance: 682.3094725810812\n",
            "AIC: 1363.1289854204679\n",
            "\n",
            "ModelMetricsRegressionGLM: glm\n",
            "** Reported on cross-validation data. **\n",
            "\n",
            "MSE: 1.906187450387236\n",
            "RMSE: 1.3806474750591609\n",
            "MAE: 0.7929565751818892\n",
            "RMSLE: NaN\n",
            "R^2: 0.6424381674272771\n",
            "Mean Residual Deviance: 1.906187450387236\n",
            "Null degrees of freedom: 400\n",
            "Residual degrees of freedom: 396\n",
            "Null deviance: 2142.979316364243\n",
            "Residual deviance: 764.3811676052817\n",
            "AIC: 1408.6758679475174\n",
            "\n",
            "Cross-Validation Metrics Summary: \n"
          ]
        },
        {
          "data": {
            "text/html": [
              "<div>\n",
              "<style scoped>\n",
              "    .dataframe tbody tr th:only-of-type {\n",
              "        vertical-align: middle;\n",
              "    }\n",
              "\n",
              "    .dataframe tbody tr th {\n",
              "        vertical-align: top;\n",
              "    }\n",
              "\n",
              "    .dataframe thead th {\n",
              "        text-align: right;\n",
              "    }\n",
              "</style>\n",
              "<table border=\"1\" class=\"dataframe\">\n",
              "  <thead>\n",
              "    <tr style=\"text-align: right;\">\n",
              "      <th></th>\n",
              "      <th></th>\n",
              "      <th>mean</th>\n",
              "      <th>sd</th>\n",
              "      <th>cv_1_valid</th>\n",
              "      <th>cv_2_valid</th>\n",
              "      <th>cv_3_valid</th>\n",
              "      <th>cv_4_valid</th>\n",
              "      <th>cv_5_valid</th>\n",
              "    </tr>\n",
              "  </thead>\n",
              "  <tbody>\n",
              "    <tr>\n",
              "      <th>0</th>\n",
              "      <td>mae</td>\n",
              "      <td>0.791622</td>\n",
              "      <td>0.040777</td>\n",
              "      <td>0.746935</td>\n",
              "      <td>0.834459</td>\n",
              "      <td>0.810909</td>\n",
              "      <td>0.749028</td>\n",
              "      <td>0.816781</td>\n",
              "    </tr>\n",
              "    <tr>\n",
              "      <th>1</th>\n",
              "      <td>mean_residual_deviance</td>\n",
              "      <td>1.883591</td>\n",
              "      <td>0.843146</td>\n",
              "      <td>1.268098</td>\n",
              "      <td>2.893824</td>\n",
              "      <td>2.676777</td>\n",
              "      <td>1.055691</td>\n",
              "      <td>1.523564</td>\n",
              "    </tr>\n",
              "    <tr>\n",
              "      <th>2</th>\n",
              "      <td>mse</td>\n",
              "      <td>1.883591</td>\n",
              "      <td>0.843146</td>\n",
              "      <td>1.268098</td>\n",
              "      <td>2.893824</td>\n",
              "      <td>2.676777</td>\n",
              "      <td>1.055691</td>\n",
              "      <td>1.523564</td>\n",
              "    </tr>\n",
              "    <tr>\n",
              "      <th>3</th>\n",
              "      <td>null_deviance</td>\n",
              "      <td>428.595860</td>\n",
              "      <td>278.339000</td>\n",
              "      <td>223.250490</td>\n",
              "      <td>552.655150</td>\n",
              "      <td>668.154540</td>\n",
              "      <td>47.450040</td>\n",
              "      <td>651.469100</td>\n",
              "    </tr>\n",
              "    <tr>\n",
              "      <th>4</th>\n",
              "      <td>r2</td>\n",
              "      <td>0.331403</td>\n",
              "      <td>0.707823</td>\n",
              "      <td>0.539791</td>\n",
              "      <td>0.522474</td>\n",
              "      <td>0.703453</td>\n",
              "      <td>-0.916931</td>\n",
              "      <td>0.808230</td>\n",
              "    </tr>\n",
              "    <tr>\n",
              "      <th>5</th>\n",
              "      <td>residual_deviance</td>\n",
              "      <td>152.859010</td>\n",
              "      <td>74.999350</td>\n",
              "      <td>102.715965</td>\n",
              "      <td>260.444150</td>\n",
              "      <td>198.081480</td>\n",
              "      <td>78.121150</td>\n",
              "      <td>124.932260</td>\n",
              "    </tr>\n",
              "    <tr>\n",
              "      <th>6</th>\n",
              "      <td>rmse</td>\n",
              "      <td>1.345021</td>\n",
              "      <td>0.305184</td>\n",
              "      <td>1.126099</td>\n",
              "      <td>1.701124</td>\n",
              "      <td>1.636086</td>\n",
              "      <td>1.027468</td>\n",
              "      <td>1.234327</td>\n",
              "    </tr>\n",
              "    <tr>\n",
              "      <th>7</th>\n",
              "      <td>rmsle</td>\n",
              "      <td>NaN</td>\n",
              "      <td>0.000000</td>\n",
              "      <td>NaN</td>\n",
              "      <td>NaN</td>\n",
              "      <td>NaN</td>\n",
              "      <td>NaN</td>\n",
              "      <td>NaN</td>\n",
              "    </tr>\n",
              "  </tbody>\n",
              "</table>\n",
              "</div>"
            ],
            "text/plain": [
              "                                 mean          sd  cv_1_valid  cv_2_valid  \\\n",
              "0                     mae    0.791622    0.040777    0.746935    0.834459   \n",
              "1  mean_residual_deviance    1.883591    0.843146    1.268098    2.893824   \n",
              "2                     mse    1.883591    0.843146    1.268098    2.893824   \n",
              "3           null_deviance  428.595860  278.339000  223.250490  552.655150   \n",
              "4                      r2    0.331403    0.707823    0.539791    0.522474   \n",
              "5       residual_deviance  152.859010   74.999350  102.715965  260.444150   \n",
              "6                    rmse    1.345021    0.305184    1.126099    1.701124   \n",
              "7                   rmsle         NaN    0.000000         NaN         NaN   \n",
              "\n",
              "   cv_3_valid  cv_4_valid  cv_5_valid  \n",
              "0    0.810909    0.749028    0.816781  \n",
              "1    2.676777    1.055691    1.523564  \n",
              "2    2.676777    1.055691    1.523564  \n",
              "3  668.154540   47.450040  651.469100  \n",
              "4    0.703453   -0.916931    0.808230  \n",
              "5  198.081480   78.121150  124.932260  \n",
              "6    1.636086    1.027468    1.234327  \n",
              "7         NaN         NaN         NaN  "
            ]
          },
          "metadata": {},
          "output_type": "display_data"
        },
        {
          "name": "stdout",
          "output_type": "stream",
          "text": [
            "\n",
            "Scoring History: \n"
          ]
        },
        {
          "data": {
            "text/html": [
              "<div>\n",
              "<style scoped>\n",
              "    .dataframe tbody tr th:only-of-type {\n",
              "        vertical-align: middle;\n",
              "    }\n",
              "\n",
              "    .dataframe tbody tr th {\n",
              "        vertical-align: top;\n",
              "    }\n",
              "\n",
              "    .dataframe thead th {\n",
              "        text-align: right;\n",
              "    }\n",
              "</style>\n",
              "<table border=\"1\" class=\"dataframe\">\n",
              "  <thead>\n",
              "    <tr style=\"text-align: right;\">\n",
              "      <th></th>\n",
              "      <th></th>\n",
              "      <th>timestamp</th>\n",
              "      <th>duration</th>\n",
              "      <th>iterations</th>\n",
              "      <th>negative_log_likelihood</th>\n",
              "      <th>objective</th>\n",
              "      <th>alpha</th>\n",
              "      <th>lambda</th>\n",
              "      <th>deviance_train</th>\n",
              "      <th>deviance_xval</th>\n",
              "      <th>deviance_se</th>\n",
              "      <th>training_rmse</th>\n",
              "      <th>training_deviance</th>\n",
              "      <th>training_mae</th>\n",
              "      <th>training_r2</th>\n",
              "    </tr>\n",
              "  </thead>\n",
              "  <tbody>\n",
              "    <tr>\n",
              "      <th>0</th>\n",
              "      <td></td>\n",
              "      <td>2022-05-23 01:00:38</td>\n",
              "      <td>0.000 sec</td>\n",
              "      <td>2</td>\n",
              "      <td>341.150203</td>\n",
              "      <td>0.850749</td>\n",
              "      <td>1.0</td>\n",
              "      <td>0.0</td>\n",
              "      <td>1.701497</td>\n",
              "      <td>1.883591</td>\n",
              "      <td>0.92291</td>\n",
              "      <td>1.304423</td>\n",
              "      <td>1.70152</td>\n",
              "      <td>0.76848</td>\n",
              "      <td>0.68083</td>\n",
              "    </tr>\n",
              "  </tbody>\n",
              "</table>\n",
              "</div>"
            ],
            "text/plain": [
              "               timestamp    duration  iterations  negative_log_likelihood  \\\n",
              "0    2022-05-23 01:00:38   0.000 sec           2               341.150203   \n",
              "\n",
              "   objective  alpha  lambda  deviance_train  deviance_xval  deviance_se  \\\n",
              "0   0.850749    1.0     0.0        1.701497       1.883591      0.92291   \n",
              "\n",
              "   training_rmse  training_deviance  training_mae  training_r2  \n",
              "0       1.304423            1.70152       0.76848      0.68083  "
            ]
          },
          "metadata": {},
          "output_type": "display_data"
        },
        {
          "name": "stdout",
          "output_type": "stream",
          "text": [
            "\n",
            "Variable Importances: \n"
          ]
        },
        {
          "data": {
            "text/html": [
              "<div>\n",
              "<style scoped>\n",
              "    .dataframe tbody tr th:only-of-type {\n",
              "        vertical-align: middle;\n",
              "    }\n",
              "\n",
              "    .dataframe tbody tr th {\n",
              "        vertical-align: top;\n",
              "    }\n",
              "\n",
              "    .dataframe thead th {\n",
              "        text-align: right;\n",
              "    }\n",
              "</style>\n",
              "<table border=\"1\" class=\"dataframe\">\n",
              "  <thead>\n",
              "    <tr style=\"text-align: right;\">\n",
              "      <th></th>\n",
              "      <th>variable</th>\n",
              "      <th>relative_importance</th>\n",
              "      <th>scaled_importance</th>\n",
              "      <th>percentage</th>\n",
              "    </tr>\n",
              "  </thead>\n",
              "  <tbody>\n",
              "    <tr>\n",
              "      <th>0</th>\n",
              "      <td>GLM_1_AutoML_6_20220523_05857</td>\n",
              "      <td>1.160011</td>\n",
              "      <td>1.000000</td>\n",
              "      <td>0.522277</td>\n",
              "    </tr>\n",
              "    <tr>\n",
              "      <th>1</th>\n",
              "      <td>DRF_1_AutoML_6_20220523_05857</td>\n",
              "      <td>0.583281</td>\n",
              "      <td>0.502824</td>\n",
              "      <td>0.262613</td>\n",
              "    </tr>\n",
              "    <tr>\n",
              "      <th>2</th>\n",
              "      <td>GBM_4_AutoML_6_20220523_05857</td>\n",
              "      <td>0.438836</td>\n",
              "      <td>0.378303</td>\n",
              "      <td>0.197579</td>\n",
              "    </tr>\n",
              "    <tr>\n",
              "      <th>3</th>\n",
              "      <td>GBM_1_AutoML_6_20220523_05857</td>\n",
              "      <td>0.038939</td>\n",
              "      <td>0.033567</td>\n",
              "      <td>0.017531</td>\n",
              "    </tr>\n",
              "    <tr>\n",
              "      <th>4</th>\n",
              "      <td>GBM_3_AutoML_6_20220523_05857</td>\n",
              "      <td>0.000000</td>\n",
              "      <td>0.000000</td>\n",
              "      <td>0.000000</td>\n",
              "    </tr>\n",
              "    <tr>\n",
              "      <th>5</th>\n",
              "      <td>GBM_2_AutoML_6_20220523_05857</td>\n",
              "      <td>0.000000</td>\n",
              "      <td>0.000000</td>\n",
              "      <td>0.000000</td>\n",
              "    </tr>\n",
              "  </tbody>\n",
              "</table>\n",
              "</div>"
            ],
            "text/plain": [
              "                        variable  relative_importance  scaled_importance  \\\n",
              "0  GLM_1_AutoML_6_20220523_05857             1.160011           1.000000   \n",
              "1  DRF_1_AutoML_6_20220523_05857             0.583281           0.502824   \n",
              "2  GBM_4_AutoML_6_20220523_05857             0.438836           0.378303   \n",
              "3  GBM_1_AutoML_6_20220523_05857             0.038939           0.033567   \n",
              "4  GBM_3_AutoML_6_20220523_05857             0.000000           0.000000   \n",
              "5  GBM_2_AutoML_6_20220523_05857             0.000000           0.000000   \n",
              "\n",
              "   percentage  \n",
              "0    0.522277  \n",
              "1    0.262613  \n",
              "2    0.197579  \n",
              "3    0.017531  \n",
              "4    0.000000  \n",
              "5    0.000000  "
            ]
          },
          "metadata": {},
          "output_type": "display_data"
        },
        {
          "data": {
            "text/plain": []
          },
          "execution_count": 47,
          "metadata": {},
          "output_type": "execute_result"
        }
      ],
      "source": [
        "metalearner"
      ]
    },
    {
      "cell_type": "code",
      "execution_count": null,
      "metadata": {
        "colab": {
          "base_uri": "https://localhost:8080/",
          "height": 630
        },
        "id": "1YZPdiir01GQ",
        "outputId": "9e589cdb-a8c6-4aee-b931-4356473fee63"
      },
      "outputs": [
        {
          "data": {
            "text/plain": [
              "<h2o.plot._plot_result._MObject at 0x19b9b49d9a0>"
            ]
          },
          "execution_count": 48,
          "metadata": {},
          "output_type": "execute_result"
        },
        {
          "data": {
            "image/png": "[encoded data removed]",
            "text/plain": [
              "<Figure size 1008x720 with 1 Axes>"
            ]
          },
          "metadata": {
            "needs_background": "light"
          },
          "output_type": "display_data"
        }
      ],
      "source": [
        "%matplotlib inline\n",
        "metalearner.std_coef_plot()"
      ]
    },
    {
      "cell_type": "code",
      "execution_count": null,
      "metadata": {
        "colab": {
          "base_uri": "https://localhost:8080/",
          "height": 269
        },
        "id": "VyVwGaFG09TA",
        "outputId": "eedabe45-d7e6-4080-9109-cc0ef22db253"
      },
      "outputs": [
        {
          "name": "stdout",
          "output_type": "stream",
          "text": [
            "stackedensemble prediction progress: |███████████████████████████████████████████| (done) 100%\n"
          ]
        },
        {
          "data": {
            "text/html": [
              "<table>\n",
              "<thead>\n",
              "<tr><th style=\"text-align: right;\">   predict</th></tr>\n",
              "</thead>\n",
              "<tbody>\n",
              "<tr><td style=\"text-align: right;\">-0.602238 </td></tr>\n",
              "<tr><td style=\"text-align: right;\"> 0.618655 </td></tr>\n",
              "<tr><td style=\"text-align: right;\"> 0.85058  </td></tr>\n",
              "<tr><td style=\"text-align: right;\"> 0.699088 </td></tr>\n",
              "<tr><td style=\"text-align: right;\"> 0.945557 </td></tr>\n",
              "<tr><td style=\"text-align: right;\"> 1.4257   </td></tr>\n",
              "<tr><td style=\"text-align: right;\"> 0.0644676</td></tr>\n",
              "<tr><td style=\"text-align: right;\"> 1.16398  </td></tr>\n",
              "<tr><td style=\"text-align: right;\"> 0.413679 </td></tr>\n",
              "<tr><td style=\"text-align: right;\">-0.879383 </td></tr>\n",
              "</tbody>\n",
              "</table>"
            ]
          },
          "metadata": {},
          "output_type": "display_data"
        },
        {
          "data": {
            "text/plain": []
          },
          "execution_count": 49,
          "metadata": {},
          "output_type": "execute_result"
        }
      ],
      "source": [
        "pred = aml.predict(test)\n",
        "pred.head()"
      ]
    },
    {
      "cell_type": "code",
      "execution_count": null,
      "metadata": {
        "colab": {
          "base_uri": "https://localhost:8080/",
          "height": 36
        },
        "id": "GApVOLk-1aK4",
        "outputId": "92a85690-3433-4767-c950-88a4e500c4f1"
      },
      "outputs": [
        {
          "data": {
            "application/vnd.google.colaboratory.intrinsic+json": {
              "type": "string"
            },
            "text/plain": [
              "'/content/malaria_AC_model_bin/StackedEnsemble_BestOfFamily_2_AutoML_2_20220404_123700'"
            ]
          },
          "execution_count": 37,
          "metadata": {},
          "output_type": "execute_result"
        }
      ],
      "source": [
        "h2o.save_model(aml.leader, path=\"./BBB_model_bin\")"
      ]
    },
    {
      "cell_type": "markdown",
      "metadata": {
        "id": "iVHHloYvm1Am"
      },
      "source": [
        "#H2O BBB -IB-AWV"
      ]
    },
    {
      "cell_type": "code",
      "execution_count": null,
      "metadata": {
        "id": "2cHw8rl8WsiB"
      },
      "outputs": [],
      "source": [
        ""
      ]
    },
    {
      "cell_type": "code",
      "execution_count": null,
      "metadata": {
        "colab": {
          "base_uri": "https://localhost:8080/",
          "height": 74,
          "resources": {
            "http://localhost:8080/nbextensions/google.colab/files.js": {
              "data": "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",
              "headers": [
                [
                  "content-type",
                  "application/javascript"
                ]
              ],
              "ok": true,
              "status": 200,
              "status_text": ""
            }
          }
        },
        "id": "pyEYum9nnFwG",
        "outputId": "3e2c2c14-f929-4904-a5e7-8cb00f6f05a6"
      },
      "outputs": [
        {
          "data": {
            "text/html": [
              "\n",
              "     <input type=\"file\" id=\"files-1a2d2020-2bbb-4349-9413-258a69ecfb7e\" name=\"files[]\" multiple disabled\n",
              "        style=\"border:none\" />\n",
              "     <output id=\"result-1a2d2020-2bbb-4349-9413-258a69ecfb7e\">\n",
              "      Upload widget is only available when the cell has been executed in the\n",
              "      current browser session. Please rerun this cell to enable.\n",
              "      </output>\n",
              "      <script src=\"/nbextensions/google.colab/files.js\"></script> "
            ],
            "text/plain": [
              "<IPython.core.display.HTML object>"
            ]
          },
          "metadata": {},
          "output_type": "display_data"
        },
        {
          "name": "stdout",
          "output_type": "stream",
          "text": [
            "Saving malaria_CN.csv to malaria_CN (1).csv\n"
          ]
        }
      ],
      "source": [
        "import io\n",
        "\n",
        "from google.colab import files  \n",
        "uploaded = files.upload()"
      ]
    },
    {
      "cell_type": "code",
      "execution_count": null,
      "metadata": {
        "colab": {
          "base_uri": "https://localhost:8080/",
          "height": 342
        },
        "id": "PkEvG9eAnHVO",
        "outputId": "710e37a7-4af1-4240-c64d-6466038e77a8"
      },
      "outputs": [
        {
          "name": "stdout",
          "output_type": "stream",
          "text": [
            "Parse progress: |████████████████████████████████████████████████████████████████| (done) 100%\n"
          ]
        },
        {
          "data": {
            "text/html": [
              "<table>\n",
              "<thead>\n",
              "<tr><th>name                                                                             </th><th style=\"text-align: right;\">  N2-NE-P-WH-T</th><th style=\"text-align: right;\">  N3-NE-P-WH-T</th><th style=\"text-align: right;\">  R-NE-P-WH-T</th><th style=\"text-align: right;\">  IB-NE(Q2)-P-WH-T</th><th style=\"text-align: right;\">  G-NE-C-WH-T</th><th style=\"text-align: right;\">  P2-NE-C-WH-T</th><th style=\"text-align: right;\">  N3-NE-HX-WH-T</th><th style=\"text-align: right;\">  PN-NE-HX-WH-T</th><th style=\"text-align: right;\">  N2-NE-KU-WH-T</th><th style=\"text-align: right;\">  N3-NE-KU-WH-T</th><th style=\"text-align: right;\">  PN-NE-KU-WH-T</th><th style=\"text-align: right;\">  N3-NE-Alk-WH-T</th><th style=\"text-align: right;\">  PN-NE-Alk-WH-T</th><th style=\"text-align: right;\">  M-NE-Alk-WH-T</th><th style=\"text-align: right;\">  V-NE-Alk-WH-T</th><th style=\"text-align: right;\">  IB-NE(N3)-IN3-WH-T</th><th style=\"text-align: right;\">  IB-NE(PN)-IN3-WH-T</th><th style=\"text-align: right;\">  IB-NE(G)-IN3-WH-T</th><th style=\"text-align: right;\">  IB-NE(M)-IN3-WH-T</th><th style=\"text-align: right;\">  IB-NE(P2)-IN3-WH-T</th><th style=\"text-align: right;\">  IB-NE(P3)-IN3-WH-T</th><th style=\"text-align: right;\">  IB-NE(V)-IN3-WH-T</th><th style=\"text-align: right;\">  Q3-NE-IN4-WH-T</th><th style=\"text-align: right;\">  Q3-NE-IN5-WH-T</th><th style=\"text-align: right;\">  Q3-NE-IN6-WH-T</th><th style=\"text-align: right;\">  IB-NE(N3)-IN6-WH-T</th><th style=\"text-align: right;\">  IB-NE(PN)-IN6-WH-T</th><th style=\"text-align: right;\">  IB-NE(N3)-IN7-WH-T</th><th style=\"text-align: right;\">  IB-NE(V)-IN7-WH-T</th><th style=\"text-align: right;\">  IB-NE(MN)-IN8-WH-T</th><th style=\"text-align: right;\">  IB-NE(N3)-IN9-WH-T</th><th style=\"text-align: right;\">  IB-NE(PN)-IN9-WH-T</th><th style=\"text-align: right;\">  IB-NE(M)-IN9-WH-T</th><th style=\"text-align: right;\">  IB-NE(V)-IN9-WH-T</th><th style=\"text-align: right;\">  IB-NE(N2)-IN12-WH-T</th><th style=\"text-align: right;\">  IB-NE(N3)-IN12-WH-T</th><th style=\"text-align: right;\">  IB-NE(N2)-IN15-WH-T</th><th style=\"text-align: right;\">  IB-NE(N2)-IN16-WH-T</th><th style=\"text-align: right;\">  IB-NE(N3)-IN16-WH-T</th><th style=\"text-align: right;\">  IB-NE(N2)-IN18-WH-T</th><th style=\"text-align: right;\">  IB-NE(N3)-IN18-WH-T</th><th style=\"text-align: right;\">  IB-NE(PN)-IN18-WH-T</th><th style=\"text-align: right;\">  IB-NE(P3)-IN18-WH-T</th><th style=\"text-align: right;\">  N3-NE-DC2-WH-T</th><th style=\"text-align: right;\">  PN-NE-DC2-WH-T</th><th style=\"text-align: right;\">  IB-NE(K)-DC2-WH-T</th><th style=\"text-align: right;\">  N3-NE-DC3-WH-T</th><th style=\"text-align: right;\">  PN-NE-DC3-WH-T</th><th style=\"text-align: right;\">  IB-NE(K)-DC4-WH-T</th><th style=\"text-align: right;\">  N3-NE-P-WH-HT</th><th style=\"text-align: right;\">  PN-NE-P-WH-HT</th><th style=\"text-align: right;\">  R-NE-P-WH-HT</th><th style=\"text-align: right;\">  Q1-NE-P-WH-HT</th><th style=\"text-align: right;\">  M-NE-C-WH-HT</th><th style=\"text-align: right;\">  IB-NE(CV)-HX-WH-HT</th><th style=\"text-align: right;\">  M-NE-KU-WH-HT</th><th style=\"text-align: right;\">  V-NE-KU-WH-HT</th><th style=\"text-align: right;\">  IB-NE(PN)-IN1-WH-HT</th><th style=\"text-align: right;\">  IB-NE(N3)-IN3-WH-HT</th><th style=\"text-align: right;\">  IB-NE(PN)-IN3-WH-HT</th><th style=\"text-align: right;\">  IB-NE(PN)-IN4-WH-HT</th><th style=\"text-align: right;\">  V-NE-IN5-WH-HT</th><th style=\"text-align: right;\">  IB-NE(N1)-IN5-WH-HT</th><th style=\"text-align: right;\">  IB-NE(PN)-IN5-WH-HT</th><th style=\"text-align: right;\">  IB-NE(N3)-IN6-WH-HT</th><th style=\"text-align: right;\">  IB-NE(PN)-IN6-WH-HT</th><th style=\"text-align: right;\">  IB-NE(N3)-IN7-WH-HT</th><th style=\"text-align: right;\">  IB-NE(PN)-IN7-WH-HT</th><th style=\"text-align: right;\">  IB-NE(Q3)-IN7-WH-HT</th><th style=\"text-align: right;\">  IB-NE(Q3)-IN8-WH-HT</th><th style=\"text-align: right;\">  IB-NE(N3)-IN9-WH-HT</th><th style=\"text-align: right;\">  IB-NE(PN)-IN9-WH-HT</th><th style=\"text-align: right;\">  IB-NE(G)-IN9-WH-HT</th><th style=\"text-align: right;\">  IB-NE(M)-IN9-WH-HT</th><th style=\"text-align: right;\">  IB-NE(P2)-IN9-WH-HT</th><th style=\"text-align: right;\">  IB-NE(P3)-IN9-WH-HT</th><th style=\"text-align: right;\">  IB-NE(A)-IN9-WH-HT</th><th style=\"text-align: right;\">  IB-NE(V)-IN9-WH-HT</th><th style=\"text-align: right;\">  IB-NE(N2)-IN15-WH-HT</th><th style=\"text-align: right;\">  R-NE-IN16-WH-HT</th><th style=\"text-align: right;\">  IB-NE(Q3)-IN16-WH-HT</th><th style=\"text-align: right;\">  IB-NE(N2)-IN18-WH-HT</th><th style=\"text-align: right;\">  IB-NE(Q3)-IN18-WH-HT</th><th style=\"text-align: right;\">  N3-NE-DC2-WH-HT</th><th style=\"text-align: right;\">  PN-NE-DC2-WH-HT</th><th style=\"text-align: right;\">  A-NE-DC2-WH-HT</th><th style=\"text-align: right;\">  PN-NE-DC3-WH-HT</th><th style=\"text-align: right;\">  N3-NE-P-WH-HA</th><th style=\"text-align: right;\">  PN-NE-P-WH-HA</th><th style=\"text-align: right;\">  R-NE-P-WH-HA</th><th style=\"text-align: right;\">  Q1-NE-P-WH-HA</th><th style=\"text-align: right;\">  MN-NE-P-WH-HA</th><th style=\"text-align: right;\">  M-NE-C-WH-HA</th><th style=\"text-align: right;\">  CV-NE-L-WH-HA</th><th style=\"text-align: right;\">  IB-NE(N3)-IN3-WH-HA</th><th style=\"text-align: right;\">  IB-NE(PN)-IN3-WH-HA</th><th style=\"text-align: right;\">  IB-NE(PN)-IN4-WH-HA</th><th style=\"text-align: right;\">  V-NE-IN5-WH-HA</th><th style=\"text-align: right;\">  IB-NE(N1)-IN5-WH-HA</th><th style=\"text-align: right;\">  IB-NE(PN)-IN5-WH-HA</th><th style=\"text-align: right;\">  IB-NE(N3)-IN6-WH-HA</th><th style=\"text-align: right;\">  IB-NE(PN)-IN6-WH-HA</th><th style=\"text-align: right;\">  IB-NE(PN)-IN7-WH-HA</th><th style=\"text-align: right;\">  IB-NE(CV)-IN7-WH-HA</th><th style=\"text-align: right;\">  IB-NE(Q3)-IN7-WH-HA</th><th style=\"text-align: right;\">  IB-NE(I50)-IN7-WH-HA</th><th style=\"text-align: right;\">  IB-NE(V)-IN8-WH-HA</th><th style=\"text-align: right;\">  IB-NE(Q3)-IN8-WH-HA</th><th style=\"text-align: right;\">  IB-NE(I50)-IN8-WH-HA</th><th style=\"text-align: right;\">  IB-NE(MX)-IN8-WH-HA</th><th style=\"text-align: right;\">  IB-NE(N3)-IN9-WH-HA</th><th style=\"text-align: right;\">  IB-NE(PN)-IN9-WH-HA</th><th style=\"text-align: right;\">  IB-NE(G)-IN9-WH-HA</th><th style=\"text-align: right;\">  IB-NE(M)-IN9-WH-HA</th><th style=\"text-align: right;\">  IB-NE(P2)-IN9-WH-HA</th><th style=\"text-align: right;\">  IB-NE(P3)-IN9-WH-HA</th><th style=\"text-align: right;\">  IB-NE(A)-IN9-WH-HA</th><th style=\"text-align: right;\">  IB-NE(V)-IN9-WH-HA</th><th style=\"text-align: right;\">  IB-NE(CV)-IN9-WH-HA</th><th style=\"text-align: right;\">  IB-NE(MX)-IN12-WH-HA</th><th style=\"text-align: right;\">  IB-NE(N2)-IN15-WH-HA</th><th style=\"text-align: right;\">  R-NE-IN16-WH-HA</th><th style=\"text-align: right;\">  IB-NE(Q3)-IN16-WH-HA</th><th style=\"text-align: right;\">  IB-NE(I50)-IN16-WH-HA</th><th style=\"text-align: right;\">  R-NE-IN17-WH-HA</th><th style=\"text-align: right;\">  R-NE-IN18-WH-HA</th><th style=\"text-align: right;\">  IB-NE(N2)-IN18-WH-HA</th><th style=\"text-align: right;\">  IB-NE(Q3)-IN18-WH-HA</th><th style=\"text-align: right;\">  IB-NE(I50)-IN18-WH-HA</th><th style=\"text-align: right;\">  IB-NE(MX)-IN18-WH-HA</th><th style=\"text-align: right;\">  N3-NE-DC2-WH-HA</th><th style=\"text-align: right;\">  PN-NE-DC2-WH-HA</th><th style=\"text-align: right;\">  PN-NE-DC3-WH-HA</th><th style=\"text-align: right;\">  IB-NE(R)-A-WH-IS</th><th style=\"text-align: right;\">  N2-NE-P-WH-IS</th><th style=\"text-align: right;\">  N3-NE-P-WH-IS</th><th style=\"text-align: right;\">  PN-NE-P-WH-IS</th><th style=\"text-align: right;\">  N2-NE-L-WH-IS</th><th style=\"text-align: right;\">  N2-NE-Alk-WH-IS</th><th style=\"text-align: right;\">  IB-NE(N2)-IN2-WH-IS</th><th style=\"text-align: right;\">  IB-NE(N3)-IN9-WH-IS</th><th style=\"text-align: right;\">  IB-NE(N2)-IN10-WH-IS</th><th style=\"text-align: right;\">  IB-NE(N2)-IN11-WH-IS</th><th style=\"text-align: right;\">  IB-NE(N2)-IN12-WH-IS</th><th style=\"text-align: right;\">  IB-NE(N2)-IN13-WH-IS</th><th style=\"text-align: right;\">  IB-NE(N2)-IN15-WH-IS</th><th style=\"text-align: right;\">  R-NE-IN16-WH-IS</th><th style=\"text-align: right;\">  IB-NE(N2)-IN16-WH-IS</th><th style=\"text-align: right;\">  IB-NE(N3)-IN16-WH-IS</th><th style=\"text-align: right;\">  IB-NE(K)-IN16-WH-IS</th><th style=\"text-align: right;\">  R-NE-IN17-WH-IS</th><th style=\"text-align: right;\">  IB-NE(N2)-IN17-WH-IS</th><th style=\"text-align: right;\">  IB-NE(K)-IN17-WH-IS</th><th style=\"text-align: right;\">  R-NE-IN18-WH-IS</th><th style=\"text-align: right;\">  IB-NE(N2)-IN18-WH-IS</th><th style=\"text-align: right;\">  IB-NE(K)-IN18-WH-IS</th><th style=\"text-align: right;\">  IB-NE(Q1)-IN18-WH-IS</th><th style=\"text-align: right;\">  N3-NE-P-WH-LA</th><th style=\"text-align: right;\">  PN-NE-P-WH-LA</th><th style=\"text-align: right;\">  M-NE-P-WH-LA</th><th style=\"text-align: right;\">  Q2-NE-P-WH-LA</th><th style=\"text-align: right;\">  N3-NE-C-WH-LA</th><th style=\"text-align: right;\">  M-NE-C-WH-LA</th><th style=\"text-align: right;\">  P3-NE-C-WH-LA</th><th style=\"text-align: right;\">  M-NE-L-WH-LA</th><th style=\"text-align: right;\">  P2-NE-L-WH-LA</th><th style=\"text-align: right;\">  N3-NE-KU-WH-LA</th><th style=\"text-align: right;\">  G-NE-KU-WH-LA</th><th style=\"text-align: right;\">  K-NE-KU-WH-LA</th><th style=\"text-align: right;\">  G-NE-Alk-WH-LA</th><th style=\"text-align: right;\">  P2-NE-Alk-WH-LA</th><th style=\"text-align: right;\">  IB-NE(M)-IN7-WH-LA</th><th style=\"text-align: right;\">  IB-NE(P2)-IN7-WH-LA</th><th style=\"text-align: right;\">  IB-NE(P3)-IN7-WH-LA</th><th style=\"text-align: right;\">  IB-NE(S)-IN7-WH-LA</th><th style=\"text-align: right;\">  IB-NE(K)-IN7-WH-LA</th><th style=\"text-align: right;\">  IB-NE(M)-IN8-WH-LA</th><th style=\"text-align: right;\">  IB-NE(P3)-IN8-WH-LA</th><th style=\"text-align: right;\">  IB-NE(K)-IN8-WH-LA</th><th style=\"text-align: right;\">  IB-NE(MX)-IN8-WH-LA</th><th style=\"text-align: right;\">  IB-NE(MN)-IN8-WH-LA</th><th style=\"text-align: right;\">  IB-NE(G)-IN9-WH-LA</th><th style=\"text-align: right;\">  IB-NE(M)-IN9-WH-LA</th><th style=\"text-align: right;\">  IB-NE(P3)-IN9-WH-LA</th><th style=\"text-align: right;\">  IB-NE(K)-IN9-WH-LA</th><th style=\"text-align: right;\">  IB-NE(Q3)-IN9-WH-LA</th><th style=\"text-align: right;\">  IB-NE(PN)-IN10-WH-LA</th><th style=\"text-align: right;\">  IB-NE(PN)-IN12-WH-LA</th><th style=\"text-align: right;\">  IB-NE(PN)-IN16-WH-LA</th><th style=\"text-align: right;\">  IB-NE(N3)-IN17-WH-LA</th><th style=\"text-align: right;\">  IB-NE(PN)-IN18-WH-LA</th><th style=\"text-align: right;\">  IB-NE(G)-IN18-WH-LA</th><th style=\"text-align: right;\">  PN-NE-DC2-WH-LA</th><th style=\"text-align: right;\">  G-NE-DC2-WH-LA</th><th style=\"text-align: right;\">  K-NE-DC2-WH-LA</th><th style=\"text-align: right;\">  R-NE-DC2-WH-LA</th><th style=\"text-align: right;\">  IB-NE(DE)-DC2-WH-LA</th><th style=\"text-align: right;\">  PN-NE-DC3-WH-LA</th><th style=\"text-align: right;\">  S-NE-DC3-WH-LA</th></tr>\n",
              "</thead>\n",
              "<tbody>\n",
              "<tr><td>A001_ICI17148.mol_A001_ICI17148                                                  </td><td style=\"text-align: right;\">       13.5885</td><td style=\"text-align: right;\">       8.75365</td><td style=\"text-align: right;\">      2.93595</td><td style=\"text-align: right;\">          10.7208 </td><td style=\"text-align: right;\">  -0.0930932 </td><td style=\"text-align: right;\">      0.140902</td><td style=\"text-align: right;\">        16.317 </td><td style=\"text-align: right;\">        4.53607</td><td style=\"text-align: right;\">        13.2759</td><td style=\"text-align: right;\">        7.5923 </td><td style=\"text-align: right;\">       0.759996</td><td style=\"text-align: right;\">         49.2041</td><td style=\"text-align: right;\">         12.5615</td><td style=\"text-align: right;\">        12.5615</td><td style=\"text-align: right;\">       113.915 </td><td style=\"text-align: right;\">             5.55123</td><td style=\"text-align: right;\">             1.69787</td><td style=\"text-align: right;\">            1.41879</td><td style=\"text-align: right;\">            1.69787</td><td style=\"text-align: right;\">             1.94043</td><td style=\"text-align: right;\">             2.11819</td><td style=\"text-align: right;\">           0.934391</td><td style=\"text-align: right;\">              54</td><td style=\"text-align: right;\">             108</td><td style=\"text-align: right;\">           35.25</td><td style=\"text-align: right;\">             2.32289</td><td style=\"text-align: right;\">            0.749873</td><td style=\"text-align: right;\">             9.22734</td><td style=\"text-align: right;\">            3.22732</td><td style=\"text-align: right;\">            0.411362</td><td style=\"text-align: right;\">             14.1355</td><td style=\"text-align: right;\">             4.01994</td><td style=\"text-align: right;\">            4.01994</td><td style=\"text-align: right;\">            7.57377</td><td style=\"text-align: right;\">              2.25535</td><td style=\"text-align: right;\">             1.5361  </td><td style=\"text-align: right;\">             0.937411</td><td style=\"text-align: right;\">              4.14728</td><td style=\"text-align: right;\">              2.88961</td><td style=\"text-align: right;\">              5.69072</td><td style=\"text-align: right;\">              3.95637</td><td style=\"text-align: right;\">             1.0909  </td><td style=\"text-align: right;\">             1.50964 </td><td style=\"text-align: right;\">         9.01233</td><td style=\"text-align: right;\">         3      </td><td style=\"text-align: right;\">          -1.28645 </td><td style=\"text-align: right;\">         8.66239</td><td style=\"text-align: right;\">         2.77778</td><td style=\"text-align: right;\">           1.18183 </td><td style=\"text-align: right;\">        5.24807</td><td style=\"text-align: right;\">        2.71133</td><td style=\"text-align: right;\">      2.69938 </td><td style=\"text-align: right;\">        1.86049</td><td style=\"text-align: right;\">     -0.11868 </td><td style=\"text-align: right;\">            0.436731</td><td style=\"text-align: right;\">        3.38599</td><td style=\"text-align: right;\">       3.65094 </td><td style=\"text-align: right;\">              1.33   </td><td style=\"text-align: right;\">              3.54879</td><td style=\"text-align: right;\">              2.03745</td><td style=\"text-align: right;\">             0.592995</td><td style=\"text-align: right;\">          388.8 </td><td style=\"text-align: right;\">              1.48249</td><td style=\"text-align: right;\">             0.296497</td><td style=\"text-align: right;\">              1.60884</td><td style=\"text-align: right;\">             0.908418</td><td style=\"text-align: right;\">              5.37803</td><td style=\"text-align: right;\">              3.08979</td><td style=\"text-align: right;\">              3.49052</td><td style=\"text-align: right;\">              1.74526</td><td style=\"text-align: right;\">              8.23869</td><td style=\"text-align: right;\">              4.7333 </td><td style=\"text-align: right;\">             4.68416</td><td style=\"text-align: right;\">             4.7333 </td><td style=\"text-align: right;\">              4.7779 </td><td style=\"text-align: right;\">              4.81802</td><td style=\"text-align: right;\">             4.6307 </td><td style=\"text-align: right;\">            0.53022 </td><td style=\"text-align: right;\">              0.553164</td><td style=\"text-align: right;\">          5.66667</td><td style=\"text-align: right;\">              1.16396 </td><td style=\"text-align: right;\">               2.99434</td><td style=\"text-align: right;\">              1.55547 </td><td style=\"text-align: right;\">          5.92499</td><td style=\"text-align: right;\">          3.2    </td><td style=\"text-align: right;\">         2.85714</td><td style=\"text-align: right;\">          3.8    </td><td style=\"text-align: right;\">        5.24807</td><td style=\"text-align: right;\">        2.71133</td><td style=\"text-align: right;\">      2.69938 </td><td style=\"text-align: right;\">        1.86049</td><td style=\"text-align: right;\">        1.86049</td><td style=\"text-align: right;\">     -0.11868 </td><td style=\"text-align: right;\">       -3.1242 </td><td style=\"text-align: right;\">              3.54879</td><td style=\"text-align: right;\">              2.03745</td><td style=\"text-align: right;\">             0.592995</td><td style=\"text-align: right;\">          388.8 </td><td style=\"text-align: right;\">              1.48249</td><td style=\"text-align: right;\">             0.296497</td><td style=\"text-align: right;\">              1.60884</td><td style=\"text-align: right;\">             0.908418</td><td style=\"text-align: right;\">              3.08979</td><td style=\"text-align: right;\">             0.153838</td><td style=\"text-align: right;\">              3.49052</td><td style=\"text-align: right;\">              0.420074</td><td style=\"text-align: right;\">            0.056484</td><td style=\"text-align: right;\">              1.74526</td><td style=\"text-align: right;\">              0.210037</td><td style=\"text-align: right;\">              1.74526</td><td style=\"text-align: right;\">              8.23869</td><td style=\"text-align: right;\">              4.7333 </td><td style=\"text-align: right;\">             4.68416</td><td style=\"text-align: right;\">             4.7333 </td><td style=\"text-align: right;\">              4.7779 </td><td style=\"text-align: right;\">              4.81802</td><td style=\"text-align: right;\">             4.6307 </td><td style=\"text-align: right;\">            0.53022 </td><td style=\"text-align: right;\">             0.153838</td><td style=\"text-align: right;\">              0.667236</td><td style=\"text-align: right;\">              0.553164</td><td style=\"text-align: right;\">          5.66667</td><td style=\"text-align: right;\">              1.16396 </td><td style=\"text-align: right;\">               0.34425 </td><td style=\"text-align: right;\">          7.16667</td><td style=\"text-align: right;\">          5.26389</td><td style=\"text-align: right;\">               2.99434</td><td style=\"text-align: right;\">              1.55547 </td><td style=\"text-align: right;\">               0.385629</td><td style=\"text-align: right;\">              1.63439 </td><td style=\"text-align: right;\">          5.92499</td><td style=\"text-align: right;\">          3.2    </td><td style=\"text-align: right;\">          3.8    </td><td style=\"text-align: right;\">           6.04254</td><td style=\"text-align: right;\">        5.71876</td><td style=\"text-align: right;\">        4.27966</td><td style=\"text-align: right;\">        2.31298</td><td style=\"text-align: right;\">       1.15018 </td><td style=\"text-align: right;\">          55.7724</td><td style=\"text-align: right;\">              2.15065</td><td style=\"text-align: right;\">              13.0553</td><td style=\"text-align: right;\">              1.40081 </td><td style=\"text-align: right;\">              0.786004</td><td style=\"text-align: right;\">               1.90128</td><td style=\"text-align: right;\">              0.547124</td><td style=\"text-align: right;\">              0.741526</td><td style=\"text-align: right;\">          11.6667</td><td style=\"text-align: right;\">               3.66755</td><td style=\"text-align: right;\">               2.7493 </td><td style=\"text-align: right;\">            -1.7954  </td><td style=\"text-align: right;\">          21.1667</td><td style=\"text-align: right;\">               2.05577</td><td style=\"text-align: right;\">            -1.76149 </td><td style=\"text-align: right;\">          8.45833</td><td style=\"text-align: right;\">               4.9882 </td><td style=\"text-align: right;\">            -1.66642 </td><td style=\"text-align: right;\">              1.63439 </td><td style=\"text-align: right;\">        8.06522</td><td style=\"text-align: right;\">        3.15624</td><td style=\"text-align: right;\">       3.15624</td><td style=\"text-align: right;\">        3.53124</td><td style=\"text-align: right;\">       0.153704</td><td style=\"text-align: right;\">     -0.004465</td><td style=\"text-align: right;\">       0.089886</td><td style=\"text-align: right;\">     -0.205846</td><td style=\"text-align: right;\">       0.823858</td><td style=\"text-align: right;\">         5.28059</td><td style=\"text-align: right;\">        2.57508</td><td style=\"text-align: right;\">      -1.25829 </td><td style=\"text-align: right;\">         5.87803</td><td style=\"text-align: right;\">          13.4388</td><td style=\"text-align: right;\">             2.02058</td><td style=\"text-align: right;\">              2.54409</td><td style=\"text-align: right;\">              2.95482</td><td style=\"text-align: right;\">            0.941542</td><td style=\"text-align: right;\">           -0.67448 </td><td style=\"text-align: right;\">            1.01029 </td><td style=\"text-align: right;\">              1.47741</td><td style=\"text-align: right;\">           -0.67448 </td><td style=\"text-align: right;\">              2.58851</td><td style=\"text-align: right;\">             0.411362</td><td style=\"text-align: right;\">             2.34076</td><td style=\"text-align: right;\">             3.09535</td><td style=\"text-align: right;\">              4.52653</td><td style=\"text-align: right;\">           -0.67448 </td><td style=\"text-align: right;\">              4.70366</td><td style=\"text-align: right;\">              0.251068</td><td style=\"text-align: right;\">              0.354913</td><td style=\"text-align: right;\">              0.568   </td><td style=\"text-align: right;\">              1.13341 </td><td style=\"text-align: right;\">              0.800165</td><td style=\"text-align: right;\">             0.571493</td><td style=\"text-align: right;\">          2.61538</td><td style=\"text-align: right;\">         2.48561</td><td style=\"text-align: right;\">        2.09608 </td><td style=\"text-align: right;\">               3</td><td style=\"text-align: right;\">              3.53236</td><td style=\"text-align: right;\">          2.61538</td><td style=\"text-align: right;\">        2.59698 </td></tr>\n",
              "<tr><td>A002_icotidine.mol_A002_icotidine.mol                                            </td><td style=\"text-align: right;\">       25.1087</td><td style=\"text-align: right;\">      13.7547 </td><td style=\"text-align: right;\">      4.27364</td><td style=\"text-align: right;\">          22.3672 </td><td style=\"text-align: right;\">  -0.0658427 </td><td style=\"text-align: right;\">      0.151369</td><td style=\"text-align: right;\">        24.1042</td><td style=\"text-align: right;\">        4.46231</td><td style=\"text-align: right;\">        23.176 </td><td style=\"text-align: right;\">       11.2161 </td><td style=\"text-align: right;\">       0.700778</td><td style=\"text-align: right;\">         79.2893</td><td style=\"text-align: right;\">         13.5558</td><td style=\"text-align: right;\">        13.5558</td><td style=\"text-align: right;\">       149.126 </td><td style=\"text-align: right;\">             8.21394</td><td style=\"text-align: right;\">             1.72532</td><td style=\"text-align: right;\">            1.40883</td><td style=\"text-align: right;\">            1.72532</td><td style=\"text-align: right;\">             1.99664</td><td style=\"text-align: right;\">             2.18672</td><td style=\"text-align: right;\">           1.02923 </td><td style=\"text-align: right;\">             159</td><td style=\"text-align: right;\">             330</td><td style=\"text-align: right;\">          105.5 </td><td style=\"text-align: right;\">             3.28836</td><td style=\"text-align: right;\">            0.727862</td><td style=\"text-align: right;\">            14.8306 </td><td style=\"text-align: right;\">            4.184  </td><td style=\"text-align: right;\">            0.395581</td><td style=\"text-align: right;\">             22.3514</td><td style=\"text-align: right;\">             4.36122</td><td style=\"text-align: right;\">            4.36122</td><td style=\"text-align: right;\">            9.50344</td><td style=\"text-align: right;\">              1.93445</td><td style=\"text-align: right;\">             1.10565 </td><td style=\"text-align: right;\">             0.776385</td><td style=\"text-align: right;\">              3.62064</td><td style=\"text-align: right;\">              2.11973</td><td style=\"text-align: right;\">              5.23216</td><td style=\"text-align: right;\">              3.06108</td><td style=\"text-align: right;\">             0.576441</td><td style=\"text-align: right;\">             0.814922</td><td style=\"text-align: right;\">        15.3233 </td><td style=\"text-align: right;\">         3.58491</td><td style=\"text-align: right;\">           2.79293 </td><td style=\"text-align: right;\">        19.0323 </td><td style=\"text-align: right;\">         4.5283 </td><td style=\"text-align: right;\">           1.86265 </td><td style=\"text-align: right;\">        5.03656</td><td style=\"text-align: right;\">        2.60591</td><td style=\"text-align: right;\">      0.854232</td><td style=\"text-align: right;\">        2.39797</td><td style=\"text-align: right;\">     -0.235724</td><td style=\"text-align: right;\">            0.197659</td><td style=\"text-align: right;\">        5.32822</td><td style=\"text-align: right;\">       0.607717</td><td style=\"text-align: right;\">              1.28661</td><td style=\"text-align: right;\">              3.80419</td><td style=\"text-align: right;\">              1.93907</td><td style=\"text-align: right;\">             0.542736</td><td style=\"text-align: right;\">         4033.33</td><td style=\"text-align: right;\">              1.8305 </td><td style=\"text-align: right;\">             0.2615  </td><td style=\"text-align: right;\">              1.59146</td><td style=\"text-align: right;\">             0.817963</td><td style=\"text-align: right;\">              6.28093</td><td style=\"text-align: right;\">              3.13744</td><td style=\"text-align: right;\">              3.48329</td><td style=\"text-align: right;\">              1.67831</td><td style=\"text-align: right;\">              9.46604</td><td style=\"text-align: right;\">              4.72847</td><td style=\"text-align: right;\">             4.56789</td><td style=\"text-align: right;\">             4.72847</td><td style=\"text-align: right;\">              4.85301</td><td style=\"text-align: right;\">              4.94845</td><td style=\"text-align: right;\">             4.36944</td><td style=\"text-align: right;\">            1.39224 </td><td style=\"text-align: right;\">              0.312479</td><td style=\"text-align: right;\">        276      </td><td style=\"text-align: right;\">              0.586597</td><td style=\"text-align: right;\">               1.84862</td><td style=\"text-align: right;\">              0.83617 </td><td style=\"text-align: right;\">          8.0104 </td><td style=\"text-align: right;\">          4      </td><td style=\"text-align: right;\">         3.68421</td><td style=\"text-align: right;\">          5      </td><td style=\"text-align: right;\">        5.03656</td><td style=\"text-align: right;\">        2.60591</td><td style=\"text-align: right;\">      0.854232</td><td style=\"text-align: right;\">        2.39797</td><td style=\"text-align: right;\">        2.33811</td><td style=\"text-align: right;\">     -0.235724</td><td style=\"text-align: right;\">       -1.46773</td><td style=\"text-align: right;\">              3.80419</td><td style=\"text-align: right;\">              1.93907</td><td style=\"text-align: right;\">             0.542736</td><td style=\"text-align: right;\">         4033.33</td><td style=\"text-align: right;\">              1.8305 </td><td style=\"text-align: right;\">             0.2615  </td><td style=\"text-align: right;\">              1.59146</td><td style=\"text-align: right;\">             0.817963</td><td style=\"text-align: right;\">              3.13744</td><td style=\"text-align: right;\">             0.249537</td><td style=\"text-align: right;\">              3.48329</td><td style=\"text-align: right;\">              0.981473</td><td style=\"text-align: right;\">            0.142295</td><td style=\"text-align: right;\">              1.67831</td><td style=\"text-align: right;\">              0.472891</td><td style=\"text-align: right;\">              1.87191</td><td style=\"text-align: right;\">              9.46604</td><td style=\"text-align: right;\">              4.72847</td><td style=\"text-align: right;\">             4.56789</td><td style=\"text-align: right;\">             4.72847</td><td style=\"text-align: right;\">              4.85301</td><td style=\"text-align: right;\">              4.94845</td><td style=\"text-align: right;\">             4.36944</td><td style=\"text-align: right;\">            1.39224 </td><td style=\"text-align: right;\">             0.249537</td><td style=\"text-align: right;\">              0.347403</td><td style=\"text-align: right;\">              0.312479</td><td style=\"text-align: right;\">        276      </td><td style=\"text-align: right;\">              0.586597</td><td style=\"text-align: right;\">               0.288257</td><td style=\"text-align: right;\">        547.333  </td><td style=\"text-align: right;\">        191.111  </td><td style=\"text-align: right;\">               1.84862</td><td style=\"text-align: right;\">              0.83617 </td><td style=\"text-align: right;\">               0.398118</td><td style=\"text-align: right;\">              0.957364</td><td style=\"text-align: right;\">          8.0104 </td><td style=\"text-align: right;\">          4      </td><td style=\"text-align: right;\">          5      </td><td style=\"text-align: right;\">          29.2894 </td><td style=\"text-align: right;\">        9.02263</td><td style=\"text-align: right;\">        5.62252</td><td style=\"text-align: right;\">        2.10766</td><td style=\"text-align: right;\">       1.48513 </td><td style=\"text-align: right;\">          86.6   </td><td style=\"text-align: right;\">              3.59668</td><td style=\"text-align: right;\">              18.7498</td><td style=\"text-align: right;\">              1.0111  </td><td style=\"text-align: right;\">              0.510809</td><td style=\"text-align: right;\">               1.45894</td><td style=\"text-align: right;\">              0.404648</td><td style=\"text-align: right;\">              0.58356 </td><td style=\"text-align: right;\">         275     </td><td style=\"text-align: right;\">               2.65885</td><td style=\"text-align: right;\">               1.67739</td><td style=\"text-align: right;\">             1.10668 </td><td style=\"text-align: right;\">         546     </td><td style=\"text-align: right;\">               1.34239</td><td style=\"text-align: right;\">             0.926787</td><td style=\"text-align: right;\">        190      </td><td style=\"text-align: right;\">               3.83869</td><td style=\"text-align: right;\">             1.24209 </td><td style=\"text-align: right;\">              0.814156</td><td style=\"text-align: right;\">       13.5733 </td><td style=\"text-align: right;\">        3.55582</td><td style=\"text-align: right;\">       3.55582</td><td style=\"text-align: right;\">        3.60237</td><td style=\"text-align: right;\">       0       </td><td style=\"text-align: right;\">     -0.000137</td><td style=\"text-align: right;\">      -0.130849</td><td style=\"text-align: right;\">     -0.264348</td><td style=\"text-align: right;\">       0.89248 </td><td style=\"text-align: right;\">         8.97302</td><td style=\"text-align: right;\">       -2.57386</td><td style=\"text-align: right;\">      -0.783835</td><td style=\"text-align: right;\">         6.08962</td><td style=\"text-align: right;\">          17.1496</td><td style=\"text-align: right;\">             2.29985</td><td style=\"text-align: right;\">              2.98043</td><td style=\"text-align: right;\">              3.48865</td><td style=\"text-align: right;\">            0.838323</td><td style=\"text-align: right;\">           -1.06731 </td><td style=\"text-align: right;\">            1.10811 </td><td style=\"text-align: right;\">              1.68089</td><td style=\"text-align: right;\">           -1.06731 </td><td style=\"text-align: right;\">              2.95266</td><td style=\"text-align: right;\">             0.395581</td><td style=\"text-align: right;\">             2.49872</td><td style=\"text-align: right;\">             3.46612</td><td style=\"text-align: right;\">              5.25777</td><td style=\"text-align: right;\">           -1.06731 </td><td style=\"text-align: right;\">              6.30696</td><td style=\"text-align: right;\">              0.136376</td><td style=\"text-align: right;\">              0.197103</td><td style=\"text-align: right;\">              0.337668</td><td style=\"text-align: right;\">              0.953816</td><td style=\"text-align: right;\">              0.487627</td><td style=\"text-align: right;\">             0.325402</td><td style=\"text-align: right;\">          3.31707</td><td style=\"text-align: right;\">         3.07954</td><td style=\"text-align: right;\">        0.561194</td><td style=\"text-align: right;\">               6</td><td style=\"text-align: right;\">             10.0006 </td><td style=\"text-align: right;\">          4.36585</td><td style=\"text-align: right;\">       -0.414435</td></tr>\n",
              "<tr><td>A003_SKF93319.mol_A003_SKF93319.mol                                              </td><td style=\"text-align: right;\">       28.743 </td><td style=\"text-align: right;\">      15.4049 </td><td style=\"text-align: right;\">      4.20026</td><td style=\"text-align: right;\">          24.0829 </td><td style=\"text-align: right;\">  -0.00850031</td><td style=\"text-align: right;\">      0.130099</td><td style=\"text-align: right;\">        25.2607</td><td style=\"text-align: right;\">        4.57411</td><td style=\"text-align: right;\">        23.8519</td><td style=\"text-align: right;\">       11.0522 </td><td style=\"text-align: right;\">       0.637763</td><td style=\"text-align: right;\">         82.7908</td><td style=\"text-align: right;\">         13.915 </td><td style=\"text-align: right;\">        13.915 </td><td style=\"text-align: right;\">       145.434 </td><td style=\"text-align: right;\">             8.66745</td><td style=\"text-align: right;\">             1.74685</td><td style=\"text-align: right;\">            1.42486</td><td style=\"text-align: right;\">            1.74685</td><td style=\"text-align: right;\">             2.022  </td><td style=\"text-align: right;\">             2.21398</td><td style=\"text-align: right;\">           1.05459 </td><td style=\"text-align: right;\">             180</td><td style=\"text-align: right;\">             378</td><td style=\"text-align: right;\">          117.75</td><td style=\"text-align: right;\">             3.4165 </td><td style=\"text-align: right;\">            0.727231</td><td style=\"text-align: right;\">            15.5506 </td><td style=\"text-align: right;\">            4.23968</td><td style=\"text-align: right;\">            0.387332</td><td style=\"text-align: right;\">             23.7716</td><td style=\"text-align: right;\">             4.47159</td><td style=\"text-align: right;\">            4.47159</td><td style=\"text-align: right;\">            9.90733</td><td style=\"text-align: right;\">              1.80732</td><td style=\"text-align: right;\">             1.00971 </td><td style=\"text-align: right;\">             0.717452</td><td style=\"text-align: right;\">              3.3491 </td><td style=\"text-align: right;\">              1.90427</td><td style=\"text-align: right;\">              4.89985</td><td style=\"text-align: right;\">              2.78286</td><td style=\"text-align: right;\">             0.511896</td><td style=\"text-align: right;\">             0.710844</td><td style=\"text-align: right;\">        16.5096 </td><td style=\"text-align: right;\">         3.6    </td><td style=\"text-align: right;\">          -0.896095</td><td style=\"text-align: right;\">        19.4235 </td><td style=\"text-align: right;\">         4.43333</td><td style=\"text-align: right;\">          -0.976636</td><td style=\"text-align: right;\">        6.36071</td><td style=\"text-align: right;\">        3.14115</td><td style=\"text-align: right;\">      2.11636 </td><td style=\"text-align: right;\">        2.58155</td><td style=\"text-align: right;\">     -0.208415</td><td style=\"text-align: right;\">            0.342489</td><td style=\"text-align: right;\">        4.52011</td><td style=\"text-align: right;\">       3.96191 </td><td style=\"text-align: right;\">              1.20758</td><td style=\"text-align: right;\">              3.65521</td><td style=\"text-align: right;\">              1.84598</td><td style=\"text-align: right;\">             0.483868</td><td style=\"text-align: right;\">         9072   </td><td style=\"text-align: right;\">              1.61289</td><td style=\"text-align: right;\">             0.230413</td><td style=\"text-align: right;\">              1.46935</td><td style=\"text-align: right;\">             0.739671</td><td style=\"text-align: right;\">              6.67545</td><td style=\"text-align: right;\">              3.19935</td><td style=\"text-align: right;\">              3.84904</td><td style=\"text-align: right;\">              1.83288</td><td style=\"text-align: right;\">             10.2045 </td><td style=\"text-align: right;\">              4.89072</td><td style=\"text-align: right;\">             4.6306 </td><td style=\"text-align: right;\">             4.89072</td><td style=\"text-align: right;\">              5.12644</td><td style=\"text-align: right;\">              5.33449</td><td style=\"text-align: right;\">             4.35751</td><td style=\"text-align: right;\">            2.75468 </td><td style=\"text-align: right;\">              0.262341</td><td style=\"text-align: right;\">        345.333  </td><td style=\"text-align: right;\">              0.527662</td><td style=\"text-align: right;\">               1.72524</td><td style=\"text-align: right;\">              0.758802</td><td style=\"text-align: right;\">         10.8293 </td><td style=\"text-align: right;\">          4.85714</td><td style=\"text-align: right;\">         4.05145</td><td style=\"text-align: right;\">          4.71429</td><td style=\"text-align: right;\">        6.36071</td><td style=\"text-align: right;\">        3.14115</td><td style=\"text-align: right;\">      2.11636 </td><td style=\"text-align: right;\">        2.58155</td><td style=\"text-align: right;\">        2.51318</td><td style=\"text-align: right;\">     -0.208415</td><td style=\"text-align: right;\">       -2.55746</td><td style=\"text-align: right;\">              3.65521</td><td style=\"text-align: right;\">              1.84598</td><td style=\"text-align: right;\">             0.483868</td><td style=\"text-align: right;\">         9072   </td><td style=\"text-align: right;\">              1.61289</td><td style=\"text-align: right;\">             0.230413</td><td style=\"text-align: right;\">              1.46935</td><td style=\"text-align: right;\">             0.739671</td><td style=\"text-align: right;\">              3.19935</td><td style=\"text-align: right;\">             0.339361</td><td style=\"text-align: right;\">              3.84904</td><td style=\"text-align: right;\">              1.5484  </td><td style=\"text-align: right;\">            0.267306</td><td style=\"text-align: right;\">              1.83288</td><td style=\"text-align: right;\">              0.737334</td><td style=\"text-align: right;\">              2.32399</td><td style=\"text-align: right;\">             10.2045 </td><td style=\"text-align: right;\">              4.89072</td><td style=\"text-align: right;\">             4.6306 </td><td style=\"text-align: right;\">             4.89072</td><td style=\"text-align: right;\">              5.12644</td><td style=\"text-align: right;\">              5.33449</td><td style=\"text-align: right;\">             4.35751</td><td style=\"text-align: right;\">            2.75468 </td><td style=\"text-align: right;\">             0.339361</td><td style=\"text-align: right;\">              0.304383</td><td style=\"text-align: right;\">              0.262341</td><td style=\"text-align: right;\">        345.333  </td><td style=\"text-align: right;\">              0.527662</td><td style=\"text-align: right;\">               0.243545</td><td style=\"text-align: right;\">        690.667  </td><td style=\"text-align: right;\">        239.833  </td><td style=\"text-align: right;\">               1.72524</td><td style=\"text-align: right;\">              0.758802</td><td style=\"text-align: right;\">               0.329314</td><td style=\"text-align: right;\">              0.838015</td><td style=\"text-align: right;\">         10.8293 </td><td style=\"text-align: right;\">          4.85714</td><td style=\"text-align: right;\">          4.71429</td><td style=\"text-align: right;\">          32.85   </td><td style=\"text-align: right;\">        9.81032</td><td style=\"text-align: right;\">        5.99438</td><td style=\"text-align: right;\">        2.17887</td><td style=\"text-align: right;\">       1.61381 </td><td style=\"text-align: right;\">          98.1158</td><td style=\"text-align: right;\">              3.87977</td><td style=\"text-align: right;\">              21.1336</td><td style=\"text-align: right;\">              0.969857</td><td style=\"text-align: right;\">              0.484076</td><td style=\"text-align: right;\">               1.40732</td><td style=\"text-align: right;\">              0.371103</td><td style=\"text-align: right;\">              0.538237</td><td style=\"text-align: right;\">         344.667 </td><td style=\"text-align: right;\">               2.68046</td><td style=\"text-align: right;\">               1.65991</td><td style=\"text-align: right;\">             1.8349  </td><td style=\"text-align: right;\">         690.667 </td><td style=\"text-align: right;\">               1.33774</td><td style=\"text-align: right;\">             1.78798 </td><td style=\"text-align: right;\">        238.583  </td><td style=\"text-align: right;\">               3.89062</td><td style=\"text-align: right;\">             1.61923 </td><td style=\"text-align: right;\">              0.731657</td><td style=\"text-align: right;\">       15.1283 </td><td style=\"text-align: right;\">        3.86312</td><td style=\"text-align: right;\">       3.86312</td><td style=\"text-align: right;\">        4.30514</td><td style=\"text-align: right;\">       0       </td><td style=\"text-align: right;\">      0.002492</td><td style=\"text-align: right;\">      -0.099021</td><td style=\"text-align: right;\">     -0.244102</td><td style=\"text-align: right;\">       0.958627</td><td style=\"text-align: right;\">         8.11078</td><td style=\"text-align: right;\">        2.46312</td><td style=\"text-align: right;\">      -0.767215</td><td style=\"text-align: right;\">         6.03188</td><td style=\"text-align: right;\">          16.9997</td><td style=\"text-align: right;\">             2.21192</td><td style=\"text-align: right;\">              2.86456</td><td style=\"text-align: right;\">              3.3471 </td><td style=\"text-align: right;\">            0.804912</td><td style=\"text-align: right;\">           -1.19579 </td><td style=\"text-align: right;\">            1.05329 </td><td style=\"text-align: right;\">              1.59386</td><td style=\"text-align: right;\">           -1.19579 </td><td style=\"text-align: right;\">              2.7873 </td><td style=\"text-align: right;\">             0.387332</td><td style=\"text-align: right;\">             2.43944</td><td style=\"text-align: right;\">             3.38128</td><td style=\"text-align: right;\">              5.11658</td><td style=\"text-align: right;\">           -1.19579 </td><td style=\"text-align: right;\">              6.39892</td><td style=\"text-align: right;\">              0.114263</td><td style=\"text-align: right;\">              0.168114</td><td style=\"text-align: right;\">              0.279418</td><td style=\"text-align: right;\">              0.792861</td><td style=\"text-align: right;\">              0.410955</td><td style=\"text-align: right;\">             0.27664 </td><td style=\"text-align: right;\">          3.22222</td><td style=\"text-align: right;\">         2.98774</td><td style=\"text-align: right;\">        5.42551 </td><td style=\"text-align: right;\">               7</td><td style=\"text-align: right;\">              9.60731</td><td style=\"text-align: right;\">          4.24444</td><td style=\"text-align: right;\">        0.741821</td></tr>\n",
              "<tr><td>A004_lupitidine.mol_A004_lupitidine.mol                                          </td><td style=\"text-align: right;\">       27.2557</td><td style=\"text-align: right;\">      14.7816 </td><td style=\"text-align: right;\">      4.19545</td><td style=\"text-align: right;\">          18.153  </td><td style=\"text-align: right;\">   0.0775539 </td><td style=\"text-align: right;\">      0.151331</td><td style=\"text-align: right;\">        24.8872</td><td style=\"text-align: right;\">        4.49281</td><td style=\"text-align: right;\">        23.2585</td><td style=\"text-align: right;\">       11.0719 </td><td style=\"text-align: right;\">       0.550572</td><td style=\"text-align: right;\">         83.4241</td><td style=\"text-align: right;\">         13.7369</td><td style=\"text-align: right;\">        13.7369</td><td style=\"text-align: right;\">       161.596 </td><td style=\"text-align: right;\">             8.19695</td><td style=\"text-align: right;\">             1.67677</td><td style=\"text-align: right;\">            1.36958</td><td style=\"text-align: right;\">            1.67677</td><td style=\"text-align: right;\">             1.94813</td><td style=\"text-align: right;\">             2.14251</td><td style=\"text-align: right;\">           1.00155 </td><td style=\"text-align: right;\">             168</td><td style=\"text-align: right;\">             348</td><td style=\"text-align: right;\">          112.25</td><td style=\"text-align: right;\">             3.28779</td><td style=\"text-align: right;\">            0.705788</td><td style=\"text-align: right;\">            14.8549 </td><td style=\"text-align: right;\">            4.06269</td><td style=\"text-align: right;\">            0.397426</td><td style=\"text-align: right;\">             22.2328</td><td style=\"text-align: right;\">             4.23844</td><td style=\"text-align: right;\">            4.23844</td><td style=\"text-align: right;\">            9.10039</td><td style=\"text-align: right;\">              1.7575 </td><td style=\"text-align: right;\">             0.998279</td><td style=\"text-align: right;\">             0.706131</td><td style=\"text-align: right;\">              3.30672</td><td style=\"text-align: right;\">              1.91572</td><td style=\"text-align: right;\">              4.72117</td><td style=\"text-align: right;\">              2.73196</td><td style=\"text-align: right;\">             0.50648 </td><td style=\"text-align: right;\">             0.714076</td><td style=\"text-align: right;\">        16.0932 </td><td style=\"text-align: right;\">         3.60714</td><td style=\"text-align: right;\">          -0.50687 </td><td style=\"text-align: right;\">        18.822  </td><td style=\"text-align: right;\">         4.32143</td><td style=\"text-align: right;\">           1.61743 </td><td style=\"text-align: right;\">        6.39208</td><td style=\"text-align: right;\">        2.99142</td><td style=\"text-align: right;\">      2.28119 </td><td style=\"text-align: right;\">        2.51308</td><td style=\"text-align: right;\">     -0.223216</td><td style=\"text-align: right;\">            0.284485</td><td style=\"text-align: right;\">        4.7251 </td><td style=\"text-align: right;\">       3.43092 </td><td style=\"text-align: right;\">              1.24766</td><td style=\"text-align: right;\">              3.85379</td><td style=\"text-align: right;\">              1.86732</td><td style=\"text-align: right;\">             0.500127</td><td style=\"text-align: right;\">         5526.57</td><td style=\"text-align: right;\">              1.93153</td><td style=\"text-align: right;\">             0.24144 </td><td style=\"text-align: right;\">              1.54893</td><td style=\"text-align: right;\">             0.74852 </td><td style=\"text-align: right;\">              7.00665</td><td style=\"text-align: right;\">              3.2471 </td><td style=\"text-align: right;\">              3.89561</td><td style=\"text-align: right;\">              1.88064</td><td style=\"text-align: right;\">             10.4866 </td><td style=\"text-align: right;\">              4.85981</td><td style=\"text-align: right;\">             4.63433</td><td style=\"text-align: right;\">             4.85981</td><td style=\"text-align: right;\">              5.06251</td><td style=\"text-align: right;\">              5.24329</td><td style=\"text-align: right;\">             4.39091</td><td style=\"text-align: right;\">            2.29862 </td><td style=\"text-align: right;\">              0.279064</td><td style=\"text-align: right;\">        323.333  </td><td style=\"text-align: right;\">              0.525475</td><td style=\"text-align: right;\">               1.81528</td><td style=\"text-align: right;\">              0.777348</td><td style=\"text-align: right;\">         11.0083 </td><td style=\"text-align: right;\">          4.75   </td><td style=\"text-align: right;\">         4.04494</td><td style=\"text-align: right;\">          5      </td><td style=\"text-align: right;\">        6.39208</td><td style=\"text-align: right;\">        2.99142</td><td style=\"text-align: right;\">      2.28119 </td><td style=\"text-align: right;\">        2.51308</td><td style=\"text-align: right;\">        2.33865</td><td style=\"text-align: right;\">     -0.223216</td><td style=\"text-align: right;\">       -3.19705</td><td style=\"text-align: right;\">              3.85379</td><td style=\"text-align: right;\">              1.86732</td><td style=\"text-align: right;\">             0.500127</td><td style=\"text-align: right;\">         5526.57</td><td style=\"text-align: right;\">              1.93153</td><td style=\"text-align: right;\">             0.24144 </td><td style=\"text-align: right;\">              1.54893</td><td style=\"text-align: right;\">             0.74852 </td><td style=\"text-align: right;\">              3.2471 </td><td style=\"text-align: right;\">             0.311971</td><td style=\"text-align: right;\">              3.89561</td><td style=\"text-align: right;\">              1.20692 </td><td style=\"text-align: right;\">            0.239156</td><td style=\"text-align: right;\">              1.88064</td><td style=\"text-align: right;\">              0.582652</td><td style=\"text-align: right;\">              2.38456</td><td style=\"text-align: right;\">             10.4866 </td><td style=\"text-align: right;\">              4.85981</td><td style=\"text-align: right;\">             4.63433</td><td style=\"text-align: right;\">             4.85981</td><td style=\"text-align: right;\">              5.06251</td><td style=\"text-align: right;\">              5.24329</td><td style=\"text-align: right;\">             4.39091</td><td style=\"text-align: right;\">            2.29862 </td><td style=\"text-align: right;\">             0.311971</td><td style=\"text-align: right;\">              0.308411</td><td style=\"text-align: right;\">              0.279064</td><td style=\"text-align: right;\">        323.333  </td><td style=\"text-align: right;\">              0.525475</td><td style=\"text-align: right;\">               0.163946</td><td style=\"text-align: right;\">        639.333  </td><td style=\"text-align: right;\">        227.833  </td><td style=\"text-align: right;\">               1.81528</td><td style=\"text-align: right;\">              0.777348</td><td style=\"text-align: right;\">               0.262312</td><td style=\"text-align: right;\">              0.849408</td><td style=\"text-align: right;\">         11.0083 </td><td style=\"text-align: right;\">          4.75   </td><td style=\"text-align: right;\">          5      </td><td style=\"text-align: right;\">          31.031  </td><td style=\"text-align: right;\">        8.67359</td><td style=\"text-align: right;\">        5.50172</td><td style=\"text-align: right;\">        2.15379</td><td style=\"text-align: right;\">       1.45616 </td><td style=\"text-align: right;\">          83.3558</td><td style=\"text-align: right;\">              3.42648</td><td style=\"text-align: right;\">              18.2835</td><td style=\"text-align: right;\">              0.90205 </td><td style=\"text-align: right;\">              0.45721 </td><td style=\"text-align: right;\">               1.28278</td><td style=\"text-align: right;\">              0.356907</td><td style=\"text-align: right;\">              0.506901</td><td style=\"text-align: right;\">         321.333 </td><td style=\"text-align: right;\">               2.40758</td><td style=\"text-align: right;\">               1.54899</td><td style=\"text-align: right;\">             1.51948 </td><td style=\"text-align: right;\">         636     </td><td style=\"text-align: right;\">               1.21925</td><td style=\"text-align: right;\">             1.49067 </td><td style=\"text-align: right;\">        225.972  </td><td style=\"text-align: right;\">               3.42824</td><td style=\"text-align: right;\">             1.40782 </td><td style=\"text-align: right;\">              0.762594</td><td style=\"text-align: right;\">       14.5519 </td><td style=\"text-align: right;\">        3.67325</td><td style=\"text-align: right;\">       3.67325</td><td style=\"text-align: right;\">        3.58519</td><td style=\"text-align: right;\">       0       </td><td style=\"text-align: right;\">      0.003794</td><td style=\"text-align: right;\">      -0.107337</td><td style=\"text-align: right;\">     -0.279515</td><td style=\"text-align: right;\">       0.996412</td><td style=\"text-align: right;\">         8.32759</td><td style=\"text-align: right;\">       -2.41207</td><td style=\"text-align: right;\">      -0.769227</td><td style=\"text-align: right;\">         6.3237 </td><td style=\"text-align: right;\">          17.9246</td><td style=\"text-align: right;\">             2.33054</td><td style=\"text-align: right;\">              2.97789</td><td style=\"text-align: right;\">              3.45133</td><td style=\"text-align: right;\">            0.719185</td><td style=\"text-align: right;\">           -1.30212 </td><td style=\"text-align: right;\">            1.12509 </td><td style=\"text-align: right;\">              1.66616</td><td style=\"text-align: right;\">           -1.30212 </td><td style=\"text-align: right;\">              2.96643</td><td style=\"text-align: right;\">             0.397426</td><td style=\"text-align: right;\">             2.54092</td><td style=\"text-align: right;\">             3.48803</td><td style=\"text-align: right;\">              5.16547</td><td style=\"text-align: right;\">           -1.30212 </td><td style=\"text-align: right;\">              6.73237</td><td style=\"text-align: right;\">              0.121838</td><td style=\"text-align: right;\">              0.17422 </td><td style=\"text-align: right;\">              0.299495</td><td style=\"text-align: right;\">              0.843957</td><td style=\"text-align: right;\">              0.427941</td><td style=\"text-align: right;\">             0.294023</td><td style=\"text-align: right;\">          3.33333</td><td style=\"text-align: right;\">         3.11725</td><td style=\"text-align: right;\">        5.79852 </td><td style=\"text-align: right;\">               7</td><td style=\"text-align: right;\">              9.60002</td><td style=\"text-align: right;\">          4.17778</td><td style=\"text-align: right;\">        0.56741 </td></tr>\n",
              "<tr><td>A005_BBcpd10.mol_mol_5                                                           </td><td style=\"text-align: right;\">       16.1284</td><td style=\"text-align: right;\">       9.81099</td><td style=\"text-align: right;\">      3.61104</td><td style=\"text-align: right;\">          17.073  </td><td style=\"text-align: right;\">   0.0979281 </td><td style=\"text-align: right;\">      0.137533</td><td style=\"text-align: right;\">        18.8   </td><td style=\"text-align: right;\">        4.54524</td><td style=\"text-align: right;\">        17.1533</td><td style=\"text-align: right;\">        9.32693</td><td style=\"text-align: right;\">       0.957222</td><td style=\"text-align: right;\">         56.8291</td><td style=\"text-align: right;\">         13.1621</td><td style=\"text-align: right;\">        13.1621</td><td style=\"text-align: right;\">       111.503 </td><td style=\"text-align: right;\">             6.61327</td><td style=\"text-align: right;\">             1.77927</td><td style=\"text-align: right;\">            1.47495</td><td style=\"text-align: right;\">            1.77927</td><td style=\"text-align: right;\">             2.02997</td><td style=\"text-align: right;\">             2.20442</td><td style=\"text-align: right;\">           0.991706</td><td style=\"text-align: right;\">              81</td><td style=\"text-align: right;\">             168</td><td style=\"text-align: right;\">           52   </td><td style=\"text-align: right;\">             2.68896</td><td style=\"text-align: right;\">            0.758394</td><td style=\"text-align: right;\">            11.1874 </td><td style=\"text-align: right;\">            3.55251</td><td style=\"text-align: right;\">            0.390226</td><td style=\"text-align: right;\">             17.4265</td><td style=\"text-align: right;\">             4.39248</td><td style=\"text-align: right;\">            4.39248</td><td style=\"text-align: right;\">            8.61984</td><td style=\"text-align: right;\">              2.47046</td><td style=\"text-align: right;\">             1.57481 </td><td style=\"text-align: right;\">             0.987264</td><td style=\"text-align: right;\">              4.61782</td><td style=\"text-align: right;\">              3.01611</td><td style=\"text-align: right;\">              6.55424</td><td style=\"text-align: right;\">              4.26749</td><td style=\"text-align: right;\">             1.01936 </td><td style=\"text-align: right;\">             1.4225  </td><td style=\"text-align: right;\">        11.8737 </td><td style=\"text-align: right;\">         3.33333</td><td style=\"text-align: right;\">          -0.660692</td><td style=\"text-align: right;\">        13.1655 </td><td style=\"text-align: right;\">         3.62963</td><td style=\"text-align: right;\">           1.1073  </td><td style=\"text-align: right;\">        4.22958</td><td style=\"text-align: right;\">        2.28886</td><td style=\"text-align: right;\">      0.926059</td><td style=\"text-align: right;\">        2.07874</td><td style=\"text-align: right;\">     -0.149603</td><td style=\"text-align: right;\">            0.296186</td><td style=\"text-align: right;\">        4.62   </td><td style=\"text-align: right;\">       0.737831</td><td style=\"text-align: right;\">              1.40185</td><td style=\"text-align: right;\">              3.96796</td><td style=\"text-align: right;\">              2.18365</td><td style=\"text-align: right;\">             0.584141</td><td style=\"text-align: right;\">          940.8 </td><td style=\"text-align: right;\">              1.68984</td><td style=\"text-align: right;\">             0.281639</td><td style=\"text-align: right;\">              1.68366</td><td style=\"text-align: right;\">             0.909913</td><td style=\"text-align: right;\">              6.55824</td><td style=\"text-align: right;\">              3.52572</td><td style=\"text-align: right;\">              3.61306</td><td style=\"text-align: right;\">              1.74201</td><td style=\"text-align: right;\">             10.2157 </td><td style=\"text-align: right;\">              5.49198</td><td style=\"text-align: right;\">             5.43629</td><td style=\"text-align: right;\">             5.49198</td><td style=\"text-align: right;\">              5.55399</td><td style=\"text-align: right;\">              5.62193</td><td style=\"text-align: right;\">             5.38684</td><td style=\"text-align: right;\">            0.821881</td><td style=\"text-align: right;\">              0.476178</td><td style=\"text-align: right;\">         32      </td><td style=\"text-align: right;\">              0.922089</td><td style=\"text-align: right;\">               3.08936</td><td style=\"text-align: right;\">              1.32083 </td><td style=\"text-align: right;\">          8.88749</td><td style=\"text-align: right;\">          4      </td><td style=\"text-align: right;\">         3.34884</td><td style=\"text-align: right;\">          3.83333</td><td style=\"text-align: right;\">        4.22958</td><td style=\"text-align: right;\">        2.28886</td><td style=\"text-align: right;\">      0.926059</td><td style=\"text-align: right;\">        2.07874</td><td style=\"text-align: right;\">        1.76508</td><td style=\"text-align: right;\">     -0.149603</td><td style=\"text-align: right;\">       -4.07731</td><td style=\"text-align: right;\">              3.96796</td><td style=\"text-align: right;\">              2.18365</td><td style=\"text-align: right;\">             0.584141</td><td style=\"text-align: right;\">          940.8 </td><td style=\"text-align: right;\">              1.68984</td><td style=\"text-align: right;\">             0.281639</td><td style=\"text-align: right;\">              1.68366</td><td style=\"text-align: right;\">             0.909913</td><td style=\"text-align: right;\">              3.52572</td><td style=\"text-align: right;\">             0.165072</td><td style=\"text-align: right;\">              3.61306</td><td style=\"text-align: right;\">              0.38928 </td><td style=\"text-align: right;\">            0.07874 </td><td style=\"text-align: right;\">              1.74201</td><td style=\"text-align: right;\">              0.187688</td><td style=\"text-align: right;\">              2.2368 </td><td style=\"text-align: right;\">             10.2157 </td><td style=\"text-align: right;\">              5.49198</td><td style=\"text-align: right;\">             5.43629</td><td style=\"text-align: right;\">             5.49198</td><td style=\"text-align: right;\">              5.55399</td><td style=\"text-align: right;\">              5.62193</td><td style=\"text-align: right;\">             5.38684</td><td style=\"text-align: right;\">            0.821881</td><td style=\"text-align: right;\">             0.165072</td><td style=\"text-align: right;\">              0.562009</td><td style=\"text-align: right;\">              0.476178</td><td style=\"text-align: right;\">         32      </td><td style=\"text-align: right;\">              0.922089</td><td style=\"text-align: right;\">               0.221669</td><td style=\"text-align: right;\">         60.8333 </td><td style=\"text-align: right;\">         24.1111 </td><td style=\"text-align: right;\">               3.08936</td><td style=\"text-align: right;\">              1.32083 </td><td style=\"text-align: right;\">               0.340528</td><td style=\"text-align: right;\">              1.85363 </td><td style=\"text-align: right;\">          8.88749</td><td style=\"text-align: right;\">          4      </td><td style=\"text-align: right;\">          3.83333</td><td style=\"text-align: right;\">          10.4161 </td><td style=\"text-align: right;\">        6.73144</td><td style=\"text-align: right;\">        4.6079 </td><td style=\"text-align: right;\">        2.11807</td><td style=\"text-align: right;\">       0.668039</td><td style=\"text-align: right;\">          65.6295</td><td style=\"text-align: right;\">              2.65622</td><td style=\"text-align: right;\">              15.8049</td><td style=\"text-align: right;\">              1.48869 </td><td style=\"text-align: right;\">              0.794849</td><td style=\"text-align: right;\">               2.0846 </td><td style=\"text-align: right;\">              0.570281</td><td style=\"text-align: right;\">              0.79971 </td><td style=\"text-align: right;\">          35.6667</td><td style=\"text-align: right;\">               4.0238 </td><td style=\"text-align: right;\">               2.82198</td><td style=\"text-align: right;\">            -1.37056 </td><td style=\"text-align: right;\">          70.8333</td><td style=\"text-align: right;\">               2.15242</td><td style=\"text-align: right;\">            -1.41861 </td><td style=\"text-align: right;\">         25.3333 </td><td style=\"text-align: right;\">               5.62764</td><td style=\"text-align: right;\">            -1.28397 </td><td style=\"text-align: right;\">              1.32083 </td><td style=\"text-align: right;\">        9.39866</td><td style=\"text-align: right;\">        3.45169</td><td style=\"text-align: right;\">       3.45169</td><td style=\"text-align: right;\">        3.71873</td><td style=\"text-align: right;\">       0       </td><td style=\"text-align: right;\">     -0.006702</td><td style=\"text-align: right;\">      -0.141823</td><td style=\"text-align: right;\">     -0.254631</td><td style=\"text-align: right;\">       1.28991 </td><td style=\"text-align: right;\">         0      </td><td style=\"text-align: right;\">        2.29583</td><td style=\"text-align: right;\">       2.33283 </td><td style=\"text-align: right;\">         4.79755</td><td style=\"text-align: right;\">          13.2956</td><td style=\"text-align: right;\">             1.68552</td><td style=\"text-align: right;\">              2.22111</td><td style=\"text-align: right;\">              2.68143</td><td style=\"text-align: right;\">            1.42992 </td><td style=\"text-align: right;\">            0.230833</td><td style=\"text-align: right;\">            0.812659</td><td style=\"text-align: right;\">              1.29283</td><td style=\"text-align: right;\">            0.230833</td><td style=\"text-align: right;\">              2.2368 </td><td style=\"text-align: right;\">             0.390226</td><td style=\"text-align: right;\">             1.99242</td><td style=\"text-align: right;\">             2.62552</td><td style=\"text-align: right;\">              4.17685</td><td style=\"text-align: right;\">            0.230833</td><td style=\"text-align: right;\">              4.70512</td><td style=\"text-align: right;\">              0.167639</td><td style=\"text-align: right;\">              0.24975 </td><td style=\"text-align: right;\">              0.380733</td><td style=\"text-align: right;\">              0.830488</td><td style=\"text-align: right;\">              0.567888</td><td style=\"text-align: right;\">             0.412122</td><td style=\"text-align: right;\">          2.75   </td><td style=\"text-align: right;\">         2.53918</td><td style=\"text-align: right;\">       11.9889  </td><td style=\"text-align: right;\">               6</td><td style=\"text-align: right;\">              5.15345</td><td style=\"text-align: right;\">          2.9375 </td><td style=\"text-align: right;\">        0.781729</td></tr>\n",
              "<tr><td>A006_BBcpd11_(cimetidine_analog).mol_A006_BBcpd11_(cimetidine_analog).mol        </td><td style=\"text-align: right;\">       23.0681</td><td style=\"text-align: right;\">      13.7722 </td><td style=\"text-align: right;\">      6.5716 </td><td style=\"text-align: right;\">           9.71165</td><td style=\"text-align: right;\">  -0.0977636 </td><td style=\"text-align: right;\">      0.142745</td><td style=\"text-align: right;\">        20.9928</td><td style=\"text-align: right;\">        4.48568</td><td style=\"text-align: right;\">        17.7118</td><td style=\"text-align: right;\">        8.84312</td><td style=\"text-align: right;\">       0.565477</td><td style=\"text-align: right;\">         71.5489</td><td style=\"text-align: right;\">         13.2621</td><td style=\"text-align: right;\">        13.2621</td><td style=\"text-align: right;\">       167.832 </td><td style=\"text-align: right;\">             6.94418</td><td style=\"text-align: right;\">             1.66795</td><td style=\"text-align: right;\">            1.36653</td><td style=\"text-align: right;\">            1.66795</td><td style=\"text-align: right;\">             1.93292</td><td style=\"text-align: right;\">             2.12291</td><td style=\"text-align: right;\">           0.982174</td><td style=\"text-align: right;\">             105</td><td style=\"text-align: right;\">             210</td><td style=\"text-align: right;\">           71.75</td><td style=\"text-align: right;\">             3.08959</td><td style=\"text-align: right;\">            0.74718 </td><td style=\"text-align: right;\">            12.3462 </td><td style=\"text-align: right;\">            3.8389 </td><td style=\"text-align: right;\">            0.421309</td><td style=\"text-align: right;\">             18.0676</td><td style=\"text-align: right;\">             4.02471</td><td style=\"text-align: right;\">            4.02471</td><td style=\"text-align: right;\">            8.22132</td><td style=\"text-align: right;\">              2.03781</td><td style=\"text-align: right;\">             1.24953 </td><td style=\"text-align: right;\">             0.869341</td><td style=\"text-align: right;\">              3.82578</td><td style=\"text-align: right;\">              2.41161</td><td style=\"text-align: right;\">              5.31394</td><td style=\"text-align: right;\">              3.34675</td><td style=\"text-align: right;\">             0.721482</td><td style=\"text-align: right;\">             1.02314 </td><td style=\"text-align: right;\">        12.2361 </td><td style=\"text-align: right;\">         3.31428</td><td style=\"text-align: right;\">           7.85598 </td><td style=\"text-align: right;\">        14.5117 </td><td style=\"text-align: right;\">         4      </td><td style=\"text-align: right;\">           0.334494</td><td style=\"text-align: right;\">        8.6972 </td><td style=\"text-align: right;\">        3.45244</td><td style=\"text-align: right;\">      6.5716  </td><td style=\"text-align: right;\">        2.27558</td><td style=\"text-align: right;\">     -0.167886</td><td style=\"text-align: right;\">            0.479333</td><td style=\"text-align: right;\">        3.47024</td><td style=\"text-align: right;\">       4.79475 </td><td style=\"text-align: right;\">              1.25097</td><td style=\"text-align: right;\">              3.73158</td><td style=\"text-align: right;\">              1.83068</td><td style=\"text-align: right;\">             0.580012</td><td style=\"text-align: right;\">         3266.67</td><td style=\"text-align: right;\">              2.03004</td><td style=\"text-align: right;\">             0.290006</td><td style=\"text-align: right;\">              1.85401</td><td style=\"text-align: right;\">             0.848798</td><td style=\"text-align: right;\">              6.2189 </td><td style=\"text-align: right;\">              2.93777</td><td style=\"text-align: right;\">              3.98732</td><td style=\"text-align: right;\">              1.99366</td><td style=\"text-align: right;\">              9.10082</td><td style=\"text-align: right;\">              4.29918</td><td style=\"text-align: right;\">             3.87518</td><td style=\"text-align: right;\">             4.29918</td><td style=\"text-align: right;\">              4.57404</td><td style=\"text-align: right;\">              4.75753</td><td style=\"text-align: right;\">             3.28972</td><td style=\"text-align: right;\">            2.8454  </td><td style=\"text-align: right;\">              0.421645</td><td style=\"text-align: right;\">        200      </td><td style=\"text-align: right;\">              0.789123</td><td style=\"text-align: right;\">               2.36122</td><td style=\"text-align: right;\">              1.12584 </td><td style=\"text-align: right;\">          8.2719 </td><td style=\"text-align: right;\">          3.71428</td><td style=\"text-align: right;\">         2.64151</td><td style=\"text-align: right;\">          4.57143</td><td style=\"text-align: right;\">        8.6972 </td><td style=\"text-align: right;\">        3.45244</td><td style=\"text-align: right;\">      6.5716  </td><td style=\"text-align: right;\">        2.27558</td><td style=\"text-align: right;\">        1.22298</td><td style=\"text-align: right;\">     -0.167886</td><td style=\"text-align: right;\">        4.17886</td><td style=\"text-align: right;\">              3.73158</td><td style=\"text-align: right;\">              1.83068</td><td style=\"text-align: right;\">             0.580012</td><td style=\"text-align: right;\">         3266.67</td><td style=\"text-align: right;\">              2.03004</td><td style=\"text-align: right;\">             0.290006</td><td style=\"text-align: right;\">              1.85401</td><td style=\"text-align: right;\">             0.848798</td><td style=\"text-align: right;\">              2.93777</td><td style=\"text-align: right;\">             0.392361</td><td style=\"text-align: right;\">              3.98732</td><td style=\"text-align: right;\">              1.92333 </td><td style=\"text-align: right;\">            0.332161</td><td style=\"text-align: right;\">              1.99366</td><td style=\"text-align: right;\">              0.961665</td><td style=\"text-align: right;\">              1.99366</td><td style=\"text-align: right;\">              9.10082</td><td style=\"text-align: right;\">              4.29918</td><td style=\"text-align: right;\">             3.87518</td><td style=\"text-align: right;\">             4.29918</td><td style=\"text-align: right;\">              4.57404</td><td style=\"text-align: right;\">              4.75753</td><td style=\"text-align: right;\">             3.28972</td><td style=\"text-align: right;\">            2.8454  </td><td style=\"text-align: right;\">             0.392361</td><td style=\"text-align: right;\">              0.467815</td><td style=\"text-align: right;\">              0.421645</td><td style=\"text-align: right;\">        200      </td><td style=\"text-align: right;\">              0.789123</td><td style=\"text-align: right;\">               0.47763 </td><td style=\"text-align: right;\">        395.333  </td><td style=\"text-align: right;\">        138.667  </td><td style=\"text-align: right;\">               2.36122</td><td style=\"text-align: right;\">              1.12584 </td><td style=\"text-align: right;\">               0.681305</td><td style=\"text-align: right;\">              1.2932  </td><td style=\"text-align: right;\">          8.2719 </td><td style=\"text-align: right;\">          3.71428</td><td style=\"text-align: right;\">          4.57143</td><td style=\"text-align: right;\">          13.1566 </td><td style=\"text-align: right;\">        6.78944</td><td style=\"text-align: right;\">        4.74738</td><td style=\"text-align: right;\">        2.08212</td><td style=\"text-align: right;\">       1.13789 </td><td style=\"text-align: right;\">          64.9579</td><td style=\"text-align: right;\">              2.8678 </td><td style=\"text-align: right;\">              14.5693</td><td style=\"text-align: right;\">              0.993613</td><td style=\"text-align: right;\">              0.527988</td><td style=\"text-align: right;\">               1.37532</td><td style=\"text-align: right;\">              0.437949</td><td style=\"text-align: right;\">              0.610557</td><td style=\"text-align: right;\">         197     </td><td style=\"text-align: right;\">               2.51739</td><td style=\"text-align: right;\">               1.78209</td><td style=\"text-align: right;\">            -0.13958 </td><td style=\"text-align: right;\">         388.667 </td><td style=\"text-align: right;\">               1.34366</td><td style=\"text-align: right;\">            -0.218913</td><td style=\"text-align: right;\">        136.806  </td><td style=\"text-align: right;\">               3.47028</td><td style=\"text-align: right;\">             0.008295</td><td style=\"text-align: right;\">              0.877359</td><td style=\"text-align: right;\">       13.6285 </td><td style=\"text-align: right;\">        3.80625</td><td style=\"text-align: right;\">       3.80625</td><td style=\"text-align: right;\">        4.06573</td><td style=\"text-align: right;\">       0.137509</td><td style=\"text-align: right;\">     -0.001954</td><td style=\"text-align: right;\">       0.058481</td><td style=\"text-align: right;\">     -0.186179</td><td style=\"text-align: right;\">       0.938198</td><td style=\"text-align: right;\">         7.02893</td><td style=\"text-align: right;\">        2.23031</td><td style=\"text-align: right;\">      -1.22269 </td><td style=\"text-align: right;\">         6.13493</td><td style=\"text-align: right;\">          17.2056</td><td style=\"text-align: right;\">             2.29444</td><td style=\"text-align: right;\">              2.91017</td><td style=\"text-align: right;\">              3.379  </td><td style=\"text-align: right;\">            0.817351</td><td style=\"text-align: right;\">           -1.06707 </td><td style=\"text-align: right;\">            1.14722 </td><td style=\"text-align: right;\">              1.6895 </td><td style=\"text-align: right;\">           -1.06707 </td><td style=\"text-align: right;\">              2.78857</td><td style=\"text-align: right;\">             0.421309</td><td style=\"text-align: right;\">             2.49363</td><td style=\"text-align: right;\">             3.35771</td><td style=\"text-align: right;\">              4.94489</td><td style=\"text-align: right;\">           -1.06707 </td><td style=\"text-align: right;\">              5.8351 </td><td style=\"text-align: right;\">              0.19    </td><td style=\"text-align: right;\">              0.266886</td><td style=\"text-align: right;\">              0.453165</td><td style=\"text-align: right;\">              1.15909 </td><td style=\"text-align: right;\">              0.63581 </td><td style=\"text-align: right;\">             0.443667</td><td style=\"text-align: right;\">          3.13793</td><td style=\"text-align: right;\">         2.88883</td><td style=\"text-align: right;\">       -0.048785</td><td style=\"text-align: right;\">               5</td><td style=\"text-align: right;\">             13.2965 </td><td style=\"text-align: right;\">          4.03448</td><td style=\"text-align: right;\">       -0.064695</td></tr>\n",
              "<tr><td>A007_BBcpd12_(cimetidine_derivative).mol_A007_BBcpd12_(cimetidine_derivative).mol</td><td style=\"text-align: right;\">       22.806 </td><td style=\"text-align: right;\">      13.7258 </td><td style=\"text-align: right;\">      6.26074</td><td style=\"text-align: right;\">          16.5721 </td><td style=\"text-align: right;\">  -0.0896828 </td><td style=\"text-align: right;\">      0.118976</td><td style=\"text-align: right;\">        20.6603</td><td style=\"text-align: right;\">        4.76383</td><td style=\"text-align: right;\">        17.3466</td><td style=\"text-align: right;\">        9.16543</td><td style=\"text-align: right;\">       0.852299</td><td style=\"text-align: right;\">         70.3163</td><td style=\"text-align: right;\">         14.1134</td><td style=\"text-align: right;\">        14.1134</td><td style=\"text-align: right;\">       160.661 </td><td style=\"text-align: right;\">             7.0347 </td><td style=\"text-align: right;\">             1.73846</td><td style=\"text-align: right;\">            1.42686</td><td style=\"text-align: right;\">            1.73846</td><td style=\"text-align: right;\">             2.00512</td><td style=\"text-align: right;\">             2.19318</td><td style=\"text-align: right;\">           1.02948 </td><td style=\"text-align: right;\">              99</td><td style=\"text-align: right;\">             204</td><td style=\"text-align: right;\">           65.25</td><td style=\"text-align: right;\">             2.84919</td><td style=\"text-align: right;\">            0.743627</td><td style=\"text-align: right;\">            12.456  </td><td style=\"text-align: right;\">            4.06739</td><td style=\"text-align: right;\">            0.397282</td><td style=\"text-align: right;\">             18.8987</td><td style=\"text-align: right;\">             4.34554</td><td style=\"text-align: right;\">            4.34554</td><td style=\"text-align: right;\">            9.36323</td><td style=\"text-align: right;\">              2.17428</td><td style=\"text-align: right;\">             1.33998 </td><td style=\"text-align: right;\">             0.873472</td><td style=\"text-align: right;\">              4.04799</td><td style=\"text-align: right;\">              2.55035</td><td style=\"text-align: right;\">              5.84433</td><td style=\"text-align: right;\">              3.68016</td><td style=\"text-align: right;\">             0.823409</td><td style=\"text-align: right;\">             1.14735 </td><td style=\"text-align: right;\">        12.4505 </td><td style=\"text-align: right;\">         3.39394</td><td style=\"text-align: right;\">           0.038749</td><td style=\"text-align: right;\">        14.2506 </td><td style=\"text-align: right;\">         4.06061</td><td style=\"text-align: right;\">           0.036395</td><td style=\"text-align: right;\">        8.93936</td><td style=\"text-align: right;\">        3.4973 </td><td style=\"text-align: right;\">      6.26074 </td><td style=\"text-align: right;\">        2.4523 </td><td style=\"text-align: right;\">     -0.125201</td><td style=\"text-align: right;\">            0.51137 </td><td style=\"text-align: right;\">        2.80089</td><td style=\"text-align: right;\">       4.86127 </td><td style=\"text-align: right;\">              1.12253</td><td style=\"text-align: right;\">              3.91727</td><td style=\"text-align: right;\">              1.70314</td><td style=\"text-align: right;\">             0.516954</td><td style=\"text-align: right;\">         3963.43</td><td style=\"text-align: right;\">              2.007  </td><td style=\"text-align: right;\">             0.250874</td><td style=\"text-align: right;\">              1.82845</td><td style=\"text-align: right;\">             0.784344</td><td style=\"text-align: right;\">              6.14085</td><td style=\"text-align: right;\">              2.60296</td><td style=\"text-align: right;\">              3.87385</td><td style=\"text-align: right;\">              1.87996</td><td style=\"text-align: right;\">              9.31716</td><td style=\"text-align: right;\">              3.94931</td><td style=\"text-align: right;\">             3.34551</td><td style=\"text-align: right;\">             3.94931</td><td style=\"text-align: right;\">              4.37776</td><td style=\"text-align: right;\">              4.65858</td><td style=\"text-align: right;\">             2.69391</td><td style=\"text-align: right;\">            4.07738 </td><td style=\"text-align: right;\">              0.427221</td><td style=\"text-align: right;\">        178      </td><td style=\"text-align: right;\">              0.705953</td><td style=\"text-align: right;\">               2.41151</td><td style=\"text-align: right;\">              1.02257 </td><td style=\"text-align: right;\">          7.94229</td><td style=\"text-align: right;\">          3.375  </td><td style=\"text-align: right;\">         2.7907 </td><td style=\"text-align: right;\">          4.25   </td><td style=\"text-align: right;\">        8.92426</td><td style=\"text-align: right;\">        3.77773</td><td style=\"text-align: right;\">      5.88824 </td><td style=\"text-align: right;\">        2.4523 </td><td style=\"text-align: right;\">        1.90683</td><td style=\"text-align: right;\">     -0.151603</td><td style=\"text-align: right;\">        1.15718</td><td style=\"text-align: right;\">              3.31741</td><td style=\"text-align: right;\">              1.53667</td><td style=\"text-align: right;\">             0.451349</td><td style=\"text-align: right;\">         3743.24</td><td style=\"text-align: right;\">              1.53326</td><td style=\"text-align: right;\">             0.219037</td><td style=\"text-align: right;\">              1.42008</td><td style=\"text-align: right;\">             0.684805</td><td style=\"text-align: right;\">              2.4214 </td><td style=\"text-align: right;\">             0.547693</td><td style=\"text-align: right;\">              3.6545 </td><td style=\"text-align: right;\">              2.83586 </td><td style=\"text-align: right;\">            0.414207</td><td style=\"text-align: right;\">              1.77351</td><td style=\"text-align: right;\">              1.37623 </td><td style=\"text-align: right;\">              1.87996</td><td style=\"text-align: right;\">              8.46128</td><td style=\"text-align: right;\">              3.67385</td><td style=\"text-align: right;\">             3.08674</td><td style=\"text-align: right;\">             3.67385</td><td style=\"text-align: right;\">              4.11916</td><td style=\"text-align: right;\">              4.4232 </td><td style=\"text-align: right;\">             2.50043</td><td style=\"text-align: right;\">            4.04872 </td><td style=\"text-align: right;\">             0.547693</td><td style=\"text-align: right;\">              0.481339</td><td style=\"text-align: right;\">              0.357101</td><td style=\"text-align: right;\">        178      </td><td style=\"text-align: right;\">              0.705953</td><td style=\"text-align: right;\">               0.562149</td><td style=\"text-align: right;\">        358.667  </td><td style=\"text-align: right;\">        119.611  </td><td style=\"text-align: right;\">               2.21282</td><td style=\"text-align: right;\">              1.02257 </td><td style=\"text-align: right;\">               0.81436 </td><td style=\"text-align: right;\">              1.33186 </td><td style=\"text-align: right;\">          7.89979</td><td style=\"text-align: right;\">          3.57143</td><td style=\"text-align: right;\">          4.28571</td><td style=\"text-align: right;\">          18.6549 </td><td style=\"text-align: right;\">        7.3692 </td><td style=\"text-align: right;\">        4.96012</td><td style=\"text-align: right;\">        2.08833</td><td style=\"text-align: right;\">       2.27699 </td><td style=\"text-align: right;\">          78.5982</td><td style=\"text-align: right;\">              3.0169 </td><td style=\"text-align: right;\">              16.9255</td><td style=\"text-align: right;\">              1.13532 </td><td style=\"text-align: right;\">              0.581076</td><td style=\"text-align: right;\">               1.64248</td><td style=\"text-align: right;\">              0.443882</td><td style=\"text-align: right;\">              0.643363</td><td style=\"text-align: right;\">         174.333 </td><td style=\"text-align: right;\">               3.08532</td><td style=\"text-align: right;\">               2.10134</td><td style=\"text-align: right;\">             1.53861 </td><td style=\"text-align: right;\">         351.333 </td><td style=\"text-align: right;\">               1.5815 </td><td style=\"text-align: right;\">             1.4082  </td><td style=\"text-align: right;\">        117.028  </td><td style=\"text-align: right;\">               4.45875</td><td style=\"text-align: right;\">             1.58638 </td><td style=\"text-align: right;\">              1.14041 </td><td style=\"text-align: right;\">       13.4988 </td><td style=\"text-align: right;\">        4.34326</td><td style=\"text-align: right;\">       4.34326</td><td style=\"text-align: right;\">        4.4335 </td><td style=\"text-align: right;\">       0       </td><td style=\"text-align: right;\">     -0.014248</td><td style=\"text-align: right;\">      -0.103469</td><td style=\"text-align: right;\">     -0.086927</td><td style=\"text-align: right;\">       1.06633 </td><td style=\"text-align: right;\">         5.58722</td><td style=\"text-align: right;\">       -2.04687</td><td style=\"text-align: right;\">       0.734839</td><td style=\"text-align: right;\">         5.11885</td><td style=\"text-align: right;\">          16.2517</td><td style=\"text-align: right;\">             1.84088</td><td style=\"text-align: right;\">              2.4351 </td><td style=\"text-align: right;\">              2.9382 </td><td style=\"text-align: right;\">            1.35182 </td><td style=\"text-align: right;\">            0.197115</td><td style=\"text-align: right;\">            0.893366</td><td style=\"text-align: right;\">              1.42589</td><td style=\"text-align: right;\">            0.197115</td><td style=\"text-align: right;\">              2.62953</td><td style=\"text-align: right;\">             0.397282</td><td style=\"text-align: right;\">             2.081  </td><td style=\"text-align: right;\">             2.79305</td><td style=\"text-align: right;\">              4.45795</td><td style=\"text-align: right;\">            0.197115</td><td style=\"text-align: right;\">              4.05661</td><td style=\"text-align: right;\">              0.170007</td><td style=\"text-align: right;\">              0.246316</td><td style=\"text-align: right;\">              0.397385</td><td style=\"text-align: right;\">              1.00576 </td><td style=\"text-align: right;\">              0.574792</td><td style=\"text-align: right;\">             0.39251 </td><td style=\"text-align: right;\">          2.86364</td><td style=\"text-align: right;\">         2.68291</td><td style=\"text-align: right;\">        1.52009 </td><td style=\"text-align: right;\">               4</td><td style=\"text-align: right;\">              6.07488</td><td style=\"text-align: right;\">          4.09091</td><td style=\"text-align: right;\">        0.366897</td></tr>\n",
              "<tr><td>A008_BBcpd13_(cimetidine_derivative).mol_A008_BBcpd13_(cimetidine_derivative).mol</td><td style=\"text-align: right;\">       21.0616</td><td style=\"text-align: right;\">      12.5409 </td><td style=\"text-align: right;\">      4.12195</td><td style=\"text-align: right;\">          16.673  </td><td style=\"text-align: right;\">   0.0737344 </td><td style=\"text-align: right;\">      0.118058</td><td style=\"text-align: right;\">        20.4981</td><td style=\"text-align: right;\">        4.61486</td><td style=\"text-align: right;\">        17.3108</td><td style=\"text-align: right;\">        8.95868</td><td style=\"text-align: right;\">       0.743773</td><td style=\"text-align: right;\">         68.1184</td><td style=\"text-align: right;\">         13.7061</td><td style=\"text-align: right;\">        13.7061</td><td style=\"text-align: right;\">       149.059 </td><td style=\"text-align: right;\">             7.0347 </td><td style=\"text-align: right;\">             1.73846</td><td style=\"text-align: right;\">            1.42686</td><td style=\"text-align: right;\">            1.73846</td><td style=\"text-align: right;\">             2.00512</td><td style=\"text-align: right;\">             2.19318</td><td style=\"text-align: right;\">           1.02948 </td><td style=\"text-align: right;\">              99</td><td style=\"text-align: right;\">             204</td><td style=\"text-align: right;\">           65.25</td><td style=\"text-align: right;\">             2.84919</td><td style=\"text-align: right;\">            0.743627</td><td style=\"text-align: right;\">            12.456  </td><td style=\"text-align: right;\">            4.06739</td><td style=\"text-align: right;\">            0.397282</td><td style=\"text-align: right;\">             18.8987</td><td style=\"text-align: right;\">             4.34554</td><td style=\"text-align: right;\">            4.34554</td><td style=\"text-align: right;\">            9.36323</td><td style=\"text-align: right;\">              2.17428</td><td style=\"text-align: right;\">             1.33998 </td><td style=\"text-align: right;\">             0.873472</td><td style=\"text-align: right;\">              4.04799</td><td style=\"text-align: right;\">              2.55035</td><td style=\"text-align: right;\">              5.84433</td><td style=\"text-align: right;\">              3.68016</td><td style=\"text-align: right;\">             0.823409</td><td style=\"text-align: right;\">             1.14735 </td><td style=\"text-align: right;\">        12.4505 </td><td style=\"text-align: right;\">         3.39394</td><td style=\"text-align: right;\">           0.038749</td><td style=\"text-align: right;\">        14.2506 </td><td style=\"text-align: right;\">         4.06061</td><td style=\"text-align: right;\">           0.036395</td><td style=\"text-align: right;\">        6.05331</td><td style=\"text-align: right;\">        2.81472</td><td style=\"text-align: right;\">      3.10339 </td><td style=\"text-align: right;\">        1.90531</td><td style=\"text-align: right;\">     -0.129268</td><td style=\"text-align: right;\">            0.433497</td><td style=\"text-align: right;\">        3.176  </td><td style=\"text-align: right;\">       3.98454 </td><td style=\"text-align: right;\">              1.21537</td><td style=\"text-align: right;\">              3.90925</td><td style=\"text-align: right;\">              1.84401</td><td style=\"text-align: right;\">             0.551821</td><td style=\"text-align: right;\">         3743.24</td><td style=\"text-align: right;\">              1.87457</td><td style=\"text-align: right;\">             0.267795</td><td style=\"text-align: right;\">              1.82134</td><td style=\"text-align: right;\">             0.837246</td><td style=\"text-align: right;\">              6.136  </td><td style=\"text-align: right;\">              2.85786</td><td style=\"text-align: right;\">              3.87385</td><td style=\"text-align: right;\">              1.87996</td><td style=\"text-align: right;\">              9.30979</td><td style=\"text-align: right;\">              4.33606</td><td style=\"text-align: right;\">             3.85422</td><td style=\"text-align: right;\">             4.33606</td><td style=\"text-align: right;\">              4.65642</td><td style=\"text-align: right;\">              4.86677</td><td style=\"text-align: right;\">             3.23392</td><td style=\"text-align: right;\">            3.36092 </td><td style=\"text-align: right;\">              0.421546</td><td style=\"text-align: right;\">        178      </td><td style=\"text-align: right;\">              0.705953</td><td style=\"text-align: right;\">               2.4025 </td><td style=\"text-align: right;\">              1.02257 </td><td style=\"text-align: right;\">          7.89979</td><td style=\"text-align: right;\">          3.57143</td><td style=\"text-align: right;\">         2.95775</td><td style=\"text-align: right;\">          4.28571</td><td style=\"text-align: right;\">        6.02037</td><td style=\"text-align: right;\">        3.02837</td><td style=\"text-align: right;\">      2.73089 </td><td style=\"text-align: right;\">        2.44825</td><td style=\"text-align: right;\">        1.90531</td><td style=\"text-align: right;\">     -0.160748</td><td style=\"text-align: right;\">        1.3985 </td><td style=\"text-align: right;\">              3.30621</td><td style=\"text-align: right;\">              1.67327</td><td style=\"text-align: right;\">             0.481093</td><td style=\"text-align: right;\">         3699.2 </td><td style=\"text-align: right;\">              1.40083</td><td style=\"text-align: right;\">             0.233471</td><td style=\"text-align: right;\">              1.40825</td><td style=\"text-align: right;\">             0.729935</td><td style=\"text-align: right;\">              2.68853</td><td style=\"text-align: right;\">             0.457231</td><td style=\"text-align: right;\">              3.6545 </td><td style=\"text-align: right;\">              2.01722 </td><td style=\"text-align: right;\">            0.355885</td><td style=\"text-align: right;\">              1.77351</td><td style=\"text-align: right;\">              0.978943</td><td style=\"text-align: right;\">              1.87996</td><td style=\"text-align: right;\">              8.45235</td><td style=\"text-align: right;\">              4.07914</td><td style=\"text-align: right;\">             3.59247</td><td style=\"text-align: right;\">             4.07914</td><td style=\"text-align: right;\">              4.42021</td><td style=\"text-align: right;\">              4.65151</td><td style=\"text-align: right;\">             3.00839</td><td style=\"text-align: right;\">            3.47864 </td><td style=\"text-align: right;\">             0.457231</td><td style=\"text-align: right;\">              0.481339</td><td style=\"text-align: right;\">              0.350292</td><td style=\"text-align: right;\">        178      </td><td style=\"text-align: right;\">              0.705953</td><td style=\"text-align: right;\">               0.444836</td><td style=\"text-align: right;\">        358.667  </td><td style=\"text-align: right;\">        119.611  </td><td style=\"text-align: right;\">               2.203  </td><td style=\"text-align: right;\">              1.02257 </td><td style=\"text-align: right;\">               0.638547</td><td style=\"text-align: right;\">              1.33186 </td><td style=\"text-align: right;\">          7.85683</td><td style=\"text-align: right;\">          3.83333</td><td style=\"text-align: right;\">          4.33333</td><td style=\"text-align: right;\">          18.6549 </td><td style=\"text-align: right;\">        6.69461</td><td style=\"text-align: right;\">        4.4738 </td><td style=\"text-align: right;\">        1.91142</td><td style=\"text-align: right;\">       2.29058 </td><td style=\"text-align: right;\">          73.7052</td><td style=\"text-align: right;\">              3.0169 </td><td style=\"text-align: right;\">              16.9255</td><td style=\"text-align: right;\">              1.13532 </td><td style=\"text-align: right;\">              0.581076</td><td style=\"text-align: right;\">               1.64248</td><td style=\"text-align: right;\">              0.443882</td><td style=\"text-align: right;\">              0.643363</td><td style=\"text-align: right;\">         174.333 </td><td style=\"text-align: right;\">               3.08532</td><td style=\"text-align: right;\">               2.10134</td><td style=\"text-align: right;\">             1.53861 </td><td style=\"text-align: right;\">         351.333 </td><td style=\"text-align: right;\">               1.5815 </td><td style=\"text-align: right;\">             1.4082  </td><td style=\"text-align: right;\">        117.028  </td><td style=\"text-align: right;\">               4.45875</td><td style=\"text-align: right;\">             1.58638 </td><td style=\"text-align: right;\">              1.14041 </td><td style=\"text-align: right;\">       12.3391 </td><td style=\"text-align: right;\">        4.06754</td><td style=\"text-align: right;\">       4.06754</td><td style=\"text-align: right;\">        4.3425 </td><td style=\"text-align: right;\">       0       </td><td style=\"text-align: right;\">     -0.009853</td><td style=\"text-align: right;\">      -0.104276</td><td style=\"text-align: right;\">     -0.127813</td><td style=\"text-align: right;\">       1.08538 </td><td style=\"text-align: right;\">         5.43424</td><td style=\"text-align: right;\">        2.3189 </td><td style=\"text-align: right;\">       0.872317</td><td style=\"text-align: right;\">         5.11885</td><td style=\"text-align: right;\">          16.2517</td><td style=\"text-align: right;\">             1.84088</td><td style=\"text-align: right;\">              2.4351 </td><td style=\"text-align: right;\">              2.9382 </td><td style=\"text-align: right;\">            1.35182 </td><td style=\"text-align: right;\">            0.197115</td><td style=\"text-align: right;\">            0.893366</td><td style=\"text-align: right;\">              1.42589</td><td style=\"text-align: right;\">            0.197115</td><td style=\"text-align: right;\">              2.62953</td><td style=\"text-align: right;\">             0.397282</td><td style=\"text-align: right;\">             2.081  </td><td style=\"text-align: right;\">             2.79305</td><td style=\"text-align: right;\">              4.45795</td><td style=\"text-align: right;\">            0.197115</td><td style=\"text-align: right;\">              4.05661</td><td style=\"text-align: right;\">              0.170007</td><td style=\"text-align: right;\">              0.246316</td><td style=\"text-align: right;\">              0.397385</td><td style=\"text-align: right;\">              1.00576 </td><td style=\"text-align: right;\">              0.574792</td><td style=\"text-align: right;\">             0.39251 </td><td style=\"text-align: right;\">          2.86364</td><td style=\"text-align: right;\">         2.68291</td><td style=\"text-align: right;\">        1.52009 </td><td style=\"text-align: right;\">               4</td><td style=\"text-align: right;\">              6.07488</td><td style=\"text-align: right;\">          4.09091</td><td style=\"text-align: right;\">        0.366897</td></tr>\n",
              "<tr><td>A009_BBcpd14_(cimetidine_derivative).mol_A009_BBcpd14_(cimetidine_derivative).mol</td><td style=\"text-align: right;\">       25.2239</td><td style=\"text-align: right;\">      14.1835 </td><td style=\"text-align: right;\">      4.04756</td><td style=\"text-align: right;\">          22.9344 </td><td style=\"text-align: right;\">   0.025788  </td><td style=\"text-align: right;\">      0.100994</td><td style=\"text-align: right;\">        22.8562</td><td style=\"text-align: right;\">        4.61259</td><td style=\"text-align: right;\">        20.1595</td><td style=\"text-align: right;\">        9.5807 </td><td style=\"text-align: right;\">       0.697979</td><td style=\"text-align: right;\">         75.05  </td><td style=\"text-align: right;\">         13.823 </td><td style=\"text-align: right;\">        13.823 </td><td style=\"text-align: right;\">       141.324 </td><td style=\"text-align: right;\">             8.06563</td><td style=\"text-align: right;\">             1.78765</td><td style=\"text-align: right;\">            1.45917</td><td style=\"text-align: right;\">            1.78765</td><td style=\"text-align: right;\">             2.0623 </td><td style=\"text-align: right;\">             2.25105</td><td style=\"text-align: right;\">           1.08086 </td><td style=\"text-align: right;\">             138</td><td style=\"text-align: right;\">             288</td><td style=\"text-align: right;\">           90   </td><td style=\"text-align: right;\">             3.2041 </td><td style=\"text-align: right;\">            0.752595</td><td style=\"text-align: right;\">            14.3634 </td><td style=\"text-align: right;\">            4.3326 </td><td style=\"text-align: right;\">            0.390433</td><td style=\"text-align: right;\">             22.0238</td><td style=\"text-align: right;\">             4.5426 </td><td style=\"text-align: right;\">            4.5426 </td><td style=\"text-align: right;\">           10.1864 </td><td style=\"text-align: right;\">              2.14073</td><td style=\"text-align: right;\">             1.25067 </td><td style=\"text-align: right;\">             0.847645</td><td style=\"text-align: right;\">              3.98373</td><td style=\"text-align: right;\">              2.38496</td><td style=\"text-align: right;\">              5.8426 </td><td style=\"text-align: right;\">              3.49254</td><td style=\"text-align: right;\">             0.692245</td><td style=\"text-align: right;\">             0.974739</td><td style=\"text-align: right;\">        14.4577 </td><td style=\"text-align: right;\">         3.47826</td><td style=\"text-align: right;\">          -0.162861</td><td style=\"text-align: right;\">        17.0724 </td><td style=\"text-align: right;\">         4.34783</td><td style=\"text-align: right;\">           0.88792 </td><td style=\"text-align: right;\">        6.31795</td><td style=\"text-align: right;\">        2.97005</td><td style=\"text-align: right;\">      2.94832 </td><td style=\"text-align: right;\">        2.08254</td><td style=\"text-align: right;\">     -0.129366</td><td style=\"text-align: right;\">            0.433497</td><td style=\"text-align: right;\">        3.176  </td><td style=\"text-align: right;\">       3.98454 </td><td style=\"text-align: right;\">              1.20969</td><td style=\"text-align: right;\">              3.93225</td><td style=\"text-align: right;\">              1.85486</td><td style=\"text-align: right;\">             0.549243</td><td style=\"text-align: right;\">         7460.57</td><td style=\"text-align: right;\">              1.84225</td><td style=\"text-align: right;\">             0.263179</td><td style=\"text-align: right;\">              1.83206</td><td style=\"text-align: right;\">             0.842173</td><td style=\"text-align: right;\">              6.10733</td><td style=\"text-align: right;\">              2.84451</td><td style=\"text-align: right;\">              3.85575</td><td style=\"text-align: right;\">              1.84755</td><td style=\"text-align: right;\">              9.36457</td><td style=\"text-align: right;\">              4.36158</td><td style=\"text-align: right;\">             3.8769 </td><td style=\"text-align: right;\">             4.36158</td><td style=\"text-align: right;\">              4.68382</td><td style=\"text-align: right;\">              4.89541</td><td style=\"text-align: right;\">             3.25295</td><td style=\"text-align: right;\">            3.40059 </td><td style=\"text-align: right;\">              0.384531</td><td style=\"text-align: right;\">        236.667  </td><td style=\"text-align: right;\">              0.682768</td><td style=\"text-align: right;\">               2.08994</td><td style=\"text-align: right;\">              0.994806</td><td style=\"text-align: right;\">          7.89979</td><td style=\"text-align: right;\">          3.57143</td><td style=\"text-align: right;\">         2.95775</td><td style=\"text-align: right;\">          4.28571</td><td style=\"text-align: right;\">        6.27592</td><td style=\"text-align: right;\">        3.18005</td><td style=\"text-align: right;\">      2.57582 </td><td style=\"text-align: right;\">        2.45415</td><td style=\"text-align: right;\">        2.08254</td><td style=\"text-align: right;\">     -0.16081 </td><td style=\"text-align: right;\">        1.3985 </td><td style=\"text-align: right;\">              3.32566</td><td style=\"text-align: right;\">              1.68311</td><td style=\"text-align: right;\">             0.478846</td><td style=\"text-align: right;\">         7372.8 </td><td style=\"text-align: right;\">              1.37668</td><td style=\"text-align: right;\">             0.229447</td><td style=\"text-align: right;\">              1.41654</td><td style=\"text-align: right;\">             0.73423 </td><td style=\"text-align: right;\">              2.67596</td><td style=\"text-align: right;\">             0.457231</td><td style=\"text-align: right;\">              3.63742</td><td style=\"text-align: right;\">              2.00779 </td><td style=\"text-align: right;\">            0.34372 </td><td style=\"text-align: right;\">              1.74293</td><td style=\"text-align: right;\">              0.962066</td><td style=\"text-align: right;\">              1.84755</td><td style=\"text-align: right;\">              8.50209</td><td style=\"text-align: right;\">              4.10314</td><td style=\"text-align: right;\">             3.6136 </td><td style=\"text-align: right;\">             4.10314</td><td style=\"text-align: right;\">              4.44622</td><td style=\"text-align: right;\">              4.67888</td><td style=\"text-align: right;\">             3.0261 </td><td style=\"text-align: right;\">            3.5197  </td><td style=\"text-align: right;\">             0.457231</td><td style=\"text-align: right;\">              0.411922</td><td style=\"text-align: right;\">              0.304719</td><td style=\"text-align: right;\">        236.667  </td><td style=\"text-align: right;\">              0.682768</td><td style=\"text-align: right;\">               0.422625</td><td style=\"text-align: right;\">        477.333  </td><td style=\"text-align: right;\">        158.944  </td><td style=\"text-align: right;\">               1.85638</td><td style=\"text-align: right;\">              0.994806</td><td style=\"text-align: right;\">               0.611197</td><td style=\"text-align: right;\">              1.13581 </td><td style=\"text-align: right;\">          7.85683</td><td style=\"text-align: right;\">          3.83333</td><td style=\"text-align: right;\">          4.33333</td><td style=\"text-align: right;\">          25.8823 </td><td style=\"text-align: right;\">        8.64138</td><td style=\"text-align: right;\">        5.39687</td><td style=\"text-align: right;\">        2.01419</td><td style=\"text-align: right;\">       2.42437 </td><td style=\"text-align: right;\">          91.6371</td><td style=\"text-align: right;\">              3.69711</td><td style=\"text-align: right;\">              20.2013</td><td style=\"text-align: right;\">              1.1821  </td><td style=\"text-align: right;\">              0.595583</td><td style=\"text-align: right;\">               1.73504</td><td style=\"text-align: right;\">              0.452471</td><td style=\"text-align: right;\">              0.665167</td><td style=\"text-align: right;\">         237.333 </td><td style=\"text-align: right;\">               3.28755</td><td style=\"text-align: right;\">               2.1136 </td><td style=\"text-align: right;\">             0.053917</td><td style=\"text-align: right;\">         479.333 </td><td style=\"text-align: right;\">               1.65898</td><td style=\"text-align: right;\">            -0.041115</td><td style=\"text-align: right;\">        159.111  </td><td style=\"text-align: right;\">               4.81961</td><td style=\"text-align: right;\">             0.131981</td><td style=\"text-align: right;\">              0.931305</td><td style=\"text-align: right;\">       13.909  </td><td style=\"text-align: right;\">        4.23599</td><td style=\"text-align: right;\">       4.23599</td><td style=\"text-align: right;\">        4.65836</td><td style=\"text-align: right;\">       0       </td><td style=\"text-align: right;\">     -0.005567</td><td style=\"text-align: right;\">      -0.099641</td><td style=\"text-align: right;\">     -0.131858</td><td style=\"text-align: right;\">       1.07747 </td><td style=\"text-align: right;\">         4.39484</td><td style=\"text-align: right;\">        2.32503</td><td style=\"text-align: right;\">       1.47953 </td><td style=\"text-align: right;\">         4.79626</td><td style=\"text-align: right;\">          15.5648</td><td style=\"text-align: right;\">             1.74455</td><td style=\"text-align: right;\">              2.34957</td><td style=\"text-align: right;\">              2.87613</td><td style=\"text-align: right;\">            1.49395 </td><td style=\"text-align: right;\">            0.561398</td><td style=\"text-align: right;\">            0.835931</td><td style=\"text-align: right;\">              1.37815</td><td style=\"text-align: right;\">            0.561398</td><td style=\"text-align: right;\">              2.5842 </td><td style=\"text-align: right;\">             0.390433</td><td style=\"text-align: right;\">             1.98891</td><td style=\"text-align: right;\">             2.67498</td><td style=\"text-align: right;\">              4.41007</td><td style=\"text-align: right;\">            0.561398</td><td style=\"text-align: right;\">              2.49877</td><td style=\"text-align: right;\">              0.128495</td><td style=\"text-align: right;\">              0.189239</td><td style=\"text-align: right;\">              0.295493</td><td style=\"text-align: right;\">              0.809515</td><td style=\"text-align: right;\">              0.43477 </td><td style=\"text-align: right;\">             0.29764 </td><td style=\"text-align: right;\">          2.7931 </td><td style=\"text-align: right;\">         2.63231</td><td style=\"text-align: right;\">        1.93333 </td><td style=\"text-align: right;\">               4</td><td style=\"text-align: right;\">              7.7743 </td><td style=\"text-align: right;\">          4.2069 </td><td style=\"text-align: right;\">        1.06216 </td></tr>\n",
              "<tr><td>A010_BBcpd15_(guanidinothiazole_der.mol_mol_10                                   </td><td style=\"text-align: right;\">       16.6088</td><td style=\"text-align: right;\">      10.2865 </td><td style=\"text-align: right;\">      4.00933</td><td style=\"text-align: right;\">          14.3479 </td><td style=\"text-align: right;\">  -0.00906919</td><td style=\"text-align: right;\">      0.114684</td><td style=\"text-align: right;\">        17.9532</td><td style=\"text-align: right;\">        4.71769</td><td style=\"text-align: right;\">        15.7426</td><td style=\"text-align: right;\">        8.47062</td><td style=\"text-align: right;\">       1.0747  </td><td style=\"text-align: right;\">         53.4133</td><td style=\"text-align: right;\">         13.2607</td><td style=\"text-align: right;\">        13.2607</td><td style=\"text-align: right;\">        95.9002</td><td style=\"text-align: right;\">             6.86232</td><td style=\"text-align: right;\">             1.92   </td><td style=\"text-align: right;\">            1.60054</td><td style=\"text-align: right;\">            1.92   </td><td style=\"text-align: right;\">             2.17371</td><td style=\"text-align: right;\">             2.34688</td><td style=\"text-align: right;\">           1.08187 </td><td style=\"text-align: right;\">              75</td><td style=\"text-align: right;\">             156</td><td style=\"text-align: right;\">           46.5 </td><td style=\"text-align: right;\">             2.75649</td><td style=\"text-align: right;\">            0.822369</td><td style=\"text-align: right;\">            11.2612 </td><td style=\"text-align: right;\">            3.77085</td><td style=\"text-align: right;\">            0.387213</td><td style=\"text-align: right;\">             18.1632</td><td style=\"text-align: right;\">             4.73498</td><td style=\"text-align: right;\">            4.73498</td><td style=\"text-align: right;\">            9.80971</td><td style=\"text-align: right;\">              2.41355</td><td style=\"text-align: right;\">             1.54193 </td><td style=\"text-align: right;\">             0.965513</td><td style=\"text-align: right;\">              4.34239</td><td style=\"text-align: right;\">              2.83424</td><td style=\"text-align: right;\">              6.35381</td><td style=\"text-align: right;\">              4.13325</td><td style=\"text-align: right;\">             1.0417  </td><td style=\"text-align: right;\">             1.41355 </td><td style=\"text-align: right;\">        10.4097 </td><td style=\"text-align: right;\">         3.12   </td><td style=\"text-align: right;\">          -1.60341 </td><td style=\"text-align: right;\">        11.4268 </td><td style=\"text-align: right;\">         3.52   </td><td style=\"text-align: right;\">          -0.390443</td><td style=\"text-align: right;\">        5.44545</td><td style=\"text-align: right;\">        2.83534</td><td style=\"text-align: right;\">      2.75975 </td><td style=\"text-align: right;\">        1.88027</td><td style=\"text-align: right;\">     -0.117945</td><td style=\"text-align: right;\">            0.436731</td><td style=\"text-align: right;\">        3.38599</td><td style=\"text-align: right;\">       3.65094 </td><td style=\"text-align: right;\">              1.302  </td><td style=\"text-align: right;\">              3.65775</td><td style=\"text-align: right;\">              2.1    </td><td style=\"text-align: right;\">             0.580511</td><td style=\"text-align: right;\">          811.2 </td><td style=\"text-align: right;\">              1.39546</td><td style=\"text-align: right;\">             0.279091</td><td style=\"text-align: right;\">              1.65824</td><td style=\"text-align: right;\">             0.936308</td><td style=\"text-align: right;\">              5.26481</td><td style=\"text-align: right;\">              3.02474</td><td style=\"text-align: right;\">              3.41704</td><td style=\"text-align: right;\">              1.64281</td><td style=\"text-align: right;\">              8.49163</td><td style=\"text-align: right;\">              4.87862</td><td style=\"text-align: right;\">             4.82797</td><td style=\"text-align: right;\">             4.87862</td><td style=\"text-align: right;\">              4.92458</td><td style=\"text-align: right;\">              4.96594</td><td style=\"text-align: right;\">             4.77287</td><td style=\"text-align: right;\">            0.563277</td><td style=\"text-align: right;\">              0.445869</td><td style=\"text-align: right;\">          6.5    </td><td style=\"text-align: right;\">              0.847406</td><td style=\"text-align: right;\">               2.43032</td><td style=\"text-align: right;\">              1.25717 </td><td style=\"text-align: right;\">          5.92499</td><td style=\"text-align: right;\">          3.2    </td><td style=\"text-align: right;\">         2.85714</td><td style=\"text-align: right;\">          3.6    </td><td style=\"text-align: right;\">        5.44545</td><td style=\"text-align: right;\">        2.83534</td><td style=\"text-align: right;\">      2.75975 </td><td style=\"text-align: right;\">        1.88027</td><td style=\"text-align: right;\">        1.88027</td><td style=\"text-align: right;\">     -0.117945</td><td style=\"text-align: right;\">       -3.1242 </td><td style=\"text-align: right;\">              3.65775</td><td style=\"text-align: right;\">              2.1    </td><td style=\"text-align: right;\">             0.580511</td><td style=\"text-align: right;\">          811.2 </td><td style=\"text-align: right;\">              1.39546</td><td style=\"text-align: right;\">             0.279091</td><td style=\"text-align: right;\">              1.65824</td><td style=\"text-align: right;\">             0.936308</td><td style=\"text-align: right;\">              3.02474</td><td style=\"text-align: right;\">             0.153838</td><td style=\"text-align: right;\">              3.41704</td><td style=\"text-align: right;\">              0.41123 </td><td style=\"text-align: right;\">            0.050047</td><td style=\"text-align: right;\">              1.64281</td><td style=\"text-align: right;\">              0.197707</td><td style=\"text-align: right;\">              1.64281</td><td style=\"text-align: right;\">              8.49163</td><td style=\"text-align: right;\">              4.87862</td><td style=\"text-align: right;\">             4.82797</td><td style=\"text-align: right;\">             4.87862</td><td style=\"text-align: right;\">              4.92458</td><td style=\"text-align: right;\">              4.96594</td><td style=\"text-align: right;\">             4.77287</td><td style=\"text-align: right;\">            0.563277</td><td style=\"text-align: right;\">             0.153838</td><td style=\"text-align: right;\">              0.570872</td><td style=\"text-align: right;\">              0.445869</td><td style=\"text-align: right;\">          6.5    </td><td style=\"text-align: right;\">              0.847406</td><td style=\"text-align: right;\">               0.267053</td><td style=\"text-align: right;\">         15      </td><td style=\"text-align: right;\">          5.72222</td><td style=\"text-align: right;\">               2.43032</td><td style=\"text-align: right;\">              1.25717 </td><td style=\"text-align: right;\">               0.360199</td><td style=\"text-align: right;\">              1.39835 </td><td style=\"text-align: right;\">          5.92499</td><td style=\"text-align: right;\">          3.2    </td><td style=\"text-align: right;\">          3.6    </td><td style=\"text-align: right;\">           8.9825 </td><td style=\"text-align: right;\">        7.9051 </td><td style=\"text-align: right;\">        5.31087</td><td style=\"text-align: right;\">        2.24334</td><td style=\"text-align: right;\">       1.45233 </td><td style=\"text-align: right;\">          76.7403</td><td style=\"text-align: right;\">              2.98263</td><td style=\"text-align: right;\">              17.8555</td><td style=\"text-align: right;\">              1.5558  </td><td style=\"text-align: right;\">              0.819195</td><td style=\"text-align: right;\">               2.2725 </td><td style=\"text-align: right;\">              0.598006</td><td style=\"text-align: right;\">              0.874531</td><td style=\"text-align: right;\">          21.8333</td><td style=\"text-align: right;\">               4.18978</td><td style=\"text-align: right;\">               2.80678</td><td style=\"text-align: right;\">            -0.041286</td><td style=\"text-align: right;\">          45.5   </td><td style=\"text-align: right;\">               2.20926</td><td style=\"text-align: right;\">            -0.087276</td><td style=\"text-align: right;\">         13.9444 </td><td style=\"text-align: right;\">               6.11545</td><td style=\"text-align: right;\">             0.096925</td><td style=\"text-align: right;\">              1.62049 </td><td style=\"text-align: right;\">        9.53883</td><td style=\"text-align: right;\">        3.63759</td><td style=\"text-align: right;\">       3.63759</td><td style=\"text-align: right;\">        3.56091</td><td style=\"text-align: right;\">       0.152816</td><td style=\"text-align: right;\">     -0.006995</td><td style=\"text-align: right;\">       0.096268</td><td style=\"text-align: right;\">     -0.079692</td><td style=\"text-align: right;\">       0.489687</td><td style=\"text-align: right;\">         4.91016</td><td style=\"text-align: right;\">        2.72851</td><td style=\"text-align: right;\">      -0.584857</td><td style=\"text-align: right;\">         4.69254</td><td style=\"text-align: right;\">          10.3172</td><td style=\"text-align: right;\">             1.61077</td><td style=\"text-align: right;\">              2.10302</td><td style=\"text-align: right;\">              2.5407 </td><td style=\"text-align: right;\">            1.54066 </td><td style=\"text-align: right;\">            1.37798 </td><td style=\"text-align: right;\">            0.774406</td><td style=\"text-align: right;\">              1.22149</td><td style=\"text-align: right;\">            1.37798 </td><td style=\"text-align: right;\">              2.43655</td><td style=\"text-align: right;\">             0.387213</td><td style=\"text-align: right;\">             1.98253</td><td style=\"text-align: right;\">             2.59801</td><td style=\"text-align: right;\">              4.0979 </td><td style=\"text-align: right;\">            1.37798 </td><td style=\"text-align: right;\">              4.84808</td><td style=\"text-align: right;\">              0.158663</td><td style=\"text-align: right;\">              0.240911</td><td style=\"text-align: right;\">              0.339312</td><td style=\"text-align: right;\">              0.683145</td><td style=\"text-align: right;\">              0.514848</td><td style=\"text-align: right;\">             0.378902</td><td style=\"text-align: right;\">          2.35714</td><td style=\"text-align: right;\">         2.24366</td><td style=\"text-align: right;\">        5.41223 </td><td style=\"text-align: right;\">               3</td><td style=\"text-align: right;\">              4.14328</td><td style=\"text-align: right;\">          3.21428</td><td style=\"text-align: right;\">        0.80551 </td></tr>\n",
              "</tbody>\n",
              "</table>"
            ]
          },
          "metadata": {},
          "output_type": "display_data"
        },
        {
          "data": {
            "text/plain": []
          },
          "execution_count": 50,
          "metadata": {},
          "output_type": "execute_result"
        }
      ],
      "source": [
        "df = h2o.import_file('BBB_IB.csv')\n",
        "df.head()"
      ]
    },
    {
      "cell_type": "code",
      "execution_count": null,
      "metadata": {
        "colab": {
          "base_uri": "https://localhost:8080/"
        },
        "id": "WzVl2sWgnW79",
        "outputId": "14c690ef-dd34-478e-f20f-2a9a8bde0561"
      },
      "outputs": [
        {
          "name": "stdout",
          "output_type": "stream",
          "text": [
            "Size of training set: 580 rows and 202 columns\n"
          ]
        }
      ],
      "source": [
        "print(f'Size of training set: {df.shape[0]} rows and {df.shape[1]} columns')"
      ]
    },
    {
      "cell_type": "code",
      "execution_count": null,
      "metadata": {
        "colab": {
          "base_uri": "https://localhost:8080/",
          "height": 269
        },
        "id": "qZN4hHUQnbp2",
        "outputId": "ea5d9708-494e-4ff0-b9d4-3c0f23895612"
      },
      "outputs": [
        {
          "name": "stdout",
          "output_type": "stream",
          "text": [
            "AutoML progress: |█\n",
            "01:30:37.688: AutoML: XGBoost is not available; skipping it.\n",
            "01:30:37.688: Step 'best_of_family_xgboost' not defined in provider 'StackedEnsemble': skipping it.\n",
            "01:30:37.688: Step 'all_xgboost' not defined in provider 'StackedEnsemble': skipping it.\n",
            "\n",
            "██████████████████████████████████████████████████████████████| (done) 100%\n"
          ]
        },
        {
          "data": {
            "text/html": [
              "<table>\n",
              "<thead>\n",
              "<tr><th>model_id                                              </th><th style=\"text-align: right;\">  mean_residual_deviance</th><th style=\"text-align: right;\">   rmse</th><th style=\"text-align: right;\">    mse</th><th style=\"text-align: right;\">     mae</th><th style=\"text-align: right;\">  rmsle</th></tr>\n",
              "</thead>\n",
              "<tbody>\n",
              "<tr><td>GBM_5_AutoML_7_20220523_13037                         </td><td style=\"text-align: right;\">                 1.6416 </td><td style=\"text-align: right;\">1.28125</td><td style=\"text-align: right;\">1.6416 </td><td style=\"text-align: right;\">0.590855</td><td style=\"text-align: right;\">    nan</td></tr>\n",
              "<tr><td>XRT_1_AutoML_7_20220523_13037                         </td><td style=\"text-align: right;\">                 1.72218</td><td style=\"text-align: right;\">1.31232</td><td style=\"text-align: right;\">1.72218</td><td style=\"text-align: right;\">0.584524</td><td style=\"text-align: right;\">    nan</td></tr>\n",
              "<tr><td>StackedEnsemble_BestOfFamily_3_AutoML_7_20220523_13037</td><td style=\"text-align: right;\">                 1.79934</td><td style=\"text-align: right;\">1.34139</td><td style=\"text-align: right;\">1.79934</td><td style=\"text-align: right;\">0.631896</td><td style=\"text-align: right;\">    nan</td></tr>\n",
              "<tr><td>StackedEnsemble_AllModels_2_AutoML_7_20220523_13037   </td><td style=\"text-align: right;\">                 1.83895</td><td style=\"text-align: right;\">1.35608</td><td style=\"text-align: right;\">1.83895</td><td style=\"text-align: right;\">0.628133</td><td style=\"text-align: right;\">    nan</td></tr>\n",
              "<tr><td>StackedEnsemble_BestOfFamily_2_AutoML_7_20220523_13037</td><td style=\"text-align: right;\">                 1.84559</td><td style=\"text-align: right;\">1.35853</td><td style=\"text-align: right;\">1.84559</td><td style=\"text-align: right;\">0.648765</td><td style=\"text-align: right;\">    nan</td></tr>\n",
              "<tr><td>StackedEnsemble_AllModels_3_AutoML_7_20220523_13037   </td><td style=\"text-align: right;\">                 1.89552</td><td style=\"text-align: right;\">1.37678</td><td style=\"text-align: right;\">1.89552</td><td style=\"text-align: right;\">0.634999</td><td style=\"text-align: right;\">    nan</td></tr>\n",
              "<tr><td>DRF_1_AutoML_7_20220523_13037                         </td><td style=\"text-align: right;\">                 1.93904</td><td style=\"text-align: right;\">1.39249</td><td style=\"text-align: right;\">1.93904</td><td style=\"text-align: right;\">0.605409</td><td style=\"text-align: right;\">    nan</td></tr>\n",
              "<tr><td>StackedEnsemble_AllModels_1_AutoML_7_20220523_13037   </td><td style=\"text-align: right;\">                 1.97931</td><td style=\"text-align: right;\">1.40688</td><td style=\"text-align: right;\">1.97931</td><td style=\"text-align: right;\">0.659227</td><td style=\"text-align: right;\">    nan</td></tr>\n",
              "<tr><td>StackedEnsemble_BestOfFamily_4_AutoML_7_20220523_13037</td><td style=\"text-align: right;\">                 2.01473</td><td style=\"text-align: right;\">1.41941</td><td style=\"text-align: right;\">2.01473</td><td style=\"text-align: right;\">0.644617</td><td style=\"text-align: right;\">    nan</td></tr>\n",
              "<tr><td>GBM_grid_1_AutoML_7_20220523_13037_model_2            </td><td style=\"text-align: right;\">                 2.32765</td><td style=\"text-align: right;\">1.52566</td><td style=\"text-align: right;\">2.32765</td><td style=\"text-align: right;\">0.68682 </td><td style=\"text-align: right;\">    nan</td></tr>\n",
              "</tbody>\n",
              "</table>"
            ]
          },
          "metadata": {},
          "output_type": "display_data"
        },
        {
          "data": {
            "text/plain": []
          },
          "execution_count": 53,
          "metadata": {},
          "output_type": "execute_result"
        }
      ],
      "source": [
        "splits = df.split_frame(ratios=[0.8],seed=1)\n",
        "train = splits[0]\n",
        "test = splits[1]\n",
        "y = \"log BBB\" \n",
        "x = df.columns \n",
        "x.remove(y) \n",
        "x.remove(\"name\")\n",
        "aml = H2OAutoML(max_runtime_secs=120, seed=1)\n",
        "aml.train(x=x,y=y, training_frame=train)\n",
        "\n",
        "lb = aml.leaderboard\n",
        "lb.head()\n"
      ]
    },
    {
      "cell_type": "code",
      "execution_count": null,
      "metadata": {
        "colab": {
          "base_uri": "https://localhost:8080/"
        },
        "id": "gVkZXqnUnrim",
        "outputId": "c187f68b-75a7-486f-b2de-8fb7f5b75178"
      },
      "outputs": [
        {
          "name": "stderr",
          "output_type": "stream",
          "text": [
            "C:\\ProgramData\\Anaconda3\\lib\\site-packages\\h2o\\estimators\\stackedensemble.py:925: H2ODeprecationWarning: The usage of stacked_ensemble.metalearner()['name'] will be deprecated. Metalearner now returns the metalearner object. If you need to get the 'name' please use stacked_ensemble.metalearner().model_id\n",
            "  warnings.warn(\n"
          ]
        }
      ],
      "source": [
        "# Get model ids for all models in the AutoML Leaderboard\n",
        "model_ids = list(aml.leaderboard['model_id'].as_data_frame().iloc[:,0])\n",
        "# Get the \"All Models\" Stacked Ensemble model\n",
        "se = h2o.get_model([mid for mid in model_ids if \"StackedEnsemble_AllModels\" in mid][0])\n",
        "# Get the Stacked Ensemble metalearner model\n",
        "metalearner = h2o.get_model(se.metalearner()['name'])"
      ]
    },
    {
      "cell_type": "code",
      "execution_count": null,
      "metadata": {
        "id": "4cBADObWWsiD",
        "outputId": "39425747-0b04-4b1c-c169-409c8677e19e"
      },
      "outputs": [
        {
          "name": "stdout",
          "output_type": "stream",
          "text": [
            "Model Details\n",
            "=============\n",
            "H2OGeneralizedLinearEstimator :  Generalized Linear Modeling\n",
            "Model Key:  metalearner_AUTO_StackedEnsemble_AllModels_2_AutoML_7_20220523_13037\n",
            "\n",
            "\n",
            "GLM Model: summary\n"
          ]
        },
        {
          "data": {
            "text/html": [
              "<div>\n",
              "<style scoped>\n",
              "    .dataframe tbody tr th:only-of-type {\n",
              "        vertical-align: middle;\n",
              "    }\n",
              "\n",
              "    .dataframe tbody tr th {\n",
              "        vertical-align: top;\n",
              "    }\n",
              "\n",
              "    .dataframe thead th {\n",
              "        text-align: right;\n",
              "    }\n",
              "</style>\n",
              "<table border=\"1\" class=\"dataframe\">\n",
              "  <thead>\n",
              "    <tr style=\"text-align: right;\">\n",
              "      <th></th>\n",
              "      <th></th>\n",
              "      <th>family</th>\n",
              "      <th>link</th>\n",
              "      <th>regularization</th>\n",
              "      <th>number_of_predictors_total</th>\n",
              "      <th>number_of_active_predictors</th>\n",
              "      <th>number_of_iterations</th>\n",
              "      <th>training_frame</th>\n",
              "    </tr>\n",
              "  </thead>\n",
              "  <tbody>\n",
              "    <tr>\n",
              "      <th>0</th>\n",
              "      <td></td>\n",
              "      <td>gaussian</td>\n",
              "      <td>identity</td>\n",
              "      <td>Elastic Net (alpha = 0.5, lambda = 0.006581 )</td>\n",
              "      <td>9</td>\n",
              "      <td>4</td>\n",
              "      <td>1</td>\n",
              "      <td>levelone_training_StackedEnsemble_AllModels_2_AutoML_7_20220523_13037</td>\n",
              "    </tr>\n",
              "  </tbody>\n",
              "</table>\n",
              "</div>"
            ],
            "text/plain": [
              "       family      link                                 regularization  \\\n",
              "0    gaussian  identity  Elastic Net (alpha = 0.5, lambda = 0.006581 )   \n",
              "\n",
              "   number_of_predictors_total number_of_active_predictors  \\\n",
              "0                           9                           4   \n",
              "\n",
              "   number_of_iterations  \\\n",
              "0                     1   \n",
              "\n",
              "                                                          training_frame  \n",
              "0  levelone_training_StackedEnsemble_AllModels_2_AutoML_7_20220523_13037  "
            ]
          },
          "metadata": {},
          "output_type": "display_data"
        },
        {
          "name": "stdout",
          "output_type": "stream",
          "text": [
            "\n",
            "\n",
            "ModelMetricsRegressionGLM: glm\n",
            "** Reported on train data. **\n",
            "\n",
            "MSE: 1.4506656209322957\n",
            "RMSE: 1.204435810216674\n",
            "MAE: 0.5987592123543237\n",
            "RMSLE: NaN\n",
            "R^2: 0.7327735488805475\n",
            "Mean Residual Deviance: 1.4506656209322957\n",
            "Null degrees of freedom: 455\n",
            "Residual degrees of freedom: 451\n",
            "Null deviance: 2475.441784950506\n",
            "Residual deviance: 661.5035231451268\n",
            "AIC: 1475.7142022920486\n",
            "\n",
            "ModelMetricsRegressionGLM: glm\n",
            "** Reported on cross-validation data. **\n",
            "\n",
            "MSE: 1.8389455848299487\n",
            "RMSE: 1.356077278339973\n",
            "MAE: 0.6281333672984539\n",
            "RMSLE: NaN\n",
            "R^2: 0.6612486741637422\n",
            "Mean Residual Deviance: 1.8389455848299487\n",
            "Null degrees of freedom: 455\n",
            "Residual degrees of freedom: 452\n",
            "Null deviance: 2489.7233976420594\n",
            "Residual deviance: 838.5591866824566\n",
            "AIC: 1581.8636564550245\n",
            "\n",
            "Cross-Validation Metrics Summary: \n"
          ]
        },
        {
          "data": {
            "text/html": [
              "<div>\n",
              "<style scoped>\n",
              "    .dataframe tbody tr th:only-of-type {\n",
              "        vertical-align: middle;\n",
              "    }\n",
              "\n",
              "    .dataframe tbody tr th {\n",
              "        vertical-align: top;\n",
              "    }\n",
              "\n",
              "    .dataframe thead th {\n",
              "        text-align: right;\n",
              "    }\n",
              "</style>\n",
              "<table border=\"1\" class=\"dataframe\">\n",
              "  <thead>\n",
              "    <tr style=\"text-align: right;\">\n",
              "      <th></th>\n",
              "      <th></th>\n",
              "      <th>mean</th>\n",
              "      <th>sd</th>\n",
              "      <th>cv_1_valid</th>\n",
              "      <th>cv_2_valid</th>\n",
              "      <th>cv_3_valid</th>\n",
              "      <th>cv_4_valid</th>\n",
              "      <th>cv_5_valid</th>\n",
              "    </tr>\n",
              "  </thead>\n",
              "  <tbody>\n",
              "    <tr>\n",
              "      <th>0</th>\n",
              "      <td>mae</td>\n",
              "      <td>0.627146</td>\n",
              "      <td>0.116677</td>\n",
              "      <td>0.681424</td>\n",
              "      <td>0.524431</td>\n",
              "      <td>0.717284</td>\n",
              "      <td>0.479876</td>\n",
              "      <td>0.732714</td>\n",
              "    </tr>\n",
              "    <tr>\n",
              "      <th>1</th>\n",
              "      <td>mean_residual_deviance</td>\n",
              "      <td>1.823246</td>\n",
              "      <td>1.320231</td>\n",
              "      <td>1.945699</td>\n",
              "      <td>0.838291</td>\n",
              "      <td>2.165706</td>\n",
              "      <td>0.389987</td>\n",
              "      <td>3.776549</td>\n",
              "    </tr>\n",
              "    <tr>\n",
              "      <th>2</th>\n",
              "      <td>mse</td>\n",
              "      <td>1.823246</td>\n",
              "      <td>1.320231</td>\n",
              "      <td>1.945699</td>\n",
              "      <td>0.838291</td>\n",
              "      <td>2.165706</td>\n",
              "      <td>0.389987</td>\n",
              "      <td>3.776549</td>\n",
              "    </tr>\n",
              "    <tr>\n",
              "      <th>3</th>\n",
              "      <td>null_deviance</td>\n",
              "      <td>497.944670</td>\n",
              "      <td>555.055700</td>\n",
              "      <td>269.906280</td>\n",
              "      <td>60.304832</td>\n",
              "      <td>760.298900</td>\n",
              "      <td>52.052666</td>\n",
              "      <td>1347.160800</td>\n",
              "    </tr>\n",
              "    <tr>\n",
              "      <th>4</th>\n",
              "      <td>r2</td>\n",
              "      <td>0.299870</td>\n",
              "      <td>0.558890</td>\n",
              "      <td>0.324993</td>\n",
              "      <td>-0.626483</td>\n",
              "      <td>0.747430</td>\n",
              "      <td>0.317596</td>\n",
              "      <td>0.735815</td>\n",
              "    </tr>\n",
              "    <tr>\n",
              "      <th>5</th>\n",
              "      <td>residual_deviance</td>\n",
              "      <td>167.711840</td>\n",
              "      <td>122.303860</td>\n",
              "      <td>180.949970</td>\n",
              "      <td>83.829120</td>\n",
              "      <td>190.582140</td>\n",
              "      <td>31.978909</td>\n",
              "      <td>351.219060</td>\n",
              "    </tr>\n",
              "    <tr>\n",
              "      <th>6</th>\n",
              "      <td>rmse</td>\n",
              "      <td>1.269985</td>\n",
              "      <td>0.512818</td>\n",
              "      <td>1.394883</td>\n",
              "      <td>0.915582</td>\n",
              "      <td>1.471634</td>\n",
              "      <td>0.624489</td>\n",
              "      <td>1.943334</td>\n",
              "    </tr>\n",
              "    <tr>\n",
              "      <th>7</th>\n",
              "      <td>rmsle</td>\n",
              "      <td>NaN</td>\n",
              "      <td>0.000000</td>\n",
              "      <td>NaN</td>\n",
              "      <td>NaN</td>\n",
              "      <td>NaN</td>\n",
              "      <td>NaN</td>\n",
              "      <td>NaN</td>\n",
              "    </tr>\n",
              "  </tbody>\n",
              "</table>\n",
              "</div>"
            ],
            "text/plain": [
              "                                 mean          sd  cv_1_valid  cv_2_valid  \\\n",
              "0                     mae    0.627146    0.116677    0.681424    0.524431   \n",
              "1  mean_residual_deviance    1.823246    1.320231    1.945699    0.838291   \n",
              "2                     mse    1.823246    1.320231    1.945699    0.838291   \n",
              "3           null_deviance  497.944670  555.055700  269.906280   60.304832   \n",
              "4                      r2    0.299870    0.558890    0.324993   -0.626483   \n",
              "5       residual_deviance  167.711840  122.303860  180.949970   83.829120   \n",
              "6                    rmse    1.269985    0.512818    1.394883    0.915582   \n",
              "7                   rmsle         NaN    0.000000         NaN         NaN   \n",
              "\n",
              "   cv_3_valid  cv_4_valid   cv_5_valid  \n",
              "0    0.717284    0.479876     0.732714  \n",
              "1    2.165706    0.389987     3.776549  \n",
              "2    2.165706    0.389987     3.776549  \n",
              "3  760.298900   52.052666  1347.160800  \n",
              "4    0.747430    0.317596     0.735815  \n",
              "5  190.582140   31.978909   351.219060  \n",
              "6    1.471634    0.624489     1.943334  \n",
              "7         NaN         NaN          NaN  "
            ]
          },
          "metadata": {},
          "output_type": "display_data"
        },
        {
          "name": "stdout",
          "output_type": "stream",
          "text": [
            "\n",
            "Scoring History: \n"
          ]
        },
        {
          "data": {
            "text/html": [
              "<div>\n",
              "<style scoped>\n",
              "    .dataframe tbody tr th:only-of-type {\n",
              "        vertical-align: middle;\n",
              "    }\n",
              "\n",
              "    .dataframe tbody tr th {\n",
              "        vertical-align: top;\n",
              "    }\n",
              "\n",
              "    .dataframe thead th {\n",
              "        text-align: right;\n",
              "    }\n",
              "</style>\n",
              "<table border=\"1\" class=\"dataframe\">\n",
              "  <thead>\n",
              "    <tr style=\"text-align: right;\">\n",
              "      <th></th>\n",
              "      <th></th>\n",
              "      <th>timestamp</th>\n",
              "      <th>duration</th>\n",
              "      <th>iterations</th>\n",
              "      <th>negative_log_likelihood</th>\n",
              "      <th>objective</th>\n",
              "      <th>alpha</th>\n",
              "      <th>lambda</th>\n",
              "      <th>deviance_train</th>\n",
              "      <th>deviance_xval</th>\n",
              "      <th>deviance_se</th>\n",
              "      <th>training_rmse</th>\n",
              "      <th>training_deviance</th>\n",
              "      <th>training_mae</th>\n",
              "      <th>training_r2</th>\n",
              "    </tr>\n",
              "  </thead>\n",
              "  <tbody>\n",
              "    <tr>\n",
              "      <th>0</th>\n",
              "      <td></td>\n",
              "      <td>2022-05-23 01:31:49</td>\n",
              "      <td>0.000 sec</td>\n",
              "      <td>1</td>\n",
              "      <td>330.753613</td>\n",
              "      <td>0.733853</td>\n",
              "      <td>1.0</td>\n",
              "      <td>0.006581</td>\n",
              "      <td>1.450674</td>\n",
              "      <td>1.823246</td>\n",
              "      <td>1.006701</td>\n",
              "      <td>1.204436</td>\n",
              "      <td>1.450666</td>\n",
              "      <td>0.598759</td>\n",
              "      <td>0.732774</td>\n",
              "    </tr>\n",
              "  </tbody>\n",
              "</table>\n",
              "</div>"
            ],
            "text/plain": [
              "               timestamp    duration  iterations  negative_log_likelihood  \\\n",
              "0    2022-05-23 01:31:49   0.000 sec           1               330.753613   \n",
              "\n",
              "   objective  alpha    lambda  deviance_train  deviance_xval  deviance_se  \\\n",
              "0   0.733853    1.0  0.006581        1.450674       1.823246     1.006701   \n",
              "\n",
              "   training_rmse  training_deviance  training_mae  training_r2  \n",
              "0       1.204436           1.450666      0.598759     0.732774  "
            ]
          },
          "metadata": {},
          "output_type": "display_data"
        },
        {
          "name": "stdout",
          "output_type": "stream",
          "text": [
            "\n",
            "Variable Importances: \n"
          ]
        },
        {
          "data": {
            "text/html": [
              "<div>\n",
              "<style scoped>\n",
              "    .dataframe tbody tr th:only-of-type {\n",
              "        vertical-align: middle;\n",
              "    }\n",
              "\n",
              "    .dataframe tbody tr th {\n",
              "        vertical-align: top;\n",
              "    }\n",
              "\n",
              "    .dataframe thead th {\n",
              "        text-align: right;\n",
              "    }\n",
              "</style>\n",
              "<table border=\"1\" class=\"dataframe\">\n",
              "  <thead>\n",
              "    <tr style=\"text-align: right;\">\n",
              "      <th></th>\n",
              "      <th>variable</th>\n",
              "      <th>relative_importance</th>\n",
              "      <th>scaled_importance</th>\n",
              "      <th>percentage</th>\n",
              "    </tr>\n",
              "  </thead>\n",
              "  <tbody>\n",
              "    <tr>\n",
              "      <th>0</th>\n",
              "      <td>GBM_5_AutoML_7_20220523_13037</td>\n",
              "      <td>1.213428</td>\n",
              "      <td>1.000000</td>\n",
              "      <td>0.583397</td>\n",
              "    </tr>\n",
              "    <tr>\n",
              "      <th>1</th>\n",
              "      <td>XRT_1_AutoML_7_20220523_13037</td>\n",
              "      <td>0.513768</td>\n",
              "      <td>0.423402</td>\n",
              "      <td>0.247012</td>\n",
              "    </tr>\n",
              "    <tr>\n",
              "      <th>2</th>\n",
              "      <td>GLM_1_AutoML_7_20220523_13037</td>\n",
              "      <td>0.343476</td>\n",
              "      <td>0.283063</td>\n",
              "      <td>0.165138</td>\n",
              "    </tr>\n",
              "    <tr>\n",
              "      <th>3</th>\n",
              "      <td>GBM_3_AutoML_7_20220523_13037</td>\n",
              "      <td>0.009262</td>\n",
              "      <td>0.007633</td>\n",
              "      <td>0.004453</td>\n",
              "    </tr>\n",
              "    <tr>\n",
              "      <th>4</th>\n",
              "      <td>DRF_1_AutoML_7_20220523_13037</td>\n",
              "      <td>0.000000</td>\n",
              "      <td>0.000000</td>\n",
              "      <td>0.000000</td>\n",
              "    </tr>\n",
              "    <tr>\n",
              "      <th>5</th>\n",
              "      <td>GBM_4_AutoML_7_20220523_13037</td>\n",
              "      <td>0.000000</td>\n",
              "      <td>0.000000</td>\n",
              "      <td>0.000000</td>\n",
              "    </tr>\n",
              "    <tr>\n",
              "      <th>6</th>\n",
              "      <td>GBM_2_AutoML_7_20220523_13037</td>\n",
              "      <td>0.000000</td>\n",
              "      <td>0.000000</td>\n",
              "      <td>0.000000</td>\n",
              "    </tr>\n",
              "    <tr>\n",
              "      <th>7</th>\n",
              "      <td>DeepLearning_1_AutoML_7_20220523_13037</td>\n",
              "      <td>0.000000</td>\n",
              "      <td>0.000000</td>\n",
              "      <td>0.000000</td>\n",
              "    </tr>\n",
              "    <tr>\n",
              "      <th>8</th>\n",
              "      <td>GBM_1_AutoML_7_20220523_13037</td>\n",
              "      <td>0.000000</td>\n",
              "      <td>0.000000</td>\n",
              "      <td>0.000000</td>\n",
              "    </tr>\n",
              "  </tbody>\n",
              "</table>\n",
              "</div>"
            ],
            "text/plain": [
              "                                 variable  relative_importance  \\\n",
              "0           GBM_5_AutoML_7_20220523_13037             1.213428   \n",
              "1           XRT_1_AutoML_7_20220523_13037             0.513768   \n",
              "2           GLM_1_AutoML_7_20220523_13037             0.343476   \n",
              "3           GBM_3_AutoML_7_20220523_13037             0.009262   \n",
              "4           DRF_1_AutoML_7_20220523_13037             0.000000   \n",
              "5           GBM_4_AutoML_7_20220523_13037             0.000000   \n",
              "6           GBM_2_AutoML_7_20220523_13037             0.000000   \n",
              "7  DeepLearning_1_AutoML_7_20220523_13037             0.000000   \n",
              "8           GBM_1_AutoML_7_20220523_13037             0.000000   \n",
              "\n",
              "   scaled_importance  percentage  \n",
              "0           1.000000    0.583397  \n",
              "1           0.423402    0.247012  \n",
              "2           0.283063    0.165138  \n",
              "3           0.007633    0.004453  \n",
              "4           0.000000    0.000000  \n",
              "5           0.000000    0.000000  \n",
              "6           0.000000    0.000000  \n",
              "7           0.000000    0.000000  \n",
              "8           0.000000    0.000000  "
            ]
          },
          "metadata": {},
          "output_type": "display_data"
        },
        {
          "data": {
            "text/plain": []
          },
          "execution_count": 55,
          "metadata": {},
          "output_type": "execute_result"
        }
      ],
      "source": [
        "metalearner"
      ]
    },
    {
      "cell_type": "code",
      "execution_count": null,
      "metadata": {
        "colab": {
          "base_uri": "https://localhost:8080/",
          "height": 630
        },
        "id": "uz4lwJ69n83G",
        "outputId": "fee858eb-7838-4442-fcbf-b034a72d9241"
      },
      "outputs": [
        {
          "data": {
            "text/plain": [
              "<h2o.plot._plot_result._MObject at 0x7f985fa6f110>"
            ]
          },
          "execution_count": 46,
          "metadata": {},
          "output_type": "execute_result"
        },
        {
          "data": {
            "image/png": "[encoded data removed]",
            "text/plain": [
              "<Figure size 1008x720 with 1 Axes>"
            ]
          },
          "metadata": {
            "needs_background": "light"
          },
          "output_type": "display_data"
        }
      ],
      "source": [
        "%matplotlib inline\n",
        "metalearner.std_coef_plot()"
      ]
    },
    {
      "cell_type": "code",
      "execution_count": null,
      "metadata": {
        "colab": {
          "base_uri": "https://localhost:8080/",
          "height": 269
        },
        "id": "b8qPd_MkoEde",
        "outputId": "3427e3a7-15a7-4822-9e72-adcc34c671bd"
      },
      "outputs": [
        {
          "name": "stdout",
          "output_type": "stream",
          "text": [
            "glm prediction progress: |███████████████████████████████████████████████████████| (done) 100%\n"
          ]
        },
        {
          "data": {
            "text/html": [
              "<table>\n",
              "<thead>\n",
              "<tr><th style=\"text-align: right;\">  predict</th></tr>\n",
              "</thead>\n",
              "<tbody>\n",
              "<tr><td style=\"text-align: right;\">  252.913</td></tr>\n",
              "<tr><td style=\"text-align: right;\">  842.034</td></tr>\n",
              "<tr><td style=\"text-align: right;\">  860.414</td></tr>\n",
              "<tr><td style=\"text-align: right;\">  252.152</td></tr>\n",
              "<tr><td style=\"text-align: right;\">  379.783</td></tr>\n",
              "<tr><td style=\"text-align: right;\">  721.827</td></tr>\n",
              "<tr><td style=\"text-align: right;\">  643.219</td></tr>\n",
              "<tr><td style=\"text-align: right;\">  384.601</td></tr>\n",
              "<tr><td style=\"text-align: right;\">  228.147</td></tr>\n",
              "<tr><td style=\"text-align: right;\">  269.839</td></tr>\n",
              "</tbody>\n",
              "</table>"
            ]
          },
          "metadata": {},
          "output_type": "display_data"
        },
        {
          "data": {
            "text/plain": []
          },
          "execution_count": 47,
          "metadata": {},
          "output_type": "execute_result"
        }
      ],
      "source": [
        "pred = aml.predict(test)\n",
        "pred.head()"
      ]
    },
    {
      "cell_type": "code",
      "execution_count": null,
      "metadata": {
        "colab": {
          "base_uri": "https://localhost:8080/",
          "height": 36
        },
        "id": "6XRwaJqyoItn",
        "outputId": "c8a81d42-fa7a-4b67-8b4c-f977a2dea5bf"
      },
      "outputs": [
        {
          "data": {
            "application/vnd.google.colaboratory.intrinsic+json": {
              "type": "string"
            },
            "text/plain": [
              "'/content/malaria_CN_model_bin/GLM_1_AutoML_3_20220404_125356'"
            ]
          },
          "execution_count": 48,
          "metadata": {},
          "output_type": "execute_result"
        }
      ],
      "source": [
        "h2o.save_model(aml.leader, path=\"./malaria_CN_model_bin\")"
      ]
    },
    {
      "cell_type": "markdown",
      "metadata": {
        "id": "nvm8pd2yqKY2"
      },
      "source": [
        "#Using tensorflow"
      ]
    },
    {
      "cell_type": "code",
      "execution_count": null,
      "metadata": {
        "colab": {
          "base_uri": "https://localhost:8080/"
        },
        "id": "SMcafDrBL6TI",
        "outputId": "1b7230f5-fad3-4c60-82db-af91fc751075"
      },
      "outputs": [
        {
          "name": "stdout",
          "output_type": "stream",
          "text": [
            "Requirement already satisfied: tensorflow in /usr/local/lib/python3.7/dist-packages (2.8.0)\n",
            "Collecting tf-estimator-nightly==2.8.0.dev2021122109\n",
            "  Downloading tf_estimator_nightly-2.8.0.dev2021122109-py2.py3-none-any.whl (462 kB)\n",
            "\u001b[K     |████████████████████████████████| 462 kB 4.7 MB/s \n",
            "\u001b[?25hRequirement already satisfied: absl-py>=0.4.0 in /usr/local/lib/python3.7/dist-packages (from tensorflow) (1.0.0)\n",
            "Requirement already satisfied: opt-einsum>=2.3.2 in /usr/local/lib/python3.7/dist-packages (from tensorflow) (3.3.0)\n",
            "Requirement already satisfied: gast>=0.2.1 in /usr/local/lib/python3.7/dist-packages (from tensorflow) (0.5.3)\n",
            "Requirement already satisfied: grpcio<2.0,>=1.24.3 in /usr/local/lib/python3.7/dist-packages (from tensorflow) (1.44.0)\n",
            "Requirement already satisfied: libclang>=9.0.1 in /usr/local/lib/python3.7/dist-packages (from tensorflow) (14.0.1)\n",
            "Requirement already satisfied: google-pasta>=0.1.1 in /usr/local/lib/python3.7/dist-packages (from tensorflow) (0.2.0)\n",
            "Requirement already satisfied: flatbuffers>=1.12 in /usr/local/lib/python3.7/dist-packages (from tensorflow) (2.0)\n",
            "Requirement already satisfied: numpy>=1.20 in /usr/local/lib/python3.7/dist-packages (from tensorflow) (1.21.6)\n",
            "Requirement already satisfied: tensorflow-io-gcs-filesystem>=0.23.1 in /usr/local/lib/python3.7/dist-packages (from tensorflow) (0.25.0)\n",
            "Requirement already satisfied: keras<2.9,>=2.8.0rc0 in /usr/local/lib/python3.7/dist-packages (from tensorflow) (2.8.0)\n",
            "Requirement already satisfied: astunparse>=1.6.0 in /usr/local/lib/python3.7/dist-packages (from tensorflow) (1.6.3)\n",
            "Requirement already satisfied: setuptools in /usr/local/lib/python3.7/dist-packages (from tensorflow) (57.4.0)\n",
            "Requirement already satisfied: h5py>=2.9.0 in /usr/local/lib/python3.7/dist-packages (from tensorflow) (3.1.0)\n",
            "Requirement already satisfied: tensorboard<2.9,>=2.8 in /usr/local/lib/python3.7/dist-packages (from tensorflow) (2.8.0)\n",
            "Requirement already satisfied: keras-preprocessing>=1.1.1 in /usr/local/lib/python3.7/dist-packages (from tensorflow) (1.1.2)\n",
            "Requirement already satisfied: protobuf>=3.9.2 in /usr/local/lib/python3.7/dist-packages (from tensorflow) (3.17.3)\n",
            "Requirement already satisfied: wrapt>=1.11.0 in /usr/local/lib/python3.7/dist-packages (from tensorflow) (1.14.0)\n",
            "Requirement already satisfied: typing-extensions>=3.6.6 in /usr/local/lib/python3.7/dist-packages (from tensorflow) (4.2.0)\n",
            "Requirement already satisfied: six>=1.12.0 in /usr/local/lib/python3.7/dist-packages (from tensorflow) (1.15.0)\n",
            "Requirement already satisfied: termcolor>=1.1.0 in /usr/local/lib/python3.7/dist-packages (from tensorflow) (1.1.0)\n",
            "Requirement already satisfied: wheel<1.0,>=0.23.0 in /usr/local/lib/python3.7/dist-packages (from astunparse>=1.6.0->tensorflow) (0.37.1)\n",
            "Requirement already satisfied: cached-property in /usr/local/lib/python3.7/dist-packages (from h5py>=2.9.0->tensorflow) (1.5.2)\n",
            "Requirement already satisfied: requests<3,>=2.21.0 in /usr/local/lib/python3.7/dist-packages (from tensorboard<2.9,>=2.8->tensorflow) (2.23.0)\n",
            "Requirement already satisfied: werkzeug>=0.11.15 in /usr/local/lib/python3.7/dist-packages (from tensorboard<2.9,>=2.8->tensorflow) (1.0.1)\n",
            "Requirement already satisfied: google-auth-oauthlib<0.5,>=0.4.1 in /usr/local/lib/python3.7/dist-packages (from tensorboard<2.9,>=2.8->tensorflow) (0.4.6)\n",
            "Requirement already satisfied: markdown>=2.6.8 in /usr/local/lib/python3.7/dist-packages (from tensorboard<2.9,>=2.8->tensorflow) (3.3.6)\n",
            "Requirement already satisfied: tensorboard-plugin-wit>=1.6.0 in /usr/local/lib/python3.7/dist-packages (from tensorboard<2.9,>=2.8->tensorflow) (1.8.1)\n",
            "Requirement already satisfied: tensorboard-data-server<0.7.0,>=0.6.0 in /usr/local/lib/python3.7/dist-packages (from tensorboard<2.9,>=2.8->tensorflow) (0.6.1)\n",
            "Requirement already satisfied: google-auth<3,>=1.6.3 in /usr/local/lib/python3.7/dist-packages (from tensorboard<2.9,>=2.8->tensorflow) (1.35.0)\n",
            "Requirement already satisfied: rsa<5,>=3.1.4 in /usr/local/lib/python3.7/dist-packages (from google-auth<3,>=1.6.3->tensorboard<2.9,>=2.8->tensorflow) (4.8)\n",
            "Requirement already satisfied: cachetools<5.0,>=2.0.0 in /usr/local/lib/python3.7/dist-packages (from google-auth<3,>=1.6.3->tensorboard<2.9,>=2.8->tensorflow) (4.2.4)\n",
            "Requirement already satisfied: pyasn1-modules>=0.2.1 in /usr/local/lib/python3.7/dist-packages (from google-auth<3,>=1.6.3->tensorboard<2.9,>=2.8->tensorflow) (0.2.8)\n",
            "Requirement already satisfied: requests-oauthlib>=0.7.0 in /usr/local/lib/python3.7/dist-packages (from google-auth-oauthlib<0.5,>=0.4.1->tensorboard<2.9,>=2.8->tensorflow) (1.3.1)\n",
            "Requirement already satisfied: importlib-metadata>=4.4 in /usr/local/lib/python3.7/dist-packages (from markdown>=2.6.8->tensorboard<2.9,>=2.8->tensorflow) (4.11.3)\n",
            "Requirement already satisfied: zipp>=0.5 in /usr/local/lib/python3.7/dist-packages (from importlib-metadata>=4.4->markdown>=2.6.8->tensorboard<2.9,>=2.8->tensorflow) (3.8.0)\n",
            "Requirement already satisfied: pyasn1<0.5.0,>=0.4.6 in /usr/local/lib/python3.7/dist-packages (from pyasn1-modules>=0.2.1->google-auth<3,>=1.6.3->tensorboard<2.9,>=2.8->tensorflow) (0.4.8)\n",
            "Requirement already satisfied: urllib3!=1.25.0,!=1.25.1,<1.26,>=1.21.1 in /usr/local/lib/python3.7/dist-packages (from requests<3,>=2.21.0->tensorboard<2.9,>=2.8->tensorflow) (1.24.3)\n",
            "Requirement already satisfied: certifi>=2017.4.17 in /usr/local/lib/python3.7/dist-packages (from requests<3,>=2.21.0->tensorboard<2.9,>=2.8->tensorflow) (2021.10.8)\n",
            "Requirement already satisfied: chardet<4,>=3.0.2 in /usr/local/lib/python3.7/dist-packages (from requests<3,>=2.21.0->tensorboard<2.9,>=2.8->tensorflow) (3.0.4)\n",
            "Requirement already satisfied: idna<3,>=2.5 in /usr/local/lib/python3.7/dist-packages (from requests<3,>=2.21.0->tensorboard<2.9,>=2.8->tensorflow) (2.10)\n",
            "Requirement already satisfied: oauthlib>=3.0.0 in /usr/local/lib/python3.7/dist-packages (from requests-oauthlib>=0.7.0->google-auth-oauthlib<0.5,>=0.4.1->tensorboard<2.9,>=2.8->tensorflow) (3.2.0)\n",
            "Installing collected packages: tf-estimator-nightly\n",
            "Successfully installed tf-estimator-nightly-2.8.0.dev2021122109\n"
          ]
        }
      ],
      "source": [
        "!pip install tensorflow"
      ]
    },
    {
      "cell_type": "code",
      "execution_count": null,
      "metadata": {
        "colab": {
          "base_uri": "https://localhost:8080/"
        },
        "id": "1wE6-tQvMAkJ",
        "outputId": "e2b6382e-a1f7-4291-c00d-b6d83a1189ad"
      },
      "outputs": [
        {
          "name": "stdout",
          "output_type": "stream",
          "text": [
            "Requirement already satisfied: keras in /usr/local/lib/python3.7/dist-packages (2.8.0)\n"
          ]
        }
      ],
      "source": [
        "!pip install keras"
      ]
    },
    {
      "cell_type": "code",
      "execution_count": null,
      "metadata": {
        "id": "_4AO6yEnqycn"
      },
      "outputs": [],
      "source": [
        "from keras.models import Sequential\n",
        "from keras.layers import Dense\n",
        "from keras.models import Sequential\n",
        "from keras.layers import Input, Dense, Dropout, BatchNormalization\n",
        "from keras.wrappers.scikit_learn import KerasRegressor\n",
        "from sklearn.model_selection import cross_val_score\n",
        "from sklearn.model_selection import KFold\n",
        "from sklearn.model_selection import train_test_split\n",
        "from sklearn.preprocessing import StandardScaler\n",
        "from sklearn.pipeline import Pipeline\n",
        "from sklearn.metrics import mean_squared_error\n",
        "import numpy as np\n",
        "import tensorflow as tf\n",
        "import pandas as pd\n",
        "import matplotlib.pyplot as plt"
      ]
    },
    {
      "cell_type": "code",
      "execution_count": null,
      "metadata": {
        "colab": {
          "base_uri": "https://localhost:8080/",
          "height": 74,
          "resources": {
            "http://localhost:8080/nbextensions/google.colab/files.js": {
              "data": "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",
              "headers": [
                [
                  "content-type",
                  "application/javascript"
                ]
              ],
              "ok": true,
              "status": 200,
              "status_text": ""
            }
          }
        },
        "id": "PI4IuQEhq46W",
        "outputId": "1bfc9d2b-1ef6-4b24-f779-1bce21328594"
      },
      "outputs": [
        {
          "data": {
            "text/html": [
              "\n",
              "     <input type=\"file\" id=\"files-11aee07e-6862-4936-95e4-9cf7982f177c\" name=\"files[]\" multiple disabled\n",
              "        style=\"border:none\" />\n",
              "     <output id=\"result-11aee07e-6862-4936-95e4-9cf7982f177c\">\n",
              "      Upload widget is only available when the cell has been executed in the\n",
              "      current browser session. Please rerun this cell to enable.\n",
              "      </output>\n",
              "      <script src=\"/nbextensions/google.colab/files.js\"></script> "
            ],
            "text/plain": [
              "<IPython.core.display.HTML object>"
            ]
          },
          "metadata": {},
          "output_type": "display_data"
        },
        {
          "name": "stdout",
          "output_type": "stream",
          "text": [
            "Saving large-BBB(H+) .csv.csv to large-BBB(H+) .csv.csv\n"
          ]
        }
      ],
      "source": [
        "from google.colab import files \n",
        "uploaded = files.upload()"
      ]
    },
    {
      "cell_type": "code",
      "execution_count": null,
      "metadata": {
        "id": "f6w3_IShsKDP"
      },
      "outputs": [],
      "source": [
        "df = pd.read_csv(\"malaria_AC (2).csv\", header=None).values"
      ]
    },
    {
      "cell_type": "code",
      "execution_count": null,
      "metadata": {
        "colab": {
          "base_uri": "https://localhost:8080/"
        },
        "id": "l_Er4JNjsiSO",
        "outputId": "44b54cf5-7e2b-4134-9834-8654aa0b23b6"
      },
      "outputs": [
        {
          "data": {
            "text/plain": [
              "(401, 202)"
            ]
          },
          "execution_count": 55,
          "metadata": {},
          "output_type": "execute_result"
        }
      ],
      "source": [
        "df.shape"
      ]
    },
    {
      "cell_type": "code",
      "execution_count": null,
      "metadata": {
        "colab": {
          "base_uri": "https://localhost:8080/"
        },
        "id": "2ZqRjW-drmLW",
        "outputId": "fc53727d-1a2c-4186-c734-159808686a00"
      },
      "outputs": [
        {
          "data": {
            "text/plain": [
              "matrix([['name', '2AC-NE(S)-A-WH-T', '1AC-NE(MN)-P-WH-T', ...,\n",
              "         'TAC-NE(CV)-DC3-WH-LA', '7AC-NE(A)-DC4-WH-LA', 'nM(EC50)'],\n",
              "        ['MalariaBoxMarreroClean3DAllH.sdf_MMV019066', '1.960802',\n",
              "         '3.994755', ..., '0.656737', '15.157071', '140'],\n",
              "        ['MalariaBoxMarreroClean3DAllH.sdf_MMV665941', '1.088833',\n",
              "         '4.155957', ..., '1.358795', '34.189944', '255'],\n",
              "        ...,\n",
              "        ['MalariaBoxMarreroClean3DAllH.sdf_MMV665824', '0.71319',\n",
              "         '5.449606', ..., '1.481655', '18.061926', '-999'],\n",
              "        ['MalariaBoxMarreroClean3DAllH.sdf_MMV665812', '1.287585',\n",
              "         '2.480432', ..., '0.890405', '23.429752', '-999'],\n",
              "        ['MalariaBoxMarreroClean3DAllH.sdf_MMV001041', '3.172066',\n",
              "         '2.637666', ..., '1.305488', '12.203389', '590']], dtype=object)"
            ]
          },
          "execution_count": 56,
          "metadata": {},
          "output_type": "execute_result"
        }
      ],
      "source": [
        "D = np.matrix(df)\n",
        "D"
      ]
    },
    {
      "cell_type": "code",
      "execution_count": null,
      "metadata": {
        "colab": {
          "base_uri": "https://localhost:8080/"
        },
        "id": "KNwA8WgFrttQ",
        "outputId": "f324b805-6bf1-4c3a-db38-431568720246"
      },
      "outputs": [
        {
          "name": "stderr",
          "output_type": "stream",
          "text": [
            "/usr/local/lib/python3.7/dist-packages/ipykernel_launcher.py:1: DeprecationWarning: `np.float` is a deprecated alias for the builtin `float`. To silence this warning, use `float` by itself. Doing this will not modify any behavior and is safe. If you specifically wanted the numpy scalar type, use `np.float64` here.\n",
            "Deprecated in NumPy 1.20; for more details and guidance: https://numpy.org/devdocs/release/1.20.0-notes.html#deprecations\n",
            "  \"\"\"Entry point for launching an IPython kernel.\n",
            "/usr/local/lib/python3.7/dist-packages/ipykernel_launcher.py:2: DeprecationWarning: `np.float` is a deprecated alias for the builtin `float`. To silence this warning, use `float` by itself. Doing this will not modify any behavior and is safe. If you specifically wanted the numpy scalar type, use `np.float64` here.\n",
            "Deprecated in NumPy 1.20; for more details and guidance: https://numpy.org/devdocs/release/1.20.0-notes.html#deprecations\n",
            "  \n"
          ]
        }
      ],
      "source": [
        "X = D[1:400, 1:200].astype(np.float)\n",
        "Y = D[1:400, 201].astype(np.float)"
      ]
    },
    {
      "cell_type": "code",
      "execution_count": null,
      "metadata": {
        "colab": {
          "base_uri": "https://localhost:8080/"
        },
        "id": "29YQZvCPt9Pv",
        "outputId": "4b6383f5-5c2b-43c0-aa68-107ce17c1490"
      },
      "outputs": [
        {
          "data": {
            "text/plain": [
              "matrix([[  1.960802  ,   3.994755  , 119.721476  , ...,  15.10800789,\n",
              "          12.697936  ,   0.656737  ],\n",
              "        [  1.088833  ,   4.155957  , 151.03206   , ...,  14.24834315,\n",
              "          14.117647  ,   1.358795  ],\n",
              "        [  4.082064  ,   3.957297  , 142.739398  , ...,  11.31238388,\n",
              "          10.227733  ,   1.452327  ],\n",
              "        ...,\n",
              "        [  3.588263  ,   2.701839  , 124.977255  , ...,  13.17562539,\n",
              "          11.368421  ,   1.516868  ],\n",
              "        [  0.71319   ,   5.449606  , 114.289304  , ...,  12.19503804,\n",
              "          11.263537  ,   1.481655  ],\n",
              "        [  1.287585  ,   2.480432  , 122.781165  , ...,  17.40093049,\n",
              "          16.492146  ,   0.890405  ]])"
            ]
          },
          "execution_count": 58,
          "metadata": {},
          "output_type": "execute_result"
        }
      ],
      "source": [
        "X"
      ]
    },
    {
      "cell_type": "code",
      "execution_count": null,
      "metadata": {
        "colab": {
          "base_uri": "https://localhost:8080/"
        },
        "id": "VgYRsPvWuCdm",
        "outputId": "506a6314-0524-484f-e0fb-8869bf9c16dc"
      },
      "outputs": [
        {
          "data": {
            "text/plain": [
              "matrix([[ 140.  ],\n",
              "        [ 255.  ],\n",
              "        [  92.8 ],\n",
              "        [ 154.  ],\n",
              "        [ 232.  ],\n",
              "        [  85.7 ],\n",
              "        [ 142.  ],\n",
              "        [ 378.  ],\n",
              "        [ 263.  ],\n",
              "        [ 400.  ],\n",
              "        [  78.2 ],\n",
              "        [ 282.  ],\n",
              "        [ 180.  ],\n",
              "        [ 194.  ],\n",
              "        [ 512.  ],\n",
              "        [ 433.  ],\n",
              "        [ 345.  ],\n",
              "        [ 237.  ],\n",
              "        [ 242.5 ],\n",
              "        [   6.71],\n",
              "        [ 300.  ],\n",
              "        [ 205.  ],\n",
              "        [ 274.  ],\n",
              "        [ 206.  ],\n",
              "        [ 142.  ],\n",
              "        [ 448.  ],\n",
              "        [ 179.  ],\n",
              "        [ 235.  ],\n",
              "        [  82.2 ],\n",
              "        [ 139.  ],\n",
              "        [ 148.  ],\n",
              "        [ 135.  ],\n",
              "        [  89.9 ],\n",
              "        [ 477.  ],\n",
              "        [ 350.  ],\n",
              "        [  72.6 ],\n",
              "        [  22.6 ],\n",
              "        [ 168.  ],\n",
              "        [ 161.  ],\n",
              "        [ 205.  ],\n",
              "        [ 242.  ],\n",
              "        [  20.2 ],\n",
              "        [ 215.5 ],\n",
              "        [ 141.5 ],\n",
              "        [  51.5 ],\n",
              "        [  58.1 ],\n",
              "        [  25.5 ],\n",
              "        [ 196.  ],\n",
              "        [  42.3 ],\n",
              "        [ 259.  ],\n",
              "        [  36.8 ],\n",
              "        [ 293.  ],\n",
              "        [ 268.  ],\n",
              "        [  24.8 ],\n",
              "        [  32.8 ],\n",
              "        [ 406.  ],\n",
              "        [ 396.  ],\n",
              "        [   5.3 ],\n",
              "        [ 520.  ],\n",
              "        [ 146.  ],\n",
              "        [ 351.  ],\n",
              "        [ 176.5 ],\n",
              "        [ 361.  ],\n",
              "        [ 170.  ],\n",
              "        [ 106.  ],\n",
              "        [ 212.  ],\n",
              "        [  23.8 ],\n",
              "        [ 370.  ],\n",
              "        [ 119.  ],\n",
              "        [ 428.  ],\n",
              "        [ 283.  ],\n",
              "        [  36.7 ],\n",
              "        [ 218.  ],\n",
              "        [ 251.  ],\n",
              "        [ 118.  ],\n",
              "        [ 296.  ],\n",
              "        [ 516.  ],\n",
              "        [ 350.  ],\n",
              "        [ 117.  ],\n",
              "        [  94.4 ],\n",
              "        [1370.  ],\n",
              "        [ 648.  ],\n",
              "        [1000.  ],\n",
              "        [-999.  ],\n",
              "        [ 947.  ],\n",
              "        [ 538.  ],\n",
              "        [-999.  ],\n",
              "        [ 845.  ],\n",
              "        [-999.  ],\n",
              "        [-999.  ],\n",
              "        [ 685.  ],\n",
              "        [ 642.  ],\n",
              "        [1190.  ],\n",
              "        [-999.  ],\n",
              "        [1320.  ],\n",
              "        [-999.  ],\n",
              "        [1360.  ],\n",
              "        [ 560.  ],\n",
              "        [1070.  ],\n",
              "        [-999.  ],\n",
              "        [-999.  ],\n",
              "        [ 843.  ],\n",
              "        [1140.  ],\n",
              "        [-999.  ],\n",
              "        [ 890.5 ],\n",
              "        [-999.  ],\n",
              "        [-999.  ],\n",
              "        [-999.  ],\n",
              "        [1090.  ],\n",
              "        [-999.  ],\n",
              "        [1160.  ],\n",
              "        [-999.  ],\n",
              "        [-999.  ],\n",
              "        [ 530.  ],\n",
              "        [-999.  ],\n",
              "        [1860.  ],\n",
              "        [-999.  ],\n",
              "        [-999.  ],\n",
              "        [ 893.  ],\n",
              "        [-999.  ],\n",
              "        [ 663.  ],\n",
              "        [-999.  ],\n",
              "        [-999.  ],\n",
              "        [1750.  ],\n",
              "        [-999.  ],\n",
              "        [-999.  ],\n",
              "        [-999.  ],\n",
              "        [ 603.  ],\n",
              "        [1360.  ],\n",
              "        [1430.  ],\n",
              "        [1170.  ],\n",
              "        [-999.  ],\n",
              "        [ 994.  ],\n",
              "        [ 669.  ],\n",
              "        [1330.  ],\n",
              "        [1300.  ],\n",
              "        [ 854.  ],\n",
              "        [ 728.  ],\n",
              "        [-999.  ],\n",
              "        [-999.  ],\n",
              "        [ 697.  ],\n",
              "        [-999.  ],\n",
              "        [2060.  ],\n",
              "        [-999.  ],\n",
              "        [1110.  ],\n",
              "        [ 635.  ],\n",
              "        [1790.  ],\n",
              "        [1430.  ],\n",
              "        [ 535.  ],\n",
              "        [1720.  ],\n",
              "        [ 771.  ],\n",
              "        [-999.  ],\n",
              "        [-999.  ],\n",
              "        [-999.  ],\n",
              "        [ 697.  ],\n",
              "        [1430.  ],\n",
              "        [ 718.5 ],\n",
              "        [-999.  ],\n",
              "        [-999.  ],\n",
              "        [ 548.  ],\n",
              "        [1290.  ],\n",
              "        [4000.  ],\n",
              "        [ 929.  ],\n",
              "        [ 707.  ],\n",
              "        [ 735.  ],\n",
              "        [1075.  ],\n",
              "        [ 755.5 ],\n",
              "        [ 611.  ],\n",
              "        [1089.5 ],\n",
              "        [ 927.  ],\n",
              "        [1140.  ],\n",
              "        [1010.  ],\n",
              "        [ 959.  ],\n",
              "        [ 700.  ],\n",
              "        [-999.  ],\n",
              "        [ 660.  ],\n",
              "        [1020.  ],\n",
              "        [ 800.5 ],\n",
              "        [ 941.  ],\n",
              "        [1240.  ],\n",
              "        [4000.  ],\n",
              "        [1150.  ],\n",
              "        [ 832.  ],\n",
              "        [ 683.  ],\n",
              "        [ 641.  ],\n",
              "        [ 871.  ],\n",
              "        [-999.  ],\n",
              "        [-999.  ],\n",
              "        [ 625.  ],\n",
              "        [1160.  ],\n",
              "        [1060.  ],\n",
              "        [ 693.  ],\n",
              "        [4000.  ],\n",
              "        [ 686.  ],\n",
              "        [ 693.  ],\n",
              "        [-999.  ],\n",
              "        [ 939.  ],\n",
              "        [ 995.  ],\n",
              "        [ 640.5 ],\n",
              "        [ 745.  ],\n",
              "        [1040.  ],\n",
              "        [1730.  ],\n",
              "        [ 589.  ],\n",
              "        [ 662.  ],\n",
              "        [-999.  ],\n",
              "        [1010.  ],\n",
              "        [-999.  ],\n",
              "        [-999.  ],\n",
              "        [-999.  ],\n",
              "        [-999.  ],\n",
              "        [1050.  ],\n",
              "        [2000.  ],\n",
              "        [4000.  ],\n",
              "        [ 928.  ],\n",
              "        [1175.  ],\n",
              "        [1945.  ],\n",
              "        [ 683.  ],\n",
              "        [ 614.5 ],\n",
              "        [1260.  ],\n",
              "        [ 769.  ],\n",
              "        [-999.  ],\n",
              "        [1030.  ],\n",
              "        [1390.  ],\n",
              "        [4000.  ],\n",
              "        [-999.  ],\n",
              "        [-999.  ],\n",
              "        [ 969.  ],\n",
              "        [ 944.  ],\n",
              "        [-999.  ],\n",
              "        [-999.  ],\n",
              "        [1010.  ],\n",
              "        [1070.  ],\n",
              "        [1190.  ],\n",
              "        [-999.  ],\n",
              "        [ 875.5 ],\n",
              "        [-999.  ],\n",
              "        [1080.  ],\n",
              "        [-999.  ],\n",
              "        [1330.  ],\n",
              "        [-999.  ],\n",
              "        [-999.  ],\n",
              "        [1060.  ],\n",
              "        [1080.  ],\n",
              "        [ 513.  ],\n",
              "        [-999.  ],\n",
              "        [1135.  ],\n",
              "        [1190.  ],\n",
              "        [ 567.  ],\n",
              "        [-999.  ],\n",
              "        [ 414.5 ],\n",
              "        [-999.  ],\n",
              "        [1070.  ],\n",
              "        [ 835.5 ],\n",
              "        [-999.  ],\n",
              "        [1120.  ],\n",
              "        [ 563.  ],\n",
              "        [ 912.  ],\n",
              "        [ 362.  ],\n",
              "        [-999.  ],\n",
              "        [-999.  ],\n",
              "        [-999.  ],\n",
              "        [-999.  ],\n",
              "        [-999.  ],\n",
              "        [ 489.  ],\n",
              "        [-999.  ],\n",
              "        [1015.  ],\n",
              "        [1380.  ],\n",
              "        [-999.  ],\n",
              "        [ 473.  ],\n",
              "        [ 313.  ],\n",
              "        [1240.  ],\n",
              "        [ 381.  ],\n",
              "        [ 534.  ],\n",
              "        [ 826.  ],\n",
              "        [1170.  ],\n",
              "        [ 735.  ],\n",
              "        [ 632.  ],\n",
              "        [ 454.  ],\n",
              "        [1132.  ],\n",
              "        [ 846.  ],\n",
              "        [ 314.  ],\n",
              "        [1310.  ],\n",
              "        [ 393.  ],\n",
              "        [1060.  ],\n",
              "        [ 439.  ],\n",
              "        [1510.  ],\n",
              "        [1180.  ],\n",
              "        [ 477.5 ],\n",
              "        [1705.  ],\n",
              "        [ 584.  ],\n",
              "        [ 304.  ],\n",
              "        [1190.  ],\n",
              "        [1420.  ],\n",
              "        [ 376.  ],\n",
              "        [1330.  ],\n",
              "        [ 934.5 ],\n",
              "        [-999.  ],\n",
              "        [1430.  ],\n",
              "        [ 450.  ],\n",
              "        [-999.  ],\n",
              "        [ 407.  ],\n",
              "        [1070.  ],\n",
              "        [ 830.  ],\n",
              "        [-999.  ],\n",
              "        [ 697.  ],\n",
              "        [-999.  ],\n",
              "        [ 511.5 ],\n",
              "        [ 539.  ],\n",
              "        [ 350.  ],\n",
              "        [-999.  ],\n",
              "        [-999.  ],\n",
              "        [1260.  ],\n",
              "        [-999.  ],\n",
              "        [ 551.  ],\n",
              "        [1061.  ],\n",
              "        [-999.  ],\n",
              "        [ 684.  ],\n",
              "        [ 661.5 ],\n",
              "        [ 304.5 ],\n",
              "        [1140.  ],\n",
              "        [-999.  ],\n",
              "        [ 391.  ],\n",
              "        [1790.  ],\n",
              "        [1190.  ],\n",
              "        [ 646.  ],\n",
              "        [ 746.  ],\n",
              "        [-999.  ],\n",
              "        [ 716.  ],\n",
              "        [1005.  ],\n",
              "        [1030.  ],\n",
              "        [ 615.  ],\n",
              "        [-999.  ],\n",
              "        [1230.  ],\n",
              "        [ 776.  ],\n",
              "        [ 906.  ],\n",
              "        [ 591.  ],\n",
              "        [ 387.  ],\n",
              "        [ 551.  ],\n",
              "        [1060.  ],\n",
              "        [ 545.  ],\n",
              "        [4000.  ],\n",
              "        [ 518.5 ],\n",
              "        [1160.  ],\n",
              "        [ 480.  ],\n",
              "        [ 814.  ],\n",
              "        [1270.  ],\n",
              "        [-999.  ],\n",
              "        [-999.  ],\n",
              "        [1000.  ],\n",
              "        [4000.  ],\n",
              "        [1180.  ],\n",
              "        [1100.  ],\n",
              "        [ 959.  ],\n",
              "        [1430.  ],\n",
              "        [ 552.  ],\n",
              "        [ 326.  ],\n",
              "        [ 946.5 ],\n",
              "        [ 466.  ],\n",
              "        [-999.  ],\n",
              "        [1010.  ],\n",
              "        [ 555.  ],\n",
              "        [-999.  ],\n",
              "        [ 373.  ],\n",
              "        [ 467.  ],\n",
              "        [ 795.  ],\n",
              "        [-999.  ],\n",
              "        [1790.  ],\n",
              "        [1160.  ],\n",
              "        [ 916.  ],\n",
              "        [ 385.  ],\n",
              "        [1060.  ],\n",
              "        [ 898.  ],\n",
              "        [1240.  ],\n",
              "        [-999.  ],\n",
              "        [ 646.  ],\n",
              "        [1180.  ],\n",
              "        [1200.  ],\n",
              "        [1220.  ],\n",
              "        [ 706.  ],\n",
              "        [1010.  ],\n",
              "        [4000.  ],\n",
              "        [1020.  ],\n",
              "        [4000.  ],\n",
              "        [ 694.5 ],\n",
              "        [ 782.  ],\n",
              "        [ 890.  ],\n",
              "        [ 326.5 ],\n",
              "        [ 838.  ],\n",
              "        [ 536.  ],\n",
              "        [4000.  ],\n",
              "        [1150.  ],\n",
              "        [ 939.  ],\n",
              "        [1330.  ],\n",
              "        [ 676.5 ],\n",
              "        [1109.  ],\n",
              "        [ 842.  ],\n",
              "        [ 532.  ],\n",
              "        [-999.  ],\n",
              "        [-999.  ]])"
            ]
          },
          "execution_count": 59,
          "metadata": {},
          "output_type": "execute_result"
        }
      ],
      "source": [
        "Y"
      ]
    },
    {
      "cell_type": "code",
      "execution_count": null,
      "metadata": {
        "id": "aO95cN-hq9fl"
      },
      "outputs": [],
      "source": [
        "# create regression model\n",
        "def reg_model():\n",
        "    model = Sequential()\n",
        "    model.add(Dense(1, input_dim=199, activation='relu'))\n",
        "    model.add(Dense(199, activation='relu'))\n",
        "    model.add(Dense(1))\n",
        "\n",
        "    # compile model\n",
        "    model.compile(loss='mean_squared_error', optimizer='adam')\n",
        "    return model"
      ]
    },
    {
      "cell_type": "code",
      "execution_count": null,
      "metadata": {
        "colab": {
          "base_uri": "https://localhost:8080/",
          "height": 401
        },
        "id": "QLJ4q0PWrDfH",
        "outputId": "522b6036-40ec-48fc-b9d8-76cc469eae09"
      },
      "outputs": [
        {
          "name": "stderr",
          "output_type": "stream",
          "text": [
            "/usr/local/lib/python3.7/dist-packages/ipykernel_launcher.py:3: DeprecationWarning: KerasRegressor is deprecated, use Sci-Keras (https://github.com/adriangb/scikeras) instead. See https://www.adriangb.com/scikeras/stable/migration.html for help migrating.\n",
            "  This is separate from the ipykernel package so we can avoid doing imports until\n"
          ]
        },
        {
          "name": "stdout",
          "output_type": "stream",
          "text": [
            "KERAS REG RMSE : 833.54\n"
          ]
        },
        {
          "name": "stderr",
          "output_type": "stream",
          "text": [
            "/usr/local/lib/python3.7/dist-packages/sklearn/utils/validation.py:598: FutureWarning: np.matrix usage is deprecated in 1.0 and will raise a TypeError in 1.2. Please convert to a numpy array with np.asarray. For more information see: https://numpy.org/doc/stable/reference/generated/numpy.matrix.html\n",
            "  FutureWarning,\n"
          ]
        },
        {
          "data": {
            "image/png": "[encoded data removed]",
            "text/plain": [
              "<Figure size 432x288 with 1 Axes>"
            ]
          },
          "metadata": {
            "needs_background": "light"
          },
          "output_type": "display_data"
        }
      ],
      "source": [
        "# use data split and fit to run the model\n",
        "x_train, x_test, y_train, y_test = train_test_split(X, Y, test_size=0.2, random_state=0)\n",
        "estimator = KerasRegressor(build_fn=reg_model, epochs=100, batch_size=10, verbose=0)\n",
        "history = estimator.fit(x_train, y_train)\n",
        "y_pred = estimator.predict(x_test)\n",
        "\n",
        "# show its root mean square error\n",
        "mse = mean_squared_error(y_test, y_pred)\n",
        "print(\"KERAS REG RMSE : %.2f\" % (mse ** 0.5))\n",
        "\n",
        "\n",
        "plt.plot(history.history['loss'])\n",
        "plt.xlabel(\"No. of Iterations\")\n",
        "plt.ylabel(\"J(Theta1 Theta0)/Cost\")\n",
        "plt.show()"
      ]
    }
  ],
  "metadata": {
    "colab": {
      "name": "experimentBBB.ipynb",
      "provenance": [],
      "include_colab_link": true
    },
    "kernelspec": {
      "display_name": "Python 3 (ipykernel)",
      "language": "python",
      "name": "python3"
    },
    "language_info": {
      "codemirror_mode": {
        "name": "ipython",
        "version": 3
      },
      "file_extension": ".py",
      "mimetype": "text/x-python",
      "name": "python",
      "nbconvert_exporter": "python",
      "pygments_lexer": "ipython3",
      "version": "3.9.7"
    }
  },
  "nbformat": 4,
  "nbformat_minor": 0
}