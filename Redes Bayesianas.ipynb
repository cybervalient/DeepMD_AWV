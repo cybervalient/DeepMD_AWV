{
  "nbformat": 4,
  "nbformat_minor": 0,
  "metadata": {
    "colab": {
      "provenance": [],
      "authorship_tag": "ABX9TyMiN6DfjkjyQOu3RThaNHhS",
      "include_colab_link": true
    },
    "kernelspec": {
      "name": "python3",
      "display_name": "Python 3"
    },
    "language_info": {
      "name": "python"
    },
    "accelerator": "TPU",
    "gpuClass": "standard"
  },
  "cells": [
    {
      "cell_type": "markdown",
      "metadata": {
        "id": "view-in-github",
        "colab_type": "text"
      },
      "source": [
        "<a href=\"https://colab.research.google.com/github/cybervalient/DeepMD_AWV/blob/main/Redes%20Bayesianas.ipynb\" target=\"_parent\"><img src=\"https://colab.research.google.com/assets/colab-badge.svg\" alt=\"Open In Colab\"/></a>"
      ]
    },
    {
      "cell_type": "markdown",
      "source": [
        "Teorema de Bayes\n",
        "\n",
        "\n",
        "Un letrero de neón que muestra el enunciado del teorema de Bayes\n",
        "El teorema de Bayes, en la teoría de la probabilidad, es una proposición planteada por el matemático inglés Thomas Bayes (1702-1761)1​ y publicada póstumamente en 1763,2​ que expresa la probabilidad condicional de un evento aleatorio \n",
        "�\n",
        "A dado \n",
        "�\n",
        "B en términos de la distribución de probabilidad condicional del evento \n",
        "�\n",
        "B dado \n",
        "�\n",
        "A y la distribución de probabilidad marginal de solo \n",
        "�\n",
        "A.\n",
        "\n",
        "En términos más generales y menos matemáticos, el teorema de Bayes es de enorme relevancia puesto que vincula la probabilidad de \n",
        "�\n",
        "A dado \n",
        "�\n",
        "B con la probabilidad de \n",
        "�\n",
        "B dado \n",
        "�\n",
        "A. Es decir, por ejemplo, que sabiendo la probabilidad de tener un dolor de cabeza dado que se tiene gripe, se podría saber (si se tiene algún dato más), la probabilidad de tener gripe si se tiene un dolor de cabeza. Muestra este sencillo ejemplo la alta relevancia del teorema en cuestión para la ciencia en todas sus ramas, puesto que tiene vinculación íntima con la comprensión de la probabilidad de aspectos causales dados los efectos observados.\n",
        "https://es.wikipedia.org/wiki/Teorema_de_Bayes"
      ],
      "metadata": {
        "id": "p7yoQWc5Fu20"
      }
    },
    {
      "cell_type": "code",
      "execution_count": 1,
      "metadata": {
        "colab": {
          "base_uri": "https://localhost:8080/"
        },
        "id": "t04HD0w2FbyS",
        "outputId": "bc14e07d-4bb5-44b7-c76c-c48956e1d4a1"
      },
      "outputs": [
        {
          "output_type": "stream",
          "name": "stdout",
          "text": [
            "Looking in indexes: https://pypi.org/simple, https://us-python.pkg.dev/colab-wheels/public/simple/\n",
            "Collecting pgmpy\n",
            "  Downloading pgmpy-0.1.22-py3-none-any.whl (1.9 MB)\n",
            "\u001b[2K     \u001b[90m━━━━━━━━━━━━━━━━━━━━━━━━━━━━━━━━━━━━━━━━\u001b[0m \u001b[32m1.9/1.9 MB\u001b[0m \u001b[31m16.5 MB/s\u001b[0m eta \u001b[36m0:00:00\u001b[0m\n",
            "\u001b[?25hRequirement already satisfied: pandas in /usr/local/lib/python3.9/dist-packages (from pgmpy) (1.5.3)\n",
            "Requirement already satisfied: networkx in /usr/local/lib/python3.9/dist-packages (from pgmpy) (3.1)\n",
            "Requirement already satisfied: torch in /usr/local/lib/python3.9/dist-packages (from pgmpy) (2.0.0+cu118)\n",
            "Requirement already satisfied: tqdm in /usr/local/lib/python3.9/dist-packages (from pgmpy) (4.65.0)\n",
            "Requirement already satisfied: numpy in /usr/local/lib/python3.9/dist-packages (from pgmpy) (1.24.2)\n",
            "Requirement already satisfied: scipy in /usr/local/lib/python3.9/dist-packages (from pgmpy) (1.10.1)\n",
            "Requirement already satisfied: opt-einsum in /usr/local/lib/python3.9/dist-packages (from pgmpy) (3.3.0)\n",
            "Requirement already satisfied: joblib in /usr/local/lib/python3.9/dist-packages (from pgmpy) (1.2.0)\n",
            "Requirement already satisfied: statsmodels in /usr/local/lib/python3.9/dist-packages (from pgmpy) (0.13.5)\n",
            "Requirement already satisfied: pyparsing in /usr/local/lib/python3.9/dist-packages (from pgmpy) (3.0.9)\n",
            "Requirement already satisfied: scikit-learn in /usr/local/lib/python3.9/dist-packages (from pgmpy) (1.2.2)\n",
            "Requirement already satisfied: pytz>=2020.1 in /usr/local/lib/python3.9/dist-packages (from pandas->pgmpy) (2022.7.1)\n",
            "Requirement already satisfied: python-dateutil>=2.8.1 in /usr/local/lib/python3.9/dist-packages (from pandas->pgmpy) (2.8.2)\n",
            "Requirement already satisfied: threadpoolctl>=2.0.0 in /usr/local/lib/python3.9/dist-packages (from scikit-learn->pgmpy) (3.1.0)\n",
            "Requirement already satisfied: packaging>=21.3 in /usr/local/lib/python3.9/dist-packages (from statsmodels->pgmpy) (23.0)\n",
            "Requirement already satisfied: patsy>=0.5.2 in /usr/local/lib/python3.9/dist-packages (from statsmodels->pgmpy) (0.5.3)\n",
            "Requirement already satisfied: typing-extensions in /usr/local/lib/python3.9/dist-packages (from torch->pgmpy) (4.5.0)\n",
            "Requirement already satisfied: sympy in /usr/local/lib/python3.9/dist-packages (from torch->pgmpy) (1.11.1)\n",
            "Requirement already satisfied: filelock in /usr/local/lib/python3.9/dist-packages (from torch->pgmpy) (3.11.0)\n",
            "Requirement already satisfied: jinja2 in /usr/local/lib/python3.9/dist-packages (from torch->pgmpy) (3.1.2)\n",
            "Requirement already satisfied: triton==2.0.0 in /usr/local/lib/python3.9/dist-packages (from torch->pgmpy) (2.0.0)\n",
            "Requirement already satisfied: lit in /usr/local/lib/python3.9/dist-packages (from triton==2.0.0->torch->pgmpy) (16.0.1)\n",
            "Requirement already satisfied: cmake in /usr/local/lib/python3.9/dist-packages (from triton==2.0.0->torch->pgmpy) (3.25.2)\n",
            "Requirement already satisfied: six in /usr/local/lib/python3.9/dist-packages (from patsy>=0.5.2->statsmodels->pgmpy) (1.16.0)\n",
            "Requirement already satisfied: MarkupSafe>=2.0 in /usr/local/lib/python3.9/dist-packages (from jinja2->torch->pgmpy) (2.1.2)\n",
            "Requirement already satisfied: mpmath>=0.19 in /usr/local/lib/python3.9/dist-packages (from sympy->torch->pgmpy) (1.3.0)\n",
            "Installing collected packages: pgmpy\n",
            "Successfully installed pgmpy-0.1.22\n"
          ]
        }
      ],
      "source": [
        "pip install pgmpy"
      ]
    },
    {
      "cell_type": "markdown",
      "source": [
        "Modelacinn con Redes Baysianas de una Base de concimiento"
      ],
      "metadata": {
        "id": "7B4ppZhEG8eb"
      }
    },
    {
      "cell_type": "code",
      "source": [
        "import pandas as pd\n",
        "from pgmpy.models import BayesianNetwork\n",
        "from pgmpy.estimators import MaximumLikelihoodEstimator, BayesianEstimator\n",
        "import networkx as nx\n",
        "import matplotlib.pyplot as plt\n",
        "from sklearn.datasets import load_iris\n",
        "import networkx as nx\n",
        "import matplotlib.pyplot as plt"
      ],
      "metadata": {
        "id": "mlKgZNPtG28j"
      },
      "execution_count": 2,
      "outputs": []
    },
    {
      "cell_type": "code",
      "source": [
        "\n",
        "from google.colab import files  \n",
        "uploaded = files.upload()\n",
        "     "
      ],
      "metadata": {
        "id": "rm4aGSRUs7Gs",
        "outputId": "393c1820-f38b-42c0-c618-d54e8748bef0",
        "colab": {
          "base_uri": "https://localhost:8080/",
          "height": 73
        }
      },
      "execution_count": 3,
      "outputs": [
        {
          "output_type": "display_data",
          "data": {
            "text/plain": [
              "<IPython.core.display.HTML object>"
            ],
            "text/html": [
              "\n",
              "     <input type=\"file\" id=\"files-0a03d1d9-e1da-4620-8b50-5445705acd19\" name=\"files[]\" multiple disabled\n",
              "        style=\"border:none\" />\n",
              "     <output id=\"result-0a03d1d9-e1da-4620-8b50-5445705acd19\">\n",
              "      Upload widget is only available when the cell has been executed in the\n",
              "      current browser session. Please rerun this cell to enable.\n",
              "      </output>\n",
              "      <script>// Copyright 2017 Google LLC\n",
              "//\n",
              "// Licensed under the Apache License, Version 2.0 (the \"License\");\n",
              "// you may not use this file except in compliance with the License.\n",
              "// You may obtain a copy of the License at\n",
              "//\n",
              "//      http://www.apache.org/licenses/LICENSE-2.0\n",
              "//\n",
              "// Unless required by applicable law or agreed to in writing, software\n",
              "// distributed under the License is distributed on an \"AS IS\" BASIS,\n",
              "// WITHOUT WARRANTIES OR CONDITIONS OF ANY KIND, either express or implied.\n",
              "// See the License for the specific language governing permissions and\n",
              "// limitations under the License.\n",
              "\n",
              "/**\n",
              " * @fileoverview Helpers for google.colab Python module.\n",
              " */\n",
              "(function(scope) {\n",
              "function span(text, styleAttributes = {}) {\n",
              "  const element = document.createElement('span');\n",
              "  element.textContent = text;\n",
              "  for (const key of Object.keys(styleAttributes)) {\n",
              "    element.style[key] = styleAttributes[key];\n",
              "  }\n",
              "  return element;\n",
              "}\n",
              "\n",
              "// Max number of bytes which will be uploaded at a time.\n",
              "const MAX_PAYLOAD_SIZE = 100 * 1024;\n",
              "\n",
              "function _uploadFiles(inputId, outputId) {\n",
              "  const steps = uploadFilesStep(inputId, outputId);\n",
              "  const outputElement = document.getElementById(outputId);\n",
              "  // Cache steps on the outputElement to make it available for the next call\n",
              "  // to uploadFilesContinue from Python.\n",
              "  outputElement.steps = steps;\n",
              "\n",
              "  return _uploadFilesContinue(outputId);\n",
              "}\n",
              "\n",
              "// This is roughly an async generator (not supported in the browser yet),\n",
              "// where there are multiple asynchronous steps and the Python side is going\n",
              "// to poll for completion of each step.\n",
              "// This uses a Promise to block the python side on completion of each step,\n",
              "// then passes the result of the previous step as the input to the next step.\n",
              "function _uploadFilesContinue(outputId) {\n",
              "  const outputElement = document.getElementById(outputId);\n",
              "  const steps = outputElement.steps;\n",
              "\n",
              "  const next = steps.next(outputElement.lastPromiseValue);\n",
              "  return Promise.resolve(next.value.promise).then((value) => {\n",
              "    // Cache the last promise value to make it available to the next\n",
              "    // step of the generator.\n",
              "    outputElement.lastPromiseValue = value;\n",
              "    return next.value.response;\n",
              "  });\n",
              "}\n",
              "\n",
              "/**\n",
              " * Generator function which is called between each async step of the upload\n",
              " * process.\n",
              " * @param {string} inputId Element ID of the input file picker element.\n",
              " * @param {string} outputId Element ID of the output display.\n",
              " * @return {!Iterable<!Object>} Iterable of next steps.\n",
              " */\n",
              "function* uploadFilesStep(inputId, outputId) {\n",
              "  const inputElement = document.getElementById(inputId);\n",
              "  inputElement.disabled = false;\n",
              "\n",
              "  const outputElement = document.getElementById(outputId);\n",
              "  outputElement.innerHTML = '';\n",
              "\n",
              "  const pickedPromise = new Promise((resolve) => {\n",
              "    inputElement.addEventListener('change', (e) => {\n",
              "      resolve(e.target.files);\n",
              "    });\n",
              "  });\n",
              "\n",
              "  const cancel = document.createElement('button');\n",
              "  inputElement.parentElement.appendChild(cancel);\n",
              "  cancel.textContent = 'Cancel upload';\n",
              "  const cancelPromise = new Promise((resolve) => {\n",
              "    cancel.onclick = () => {\n",
              "      resolve(null);\n",
              "    };\n",
              "  });\n",
              "\n",
              "  // Wait for the user to pick the files.\n",
              "  const files = yield {\n",
              "    promise: Promise.race([pickedPromise, cancelPromise]),\n",
              "    response: {\n",
              "      action: 'starting',\n",
              "    }\n",
              "  };\n",
              "\n",
              "  cancel.remove();\n",
              "\n",
              "  // Disable the input element since further picks are not allowed.\n",
              "  inputElement.disabled = true;\n",
              "\n",
              "  if (!files) {\n",
              "    return {\n",
              "      response: {\n",
              "        action: 'complete',\n",
              "      }\n",
              "    };\n",
              "  }\n",
              "\n",
              "  for (const file of files) {\n",
              "    const li = document.createElement('li');\n",
              "    li.append(span(file.name, {fontWeight: 'bold'}));\n",
              "    li.append(span(\n",
              "        `(${file.type || 'n/a'}) - ${file.size} bytes, ` +\n",
              "        `last modified: ${\n",
              "            file.lastModifiedDate ? file.lastModifiedDate.toLocaleDateString() :\n",
              "                                    'n/a'} - `));\n",
              "    const percent = span('0% done');\n",
              "    li.appendChild(percent);\n",
              "\n",
              "    outputElement.appendChild(li);\n",
              "\n",
              "    const fileDataPromise = new Promise((resolve) => {\n",
              "      const reader = new FileReader();\n",
              "      reader.onload = (e) => {\n",
              "        resolve(e.target.result);\n",
              "      };\n",
              "      reader.readAsArrayBuffer(file);\n",
              "    });\n",
              "    // Wait for the data to be ready.\n",
              "    let fileData = yield {\n",
              "      promise: fileDataPromise,\n",
              "      response: {\n",
              "        action: 'continue',\n",
              "      }\n",
              "    };\n",
              "\n",
              "    // Use a chunked sending to avoid message size limits. See b/62115660.\n",
              "    let position = 0;\n",
              "    do {\n",
              "      const length = Math.min(fileData.byteLength - position, MAX_PAYLOAD_SIZE);\n",
              "      const chunk = new Uint8Array(fileData, position, length);\n",
              "      position += length;\n",
              "\n",
              "      const base64 = btoa(String.fromCharCode.apply(null, chunk));\n",
              "      yield {\n",
              "        response: {\n",
              "          action: 'append',\n",
              "          file: file.name,\n",
              "          data: base64,\n",
              "        },\n",
              "      };\n",
              "\n",
              "      let percentDone = fileData.byteLength === 0 ?\n",
              "          100 :\n",
              "          Math.round((position / fileData.byteLength) * 100);\n",
              "      percent.textContent = `${percentDone}% done`;\n",
              "\n",
              "    } while (position < fileData.byteLength);\n",
              "  }\n",
              "\n",
              "  // All done.\n",
              "  yield {\n",
              "    response: {\n",
              "      action: 'complete',\n",
              "    }\n",
              "  };\n",
              "}\n",
              "\n",
              "scope.google = scope.google || {};\n",
              "scope.google.colab = scope.google.colab || {};\n",
              "scope.google.colab._files = {\n",
              "  _uploadFiles,\n",
              "  _uploadFilesContinue,\n",
              "};\n",
              "})(self);\n",
              "</script> "
            ]
          },
          "metadata": {}
        },
        {
          "output_type": "stream",
          "name": "stdout",
          "text": [
            "Saving RB.csv to RB.csv\n"
          ]
        }
      ]
    },
    {
      "cell_type": "code",
      "source": [
        "import pandas as pd\n",
        "\n",
        "df = pd.read_csv('RB.csv')"
      ],
      "metadata": {
        "id": "BwbrP5CRs1lx"
      },
      "execution_count": 4,
      "outputs": []
    },
    {
      "cell_type": "code",
      "source": [
        "# Cargar datos\n",
        "#= load_iris()\n",
        "#df = pd.DataFrame(data=datos, columns=datos.feature_names)\n",
        "#df = pd.read_csv('iris.csv')"
      ],
      "metadata": {
        "id": "vQqUjaBXHTej"
      },
      "execution_count": null,
      "outputs": []
    },
    {
      "cell_type": "code",
      "source": [
        "# Crear modelo bayesiano\n",
        "modelo = BayesianNetwork([('A18','Y'),('A8','Y'),('A17', 'Y'), ('A20', 'Y'), ('A21', 'Y'), ('A22', 'Y'), ('A23', 'Y'),('A24', 'Y'),('A8', 'A18'), ('A17', 'A18'), ('A19', 'A18'), ('A20', 'A18'), ('A21', 'A18'), ('A22', 'A18'), ('A23', 'A18'), ('A24', 'A18') ])#, ('A6', 'Y') , ('A7', 'Y'), ('A8', 'Y'), ('A9', 'Y'), ('A10', 'Y'), ('A11', 'Y'), ('A12', 'Y'), ('A13', 'Y'), ('A14', 'Y'), ('A15', 'Y')])"
      ],
      "metadata": {
        "id": "qnbQWwPRHZNj"
      },
      "execution_count": 8,
      "outputs": []
    },
    {
      "cell_type": "code",
      "source": [
        "# Estimación de máxima verosimilitud de los parámetros\n",
        "modelo.fit(df, estimator=MaximumLikelihoodEstimator)\n",
        "\n",
        "# Estimación bayesiana de los parámetros\n",
        "modelo.fit(df, estimator=BayesianEstimator)"
      ],
      "metadata": {
        "id": "tZbikoi5Hh2U"
      },
      "execution_count": 9,
      "outputs": []
    },
    {
      "cell_type": "code",
      "source": [
        "# Dibujar grafo\n",
        "G = nx.DiGraph(modelo.edges())\n",
        "#G.add_node('A1')\n",
        "#G.add_node('A2')\n",
        "#G.add_node('A3')\n",
        "#G.add_node('A4')\n",
        "nx.draw_networkx(G, with_labels=True)\n",
        "plt.show()"
      ],
      "metadata": {
        "colab": {
          "base_uri": "https://localhost:8080/",
          "height": 406
        },
        "id": "7J8Jvw53Hm7j",
        "outputId": "be8e5bed-686a-447d-9661-3cedf743636a"
      },
      "execution_count": 10,
      "outputs": [
        {
          "output_type": "display_data",
          "data": {
            "text/plain": [
              "<Figure size 640x480 with 1 Axes>"
            ],
            "image/png": "[encoded data removed]"
          },
          "metadata": {}
        }
      ]
    },
    {
      "cell_type": "code",
      "source": [
        "# Imprimir las probabilidades condicionales\n",
        "for cpd in modelo.get_cpds():\n",
        "    print(cpd)"
      ],
      "metadata": {
        "colab": {
          "base_uri": "https://localhost:8080/"
        },
        "id": "eqiOnzfUH89U",
        "outputId": "635161eb-b758-4243-e14c-c3fd38dc5b80"
      },
      "execution_count": 11,
      "outputs": [
        {
          "output_type": "stream",
          "name": "stdout",
          "text": [
            "+--------+--------------------+-----+--------------------+\n",
            "| A17    | A17(0)             | ... | A17(2)             |\n",
            "+--------+--------------------+-----+--------------------+\n",
            "| A19    | A19(0)             | ... | A19(2)             |\n",
            "+--------+--------------------+-----+--------------------+\n",
            "| A20    | A20(0)             | ... | A20(1)             |\n",
            "+--------+--------------------+-----+--------------------+\n",
            "| A21    | A21(0)             | ... | A21(2)             |\n",
            "+--------+--------------------+-----+--------------------+\n",
            "| A22    | A22(0)             | ... | A22(2)             |\n",
            "+--------+--------------------+-----+--------------------+\n",
            "| A23    | A23(0)             | ... | A23(2)             |\n",
            "+--------+--------------------+-----+--------------------+\n",
            "| A24    | A24(0)             | ... | A24(1)             |\n",
            "+--------+--------------------+-----+--------------------+\n",
            "| A8     | A8(0)              | ... | A8(2)              |\n",
            "+--------+--------------------+-----+--------------------+\n",
            "| A18(0) | 0.3333333333333333 | ... | 0.3333333333333333 |\n",
            "+--------+--------------------+-----+--------------------+\n",
            "| A18(1) | 0.3333333333333333 | ... | 0.3333333333333333 |\n",
            "+--------+--------------------+-----+--------------------+\n",
            "| A18(2) | 0.3333333333333333 | ... | 0.3333333333333333 |\n",
            "+--------+--------------------+-----+--------------------+\n",
            "+------+--------+--------+--------+-----+--------+--------+--------+\n",
            "| A17  | A17(0) | A17(0) | A17(0) | ... | A17(2) | A17(2) | A17(2) |\n",
            "+------+--------+--------+--------+-----+--------+--------+--------+\n",
            "| A18  | A18(0) | A18(0) | A18(0) | ... | A18(2) | A18(2) | A18(2) |\n",
            "+------+--------+--------+--------+-----+--------+--------+--------+\n",
            "| A20  | A20(0) | A20(0) | A20(0) | ... | A20(1) | A20(1) | A20(1) |\n",
            "+------+--------+--------+--------+-----+--------+--------+--------+\n",
            "| A21  | A21(0) | A21(0) | A21(0) | ... | A21(2) | A21(2) | A21(2) |\n",
            "+------+--------+--------+--------+-----+--------+--------+--------+\n",
            "| A22  | A22(0) | A22(0) | A22(0) | ... | A22(2) | A22(2) | A22(2) |\n",
            "+------+--------+--------+--------+-----+--------+--------+--------+\n",
            "| A23  | A23(0) | A23(0) | A23(0) | ... | A23(2) | A23(2) | A23(2) |\n",
            "+------+--------+--------+--------+-----+--------+--------+--------+\n",
            "| A24  | A24(0) | A24(0) | A24(0) | ... | A24(1) | A24(1) | A24(1) |\n",
            "+------+--------+--------+--------+-----+--------+--------+--------+\n",
            "| A8   | A8(0)  | A8(1)  | A8(2)  | ... | A8(0)  | A8(1)  | A8(2)  |\n",
            "+------+--------+--------+--------+-----+--------+--------+--------+\n",
            "| Y(0) | 0.5    | 0.5    | 0.5    | ... | 0.5    | 0.5    | 0.5    |\n",
            "+------+--------+--------+--------+-----+--------+--------+--------+\n",
            "| Y(1) | 0.5    | 0.5    | 0.5    | ... | 0.5    | 0.5    | 0.5    |\n",
            "+------+--------+--------+--------+-----+--------+--------+--------+\n",
            "+-------+----------+\n",
            "| A8(0) | 0.108527 |\n",
            "+-------+----------+\n",
            "| A8(1) | 0.736434 |\n",
            "+-------+----------+\n",
            "| A8(2) | 0.155039 |\n",
            "+-------+----------+\n",
            "+--------+----------+\n",
            "| A17(0) | 0.178295 |\n",
            "+--------+----------+\n",
            "| A17(1) | 0.666667 |\n",
            "+--------+----------+\n",
            "| A17(2) | 0.155039 |\n",
            "+--------+----------+\n",
            "+--------+----------+\n",
            "| A20(0) | 0.290698 |\n",
            "+--------+----------+\n",
            "| A20(1) | 0.709302 |\n",
            "+--------+----------+\n",
            "+--------+----------+\n",
            "| A21(0) | 0.131783 |\n",
            "+--------+----------+\n",
            "| A21(1) | 0.713178 |\n",
            "+--------+----------+\n",
            "| A21(2) | 0.155039 |\n",
            "+--------+----------+\n",
            "+--------+----------+\n",
            "| A22(0) | 0.20155  |\n",
            "+--------+----------+\n",
            "| A22(1) | 0.643411 |\n",
            "+--------+----------+\n",
            "| A22(2) | 0.155039 |\n",
            "+--------+----------+\n",
            "+--------+----------+\n",
            "| A23(0) | 0.155039 |\n",
            "+--------+----------+\n",
            "| A23(1) | 0.736434 |\n",
            "+--------+----------+\n",
            "| A23(2) | 0.108527 |\n",
            "+--------+----------+\n",
            "+--------+----------+\n",
            "| A24(0) | 0.453488 |\n",
            "+--------+----------+\n",
            "| A24(1) | 0.546512 |\n",
            "+--------+----------+\n",
            "+--------+-----------+\n",
            "| A19(0) | 0.271318  |\n",
            "+--------+-----------+\n",
            "| A19(1) | 0.666667  |\n",
            "+--------+-----------+\n",
            "| A19(2) | 0.0620155 |\n",
            "+--------+-----------+\n"
          ]
        }
      ]
    },
    {
      "cell_type": "code",
      "source": [
        "from pgmpy.inference import VariableElimination\n",
        "\n",
        "# Crear objeto de inferencia\n",
        "infer = VariableElimination(modelo)\n",
        "\n",
        "# Calcular la probabilidad de lluvia dado el clima es frío y la temperatura es alta\n",
        "q = infer.query(['Y'], evidence={'A23': 0, 'A8': 1})\n",
        "print(q)"
      ],
      "metadata": {
        "id": "z9J1hl2kzGGr",
        "outputId": "b519fd58-aabe-46fa-97e9-bcceab2dec01",
        "colab": {
          "base_uri": "https://localhost:8080/"
        }
      },
      "execution_count": 13,
      "outputs": [
        {
          "output_type": "stream",
          "name": "stdout",
          "text": [
            "+------+----------+\n",
            "| Y    |   phi(Y) |\n",
            "+======+==========+\n",
            "| Y(0) |   0.4406 |\n",
            "+------+----------+\n",
            "| Y(1) |   0.5594 |\n",
            "+------+----------+\n"
          ]
        }
      ]
    },
    {
      "cell_type": "markdown",
      "source": [
        "#Dependencia de las variables teniendo cuenta las probabilidades:(Analisis de escenarios)"
      ],
      "metadata": {
        "id": "iPM6KavAEqmE"
      }
    },
    {
      "cell_type": "code",
      "source": [
        "from pgmpy.models import BayesianNetwork\n",
        "from pgmpy.factors.discrete import TabularCPD\n",
        "\n",
        "# Crear modelo de red bayesiana\n",
        "model = BayesianNetwork([('A1', 'Y'), ('A2', 'Y')])"
      ],
      "metadata": {
        "id": "4TWhL8z2GQCD"
      },
      "execution_count": null,
      "outputs": []
    },
    {
      "cell_type": "code",
      "source": [
        "# Definir las distribuciones de probabilidad condicional\n",
        "# Definir las distribuciones de probabilidad condicional\n",
        "cpd_clima = TabularCPD('A1',2, [[0.95], [0.05]])\n",
        "cpd_temperatura = TabularCPD('A2', 3, [[0.97], [0.03],[0.0]])\n",
        "cpd_lluvia = TabularCPD('Y',2,\n",
        "                        [[0.75, 0.2, 0.6, 0.9], \n",
        "                         [0.25, 0.8, 0.4, 0.1]], \n",
        "                        evidence=['A1', 'A2'], \n",
        "                        evidence_card=[2, 2])\n",
        "print(cpd_lluvia)"
      ],
      "metadata": {
        "colab": {
          "base_uri": "https://localhost:8080/",
          "height": 373
        },
        "id": "G2pgkJh1GW98",
        "outputId": "ca6b7442-ef2c-4d00-cb98-b56d28548d9b"
      },
      "execution_count": null,
      "outputs": [
        {
          "output_type": "error",
          "ename": "ValueError",
          "evalue": "ignored",
          "traceback": [
            "\u001b[0;31m---------------------------------------------------------------------------\u001b[0m",
            "\u001b[0;31mValueError\u001b[0m                                Traceback (most recent call last)",
            "\u001b[0;32m<ipython-input-63-5f38c5803a21>\u001b[0m in \u001b[0;36m<cell line: 5>\u001b[0;34m()\u001b[0m\n\u001b[1;32m      3\u001b[0m \u001b[0mcpd_clima\u001b[0m \u001b[0;34m=\u001b[0m \u001b[0mTabularCPD\u001b[0m\u001b[0;34m(\u001b[0m\u001b[0;34m'A1'\u001b[0m\u001b[0;34m,\u001b[0m\u001b[0;36m2\u001b[0m\u001b[0;34m,\u001b[0m \u001b[0;34m[\u001b[0m\u001b[0;34m[\u001b[0m\u001b[0;36m0.95\u001b[0m\u001b[0;34m]\u001b[0m\u001b[0;34m,\u001b[0m \u001b[0;34m[\u001b[0m\u001b[0;36m0.05\u001b[0m\u001b[0;34m]\u001b[0m\u001b[0;34m]\u001b[0m\u001b[0;34m)\u001b[0m\u001b[0;34m\u001b[0m\u001b[0;34m\u001b[0m\u001b[0m\n\u001b[1;32m      4\u001b[0m \u001b[0mcpd_temperatura\u001b[0m \u001b[0;34m=\u001b[0m \u001b[0mTabularCPD\u001b[0m\u001b[0;34m(\u001b[0m\u001b[0;34m'A2'\u001b[0m\u001b[0;34m,\u001b[0m \u001b[0;36m3\u001b[0m\u001b[0;34m,\u001b[0m \u001b[0;34m[\u001b[0m\u001b[0;34m[\u001b[0m\u001b[0;36m0.97\u001b[0m\u001b[0;34m]\u001b[0m\u001b[0;34m,\u001b[0m \u001b[0;34m[\u001b[0m\u001b[0;36m0.03\u001b[0m\u001b[0;34m]\u001b[0m\u001b[0;34m,\u001b[0m\u001b[0;34m[\u001b[0m\u001b[0;36m0.0\u001b[0m\u001b[0;34m]\u001b[0m\u001b[0;34m]\u001b[0m\u001b[0;34m)\u001b[0m\u001b[0;34m\u001b[0m\u001b[0;34m\u001b[0m\u001b[0m\n\u001b[0;32m----> 5\u001b[0;31m cpd_lluvia = TabularCPD('Y',2,\n\u001b[0m\u001b[1;32m      6\u001b[0m                         [[0.75, 0.2, 0.6, 0.9], \n\u001b[1;32m      7\u001b[0m                          [0.25, 0.8, 0.4, 0.1]], \n",
            "\u001b[0;32m/usr/local/lib/python3.9/dist-packages/pgmpy/factors/discrete/CPD.py\u001b[0m in \u001b[0;36m__init__\u001b[0;34m(self, variable, variable_card, values, evidence, evidence_card, state_names)\u001b[0m\n\u001b[1;32m    131\u001b[0m             \u001b[0mexpected_cpd_shape\u001b[0m \u001b[0;34m=\u001b[0m \u001b[0;34m(\u001b[0m\u001b[0mvariable_card\u001b[0m\u001b[0;34m,\u001b[0m \u001b[0mnp\u001b[0m\u001b[0;34m.\u001b[0m\u001b[0mproduct\u001b[0m\u001b[0;34m(\u001b[0m\u001b[0mevidence_card\u001b[0m\u001b[0;34m)\u001b[0m\u001b[0;34m)\u001b[0m\u001b[0;34m\u001b[0m\u001b[0;34m\u001b[0m\u001b[0m\n\u001b[1;32m    132\u001b[0m         \u001b[0;32mif\u001b[0m \u001b[0mvalues\u001b[0m\u001b[0;34m.\u001b[0m\u001b[0mshape\u001b[0m \u001b[0;34m!=\u001b[0m \u001b[0mexpected_cpd_shape\u001b[0m\u001b[0;34m:\u001b[0m\u001b[0;34m\u001b[0m\u001b[0;34m\u001b[0m\u001b[0m\n\u001b[0;32m--> 133\u001b[0;31m             raise ValueError(\n\u001b[0m\u001b[1;32m    134\u001b[0m                 \u001b[0;34mf\"values must be of shape {expected_cpd_shape}. Got shape: {values.shape}\"\u001b[0m\u001b[0;34m\u001b[0m\u001b[0;34m\u001b[0m\u001b[0m\n\u001b[1;32m    135\u001b[0m             )\n",
            "\u001b[0;31mValueError\u001b[0m: values must be of shape (2, 6). Got shape: (2, 4)"
          ]
        }
      ]
    },
    {
      "cell_type": "code",
      "source": [
        "# Asignar las distribuciones de probabilidad condicional al modelo\n",
        "model.add_cpds(cpd_clima,cpd_temperatura,cpd_lluvia)"
      ],
      "metadata": {
        "id": "B4XhSY4kGetT"
      },
      "execution_count": null,
      "outputs": []
    },
    {
      "cell_type": "code",
      "source": [
        "from pgmpy.inference import VariableElimination\n",
        "\n",
        "# Crear objeto de inferencia\n",
        "infer = VariableElimination(model)\n",
        "\n",
        "# Calcular la probabilidad de lluvia dado el clima es frío y la temperatura es alta\n",
        "q = infer.query(['Y'], evidence={'A1': 1, 'A2': 1})\n",
        "print(q)"
      ],
      "metadata": {
        "colab": {
          "base_uri": "https://localhost:8080/",
          "height": 380
        },
        "id": "nzSGLRHvGkrr",
        "outputId": "78caefe2-a41f-469e-f167-a229c64110d9"
      },
      "execution_count": null,
      "outputs": [
        {
          "output_type": "error",
          "ename": "ValueError",
          "evalue": "ignored",
          "traceback": [
            "\u001b[0;31m---------------------------------------------------------------------------\u001b[0m",
            "\u001b[0;31mValueError\u001b[0m                                Traceback (most recent call last)",
            "\u001b[0;32m<ipython-input-62-0081c4a6da48>\u001b[0m in \u001b[0;36m<cell line: 4>\u001b[0;34m()\u001b[0m\n\u001b[1;32m      2\u001b[0m \u001b[0;34m\u001b[0m\u001b[0m\n\u001b[1;32m      3\u001b[0m \u001b[0;31m# Crear objeto de inferencia\u001b[0m\u001b[0;34m\u001b[0m\u001b[0;34m\u001b[0m\u001b[0m\n\u001b[0;32m----> 4\u001b[0;31m \u001b[0minfer\u001b[0m \u001b[0;34m=\u001b[0m \u001b[0mVariableElimination\u001b[0m\u001b[0;34m(\u001b[0m\u001b[0mmodel\u001b[0m\u001b[0;34m)\u001b[0m\u001b[0;34m\u001b[0m\u001b[0;34m\u001b[0m\u001b[0m\n\u001b[0m\u001b[1;32m      5\u001b[0m \u001b[0;34m\u001b[0m\u001b[0m\n\u001b[1;32m      6\u001b[0m \u001b[0;31m# Calcular la probabilidad de lluvia dado el clima es frío y la temperatura es alta\u001b[0m\u001b[0;34m\u001b[0m\u001b[0;34m\u001b[0m\u001b[0m\n",
            "\u001b[0;32m/usr/local/lib/python3.9/dist-packages/pgmpy/inference/base.py\u001b[0m in \u001b[0;36m__init__\u001b[0;34m(self, model)\u001b[0m\n\u001b[1;32m     65\u001b[0m     \u001b[0;32mdef\u001b[0m \u001b[0m__init__\u001b[0m\u001b[0;34m(\u001b[0m\u001b[0mself\u001b[0m\u001b[0;34m,\u001b[0m \u001b[0mmodel\u001b[0m\u001b[0;34m)\u001b[0m\u001b[0;34m:\u001b[0m\u001b[0;34m\u001b[0m\u001b[0;34m\u001b[0m\u001b[0m\n\u001b[1;32m     66\u001b[0m         \u001b[0mself\u001b[0m\u001b[0;34m.\u001b[0m\u001b[0mmodel\u001b[0m \u001b[0;34m=\u001b[0m \u001b[0mmodel\u001b[0m\u001b[0;34m\u001b[0m\u001b[0;34m\u001b[0m\u001b[0m\n\u001b[0;32m---> 67\u001b[0;31m         \u001b[0mmodel\u001b[0m\u001b[0;34m.\u001b[0m\u001b[0mcheck_model\u001b[0m\u001b[0;34m(\u001b[0m\u001b[0;34m)\u001b[0m\u001b[0;34m\u001b[0m\u001b[0;34m\u001b[0m\u001b[0m\n\u001b[0m\u001b[1;32m     68\u001b[0m \u001b[0;34m\u001b[0m\u001b[0m\n\u001b[1;32m     69\u001b[0m         \u001b[0;32mif\u001b[0m \u001b[0misinstance\u001b[0m\u001b[0;34m(\u001b[0m\u001b[0mself\u001b[0m\u001b[0;34m.\u001b[0m\u001b[0mmodel\u001b[0m\u001b[0;34m,\u001b[0m \u001b[0mJunctionTree\u001b[0m\u001b[0;34m)\u001b[0m\u001b[0;34m:\u001b[0m\u001b[0;34m\u001b[0m\u001b[0;34m\u001b[0m\u001b[0m\n",
            "\u001b[0;32m/usr/local/lib/python3.9/dist-packages/pgmpy/models/BayesianNetwork.py\u001b[0m in \u001b[0;36mcheck_model\u001b[0;34m(self)\u001b[0m\n\u001b[1;32m    436\u001b[0m                 \u001b[0;31m# Check if the evidence cardinality specified is same as parent's cardinality\u001b[0m\u001b[0;34m\u001b[0m\u001b[0;34m\u001b[0m\u001b[0m\n\u001b[1;32m    437\u001b[0m                 \u001b[0;32mif\u001b[0m \u001b[0mparent_cpd\u001b[0m\u001b[0;34m.\u001b[0m\u001b[0mcardinality\u001b[0m\u001b[0;34m[\u001b[0m\u001b[0;36m0\u001b[0m\u001b[0;34m]\u001b[0m \u001b[0;34m!=\u001b[0m \u001b[0mcpd\u001b[0m\u001b[0;34m.\u001b[0m\u001b[0mcardinality\u001b[0m\u001b[0;34m[\u001b[0m\u001b[0;36m1\u001b[0m \u001b[0;34m+\u001b[0m \u001b[0mindex\u001b[0m\u001b[0;34m]\u001b[0m\u001b[0;34m:\u001b[0m\u001b[0;34m\u001b[0m\u001b[0;34m\u001b[0m\u001b[0m\n\u001b[0;32m--> 438\u001b[0;31m                     raise ValueError(\n\u001b[0m\u001b[1;32m    439\u001b[0m                         \u001b[0;34mf\"The cardinality of {node} doesn't match in it's child nodes.\"\u001b[0m\u001b[0;34m\u001b[0m\u001b[0;34m\u001b[0m\u001b[0m\n\u001b[1;32m    440\u001b[0m                     )\n",
            "\u001b[0;31mValueError\u001b[0m: The cardinality of A2 doesn't match in it's child nodes."
          ]
        }
      ]
    },
    {
      "cell_type": "code",
      "source": [
        "import networkx as nx\n",
        "import matplotlib.pyplot as plt\n",
        "\n",
        "# Crear un objeto de grafo NetworkX a partir del modelo de red bayesiana\n",
        "G = nx.DiGraph(model.edges())\n",
        "G.add_node('Clima')\n",
        "G.add_node('Lluvia')\n",
        "G.add_node('Temperatura')\n",
        "\n",
        "# Dibujar grafo\n",
        "nx.draw_networkx(G, with_labels=True)\n",
        "plt.show()"
      ],
      "metadata": {
        "colab": {
          "base_uri": "https://localhost:8080/",
          "height": 248
        },
        "id": "I7uuMdUMGqPL",
        "outputId": "00cb29b1-9a3a-4383-dd41-04cb5f57bbb8"
      },
      "execution_count": null,
      "outputs": [
        {
          "output_type": "display_data",
          "data": {
            "text/plain": [
              "<Figure size 432x288 with 1 Axes>"
            ],
            "image/png": "[encoded data removed]"
          },
          "metadata": {}
        }
      ]
    },
    {
      "cell_type": "code",
      "source": [
        "list(G.nodes(data=True))"
      ],
      "metadata": {
        "colab": {
          "base_uri": "https://localhost:8080/"
        },
        "id": "xSZuqYGsGxnr",
        "outputId": "4dbda279-a994-4fca-cfdf-ae8311563515"
      },
      "execution_count": null,
      "outputs": [
        {
          "output_type": "execute_result",
          "data": {
            "text/plain": [
              "[('Clima', {}), ('Lluvia', {}), ('Temperatura', {})]"
            ]
          },
          "metadata": {},
          "execution_count": 7
        }
      ]
    }
  ]
}