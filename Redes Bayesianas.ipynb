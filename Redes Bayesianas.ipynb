{
  "nbformat": 4,
  "nbformat_minor": 0,
  "metadata": {
    "colab": {
      "provenance": [],
      "authorship_tag": "ABX9TyM0gBFzCxyJmJkPtCDtQ8xE",
      "include_colab_link": true
    },
    "kernelspec": {
      "name": "python3",
      "display_name": "Python 3"
    },
    "language_info": {
      "name": "python"
    }
  },
  "cells": [
    {
      "cell_type": "markdown",
      "metadata": {
        "id": "view-in-github",
        "colab_type": "text"
      },
      "source": [
        "<a href=\"https://colab.research.google.com/github/cybervalient/DeepMD_AWV/blob/main/Redes%20Bayesianas.ipynb\" target=\"_parent\"><img src=\"https://colab.research.google.com/assets/colab-badge.svg\" alt=\"Open In Colab\"/></a>"
      ]
    },
    {
      "cell_type": "markdown",
      "source": [
        "Teorema de Bayes\n",
        "Ir a la navegaciónIr a la búsqueda\n",
        "\n",
        "Un letrero de neón que muestra el enunciado del teorema de Bayes\n",
        "El teorema de Bayes, en la teoría de la probabilidad, es una proposición planteada por el matemático inglés Thomas Bayes (1702-1761)1​ y publicada póstumamente en 1763,2​ que expresa la probabilidad condicional de un evento aleatorio \n",
        "�\n",
        "A dado \n",
        "�\n",
        "B en términos de la distribución de probabilidad condicional del evento \n",
        "�\n",
        "B dado \n",
        "�\n",
        "A y la distribución de probabilidad marginal de solo \n",
        "�\n",
        "A.\n",
        "\n",
        "En términos más generales y menos matemáticos, el teorema de Bayes es de enorme relevancia puesto que vincula la probabilidad de \n",
        "�\n",
        "A dado \n",
        "�\n",
        "B con la probabilidad de \n",
        "�\n",
        "B dado \n",
        "�\n",
        "A. Es decir, por ejemplo, que sabiendo la probabilidad de tener un dolor de cabeza dado que se tiene gripe, se podría saber (si se tiene algún dato más), la probabilidad de tener gripe si se tiene un dolor de cabeza. Muestra este sencillo ejemplo la alta relevancia del teorema en cuestión para la ciencia en todas sus ramas, puesto que tiene vinculación íntima con la comprensión de la probabilidad de aspectos causales dados los efectos observados.\n",
        "https://es.wikipedia.org/wiki/Teorema_de_Bayes"
      ],
      "metadata": {
        "id": "p7yoQWc5Fu20"
      }
    },
    {
      "cell_type": "code",
      "execution_count": 1,
      "metadata": {
        "colab": {
          "base_uri": "https://localhost:8080/"
        },
        "id": "t04HD0w2FbyS",
        "outputId": "2d169e86-b2f5-4d7e-deb7-d506c753a282"
      },
      "outputs": [
        {
          "output_type": "stream",
          "name": "stdout",
          "text": [
            "Looking in indexes: https://pypi.org/simple, https://us-python.pkg.dev/colab-wheels/public/simple/\n",
            "Collecting pgmpy\n",
            "  Downloading pgmpy-0.1.21-py3-none-any.whl (1.9 MB)\n",
            "\u001b[2K     \u001b[90m━━━━━━━━━━━━━━━━━━━━━━━━━━━━━━━━━━━━━━━━\u001b[0m \u001b[32m1.9/1.9 MB\u001b[0m \u001b[31m15.4 MB/s\u001b[0m eta \u001b[36m0:00:00\u001b[0m\n",
            "\u001b[?25hRequirement already satisfied: networkx in /usr/local/lib/python3.9/dist-packages (from pgmpy) (3.0)\n",
            "Requirement already satisfied: pandas in /usr/local/lib/python3.9/dist-packages (from pgmpy) (1.4.4)\n",
            "Requirement already satisfied: pyparsing in /usr/local/lib/python3.9/dist-packages (from pgmpy) (3.0.9)\n",
            "Requirement already satisfied: tqdm in /usr/local/lib/python3.9/dist-packages (from pgmpy) (4.65.0)\n",
            "Requirement already satisfied: opt-einsum in /usr/local/lib/python3.9/dist-packages (from pgmpy) (3.3.0)\n",
            "Requirement already satisfied: statsmodels in /usr/local/lib/python3.9/dist-packages (from pgmpy) (0.13.5)\n",
            "Requirement already satisfied: joblib in /usr/local/lib/python3.9/dist-packages (from pgmpy) (1.1.1)\n",
            "Requirement already satisfied: numpy in /usr/local/lib/python3.9/dist-packages (from pgmpy) (1.22.4)\n",
            "Requirement already satisfied: torch in /usr/local/lib/python3.9/dist-packages (from pgmpy) (1.13.1+cu116)\n",
            "Requirement already satisfied: scikit-learn in /usr/local/lib/python3.9/dist-packages (from pgmpy) (1.2.2)\n",
            "Requirement already satisfied: scipy in /usr/local/lib/python3.9/dist-packages (from pgmpy) (1.10.1)\n",
            "Requirement already satisfied: pytz>=2020.1 in /usr/local/lib/python3.9/dist-packages (from pandas->pgmpy) (2022.7.1)\n",
            "Requirement already satisfied: python-dateutil>=2.8.1 in /usr/local/lib/python3.9/dist-packages (from pandas->pgmpy) (2.8.2)\n",
            "Requirement already satisfied: threadpoolctl>=2.0.0 in /usr/local/lib/python3.9/dist-packages (from scikit-learn->pgmpy) (3.1.0)\n",
            "Requirement already satisfied: packaging>=21.3 in /usr/local/lib/python3.9/dist-packages (from statsmodels->pgmpy) (23.0)\n",
            "Requirement already satisfied: patsy>=0.5.2 in /usr/local/lib/python3.9/dist-packages (from statsmodels->pgmpy) (0.5.3)\n",
            "Requirement already satisfied: typing-extensions in /usr/local/lib/python3.9/dist-packages (from torch->pgmpy) (4.5.0)\n",
            "Requirement already satisfied: six in /usr/local/lib/python3.9/dist-packages (from patsy>=0.5.2->statsmodels->pgmpy) (1.16.0)\n",
            "Installing collected packages: pgmpy\n",
            "Successfully installed pgmpy-0.1.21\n"
          ]
        }
      ],
      "source": [
        "pip install pgmpy"
      ]
    },
    {
      "cell_type": "code",
      "source": [
        "from pgmpy.models import BayesianNetwork\n",
        "from pgmpy.factors.discrete import TabularCPD\n",
        "\n",
        "# Crear modelo de red bayesiana\n",
        "model = BayesianNetwork([('Clima', 'Lluvia'), ('Temperatura', 'Lluvia')])"
      ],
      "metadata": {
        "id": "4TWhL8z2GQCD"
      },
      "execution_count": 2,
      "outputs": []
    },
    {
      "cell_type": "code",
      "source": [
        "# Definir las distribuciones de probabilidad condicional\n",
        "# Definir las distribuciones de probabilidad condicional\n",
        "cpd_clima = TabularCPD('Clima',2, [[0.5], [0.5]])\n",
        "cpd_temperatura = TabularCPD('Temperatura', 2, [[0.4], [0.6]])\n",
        "cpd_lluvia = TabularCPD('Lluvia',3,\n",
        "                        [[0.8, 0.6, 0.4, 0.1], \n",
        "                         [0.1, 0.2, 0.3, 0.2],\n",
        "                         [0.1, 0.2, 0.3, 0.7]], \n",
        "                        evidence=['Clima', 'Temperatura'], \n",
        "                        evidence_card=[2, 2])\n",
        "print(cpd_lluvia)"
      ],
      "metadata": {
        "colab": {
          "base_uri": "https://localhost:8080/"
        },
        "id": "G2pgkJh1GW98",
        "outputId": "151ff622-2317-4f6d-ddf0-074c1f16f7ad"
      },
      "execution_count": 3,
      "outputs": [
        {
          "output_type": "stream",
          "name": "stdout",
          "text": [
            "+-------------+----------------+-----+----------------+----------------+\n",
            "| Clima       | Clima(0)       | ... | Clima(1)       | Clima(1)       |\n",
            "+-------------+----------------+-----+----------------+----------------+\n",
            "| Temperatura | Temperatura(0) | ... | Temperatura(0) | Temperatura(1) |\n",
            "+-------------+----------------+-----+----------------+----------------+\n",
            "| Lluvia(0)   | 0.8            | ... | 0.4            | 0.1            |\n",
            "+-------------+----------------+-----+----------------+----------------+\n",
            "| Lluvia(1)   | 0.1            | ... | 0.3            | 0.2            |\n",
            "+-------------+----------------+-----+----------------+----------------+\n",
            "| Lluvia(2)   | 0.1            | ... | 0.3            | 0.7            |\n",
            "+-------------+----------------+-----+----------------+----------------+\n"
          ]
        }
      ]
    },
    {
      "cell_type": "code",
      "source": [
        "# Asignar las distribuciones de probabilidad condicional al modelo\n",
        "model.add_cpds(cpd_clima,cpd_temperatura,cpd_lluvia)"
      ],
      "metadata": {
        "id": "B4XhSY4kGetT"
      },
      "execution_count": 4,
      "outputs": []
    },
    {
      "cell_type": "code",
      "source": [
        "from pgmpy.inference import VariableElimination\n",
        "\n",
        "# Crear objeto de inferencia\n",
        "infer = VariableElimination(model)\n",
        "\n",
        "# Calcular la probabilidad de lluvia dado el clima es frío y la temperatura es alta\n",
        "q = infer.query(['Lluvia'], evidence={'Clima': 1, 'Temperatura': 1})\n",
        "print(q)"
      ],
      "metadata": {
        "colab": {
          "base_uri": "https://localhost:8080/"
        },
        "id": "nzSGLRHvGkrr",
        "outputId": "9167cf17-1a15-4e2e-e6ff-95d654076ff7"
      },
      "execution_count": 5,
      "outputs": [
        {
          "output_type": "stream",
          "name": "stdout",
          "text": [
            "+-----------+---------------+\n",
            "| Lluvia    |   phi(Lluvia) |\n",
            "+===========+===============+\n",
            "| Lluvia(0) |        0.1000 |\n",
            "+-----------+---------------+\n",
            "| Lluvia(1) |        0.2000 |\n",
            "+-----------+---------------+\n",
            "| Lluvia(2) |        0.7000 |\n",
            "+-----------+---------------+\n"
          ]
        }
      ]
    },
    {
      "cell_type": "code",
      "source": [
        "import networkx as nx\n",
        "import matplotlib.pyplot as plt\n",
        "\n",
        "# Crear un objeto de grafo NetworkX a partir del modelo de red bayesiana\n",
        "G = nx.DiGraph(model.edges())\n",
        "G.add_node('Clima')\n",
        "G.add_node('Lluvia')\n",
        "G.add_node('Temperatura')\n",
        "\n",
        "# Dibujar grafo\n",
        "nx.draw_networkx(G, with_labels=True)\n",
        "plt.show()"
      ],
      "metadata": {
        "colab": {
          "base_uri": "https://localhost:8080/",
          "height": 248
        },
        "id": "I7uuMdUMGqPL",
        "outputId": "00cb29b1-9a3a-4383-dd41-04cb5f57bbb8"
      },
      "execution_count": 6,
      "outputs": [
        {
          "output_type": "display_data",
          "data": {
            "text/plain": [
              "<Figure size 432x288 with 1 Axes>"
            ],
            "image/png": "[encoded data removed]"
          },
          "metadata": {}
        }
      ]
    },
    {
      "cell_type": "code",
      "source": [
        "list(G.nodes(data=True))"
      ],
      "metadata": {
        "colab": {
          "base_uri": "https://localhost:8080/"
        },
        "id": "xSZuqYGsGxnr",
        "outputId": "4dbda279-a994-4fca-cfdf-ae8311563515"
      },
      "execution_count": 7,
      "outputs": [
        {
          "output_type": "execute_result",
          "data": {
            "text/plain": [
              "[('Clima', {}), ('Lluvia', {}), ('Temperatura', {})]"
            ]
          },
          "metadata": {},
          "execution_count": 7
        }
      ]
    },
    {
      "cell_type": "markdown",
      "source": [
        "Modelacinn con Redes Baysianas de una Base de concimiento"
      ],
      "metadata": {
        "id": "7B4ppZhEG8eb"
      }
    },
    {
      "cell_type": "code",
      "source": [
        "import pandas as pd\n",
        "from pgmpy.models import BayesianNetwork\n",
        "from pgmpy.estimators import MaximumLikelihoodEstimator, BayesianEstimator\n",
        "import networkx as nx\n",
        "import matplotlib.pyplot as plt\n",
        "from sklearn.datasets import load_iris\n",
        "import networkx as nx\n",
        "import matplotlib.pyplot as plt"
      ],
      "metadata": {
        "id": "mlKgZNPtG28j"
      },
      "execution_count": 8,
      "outputs": []
    },
    {
      "cell_type": "code",
      "source": [
        "# Cargar datos\n",
        "datos = load_iris()\n",
        "df = pd.DataFrame(data=datos.data, columns=datos.feature_names)\n",
        "#df = pd.read_csv('iris.csv')"
      ],
      "metadata": {
        "id": "vQqUjaBXHTej"
      },
      "execution_count": 14,
      "outputs": []
    },
    {
      "cell_type": "code",
      "source": [
        "# Crear modelo bayesiano\n",
        "modelo = BayesianNetwork([('petal width (cm)', 'petal length (cm)'), ('petal length (cm)', 'sepal length (cm)'), ('sepal length (cm)', 'sepal width (cm)')])"
      ],
      "metadata": {
        "id": "qnbQWwPRHZNj"
      },
      "execution_count": 10,
      "outputs": []
    },
    {
      "cell_type": "code",
      "source": [
        "# Estimación de máxima verosimilitud de los parámetros\n",
        "modelo.fit(df, estimator=MaximumLikelihoodEstimator)\n",
        "\n",
        "# Estimación bayesiana de los parámetros\n",
        "modelo.fit(df, estimator=BayesianEstimator)"
      ],
      "metadata": {
        "id": "tZbikoi5Hh2U"
      },
      "execution_count": 15,
      "outputs": []
    },
    {
      "cell_type": "code",
      "source": [
        "# Dibujar grafo\n",
        "G = nx.DiGraph(modelo.edges())\n",
        "G.add_node('petal width (cm)')\n",
        "G.add_node('petal length (cm)')\n",
        "G.add_node('sepal length (cm)')\n",
        "G.add_node('sepal width (cm)')\n",
        "nx.draw_networkx(G, with_labels=True)\n",
        "plt.show()"
      ],
      "metadata": {
        "colab": {
          "base_uri": "https://localhost:8080/",
          "height": 248
        },
        "id": "7J8Jvw53Hm7j",
        "outputId": "e1222777-20d5-4726-8a0a-7f4cee5da28c"
      },
      "execution_count": 16,
      "outputs": [
        {
          "output_type": "display_data",
          "data": {
            "text/plain": [
              "<Figure size 432x288 with 1 Axes>"
            ],
            "image/png": "[encoded data removed]"
          },
          "metadata": {}
        }
      ]
    },
    {
      "cell_type": "code",
      "source": [
        "# Imprimir las probabilidades condicionales\n",
        "for cpd in modelo.get_cpds():\n",
        "    print(cpd)"
      ],
      "metadata": {
        "colab": {
          "base_uri": "https://localhost:8080/"
        },
        "id": "eqiOnzfUH89U",
        "outputId": "7238441d-8767-4c41-f405-9daad2277a96"
      },
      "execution_count": 13,
      "outputs": [
        {
          "output_type": "stream",
          "name": "stdout",
          "text": [
            "+-----------------------+------------+\n",
            "| petal width (cm)(0.1) | 0.0337243  |\n",
            "+-----------------------+------------+\n",
            "| petal width (cm)(0.2) | 0.188563   |\n",
            "+-----------------------+------------+\n",
            "| petal width (cm)(0.3) | 0.0466276  |\n",
            "+-----------------------+------------+\n",
            "| petal width (cm)(0.4) | 0.0466276  |\n",
            "+-----------------------+------------+\n",
            "| petal width (cm)(0.5) | 0.00791789 |\n",
            "+-----------------------+------------+\n",
            "| petal width (cm)(0.6) | 0.00791789 |\n",
            "+-----------------------+------------+\n",
            "| petal width (cm)(1.0) | 0.0466276  |\n",
            "+-----------------------+------------+\n",
            "| petal width (cm)(1.1) | 0.0208211  |\n",
            "+-----------------------+------------+\n",
            "| petal width (cm)(1.2) | 0.0337243  |\n",
            "+-----------------------+------------+\n",
            "| petal width (cm)(1.3) | 0.0853372  |\n",
            "+-----------------------+------------+\n",
            "| petal width (cm)(1.4) | 0.0530792  |\n",
            "+-----------------------+------------+\n",
            "| petal width (cm)(1.5) | 0.0788856  |\n",
            "+-----------------------+------------+\n",
            "| petal width (cm)(1.6) | 0.0272727  |\n",
            "+-----------------------+------------+\n",
            "| petal width (cm)(1.7) | 0.0143695  |\n",
            "+-----------------------+------------+\n",
            "| petal width (cm)(1.8) | 0.0788856  |\n",
            "+-----------------------+------------+\n",
            "| petal width (cm)(1.9) | 0.0337243  |\n",
            "+-----------------------+------------+\n",
            "| petal width (cm)(2.0) | 0.040176   |\n",
            "+-----------------------+------------+\n",
            "| petal width (cm)(2.1) | 0.040176   |\n",
            "+-----------------------+------------+\n",
            "| petal width (cm)(2.2) | 0.0208211  |\n",
            "+-----------------------+------------+\n",
            "| petal width (cm)(2.3) | 0.0530792  |\n",
            "+-----------------------+------------+\n",
            "| petal width (cm)(2.4) | 0.0208211  |\n",
            "+-----------------------+------------+\n",
            "| petal width (cm)(2.5) | 0.0208211  |\n",
            "+-----------------------+------------+\n",
            "+------------------------+-----+-----------------------+\n",
            "| petal width (cm)       | ... | petal width (cm)(2.5) |\n",
            "+------------------------+-----+-----------------------+\n",
            "| petal length (cm)(1.0) | ... | 0.0016377333770062228 |\n",
            "+------------------------+-----+-----------------------+\n",
            "| petal length (cm)(1.1) | ... | 0.0016377333770062228 |\n",
            "+------------------------+-----+-----------------------+\n",
            "| petal length (cm)(1.2) | ... | 0.0016377333770062228 |\n",
            "+------------------------+-----+-----------------------+\n",
            "| petal length (cm)(1.3) | ... | 0.0016377333770062228 |\n",
            "+------------------------+-----+-----------------------+\n",
            "| petal length (cm)(1.4) | ... | 0.0016377333770062228 |\n",
            "+------------------------+-----+-----------------------+\n",
            "| petal length (cm)(1.5) | ... | 0.0016377333770062228 |\n",
            "+------------------------+-----+-----------------------+\n",
            "| petal length (cm)(1.6) | ... | 0.0016377333770062228 |\n",
            "+------------------------+-----+-----------------------+\n",
            "| petal length (cm)(1.7) | ... | 0.0016377333770062228 |\n",
            "+------------------------+-----+-----------------------+\n",
            "| petal length (cm)(1.9) | ... | 0.0016377333770062228 |\n",
            "+------------------------+-----+-----------------------+\n",
            "| petal length (cm)(3.0) | ... | 0.0016377333770062228 |\n",
            "+------------------------+-----+-----------------------+\n",
            "| petal length (cm)(3.3) | ... | 0.0016377333770062228 |\n",
            "+------------------------+-----+-----------------------+\n",
            "| petal length (cm)(3.5) | ... | 0.0016377333770062228 |\n",
            "+------------------------+-----+-----------------------+\n",
            "| petal length (cm)(3.6) | ... | 0.0016377333770062228 |\n",
            "+------------------------+-----+-----------------------+\n",
            "| petal length (cm)(3.7) | ... | 0.0016377333770062228 |\n",
            "+------------------------+-----+-----------------------+\n",
            "| petal length (cm)(3.8) | ... | 0.0016377333770062228 |\n",
            "+------------------------+-----+-----------------------+\n",
            "| petal length (cm)(3.9) | ... | 0.0016377333770062228 |\n",
            "+------------------------+-----+-----------------------+\n",
            "| petal length (cm)(4.0) | ... | 0.0016377333770062228 |\n",
            "+------------------------+-----+-----------------------+\n",
            "| petal length (cm)(4.1) | ... | 0.0016377333770062228 |\n",
            "+------------------------+-----+-----------------------+\n",
            "| petal length (cm)(4.2) | ... | 0.0016377333770062228 |\n",
            "+------------------------+-----+-----------------------+\n",
            "| petal length (cm)(4.3) | ... | 0.0016377333770062228 |\n",
            "+------------------------+-----+-----------------------+\n",
            "| petal length (cm)(4.4) | ... | 0.0016377333770062228 |\n",
            "+------------------------+-----+-----------------------+\n",
            "| petal length (cm)(4.5) | ... | 0.0016377333770062228 |\n",
            "+------------------------+-----+-----------------------+\n",
            "| petal length (cm)(4.6) | ... | 0.0016377333770062228 |\n",
            "+------------------------+-----+-----------------------+\n",
            "| petal length (cm)(4.7) | ... | 0.0016377333770062228 |\n",
            "+------------------------+-----+-----------------------+\n",
            "| petal length (cm)(4.8) | ... | 0.0016377333770062228 |\n",
            "+------------------------+-----+-----------------------+\n",
            "| petal length (cm)(4.9) | ... | 0.0016377333770062228 |\n",
            "+------------------------+-----+-----------------------+\n",
            "| petal length (cm)(5.0) | ... | 0.0016377333770062228 |\n",
            "+------------------------+-----+-----------------------+\n",
            "| petal length (cm)(5.1) | ... | 0.0016377333770062228 |\n",
            "+------------------------+-----+-----------------------+\n",
            "| petal length (cm)(5.2) | ... | 0.0016377333770062228 |\n",
            "+------------------------+-----+-----------------------+\n",
            "| petal length (cm)(5.3) | ... | 0.0016377333770062228 |\n",
            "+------------------------+-----+-----------------------+\n",
            "| petal length (cm)(5.4) | ... | 0.0016377333770062228 |\n",
            "+------------------------+-----+-----------------------+\n",
            "| petal length (cm)(5.5) | ... | 0.0016377333770062228 |\n",
            "+------------------------+-----+-----------------------+\n",
            "| petal length (cm)(5.6) | ... | 0.0016377333770062228 |\n",
            "+------------------------+-----+-----------------------+\n",
            "| petal length (cm)(5.7) | ... | 0.31149688830658356   |\n",
            "+------------------------+-----+-----------------------+\n",
            "| petal length (cm)(5.8) | ... | 0.0016377333770062228 |\n",
            "+------------------------+-----+-----------------------+\n",
            "| petal length (cm)(5.9) | ... | 0.0016377333770062228 |\n",
            "+------------------------+-----+-----------------------+\n",
            "| petal length (cm)(6.0) | ... | 0.31149688830658356   |\n",
            "+------------------------+-----+-----------------------+\n",
            "| petal length (cm)(6.1) | ... | 0.31149688830658356   |\n",
            "+------------------------+-----+-----------------------+\n",
            "| petal length (cm)(6.3) | ... | 0.0016377333770062228 |\n",
            "+------------------------+-----+-----------------------+\n",
            "| petal length (cm)(6.4) | ... | 0.0016377333770062228 |\n",
            "+------------------------+-----+-----------------------+\n",
            "| petal length (cm)(6.6) | ... | 0.0016377333770062228 |\n",
            "+------------------------+-----+-----------------------+\n",
            "| petal length (cm)(6.7) | ... | 0.0016377333770062228 |\n",
            "+------------------------+-----+-----------------------+\n",
            "| petal length (cm)(6.9) | ... | 0.0016377333770062228 |\n",
            "+------------------------+-----+-----------------------+\n",
            "+------------------------+-----+------------------------+\n",
            "| petal length (cm)      | ... | petal length (cm)(6.9) |\n",
            "+------------------------+-----+------------------------+\n",
            "| sepal length (cm)(4.3) | ... | 0.002976190476190477   |\n",
            "+------------------------+-----+------------------------+\n",
            "| sepal length (cm)(4.4) | ... | 0.002976190476190477   |\n",
            "+------------------------+-----+------------------------+\n",
            "| sepal length (cm)(4.5) | ... | 0.002976190476190477   |\n",
            "+------------------------+-----+------------------------+\n",
            "| sepal length (cm)(4.6) | ... | 0.002976190476190477   |\n",
            "+------------------------+-----+------------------------+\n",
            "| sepal length (cm)(4.7) | ... | 0.002976190476190477   |\n",
            "+------------------------+-----+------------------------+\n",
            "| sepal length (cm)(4.8) | ... | 0.002976190476190477   |\n",
            "+------------------------+-----+------------------------+\n",
            "| sepal length (cm)(4.9) | ... | 0.002976190476190477   |\n",
            "+------------------------+-----+------------------------+\n",
            "| sepal length (cm)(5.0) | ... | 0.002976190476190477   |\n",
            "+------------------------+-----+------------------------+\n",
            "| sepal length (cm)(5.1) | ... | 0.002976190476190477   |\n",
            "+------------------------+-----+------------------------+\n",
            "| sepal length (cm)(5.2) | ... | 0.002976190476190477   |\n",
            "+------------------------+-----+------------------------+\n",
            "| sepal length (cm)(5.3) | ... | 0.002976190476190477   |\n",
            "+------------------------+-----+------------------------+\n",
            "| sepal length (cm)(5.4) | ... | 0.002976190476190477   |\n",
            "+------------------------+-----+------------------------+\n",
            "| sepal length (cm)(5.5) | ... | 0.002976190476190477   |\n",
            "+------------------------+-----+------------------------+\n",
            "| sepal length (cm)(5.6) | ... | 0.002976190476190477   |\n",
            "+------------------------+-----+------------------------+\n",
            "| sepal length (cm)(5.7) | ... | 0.002976190476190477   |\n",
            "+------------------------+-----+------------------------+\n",
            "| sepal length (cm)(5.8) | ... | 0.002976190476190477   |\n",
            "+------------------------+-----+------------------------+\n",
            "| sepal length (cm)(5.9) | ... | 0.002976190476190477   |\n",
            "+------------------------+-----+------------------------+\n",
            "| sepal length (cm)(6.0) | ... | 0.002976190476190477   |\n",
            "+------------------------+-----+------------------------+\n",
            "| sepal length (cm)(6.1) | ... | 0.002976190476190477   |\n",
            "+------------------------+-----+------------------------+\n",
            "| sepal length (cm)(6.2) | ... | 0.002976190476190477   |\n",
            "+------------------------+-----+------------------------+\n",
            "| sepal length (cm)(6.3) | ... | 0.002976190476190477   |\n",
            "+------------------------+-----+------------------------+\n",
            "| sepal length (cm)(6.4) | ... | 0.002976190476190477   |\n",
            "+------------------------+-----+------------------------+\n",
            "| sepal length (cm)(6.5) | ... | 0.002976190476190477   |\n",
            "+------------------------+-----+------------------------+\n",
            "| sepal length (cm)(6.6) | ... | 0.002976190476190477   |\n",
            "+------------------------+-----+------------------------+\n",
            "| sepal length (cm)(6.7) | ... | 0.002976190476190477   |\n",
            "+------------------------+-----+------------------------+\n",
            "| sepal length (cm)(6.8) | ... | 0.002976190476190477   |\n",
            "+------------------------+-----+------------------------+\n",
            "| sepal length (cm)(6.9) | ... | 0.002976190476190477   |\n",
            "+------------------------+-----+------------------------+\n",
            "| sepal length (cm)(7.0) | ... | 0.002976190476190477   |\n",
            "+------------------------+-----+------------------------+\n",
            "| sepal length (cm)(7.1) | ... | 0.002976190476190477   |\n",
            "+------------------------+-----+------------------------+\n",
            "| sepal length (cm)(7.2) | ... | 0.002976190476190477   |\n",
            "+------------------------+-----+------------------------+\n",
            "| sepal length (cm)(7.3) | ... | 0.002976190476190477   |\n",
            "+------------------------+-----+------------------------+\n",
            "| sepal length (cm)(7.4) | ... | 0.002976190476190477   |\n",
            "+------------------------+-----+------------------------+\n",
            "| sepal length (cm)(7.6) | ... | 0.002976190476190477   |\n",
            "+------------------------+-----+------------------------+\n",
            "| sepal length (cm)(7.7) | ... | 0.898809523809524      |\n",
            "+------------------------+-----+------------------------+\n",
            "| sepal length (cm)(7.9) | ... | 0.002976190476190477   |\n",
            "+------------------------+-----+------------------------+\n",
            "+-----------------------+-----+------------------------+\n",
            "| sepal length (cm)     | ... | sepal length (cm)(7.9) |\n",
            "+-----------------------+-----+------------------------+\n",
            "| sepal width (cm)(2.0) | ... | 0.005434782608695655   |\n",
            "+-----------------------+-----+------------------------+\n",
            "| sepal width (cm)(2.2) | ... | 0.005434782608695655   |\n",
            "+-----------------------+-----+------------------------+\n",
            "| sepal width (cm)(2.3) | ... | 0.005434782608695655   |\n",
            "+-----------------------+-----+------------------------+\n",
            "| sepal width (cm)(2.4) | ... | 0.005434782608695655   |\n",
            "+-----------------------+-----+------------------------+\n",
            "| sepal width (cm)(2.5) | ... | 0.005434782608695655   |\n",
            "+-----------------------+-----+------------------------+\n",
            "| sepal width (cm)(2.6) | ... | 0.005434782608695655   |\n",
            "+-----------------------+-----+------------------------+\n",
            "| sepal width (cm)(2.7) | ... | 0.005434782608695655   |\n",
            "+-----------------------+-----+------------------------+\n",
            "| sepal width (cm)(2.8) | ... | 0.005434782608695655   |\n",
            "+-----------------------+-----+------------------------+\n",
            "| sepal width (cm)(2.9) | ... | 0.005434782608695655   |\n",
            "+-----------------------+-----+------------------------+\n",
            "| sepal width (cm)(3.0) | ... | 0.005434782608695655   |\n",
            "+-----------------------+-----+------------------------+\n",
            "| sepal width (cm)(3.1) | ... | 0.005434782608695655   |\n",
            "+-----------------------+-----+------------------------+\n",
            "| sepal width (cm)(3.2) | ... | 0.005434782608695655   |\n",
            "+-----------------------+-----+------------------------+\n",
            "| sepal width (cm)(3.3) | ... | 0.005434782608695655   |\n",
            "+-----------------------+-----+------------------------+\n",
            "| sepal width (cm)(3.4) | ... | 0.005434782608695655   |\n",
            "+-----------------------+-----+------------------------+\n",
            "| sepal width (cm)(3.5) | ... | 0.005434782608695655   |\n",
            "+-----------------------+-----+------------------------+\n",
            "| sepal width (cm)(3.6) | ... | 0.005434782608695655   |\n",
            "+-----------------------+-----+------------------------+\n",
            "| sepal width (cm)(3.7) | ... | 0.005434782608695655   |\n",
            "+-----------------------+-----+------------------------+\n",
            "| sepal width (cm)(3.8) | ... | 0.880434782608696      |\n",
            "+-----------------------+-----+------------------------+\n",
            "| sepal width (cm)(3.9) | ... | 0.005434782608695655   |\n",
            "+-----------------------+-----+------------------------+\n",
            "| sepal width (cm)(4.0) | ... | 0.005434782608695655   |\n",
            "+-----------------------+-----+------------------------+\n",
            "| sepal width (cm)(4.1) | ... | 0.005434782608695655   |\n",
            "+-----------------------+-----+------------------------+\n",
            "| sepal width (cm)(4.2) | ... | 0.005434782608695655   |\n",
            "+-----------------------+-----+------------------------+\n",
            "| sepal width (cm)(4.4) | ... | 0.005434782608695655   |\n",
            "+-----------------------+-----+------------------------+\n"
          ]
        }
      ]
    }
  ]
}