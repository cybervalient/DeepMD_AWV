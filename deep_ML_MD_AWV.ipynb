{
  "nbformat": 4,
  "nbformat_minor": 0,
  "metadata": {
    "colab": {
      "name": "Untitled0.ipynb",
      "provenance": [],
      "authorship_tag": "ABX9TyNkFIDE/VbfRBZCEwgWOhxM",
      "include_colab_link": true
    },
    "kernelspec": {
      "name": "python3",
      "display_name": "Python 3"
    },
    "language_info": {
      "name": "python"
    }
  },
  "cells": [
    {
      "cell_type": "markdown",
      "metadata": {
        "id": "view-in-github",
        "colab_type": "text"
      },
      "source": [
        "<a href=\"https://colab.research.google.com/github/cybervalient/DeepMD_AWV/blob/main/deep_ML_MD_AWV.ipynb\" target=\"_parent\"><img src=\"https://colab.research.google.com/assets/colab-badge.svg\" alt=\"Open In Colab\"/></a>"
      ]
    },
    {
      "cell_type": "code",
      "execution_count": null,
      "metadata": {
        "colab": {
          "base_uri": "https://localhost:8080/"
        },
        "id": "xw0R56F33HYe",
        "outputId": "45805fc3-ea8b-446f-84e1-7da7b7b7aa98"
      },
      "outputs": [
        {
          "output_type": "stream",
          "name": "stdout",
          "text": [
            "Collecting h2o\n",
            "  Downloading h2o-3.36.0.3.tar.gz (176.2 MB)\n",
            "\u001b[K     |████████████████████████████████| 176.2 MB 76 kB/s \n",
            "\u001b[?25hRequirement already satisfied: requests in /usr/local/lib/python3.7/dist-packages (from h2o) (2.23.0)\n",
            "Requirement already satisfied: tabulate in /usr/local/lib/python3.7/dist-packages (from h2o) (0.8.9)\n",
            "Requirement already satisfied: future in /usr/local/lib/python3.7/dist-packages (from h2o) (0.16.0)\n",
            "Requirement already satisfied: idna<3,>=2.5 in /usr/local/lib/python3.7/dist-packages (from requests->h2o) (2.10)\n",
            "Requirement already satisfied: urllib3!=1.25.0,!=1.25.1,<1.26,>=1.21.1 in /usr/local/lib/python3.7/dist-packages (from requests->h2o) (1.24.3)\n",
            "Requirement already satisfied: certifi>=2017.4.17 in /usr/local/lib/python3.7/dist-packages (from requests->h2o) (2021.10.8)\n",
            "Requirement already satisfied: chardet<4,>=3.0.2 in /usr/local/lib/python3.7/dist-packages (from requests->h2o) (3.0.4)\n",
            "Building wheels for collected packages: h2o\n",
            "  Building wheel for h2o (setup.py) ... \u001b[?25l\u001b[?25hdone\n",
            "  Created wheel for h2o: filename=h2o-3.36.0.3-py2.py3-none-any.whl size=176244303 sha256=bbe2f0ec8e4abc45dd0f784a9be8f646169c8246a8517c7e730845727e718471\n",
            "  Stored in directory: /root/.cache/pip/wheels/b5/71/a5/02087a05e5644158183e1c58eeae3f9356a4d1e80659fb2dfb\n",
            "Successfully built h2o\n",
            "Installing collected packages: h2o\n",
            "Successfully installed h2o-3.36.0.3\n"
          ]
        }
      ],
      "source": [
        "!pip install h2o\n"
      ]
    },
    {
      "cell_type": "code",
      "source": [
        "!pip install tensorflow\n"
      ],
      "metadata": {
        "colab": {
          "base_uri": "https://localhost:8080/"
        },
        "id": "gLU324Tx4kJW",
        "outputId": "352bd468-090d-4b12-baa0-8a9722fcc6b3"
      },
      "execution_count": null,
      "outputs": [
        {
          "output_type": "stream",
          "name": "stdout",
          "text": [
            "Requirement already satisfied: tensorflow in /usr/local/lib/python3.7/dist-packages (2.8.0)\n",
            "Requirement already satisfied: protobuf>=3.9.2 in /usr/local/lib/python3.7/dist-packages (from tensorflow) (3.17.3)\n",
            "Requirement already satisfied: libclang>=9.0.1 in /usr/local/lib/python3.7/dist-packages (from tensorflow) (13.0.0)\n",
            "Requirement already satisfied: gast>=0.2.1 in /usr/local/lib/python3.7/dist-packages (from tensorflow) (0.5.3)\n",
            "Requirement already satisfied: opt-einsum>=2.3.2 in /usr/local/lib/python3.7/dist-packages (from tensorflow) (3.3.0)\n",
            "Requirement already satisfied: flatbuffers>=1.12 in /usr/local/lib/python3.7/dist-packages (from tensorflow) (2.0)\n",
            "Requirement already satisfied: absl-py>=0.4.0 in /usr/local/lib/python3.7/dist-packages (from tensorflow) (1.0.0)\n",
            "Requirement already satisfied: keras-preprocessing>=1.1.1 in /usr/local/lib/python3.7/dist-packages (from tensorflow) (1.1.2)\n",
            "Collecting tf-estimator-nightly==2.8.0.dev2021122109\n",
            "  Downloading tf_estimator_nightly-2.8.0.dev2021122109-py2.py3-none-any.whl (462 kB)\n",
            "\u001b[K     |████████████████████████████████| 462 kB 3.5 MB/s \n",
            "\u001b[?25hRequirement already satisfied: keras<2.9,>=2.8.0rc0 in /usr/local/lib/python3.7/dist-packages (from tensorflow) (2.8.0)\n",
            "Requirement already satisfied: tensorboard<2.9,>=2.8 in /usr/local/lib/python3.7/dist-packages (from tensorflow) (2.8.0)\n",
            "Requirement already satisfied: termcolor>=1.1.0 in /usr/local/lib/python3.7/dist-packages (from tensorflow) (1.1.0)\n",
            "Requirement already satisfied: grpcio<2.0,>=1.24.3 in /usr/local/lib/python3.7/dist-packages (from tensorflow) (1.44.0)\n",
            "Requirement already satisfied: tensorflow-io-gcs-filesystem>=0.23.1 in /usr/local/lib/python3.7/dist-packages (from tensorflow) (0.24.0)\n",
            "Requirement already satisfied: setuptools in /usr/local/lib/python3.7/dist-packages (from tensorflow) (57.4.0)\n",
            "Requirement already satisfied: wrapt>=1.11.0 in /usr/local/lib/python3.7/dist-packages (from tensorflow) (1.13.3)\n",
            "Requirement already satisfied: h5py>=2.9.0 in /usr/local/lib/python3.7/dist-packages (from tensorflow) (3.1.0)\n",
            "Requirement already satisfied: typing-extensions>=3.6.6 in /usr/local/lib/python3.7/dist-packages (from tensorflow) (3.10.0.2)\n",
            "Requirement already satisfied: six>=1.12.0 in /usr/local/lib/python3.7/dist-packages (from tensorflow) (1.15.0)\n",
            "Requirement already satisfied: numpy>=1.20 in /usr/local/lib/python3.7/dist-packages (from tensorflow) (1.21.5)\n",
            "Requirement already satisfied: astunparse>=1.6.0 in /usr/local/lib/python3.7/dist-packages (from tensorflow) (1.6.3)\n",
            "Requirement already satisfied: google-pasta>=0.1.1 in /usr/local/lib/python3.7/dist-packages (from tensorflow) (0.2.0)\n",
            "Requirement already satisfied: wheel<1.0,>=0.23.0 in /usr/local/lib/python3.7/dist-packages (from astunparse>=1.6.0->tensorflow) (0.37.1)\n",
            "Requirement already satisfied: cached-property in /usr/local/lib/python3.7/dist-packages (from h5py>=2.9.0->tensorflow) (1.5.2)\n",
            "Requirement already satisfied: tensorboard-plugin-wit>=1.6.0 in /usr/local/lib/python3.7/dist-packages (from tensorboard<2.9,>=2.8->tensorflow) (1.8.1)\n",
            "Requirement already satisfied: markdown>=2.6.8 in /usr/local/lib/python3.7/dist-packages (from tensorboard<2.9,>=2.8->tensorflow) (3.3.6)\n",
            "Requirement already satisfied: requests<3,>=2.21.0 in /usr/local/lib/python3.7/dist-packages (from tensorboard<2.9,>=2.8->tensorflow) (2.23.0)\n",
            "Requirement already satisfied: tensorboard-data-server<0.7.0,>=0.6.0 in /usr/local/lib/python3.7/dist-packages (from tensorboard<2.9,>=2.8->tensorflow) (0.6.1)\n",
            "Requirement already satisfied: google-auth-oauthlib<0.5,>=0.4.1 in /usr/local/lib/python3.7/dist-packages (from tensorboard<2.9,>=2.8->tensorflow) (0.4.6)\n",
            "Requirement already satisfied: werkzeug>=0.11.15 in /usr/local/lib/python3.7/dist-packages (from tensorboard<2.9,>=2.8->tensorflow) (1.0.1)\n",
            "Requirement already satisfied: google-auth<3,>=1.6.3 in /usr/local/lib/python3.7/dist-packages (from tensorboard<2.9,>=2.8->tensorflow) (1.35.0)\n",
            "Requirement already satisfied: pyasn1-modules>=0.2.1 in /usr/local/lib/python3.7/dist-packages (from google-auth<3,>=1.6.3->tensorboard<2.9,>=2.8->tensorflow) (0.2.8)\n",
            "Requirement already satisfied: cachetools<5.0,>=2.0.0 in /usr/local/lib/python3.7/dist-packages (from google-auth<3,>=1.6.3->tensorboard<2.9,>=2.8->tensorflow) (4.2.4)\n",
            "Requirement already satisfied: rsa<5,>=3.1.4 in /usr/local/lib/python3.7/dist-packages (from google-auth<3,>=1.6.3->tensorboard<2.9,>=2.8->tensorflow) (4.8)\n",
            "Requirement already satisfied: requests-oauthlib>=0.7.0 in /usr/local/lib/python3.7/dist-packages (from google-auth-oauthlib<0.5,>=0.4.1->tensorboard<2.9,>=2.8->tensorflow) (1.3.1)\n",
            "Requirement already satisfied: importlib-metadata>=4.4 in /usr/local/lib/python3.7/dist-packages (from markdown>=2.6.8->tensorboard<2.9,>=2.8->tensorflow) (4.11.2)\n",
            "Requirement already satisfied: zipp>=0.5 in /usr/local/lib/python3.7/dist-packages (from importlib-metadata>=4.4->markdown>=2.6.8->tensorboard<2.9,>=2.8->tensorflow) (3.7.0)\n",
            "Requirement already satisfied: pyasn1<0.5.0,>=0.4.6 in /usr/local/lib/python3.7/dist-packages (from pyasn1-modules>=0.2.1->google-auth<3,>=1.6.3->tensorboard<2.9,>=2.8->tensorflow) (0.4.8)\n",
            "Requirement already satisfied: idna<3,>=2.5 in /usr/local/lib/python3.7/dist-packages (from requests<3,>=2.21.0->tensorboard<2.9,>=2.8->tensorflow) (2.10)\n",
            "Requirement already satisfied: certifi>=2017.4.17 in /usr/local/lib/python3.7/dist-packages (from requests<3,>=2.21.0->tensorboard<2.9,>=2.8->tensorflow) (2021.10.8)\n",
            "Requirement already satisfied: chardet<4,>=3.0.2 in /usr/local/lib/python3.7/dist-packages (from requests<3,>=2.21.0->tensorboard<2.9,>=2.8->tensorflow) (3.0.4)\n",
            "Requirement already satisfied: urllib3!=1.25.0,!=1.25.1,<1.26,>=1.21.1 in /usr/local/lib/python3.7/dist-packages (from requests<3,>=2.21.0->tensorboard<2.9,>=2.8->tensorflow) (1.24.3)\n",
            "Requirement already satisfied: oauthlib>=3.0.0 in /usr/local/lib/python3.7/dist-packages (from requests-oauthlib>=0.7.0->google-auth-oauthlib<0.5,>=0.4.1->tensorboard<2.9,>=2.8->tensorflow) (3.2.0)\n",
            "Installing collected packages: tf-estimator-nightly\n",
            "Successfully installed tf-estimator-nightly-2.8.0.dev2021122109\n"
          ]
        }
      ]
    },
    {
      "cell_type": "code",
      "source": [
        ""
      ],
      "metadata": {
        "id": "e9cZ3LWVUXWg"
      },
      "execution_count": null,
      "outputs": []
    },
    {
      "cell_type": "code",
      "source": [
        "!pip install keras"
      ],
      "metadata": {
        "colab": {
          "base_uri": "https://localhost:8080/"
        },
        "id": "j0hYH_w25l6u",
        "outputId": "8e175271-53ea-41d4-fd6a-40a680bef48f"
      },
      "execution_count": null,
      "outputs": [
        {
          "output_type": "stream",
          "name": "stdout",
          "text": [
            "Requirement already satisfied: keras in /usr/local/lib/python3.7/dist-packages (2.8.0)\n"
          ]
        }
      ]
    },
    {
      "cell_type": "markdown",
      "source": [
        "Prediction using tensorflow and keras"
      ],
      "metadata": {
        "id": "ruTdfJmcZAS3"
      }
    },
    {
      "cell_type": "code",
      "source": [
        "import tensorflow as tensorf\n",
        "import numpy as np\n"
      ],
      "metadata": {
        "id": "oqruIGe_Ubgj"
      },
      "execution_count": null,
      "outputs": []
    },
    {
      "cell_type": "code",
      "source": [
        "celsius = np.array([-40,-10,0,8,15,22,38], dtype=float)\n",
        "faranthait = np.array([-40,14,32,46,59,72,100],dtype=float)"
      ],
      "metadata": {
        "id": "TXEQq_9TVqnh"
      },
      "execution_count": null,
      "outputs": []
    },
    {
      "cell_type": "code",
      "source": [
        "x1 = np.array([-3,-2,-1,0,2,3,4,5,6,7,10,20,25], dtype=float)\n",
        "y1 = np.array([-6,-4,-2,0,4,6,8,10,12,14,20,40,50], dtype=float)"
      ],
      "metadata": {
        "id": "7DxHAX2oXi3F"
      },
      "execution_count": null,
      "outputs": []
    },
    {
      "cell_type": "code",
      "source": [
        "n1 = np.array([2,3,4,5,6,7,8], dtype=float)\n",
        "area = np.array([4,9,16,25,36,49,64], dtype=float)\n"
      ],
      "metadata": {
        "id": "POii6W5ZmNw1"
      },
      "execution_count": null,
      "outputs": []
    },
    {
      "cell_type": "code",
      "source": [
        ""
      ],
      "metadata": {
        "id": "ut980rCNmN0Y"
      },
      "execution_count": null,
      "outputs": []
    },
    {
      "cell_type": "code",
      "source": [
        "inlayer = tensorf.keras.layers.Dense(units=1,input_shape=[1])\n",
        "model=tensorf.keras.Sequential([inlayer])"
      ],
      "metadata": {
        "id": "Jk1n-edYXDD_"
      },
      "execution_count": null,
      "outputs": []
    },
    {
      "cell_type": "code",
      "source": [
        "model.compile(\n",
        "    optimizer=tensorf.keras.optimizers.Adam(0.1),\n",
        "    loss='mean_squared_error'\n",
        ")\n",
        "    "
      ],
      "metadata": {
        "id": "fzrdSBh1ZyoP"
      },
      "execution_count": null,
      "outputs": []
    },
    {
      "cell_type": "code",
      "source": [
        "print(\"starting......\")\n",
        "historial = model.fit(n1,area,epochs=1000,verbose=False)\n",
        "\n",
        "print(\"Ended training.....\")\n"
      ],
      "metadata": {
        "colab": {
          "base_uri": "https://localhost:8080/"
        },
        "id": "6SzeV36sbtUx",
        "outputId": "1ca406f5-6529-45b7-d73a-32050221a439"
      },
      "execution_count": null,
      "outputs": [
        {
          "output_type": "stream",
          "name": "stdout",
          "text": [
            "starting......\n",
            "Ended training.....\n"
          ]
        }
      ]
    },
    {
      "cell_type": "code",
      "source": [
        "import matplotlib.pyplot as plt\n",
        "plt.xlabel(\"# Epochs\")\n",
        "plt.ylabel(\"Loss Magnitude\")\n",
        "plt.plot(historial.history[\"loss\"])\n"
      ],
      "metadata": {
        "colab": {
          "base_uri": "https://localhost:8080/",
          "height": 296
        },
        "id": "0Y43EM-FiYgn",
        "outputId": "ce487f98-e57f-46f3-fcfc-b423f1a1fb91"
      },
      "execution_count": null,
      "outputs": [
        {
          "output_type": "execute_result",
          "data": {
            "text/plain": [
              "[<matplotlib.lines.Line2D at 0x7f8d57fb99d0>]"
            ]
          },
          "metadata": {},
          "execution_count": 90
        },
        {
          "output_type": "display_data",
          "data": {
            "text/plain": [
              "<Figure size 432x288 with 1 Axes>"
            ],
            "image/png": "[encoded data removed]"
          },
          "metadata": {
            "needs_background": "light"
          }
        }
      ]
    },
    {
      "cell_type": "code",
      "source": [
        "print(\"Prediction\")\n",
        "result = model.predict([2])\n",
        "print(\"Result\" + str(result) + \"faranhait\")"
      ],
      "metadata": {
        "colab": {
          "base_uri": "https://localhost:8080/"
        },
        "id": "sgiqO_UdkrK2",
        "outputId": "dfbfc332-cfd4-4acc-86fe-8a9af666e0b9"
      },
      "execution_count": null,
      "outputs": [
        {
          "output_type": "stream",
          "name": "stdout",
          "text": [
            "Prediction\n",
            "Result[[-1.0000019]]faranhait\n"
          ]
        }
      ]
    },
    {
      "cell_type": "markdown",
      "source": [
        "Prediction using H2O"
      ],
      "metadata": {
        "id": "PNrhzG0vjwFT"
      }
    },
    {
      "cell_type": "code",
      "source": [
        "!pip install h2o"
      ],
      "metadata": {
        "id": "VC3NnAL2qPKr"
      },
      "execution_count": null,
      "outputs": []
    },
    {
      "cell_type": "code",
      "source": [
        "\n",
        "import h2o\n",
        "from h2o.automl import H2OAutoML\n",
        "h2o.init(max_mem_size='16G')"
      ],
      "metadata": {
        "colab": {
          "base_uri": "https://localhost:8080/",
          "height": 350
        },
        "id": "N1hYD-qcY7am",
        "outputId": "e7ab6cb2-7193-4dfa-fd1f-27b380d2a4eb"
      },
      "execution_count": 24,
      "outputs": [
        {
          "output_type": "stream",
          "name": "stdout",
          "text": [
            "Checking whether there is an H2O instance running at http://localhost:54321 . connected.\n"
          ]
        },
        {
          "output_type": "display_data",
          "data": {
            "text/plain": [
              "--------------------------  ----------------------------------\n",
              "H2O_cluster_uptime:         1 hour 8 mins\n",
              "H2O_cluster_timezone:       Etc/UTC\n",
              "H2O_data_parsing_timezone:  UTC\n",
              "H2O_cluster_version:        3.36.0.3\n",
              "H2O_cluster_version_age:    1 month and 6 days\n",
              "H2O_cluster_name:           H2O_from_python_unknownUser_3013xf\n",
              "H2O_cluster_total_nodes:    1\n",
              "H2O_cluster_free_memory:    16.00 Gb\n",
              "H2O_cluster_total_cores:    2\n",
              "H2O_cluster_allowed_cores:  2\n",
              "H2O_cluster_status:         locked, healthy\n",
              "H2O_connection_url:         http://localhost:54321\n",
              "H2O_connection_proxy:       {\"http\": null, \"https\": null}\n",
              "H2O_internal_security:      False\n",
              "Python_version:             3.7.12 final\n",
              "--------------------------  ----------------------------------"
            ],
            "text/html": [
              "<div style=\"overflow:auto\"><table style=\"width:50%\"><tr><td>H2O_cluster_uptime:</td>\n",
              "<td>1 hour 8 mins</td></tr>\n",
              "<tr><td>H2O_cluster_timezone:</td>\n",
              "<td>Etc/UTC</td></tr>\n",
              "<tr><td>H2O_data_parsing_timezone:</td>\n",
              "<td>UTC</td></tr>\n",
              "<tr><td>H2O_cluster_version:</td>\n",
              "<td>3.36.0.3</td></tr>\n",
              "<tr><td>H2O_cluster_version_age:</td>\n",
              "<td>1 month and 6 days </td></tr>\n",
              "<tr><td>H2O_cluster_name:</td>\n",
              "<td>H2O_from_python_unknownUser_3013xf</td></tr>\n",
              "<tr><td>H2O_cluster_total_nodes:</td>\n",
              "<td>1</td></tr>\n",
              "<tr><td>H2O_cluster_free_memory:</td>\n",
              "<td>16.00 Gb</td></tr>\n",
              "<tr><td>H2O_cluster_total_cores:</td>\n",
              "<td>2</td></tr>\n",
              "<tr><td>H2O_cluster_allowed_cores:</td>\n",
              "<td>2</td></tr>\n",
              "<tr><td>H2O_cluster_status:</td>\n",
              "<td>locked, healthy</td></tr>\n",
              "<tr><td>H2O_connection_url:</td>\n",
              "<td>http://localhost:54321</td></tr>\n",
              "<tr><td>H2O_connection_proxy:</td>\n",
              "<td>{\"http\": null, \"https\": null}</td></tr>\n",
              "<tr><td>H2O_internal_security:</td>\n",
              "<td>False</td></tr>\n",
              "<tr><td>Python_version:</td>\n",
              "<td>3.7.12 final</td></tr></table></div>"
            ]
          },
          "metadata": {}
        }
      ]
    },
    {
      "cell_type": "code",
      "source": [
        "!pip install pandas"
      ],
      "metadata": {
        "colab": {
          "base_uri": "https://localhost:8080/"
        },
        "id": "Wg93txSLanad",
        "outputId": "c9878b22-8325-4a38-9900-d1e9f48fb377"
      },
      "execution_count": 17,
      "outputs": [
        {
          "output_type": "stream",
          "name": "stdout",
          "text": [
            "Requirement already satisfied: pandas in /usr/local/lib/python3.7/dist-packages (1.3.5)\n",
            "Requirement already satisfied: python-dateutil>=2.7.3 in /usr/local/lib/python3.7/dist-packages (from pandas) (2.8.2)\n",
            "Requirement already satisfied: numpy>=1.17.3 in /usr/local/lib/python3.7/dist-packages (from pandas) (1.21.5)\n",
            "Requirement already satisfied: pytz>=2017.3 in /usr/local/lib/python3.7/dist-packages (from pandas) (2018.9)\n",
            "Requirement already satisfied: six>=1.5 in /usr/local/lib/python3.7/dist-packages (from python-dateutil>=2.7.3->pandas) (1.15.0)\n"
          ]
        }
      ]
    },
    {
      "cell_type": "code",
      "source": [
        "from google.colab import files \n",
        "  \n",
        "  \n",
        "uploaded = files.upload()"
      ],
      "metadata": {
        "colab": {
          "resources": {
            "http://localhost:8080/nbextensions/google.colab/files.js": {
              "data": "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",
              "ok": true,
              "headers": [
                [
                  "content-type",
                  "application/javascript"
                ]
              ],
              "status": 200,
              "status_text": ""
            }
          },
          "base_uri": "https://localhost:8080/",
          "height": 74
        },
        "id": "c64dQE_irmoa",
        "outputId": "25c02bab-8e6c-402a-dc84-93cb8a43edba"
      },
      "execution_count": 29,
      "outputs": [
        {
          "output_type": "display_data",
          "data": {
            "text/plain": [
              "<IPython.core.display.HTML object>"
            ],
            "text/html": [
              "\n",
              "     <input type=\"file\" id=\"files-f779d88b-a2ec-407f-ab0d-e68b671cc067\" name=\"files[]\" multiple disabled\n",
              "        style=\"border:none\" />\n",
              "     <output id=\"result-f779d88b-a2ec-407f-ab0d-e68b671cc067\">\n",
              "      Upload widget is only available when the cell has been executed in the\n",
              "      current browser session. Please rerun this cell to enable.\n",
              "      </output>\n",
              "      <script src=\"/nbextensions/google.colab/files.js\"></script> "
            ]
          },
          "metadata": {}
        },
        {
          "output_type": "stream",
          "name": "stdout",
          "text": [
            "Saving Protosomeall_dataset_NEW.csv to Protosomeall_dataset_NEW.csv\n"
          ]
        }
      ]
    },
    {
      "cell_type": "code",
      "source": [
        "import pandas as pd \n",
        "import io \n",
        "  \n",
        "df = pd.read_csv(io.BytesIO(uploaded['Protosomeall_dataset_NEW.csv'])) \n",
        "df.head()"
      ],
      "metadata": {
        "colab": {
          "base_uri": "https://localhost:8080/",
          "height": 299
        },
        "id": "AxF4ixBErvqJ",
        "outputId": "158de85d-4b5e-464e-afcf-3135456a0186"
      },
      "execution_count": 40,
      "outputs": [
        {
          "output_type": "execute_result",
          "data": {
            "text/plain": [
              "                                     name  PN_NE_IN4_RH_T  N1_NE_DC3_RH_HT  \\\n",
              "001_17504863.mol_17504863 44 23  7.062500        1.304811        24.973768   \n",
              "002_47195318.mol_47195318 40 8   5.166666        0.788576        17.070000   \n",
              "003_24833909.mol_24833909 34 8   4.166666        0.776887        21.390114   \n",
              "004_17509523.mol_17509523 56 14  3.566666        0.598366        17.070000   \n",
              "005_14729847.mol_14729847 48 17  3.083333        0.581730        24.973768   \n",
              "\n",
              "                                 PN_NE_Z_RH_HA,N3_NE_R_RH_HA  N2_NE_T_RH_IS  \\\n",
              "001_17504863.mol_17504863 44 23                           48             71   \n",
              "002_47195318.mol_47195318 40 8                            53             47   \n",
              "003_24833909.mol_24833909 34 8                            44             77   \n",
              "004_17509523.mol_17509523 56 14                           58            160   \n",
              "005_14729847.mol_14729847 48 17                           52            109   \n",
              "\n",
              "                                 N1_NE_BD_RH_IS  N1_NE_Y_RH_LA,N2_NE_A_RH_RA  \\\n",
              "001_17504863.mol_17504863 44 23       20.992045                           61   \n",
              "002_47195318.mol_47195318 40 8        15.439739                           52   \n",
              "003_24833909.mol_24833909 34 8        13.184469                           40   \n",
              "004_17509523.mol_17509523 56 14       15.817929                           74   \n",
              "005_14729847.mol_14729847 48 17       17.137243                           64   \n",
              "\n",
              "                                 N1_NE_DC2_RH_GL_1_2_4_6,N1_NE_IN13_RH_HL  \\\n",
              "001_17504863.mol_17504863 44 23                                       217   \n",
              "002_47195318.mol_47195318 40 8                                          0   \n",
              "003_24833909.mol_24833909 34 8                                          0   \n",
              "004_17509523.mol_17509523 56 14                                         0   \n",
              "005_14729847.mol_14729847 48 17                                         0   \n",
              "\n",
              "                                 N1_NE_IN5_RH_IS  N3_NE_R_RH_RA  ...  \\\n",
              "001_17504863.mol_17504863 44 23             1496       0.661880  ...   \n",
              "002_47195318.mol_47195318 40 8              1480       0.621945  ...   \n",
              "003_24833909.mol_24833909 34 8              1020       0.547233  ...   \n",
              "004_17509523.mol_17509523 56 14             2240       0.627482  ...   \n",
              "005_14729847.mol_14729847 48 17             1728       0.637680  ...   \n",
              "\n",
              "                                 5TS_NE(PN)_IN17_RH_LA  8TS_NE(N2)_E_RH_RA  \\\n",
              "001_17504863.mol_17504863 44 23             109.388888           11.847032   \n",
              "002_47195318.mol_47195318 40 8               92.388888            7.597477   \n",
              "003_24833909.mol_24833909 34 8               84.000000            7.401791   \n",
              "004_17509523.mol_17509523 56 14             486.833333           13.877106   \n",
              "005_14729847.mol_14729847 48 17             200.444444            6.609508   \n",
              "\n",
              "                                 4TS_NE(PN)_Z_RH_CB  8TS_NE(N1)_Z_RH_HA  \\\n",
              "001_17504863.mol_17504863 44 23            7.875000                34.0   \n",
              "002_47195318.mol_47195318 40 8             5.566666                 8.0   \n",
              "003_24833909.mol_24833909 34 8             4.763888                 8.0   \n",
              "004_17509523.mol_17509523 56 14            7.222222                35.5   \n",
              "005_14729847.mol_14729847 48 17            5.656250                19.0   \n",
              "\n",
              "                                 4TS_NE(PN)_IN10_RH_LA  3TS_NE(N2)_N_RH_HA  \\\n",
              "001_17504863.mol_17504863 44 23             314.500000           34.169331   \n",
              "002_47195318.mol_47195318 40 8              111.333333           19.595917   \n",
              "003_24833909.mol_24833909 34 8               67.400000           17.888543   \n",
              "004_17509523.mol_17509523 56 14             455.777777           27.658633   \n",
              "005_14729847.mol_14729847 48 17             254.333333           32.572994   \n",
              "\n",
              "                                 8TS_NE(N1)_A_RH_HT  4TS_NE(PN)_IN12_RH_LA  \\\n",
              "001_17504863.mol_17504863 44 23           69.475501             173.750000   \n",
              "002_47195318.mol_47195318 40 8            16.014314              60.000000   \n",
              "003_24833909.mol_24833909 34 8            16.014314              39.033333   \n",
              "004_17509523.mol_17509523 56 14           71.038265             243.685185   \n",
              "005_14729847.mol_14729847 48 17           38.033997             130.888888   \n",
              "\n",
              "                                 N2_NE_M_RH_CB   logEC50  \n",
              "001_17504863.mol_17504863 44 23      14.317033 -0.070581  \n",
              "002_47195318.mol_47195318 40 8       16.211143  0.407051  \n",
              "003_24833909.mol_24833909 34 8       14.295526  0.379124  \n",
              "004_17509523.mol_17509523 56 14      18.136936  0.356599  \n",
              "005_14729847.mol_14729847 48 17      15.728139  0.396025  \n",
              "\n",
              "[5 rows x 293 columns]"
            ],
            "text/html": [
              "\n",
              "  <div id=\"df-1373645a-de1f-4bee-a74a-a3915fa174a1\">\n",
              "    <div class=\"colab-df-container\">\n",
              "      <div>\n",
              "<style scoped>\n",
              "    .dataframe tbody tr th:only-of-type {\n",
              "        vertical-align: middle;\n",
              "    }\n",
              "\n",
              "    .dataframe tbody tr th {\n",
              "        vertical-align: top;\n",
              "    }\n",
              "\n",
              "    .dataframe thead th {\n",
              "        text-align: right;\n",
              "    }\n",
              "</style>\n",
              "<table border=\"1\" class=\"dataframe\">\n",
              "  <thead>\n",
              "    <tr style=\"text-align: right;\">\n",
              "      <th></th>\n",
              "      <th></th>\n",
              "      <th></th>\n",
              "      <th>name</th>\n",
              "      <th>PN_NE_IN4_RH_T</th>\n",
              "      <th>N1_NE_DC3_RH_HT</th>\n",
              "      <th>PN_NE_Z_RH_HA,N3_NE_R_RH_HA</th>\n",
              "      <th>N2_NE_T_RH_IS</th>\n",
              "      <th>N1_NE_BD_RH_IS</th>\n",
              "      <th>N1_NE_Y_RH_LA,N2_NE_A_RH_RA</th>\n",
              "      <th>N1_NE_DC2_RH_GL_1_2_4_6,N1_NE_IN13_RH_HL</th>\n",
              "      <th>N1_NE_IN5_RH_IS</th>\n",
              "      <th>N3_NE_R_RH_RA</th>\n",
              "      <th>...</th>\n",
              "      <th>5TS_NE(PN)_IN17_RH_LA</th>\n",
              "      <th>8TS_NE(N2)_E_RH_RA</th>\n",
              "      <th>4TS_NE(PN)_Z_RH_CB</th>\n",
              "      <th>8TS_NE(N1)_Z_RH_HA</th>\n",
              "      <th>4TS_NE(PN)_IN10_RH_LA</th>\n",
              "      <th>3TS_NE(N2)_N_RH_HA</th>\n",
              "      <th>8TS_NE(N1)_A_RH_HT</th>\n",
              "      <th>4TS_NE(PN)_IN12_RH_LA</th>\n",
              "      <th>N2_NE_M_RH_CB</th>\n",
              "      <th>logEC50</th>\n",
              "    </tr>\n",
              "  </thead>\n",
              "  <tbody>\n",
              "    <tr>\n",
              "      <th>001_17504863.mol_17504863</th>\n",
              "      <th>44</th>\n",
              "      <th>23</th>\n",
              "      <td>7.062500</td>\n",
              "      <td>1.304811</td>\n",
              "      <td>24.973768</td>\n",
              "      <td>48</td>\n",
              "      <td>71</td>\n",
              "      <td>20.992045</td>\n",
              "      <td>61</td>\n",
              "      <td>217</td>\n",
              "      <td>1496</td>\n",
              "      <td>0.661880</td>\n",
              "      <td>...</td>\n",
              "      <td>109.388888</td>\n",
              "      <td>11.847032</td>\n",
              "      <td>7.875000</td>\n",
              "      <td>34.0</td>\n",
              "      <td>314.500000</td>\n",
              "      <td>34.169331</td>\n",
              "      <td>69.475501</td>\n",
              "      <td>173.750000</td>\n",
              "      <td>14.317033</td>\n",
              "      <td>-0.070581</td>\n",
              "    </tr>\n",
              "    <tr>\n",
              "      <th>002_47195318.mol_47195318</th>\n",
              "      <th>40</th>\n",
              "      <th>8</th>\n",
              "      <td>5.166666</td>\n",
              "      <td>0.788576</td>\n",
              "      <td>17.070000</td>\n",
              "      <td>53</td>\n",
              "      <td>47</td>\n",
              "      <td>15.439739</td>\n",
              "      <td>52</td>\n",
              "      <td>0</td>\n",
              "      <td>1480</td>\n",
              "      <td>0.621945</td>\n",
              "      <td>...</td>\n",
              "      <td>92.388888</td>\n",
              "      <td>7.597477</td>\n",
              "      <td>5.566666</td>\n",
              "      <td>8.0</td>\n",
              "      <td>111.333333</td>\n",
              "      <td>19.595917</td>\n",
              "      <td>16.014314</td>\n",
              "      <td>60.000000</td>\n",
              "      <td>16.211143</td>\n",
              "      <td>0.407051</td>\n",
              "    </tr>\n",
              "    <tr>\n",
              "      <th>003_24833909.mol_24833909</th>\n",
              "      <th>34</th>\n",
              "      <th>8</th>\n",
              "      <td>4.166666</td>\n",
              "      <td>0.776887</td>\n",
              "      <td>21.390114</td>\n",
              "      <td>44</td>\n",
              "      <td>77</td>\n",
              "      <td>13.184469</td>\n",
              "      <td>40</td>\n",
              "      <td>0</td>\n",
              "      <td>1020</td>\n",
              "      <td>0.547233</td>\n",
              "      <td>...</td>\n",
              "      <td>84.000000</td>\n",
              "      <td>7.401791</td>\n",
              "      <td>4.763888</td>\n",
              "      <td>8.0</td>\n",
              "      <td>67.400000</td>\n",
              "      <td>17.888543</td>\n",
              "      <td>16.014314</td>\n",
              "      <td>39.033333</td>\n",
              "      <td>14.295526</td>\n",
              "      <td>0.379124</td>\n",
              "    </tr>\n",
              "    <tr>\n",
              "      <th>004_17509523.mol_17509523</th>\n",
              "      <th>56</th>\n",
              "      <th>14</th>\n",
              "      <td>3.566666</td>\n",
              "      <td>0.598366</td>\n",
              "      <td>17.070000</td>\n",
              "      <td>58</td>\n",
              "      <td>160</td>\n",
              "      <td>15.817929</td>\n",
              "      <td>74</td>\n",
              "      <td>0</td>\n",
              "      <td>2240</td>\n",
              "      <td>0.627482</td>\n",
              "      <td>...</td>\n",
              "      <td>486.833333</td>\n",
              "      <td>13.877106</td>\n",
              "      <td>7.222222</td>\n",
              "      <td>35.5</td>\n",
              "      <td>455.777777</td>\n",
              "      <td>27.658633</td>\n",
              "      <td>71.038265</td>\n",
              "      <td>243.685185</td>\n",
              "      <td>18.136936</td>\n",
              "      <td>0.356599</td>\n",
              "    </tr>\n",
              "    <tr>\n",
              "      <th>005_14729847.mol_14729847</th>\n",
              "      <th>48</th>\n",
              "      <th>17</th>\n",
              "      <td>3.083333</td>\n",
              "      <td>0.581730</td>\n",
              "      <td>24.973768</td>\n",
              "      <td>52</td>\n",
              "      <td>109</td>\n",
              "      <td>17.137243</td>\n",
              "      <td>64</td>\n",
              "      <td>0</td>\n",
              "      <td>1728</td>\n",
              "      <td>0.637680</td>\n",
              "      <td>...</td>\n",
              "      <td>200.444444</td>\n",
              "      <td>6.609508</td>\n",
              "      <td>5.656250</td>\n",
              "      <td>19.0</td>\n",
              "      <td>254.333333</td>\n",
              "      <td>32.572994</td>\n",
              "      <td>38.033997</td>\n",
              "      <td>130.888888</td>\n",
              "      <td>15.728139</td>\n",
              "      <td>0.396025</td>\n",
              "    </tr>\n",
              "  </tbody>\n",
              "</table>\n",
              "<p>5 rows × 293 columns</p>\n",
              "</div>\n",
              "      <button class=\"colab-df-convert\" onclick=\"convertToInteractive('df-1373645a-de1f-4bee-a74a-a3915fa174a1')\"\n",
              "              title=\"Convert this dataframe to an interactive table.\"\n",
              "              style=\"display:none;\">\n",
              "        \n",
              "  <svg xmlns=\"http://www.w3.org/2000/svg\" height=\"24px\"viewBox=\"0 0 24 24\"\n",
              "       width=\"24px\">\n",
              "    <path d=\"M0 0h24v24H0V0z\" fill=\"none\"/>\n",
              "    <path d=\"M18.56 5.44l.94 2.06.94-2.06 2.06-.94-2.06-.94-.94-2.06-.94 2.06-2.06.94zm-11 1L8.5 8.5l.94-2.06 2.06-.94-2.06-.94L8.5 2.5l-.94 2.06-2.06.94zm10 10l.94 2.06.94-2.06 2.06-.94-2.06-.94-.94-2.06-.94 2.06-2.06.94z\"/><path d=\"M17.41 7.96l-1.37-1.37c-.4-.4-.92-.59-1.43-.59-.52 0-1.04.2-1.43.59L10.3 9.45l-7.72 7.72c-.78.78-.78 2.05 0 2.83L4 21.41c.39.39.9.59 1.41.59.51 0 1.02-.2 1.41-.59l7.78-7.78 2.81-2.81c.8-.78.8-2.07 0-2.86zM5.41 20L4 18.59l7.72-7.72 1.47 1.35L5.41 20z\"/>\n",
              "  </svg>\n",
              "      </button>\n",
              "      \n",
              "  <style>\n",
              "    .colab-df-container {\n",
              "      display:flex;\n",
              "      flex-wrap:wrap;\n",
              "      gap: 12px;\n",
              "    }\n",
              "\n",
              "    .colab-df-convert {\n",
              "      background-color: #E8F0FE;\n",
              "      border: none;\n",
              "      border-radius: 50%;\n",
              "      cursor: pointer;\n",
              "      display: none;\n",
              "      fill: #1967D2;\n",
              "      height: 32px;\n",
              "      padding: 0 0 0 0;\n",
              "      width: 32px;\n",
              "    }\n",
              "\n",
              "    .colab-df-convert:hover {\n",
              "      background-color: #E2EBFA;\n",
              "      box-shadow: 0px 1px 2px rgba(60, 64, 67, 0.3), 0px 1px 3px 1px rgba(60, 64, 67, 0.15);\n",
              "      fill: #174EA6;\n",
              "    }\n",
              "\n",
              "    [theme=dark] .colab-df-convert {\n",
              "      background-color: #3B4455;\n",
              "      fill: #D2E3FC;\n",
              "    }\n",
              "\n",
              "    [theme=dark] .colab-df-convert:hover {\n",
              "      background-color: #434B5C;\n",
              "      box-shadow: 0px 1px 3px 1px rgba(0, 0, 0, 0.15);\n",
              "      filter: drop-shadow(0px 1px 2px rgba(0, 0, 0, 0.3));\n",
              "      fill: #FFFFFF;\n",
              "    }\n",
              "  </style>\n",
              "\n",
              "      <script>\n",
              "        const buttonEl =\n",
              "          document.querySelector('#df-1373645a-de1f-4bee-a74a-a3915fa174a1 button.colab-df-convert');\n",
              "        buttonEl.style.display =\n",
              "          google.colab.kernel.accessAllowed ? 'block' : 'none';\n",
              "\n",
              "        async function convertToInteractive(key) {\n",
              "          const element = document.querySelector('#df-1373645a-de1f-4bee-a74a-a3915fa174a1');\n",
              "          const dataTable =\n",
              "            await google.colab.kernel.invokeFunction('convertToInteractive',\n",
              "                                                     [key], {});\n",
              "          if (!dataTable) return;\n",
              "\n",
              "          const docLinkHtml = 'Like what you see? Visit the ' +\n",
              "            '<a target=\"_blank\" href=https://colab.research.google.com/notebooks/data_table.ipynb>data table notebook</a>'\n",
              "            + ' to learn more about interactive tables.';\n",
              "          element.innerHTML = '';\n",
              "          dataTable['output_type'] = 'display_data';\n",
              "          await google.colab.output.renderOutput(dataTable, element);\n",
              "          const docLink = document.createElement('div');\n",
              "          docLink.innerHTML = docLinkHtml;\n",
              "          element.appendChild(docLink);\n",
              "        }\n",
              "      </script>\n",
              "    </div>\n",
              "  </div>\n",
              "  "
            ]
          },
          "metadata": {},
          "execution_count": 40
        }
      ]
    },
    {
      "cell_type": "code",
      "source": [
        "#data_path = 'https://github.com/cybervalient/DeepMD_AWV/blob/51b30207c1ed349fcfd0a9b41bdade17a330ff57/Protosomeall_dataset_NEW.csv'\n",
        "# Load data into H2O\n",
        "df1 = h2o.import_file('Protosomeall_dataset_NEW.csv')\n",
        "df1.head() \n",
        "  "
      ],
      "metadata": {
        "colab": {
          "base_uri": "https://localhost:8080/",
          "height": 286
        },
        "id": "_gjgjMMTpHar",
        "outputId": "1fd7e6aa-58d6-44d4-e08a-ae7aedba697a"
      },
      "execution_count": 39,
      "outputs": [
        {
          "output_type": "stream",
          "name": "stdout",
          "text": [
            "Parse progress: |████████████████████████████████████████████████████████████████| (done) 100%\n"
          ]
        },
        {
          "output_type": "display_data",
          "data": {
            "text/html": [
              "<table>\n",
              "<thead>\n",
              "<tr><th>name                     </th><th style=\"text-align: right;\">  PN_NE_IN4_RH_T</th><th style=\"text-align: right;\">  N1_NE_DC3_RH_HT</th><th style=\"text-align: right;\">  PN_NE_Z_RH_HA,N3_NE_R_RH_HA</th><th style=\"text-align: right;\">  N2_NE_T_RH_IS</th><th style=\"text-align: right;\">  N1_NE_BD_RH_IS</th><th style=\"text-align: right;\">  N1_NE_Y_RH_LA,N2_NE_A_RH_RA</th><th style=\"text-align: right;\">  N1_NE_DC2_RH_GL_1_2_4_6,N1_NE_IN13_RH_HL</th><th style=\"text-align: right;\">  N1_NE_IN5_RH_IS</th><th style=\"text-align: right;\">  N3_NE_R_RH_RA</th><th style=\"text-align: right;\">  N3_NE_DC3_RH_HT</th><th style=\"text-align: right;\">  N1_NE_A_RH_HL</th><th style=\"text-align: right;\">  PN_NE_P_RH_HL</th><th style=\"text-align: right;\">  PN_NE_M_RH_CB</th><th style=\"text-align: right;\">  PN_NE_Alk_RH_HD</th><th style=\"text-align: right;\">  N3_NE_T_RH_IS</th><th style=\"text-align: right;\">  N2_NE_DC2_RH_IS</th><th style=\"text-align: right;\">  N3_NE_Y_RH_LA</th><th style=\"text-align: right;\">  PN_NE_HX_RH_LA</th><th style=\"text-align: right;\">  N1_NE_L_RH_RA</th><th style=\"text-align: right;\">  N2_NE_L_RH_RA</th><th style=\"text-align: right;\">  N3_NE_IN2_RH_RA</th><th style=\"text-align: right;\">  N1_NE_HX_RH_GL_1_2_4_6</th><th style=\"text-align: right;\">  K_NE_N_RH_T</th><th style=\"text-align: right;\">  Q3_NE_IN9_RH_T</th><th style=\"text-align: right;\">  Q1_NE_IN11_RH_T</th><th style=\"text-align: right;\">  MN_NE_IN6_RH_HT</th><th style=\"text-align: right;\">  V_NE_M_RH_CB</th><th style=\"text-align: right;\">  MX_NE_IN12_RH_CB</th><th style=\"text-align: right;\">  S_NE_C_RH_HA</th><th style=\"text-align: right;\">  DE_NE_T_RH_IS</th><th style=\"text-align: right;\">  S_NE_IN11_RH_LA</th><th style=\"text-align: right;\">  Q1_NE_IN15_RH_LA</th><th style=\"text-align: right;\">  DE_NE_L_RH_RA</th><th style=\"text-align: right;\">  CV_NE_Y_RH_RA</th><th style=\"text-align: right;\">  DE_NE_A_RH_GL_1_2_4_6</th><th style=\"text-align: right;\">  Q1_NE_IN9_RH_GL_1_2_4_6</th><th style=\"text-align: right;\">  K_NE_IN13_RH_GL_1_2_4_6</th><th style=\"text-align: right;\">  S_NE_IN17_RH_LA</th><th style=\"text-align: right;\">  I50_NE_IN16_RH_GL_1_2_4_6</th><th style=\"text-align: right;\">  DE_NE_L_RH_HA</th><th style=\"text-align: right;\">  Q2_NE_IN10_RH_T</th><th style=\"text-align: right;\">  A_NE_R_RH_T</th><th style=\"text-align: right;\">  IB_NE(I50)_IN4_RH_T</th><th style=\"text-align: right;\">  Q1_NE_IN9_RH_T</th><th style=\"text-align: right;\">  IB_NE(S)_IN18_RH_T</th><th style=\"text-align: right;\">  R_NE_IN7_RH_HT</th><th style=\"text-align: right;\">  Q1_NE_R_RH_CB</th><th style=\"text-align: right;\">  IB_NE(MX)_Y_RH_CB</th><th style=\"text-align: right;\">  IB_NE(MX)_IN1_RH_CB</th><th style=\"text-align: right;\">  N2_NE_Z_RH_HA</th><th style=\"text-align: right;\">  IB_NE(G)_IN17_RH_HA</th><th style=\"text-align: right;\">  K_NE_DC2_RH_HA</th><th style=\"text-align: right;\">  S_NE_Z_RH_HD</th><th style=\"text-align: right;\">  DE_NE_A_RH_IS</th><th style=\"text-align: right;\">  A_NE_N_RH_LA</th><th style=\"text-align: right;\">  DE_NE_Z_RH_RA</th><th style=\"text-align: right;\">  IB_NE(P2)_IN9_RH_T</th><th style=\"text-align: right;\">  IB_NE(Q3)_IN18_RH_T</th><th style=\"text-align: right;\">  MN_NE_Y_RH_LA</th><th style=\"text-align: right;\">  IB_NE(MX)_R_RH_CB</th><th style=\"text-align: right;\">  IB_NE(CV)_S_RH_IS</th><th style=\"text-align: right;\">  G_NE_C_RH_T</th><th style=\"text-align: right;\">  ES_NE(V)_DC2_RH_T</th><th style=\"text-align: right;\">  ES_NE(V)_M_RH_CB</th><th style=\"text-align: right;\">  ES_NE(G)_N_RH_CB</th><th style=\"text-align: right;\">  ES_NE(M)_N_RH_CB</th><th style=\"text-align: right;\">  ES_NE(S)_N_RH_HA</th><th style=\"text-align: right;\">  ES_NE(K)_DC2_RH_HA</th><th style=\"text-align: right;\">  ES_NE(DE)_R_RH_IS</th><th style=\"text-align: right;\">  ES_NE(PN)_L_RH_IS</th><th style=\"text-align: right;\">  ES_NE(S)_IN10_RH_IS</th><th style=\"text-align: right;\">  ES_NE(S)_IN17_RH_IS</th><th style=\"text-align: right;\">  ES_NE(S)_DC4_RH_IS</th><th style=\"text-align: right;\">  ES_NE(S)_L_RH_LA</th><th style=\"text-align: right;\">  S_NE_P_RH_GL_1_2_4_6</th><th style=\"text-align: right;\">  ES_NE(Q1)_IN16_RH_GL_1_2_4_6</th><th style=\"text-align: right;\">  S_NE_IN16_RH_IS</th><th style=\"text-align: right;\">  ES_NE(N1)_A_RH_LA</th><th style=\"text-align: right;\">  G_NE_P_RH_T</th><th style=\"text-align: right;\">  V_NE_M_RH_T</th><th style=\"text-align: right;\">  MI_NE(PN)_IN4_RH_T</th><th style=\"text-align: right;\">  A_NE_Y_RH_HT</th><th style=\"text-align: right;\">  P2_NE_DC3_RH_HT</th><th style=\"text-align: right;\">  SI_NE_VW_RH_CB</th><th style=\"text-align: right;\">  M_NE_DC4_RH_CB</th><th style=\"text-align: right;\">  S_NE_M_RH_HA</th><th style=\"text-align: right;\">  K_NE_IN17_RH_IS</th><th style=\"text-align: right;\">  N1_NE_A_RH_LA</th><th style=\"text-align: right;\">  N3_NE_M_RH_LA</th><th style=\"text-align: right;\">  S_NE_IN10_RH_RA</th><th style=\"text-align: right;\">  N1_NE_IN15_RH_RA</th><th style=\"text-align: right;\">  MI_NE(I50)_DC3_RH_GL_1_2_4_6</th><th style=\"text-align: right;\">  SI_NE_E_RH_CB</th><th style=\"text-align: right;\">  SI_NE_A_RH_CB</th><th style=\"text-align: right;\">  P3_NE_A_RH_CB</th><th style=\"text-align: right;\">  MI_NE(G)_IN6_RH_T</th><th style=\"text-align: right;\">  A_NE_A_RH_T</th><th style=\"text-align: right;\">  A_NE_IN5_RH_T</th><th style=\"text-align: right;\">  M_NE_Z_RH_HT</th><th style=\"text-align: right;\">  P3_NE_R_RH_HT</th><th style=\"text-align: right;\">  G_NE_IN4_RH_HA</th><th style=\"text-align: right;\">  P2_NE_DC3_RH_HA</th><th style=\"text-align: right;\">  M_NE_L_RH_IS</th><th style=\"text-align: right;\">  G_NE_Y_RH_LA</th><th style=\"text-align: right;\">  M_NE_Z_RH_RA</th><th style=\"text-align: right;\">  M_NE_E_RH_RA</th><th style=\"text-align: right;\">  M_NE_L_RH_RA</th><th style=\"text-align: right;\">  P3_NE_DC3_RH_GL_1_2_4_6</th><th style=\"text-align: right;\">  P3_NE_I_RH_RA</th><th style=\"text-align: right;\">  P2_NE_Z_RH_RA</th><th style=\"text-align: right;\">  P2_NE_C_RH_HA</th><th style=\"text-align: right;\">  P3_NE_DC4_RH_HT</th><th style=\"text-align: right;\">  8GI_NE(CV)_E_RH_T</th><th style=\"text-align: right;\">  3GI_NE(S)_DC4_RH_T</th><th style=\"text-align: right;\">  4GI_NE(K)_C_RH_CB</th><th style=\"text-align: right;\">  MX_NE_IN15_RH_CB</th><th style=\"text-align: right;\">  3GI_NE(S)_IN16_RH_CB</th><th style=\"text-align: right;\">  3GI_NE(CV)_IN17_RH_CB</th><th style=\"text-align: right;\">  3GI_NE(S)_DC2_RH_CB</th><th style=\"text-align: right;\">  CV_NE_DC3_RH_CB</th><th style=\"text-align: right;\">  1GI_NE(DE)_R_RH_IS</th><th style=\"text-align: right;\">  7GI_NE(DE)_Y_RH_IS</th><th style=\"text-align: right;\">  TGI_NE(S)_IN4_RH_IS</th><th style=\"text-align: right;\">  S_NE_IN17_RH_IS</th><th style=\"text-align: right;\">  1GI_NE(S)_IN17_RH_RA</th><th style=\"text-align: right;\">  1GI_NE(S)_DC3_RH_RA</th><th style=\"text-align: right;\">  V_NE_KU_RH_GL_1_2_4_6</th><th style=\"text-align: right;\">  4GI_NE(R)_C_RH_T</th><th style=\"text-align: right;\">  5GI_NE(V)_N_RH_GL_1_2_4_6</th><th style=\"text-align: right;\">  1GI_NE(DE)_DC4_RH_LA</th><th style=\"text-align: right;\">  1GI_NE(P2)_A_RH_T</th><th style=\"text-align: right;\">  A_NE_DC3_RH_T</th><th style=\"text-align: right;\">  1GI_NE(P3)_C_RH_CB</th><th style=\"text-align: right;\">  P3_NE_IN7_RH_HA</th><th style=\"text-align: right;\">  TGI_NE(G)_IN18_RH_HA</th><th style=\"text-align: right;\">  4GI_NE(M)_A_RH_IS</th><th style=\"text-align: right;\">  2GI_NE(M)_KU_RH_IS</th><th style=\"text-align: right;\">  7GI_NE(M)_Alk_RH_IS</th><th style=\"text-align: right;\">  TGI_NE(M)_IN2_RH_IS</th><th style=\"text-align: right;\">  3GI_NE(M)_VW_RH_RA</th><th style=\"text-align: right;\">  1GI_NE(M)_S_RH_RA</th><th style=\"text-align: right;\">  TGI_NE(M)_KU_RH_RA</th><th style=\"text-align: right;\">  6GI_NE(G)_DC4_RH_GL_1_2_4_6</th><th style=\"text-align: right;\">  8GI_NE(P2)_DC4_RH_GL_1_2_4_6</th><th style=\"text-align: right;\">  TGI_NE(M)_DC4_RH_GL_1_2_4_6</th><th style=\"text-align: right;\">  3GI_NE(M)_LI_RH_RA</th><th style=\"text-align: right;\">  1GI_NE(M)_DC3_RH_GL_1_2_4_6</th><th style=\"text-align: right;\">  P3_NE_Alk_RH_T</th><th style=\"text-align: right;\">  5GI_NE(A)_DC2_RH_T</th><th style=\"text-align: right;\">  TGI_NE(P3)_L_RH_GL_1_2_4_6</th><th style=\"text-align: right;\">  5GI_NE(M)_DC2_RH_T</th><th style=\"text-align: right;\">  M_NE_IN14_RH_CB</th><th style=\"text-align: right;\">  6GI_NE(PN)_DC4_RH_T</th><th style=\"text-align: right;\">  8GI_NE(N3)_DC4_RH_T</th><th style=\"text-align: right;\">  1GI_NE(N3)_C_RH_CB</th><th style=\"text-align: right;\">  TGI_NE(N1)_VW_RH_HA</th><th style=\"text-align: right;\">  N3_NE_DC3_RH_HA</th><th style=\"text-align: right;\">  3GI_NE(N1)_A_RH_IS</th><th style=\"text-align: right;\">  2GI_NE(PN)_VW_RH_IS</th><th style=\"text-align: right;\">  3GI_NE(PN)_L_RH_IS</th><th style=\"text-align: right;\">  3GI_NE(N2)_KU_RH_IS</th><th style=\"text-align: right;\">  7GI_NE(PN)_Alk_RH_IS</th><th style=\"text-align: right;\">  8GI_NE(PN)_IN5_RH_IS</th><th style=\"text-align: right;\">  7GI_NE(PN)_R_RH_RA</th><th style=\"text-align: right;\">  1GI_NE(N1)_S_RH_RA</th><th style=\"text-align: right;\">  2GI_NE(N2)_DC3_RH_GL_1_2_4_6</th><th style=\"text-align: right;\">  8GI_NE(N3)_DC4_RH_GL_1_2_4_6</th><th style=\"text-align: right;\">  2GI_NE(N3)_DC2_RH_IS</th><th style=\"text-align: right;\">  TGI_NE(N1)_VW_RH_HT</th><th style=\"text-align: right;\">  8GI_NE(PN)_IN6_RH_IS</th><th style=\"text-align: right;\">  3GI_NE(N3)_N_RH_IS</th><th style=\"text-align: right;\">  8AC_NE(CV)_A_RH_T</th><th style=\"text-align: right;\">  8AC_NE(CV)_E_RH_T</th><th style=\"text-align: right;\">  4AC_NE(CV)_DC2_RH_T</th><th style=\"text-align: right;\">  4AC_NE(K)_C_RH_CB</th><th style=\"text-align: right;\">  3AC_NE(K)_IN4_RH_CB</th><th style=\"text-align: right;\">  CV_NE_IN13_RH_CB</th><th style=\"text-align: right;\">  3AC_NE(K)_DC2_RH_CB</th><th style=\"text-align: right;\">  3AC_NE(K)_Z_RH_IS</th><th style=\"text-align: right;\">  1AC_NE(V)_VW_RH_IS</th><th style=\"text-align: right;\">  1AC_NE(K)_C_RH_IS</th><th style=\"text-align: right;\">  8AC_NE(V)_KU_RH_IS</th><th style=\"text-align: right;\">  1AC_NE(DE)_DC4_RH_LA</th><th style=\"text-align: right;\">  1AC_NE(K)_L_RH_RA</th><th style=\"text-align: right;\">  3AC_NE(DE)_N_RH_GL_1_2_4_6</th><th style=\"text-align: right;\">  7AC_NE(S)_KU_RH_GL_1_2_4_6</th><th style=\"text-align: right;\">  3AC_NE(K)_HX_RH_CB</th><th style=\"text-align: right;\">  4AC_NE(CV)_E_RH_T</th><th style=\"text-align: right;\">  CV_NE_IN11_RH_CB</th><th style=\"text-align: right;\">  3AC_NE(DE)_DC2_RH_CB</th><th style=\"text-align: right;\">  7AC_NE(K)_I_RH_GL_1_2_4_6</th><th style=\"text-align: right;\">  S_NE_C_RH_HT</th><th style=\"text-align: right;\">  S_NE_IN14_RH_RA</th><th style=\"text-align: right;\">  G_NE_A_RH_T</th><th style=\"text-align: right;\">  TAC_NE(G)_R_RH_T</th><th style=\"text-align: right;\">  1AC_NE(P2)_DC2_RH_T</th><th style=\"text-align: right;\">  8AC_NE(P3)_DC4_RH_T</th><th style=\"text-align: right;\">  TAC_NE(M)_P_RH_HT</th><th style=\"text-align: right;\">  4AC_NE(M)_R_RH_CB</th></tr>\n",
              "</thead>\n",
              "<tbody>\n",
              "<tr><td>001_17504863.mol_17504863</td><td style=\"text-align: right;\">              44</td><td style=\"text-align: right;\">               23</td><td style=\"text-align: right;\">                      7.0625 </td><td style=\"text-align: right;\">       1.30481 </td><td style=\"text-align: right;\">         24.9738</td><td style=\"text-align: right;\">                           48</td><td style=\"text-align: right;\">                                        71</td><td style=\"text-align: right;\">          20.992 </td><td style=\"text-align: right;\">             61</td><td style=\"text-align: right;\">              217</td><td style=\"text-align: right;\">           1496</td><td style=\"text-align: right;\">       0.66188 </td><td style=\"text-align: right;\">        5.99073</td><td style=\"text-align: right;\">          70.9051</td><td style=\"text-align: right;\">        6.25896</td><td style=\"text-align: right;\">          4.10529</td><td style=\"text-align: right;\">       10.8916 </td><td style=\"text-align: right;\">         20.9972</td><td style=\"text-align: right;\">        13.0767</td><td style=\"text-align: right;\">        24.3856</td><td style=\"text-align: right;\">          4.36068</td><td style=\"text-align: right;\">                 -1.0933</td><td style=\"text-align: right;\">      1.12927</td><td style=\"text-align: right;\">        106.046 </td><td style=\"text-align: right;\">         109.023 </td><td style=\"text-align: right;\">          1.52853</td><td style=\"text-align: right;\">       5.33333</td><td style=\"text-align: right;\">               149</td><td style=\"text-align: right;\">      10.6667 </td><td style=\"text-align: right;\">       0.248764</td><td style=\"text-align: right;\">          56.5   </td><td style=\"text-align: right;\">         -0.362536</td><td style=\"text-align: right;\">        5.47364</td><td style=\"text-align: right;\">      -0.185083</td><td style=\"text-align: right;\">                53.3333</td><td style=\"text-align: right;\">                 0.302536</td><td style=\"text-align: right;\">                 0.264269</td><td style=\"text-align: right;\">         10.0848 </td><td style=\"text-align: right;\">                    3.55556</td><td style=\"text-align: right;\">      -0.674105</td><td style=\"text-align: right;\">        -0.701589</td><td style=\"text-align: right;\">      21.8333</td><td style=\"text-align: right;\">             0.461723</td><td style=\"text-align: right;\">              83</td><td style=\"text-align: right;\">            0.267973</td><td style=\"text-align: right;\">        0.177318</td><td style=\"text-align: right;\">        3.55556</td><td style=\"text-align: right;\">          -0.003964</td><td style=\"text-align: right;\">              13.3333</td><td style=\"text-align: right;\">       0.1925  </td><td style=\"text-align: right;\">              2.62117</td><td style=\"text-align: right;\">         1.75833</td><td style=\"text-align: right;\">      26.2027 </td><td style=\"text-align: right;\">       0.215165</td><td style=\"text-align: right;\">     -2.1     </td><td style=\"text-align: right;\">        0      </td><td style=\"text-align: right;\">            1.34923 </td><td style=\"text-align: right;\">              1.74515</td><td style=\"text-align: right;\">       1.67998 </td><td style=\"text-align: right;\">            6.18634</td><td style=\"text-align: right;\">            2.03526</td><td style=\"text-align: right;\">            8</td><td style=\"text-align: right;\">            177.089</td><td style=\"text-align: right;\">                 0</td><td style=\"text-align: right;\">        0.09925   </td><td style=\"text-align: right;\">           6.21601</td><td style=\"text-align: right;\">          1.07181 </td><td style=\"text-align: right;\">             4.21608</td><td style=\"text-align: right;\">            4.23772</td><td style=\"text-align: right;\">          -0.656295</td><td style=\"text-align: right;\">            -2.01905 </td><td style=\"text-align: right;\">             0.15362 </td><td style=\"text-align: right;\">            0.187835</td><td style=\"text-align: right;\">         -0.169475</td><td style=\"text-align: right;\">              1.23437 </td><td style=\"text-align: right;\">                      1.52378 </td><td style=\"text-align: right;\">        -0.821543</td><td style=\"text-align: right;\">           1.32578 </td><td style=\"text-align: right;\">     1.52535 </td><td style=\"text-align: right;\">     1.45793 </td><td style=\"text-align: right;\">            157.466 </td><td style=\"text-align: right;\">       3.03859</td><td style=\"text-align: right;\">         1.81573 </td><td style=\"text-align: right;\">        0.507309</td><td style=\"text-align: right;\">         12.0839</td><td style=\"text-align: right;\">       2.93683</td><td style=\"text-align: right;\">         0.357234</td><td style=\"text-align: right;\">        1.91667</td><td style=\"text-align: right;\">       0.963175</td><td style=\"text-align: right;\">         2.80029 </td><td style=\"text-align: right;\">          100.922 </td><td style=\"text-align: right;\">                       7.37897</td><td style=\"text-align: right;\">       0.02719 </td><td style=\"text-align: right;\">        1608.5 </td><td style=\"text-align: right;\">       0.287057</td><td style=\"text-align: right;\">           0.357234</td><td style=\"text-align: right;\">     0.357234</td><td style=\"text-align: right;\">        5.66258</td><td style=\"text-align: right;\">      0.506374</td><td style=\"text-align: right;\">        4.50173</td><td style=\"text-align: right;\">         82.5   </td><td style=\"text-align: right;\">          7.0625 </td><td style=\"text-align: right;\">      0.652405</td><td style=\"text-align: right;\">       32.4478</td><td style=\"text-align: right;\">       2.93683</td><td style=\"text-align: right;\">     -0.130042</td><td style=\"text-align: right;\">       11.2395</td><td style=\"text-align: right;\">                  2.28571</td><td style=\"text-align: right;\">       0.825357</td><td style=\"text-align: right;\">      -0.078092</td><td style=\"text-align: right;\">        3.22281</td><td style=\"text-align: right;\">          2.21698</td><td style=\"text-align: right;\">            2.80093</td><td style=\"text-align: right;\">            0.169088</td><td style=\"text-align: right;\">            4.13839</td><td style=\"text-align: right;\">          0.843773</td><td style=\"text-align: right;\">              3.12602 </td><td style=\"text-align: right;\">                4.9611 </td><td style=\"text-align: right;\">                167  </td><td style=\"text-align: right;\">         3.50526 </td><td style=\"text-align: right;\">            1.76749 </td><td style=\"text-align: right;\">            2.17276 </td><td style=\"text-align: right;\">             0.449613</td><td style=\"text-align: right;\">         0.018116</td><td style=\"text-align: right;\">               23.5459</td><td style=\"text-align: right;\">              3.19536</td><td style=\"text-align: right;\">               1.4729  </td><td style=\"text-align: right;\">          1.47993 </td><td style=\"text-align: right;\">                   0.69651 </td><td style=\"text-align: right;\">              2.51242 </td><td style=\"text-align: right;\">           0.024403</td><td style=\"text-align: right;\">       2.3432  </td><td style=\"text-align: right;\">             3.36662</td><td style=\"text-align: right;\">          39.6251</td><td style=\"text-align: right;\">               2.52631</td><td style=\"text-align: right;\">           0.01771 </td><td style=\"text-align: right;\">             15.2363</td><td style=\"text-align: right;\">             197.938 </td><td style=\"text-align: right;\">              1.82852</td><td style=\"text-align: right;\">             4.42888</td><td style=\"text-align: right;\">           24.891  </td><td style=\"text-align: right;\">             345.658</td><td style=\"text-align: right;\">                      5.54935</td><td style=\"text-align: right;\">                      1.83677 </td><td style=\"text-align: right;\">                     2.91989 </td><td style=\"text-align: right;\">            0.755658</td><td style=\"text-align: right;\">                     0.504444</td><td style=\"text-align: right;\">         1.70371</td><td style=\"text-align: right;\">            2.04598 </td><td style=\"text-align: right;\">                     6.72727</td><td style=\"text-align: right;\">             20.6528</td><td style=\"text-align: right;\">          1.87826</td><td style=\"text-align: right;\">            -0.068594</td><td style=\"text-align: right;\">              2.18889</td><td style=\"text-align: right;\">             424.917</td><td style=\"text-align: right;\">             0.982456</td><td style=\"text-align: right;\">         1.56539 </td><td style=\"text-align: right;\">            0.03684 </td><td style=\"text-align: right;\">             679.692 </td><td style=\"text-align: right;\">             5.99073</td><td style=\"text-align: right;\">              65.2037</td><td style=\"text-align: right;\">                9.0971</td><td style=\"text-align: right;\">              0.002979</td><td style=\"text-align: right;\">             22.998 </td><td style=\"text-align: right;\">            24.891  </td><td style=\"text-align: right;\">                       535.857</td><td style=\"text-align: right;\">                      0.004274</td><td style=\"text-align: right;\">              40.409  </td><td style=\"text-align: right;\">              23.254 </td><td style=\"text-align: right;\">              1.56539 </td><td style=\"text-align: right;\">             16.3346</td><td style=\"text-align: right;\">           679.692 </td><td style=\"text-align: right;\">            31.4921</td><td style=\"text-align: right;\">              14.8445</td><td style=\"text-align: right;\">           1.24219 </td><td style=\"text-align: right;\">             0.843773</td><td style=\"text-align: right;\">          0.51805 </td><td style=\"text-align: right;\">              4.9611 </td><td style=\"text-align: right;\">           0.984826</td><td style=\"text-align: right;\">            0.231824</td><td style=\"text-align: right;\">           1.38742 </td><td style=\"text-align: right;\">            -2.15502</td><td style=\"text-align: right;\">               181.439</td><td style=\"text-align: right;\">           5.47022 </td><td style=\"text-align: right;\">                     48.3203</td><td style=\"text-align: right;\">                     3.36662</td><td style=\"text-align: right;\">            3.44536 </td><td style=\"text-align: right;\">            8.01231</td><td style=\"text-align: right;\">         -0.978241</td><td style=\"text-align: right;\">              0.984826</td><td style=\"text-align: right;\">                   0.954897</td><td style=\"text-align: right;\">      0.182943</td><td style=\"text-align: right;\">          4.39908</td><td style=\"text-align: right;\">     4.6032  </td><td style=\"text-align: right;\">         -0.362536</td><td style=\"text-align: right;\">             0.370976</td><td style=\"text-align: right;\">              5.5541 </td><td style=\"text-align: right;\">          0.090032 </td><td style=\"text-align: right;\">           12.1805 </td></tr>\n",
              "<tr><td>002_47195318.mol_47195318</td><td style=\"text-align: right;\">              40</td><td style=\"text-align: right;\">                8</td><td style=\"text-align: right;\">                      5.16667</td><td style=\"text-align: right;\">       0.788576</td><td style=\"text-align: right;\">         17.07  </td><td style=\"text-align: right;\">                           53</td><td style=\"text-align: right;\">                                        47</td><td style=\"text-align: right;\">          15.4397</td><td style=\"text-align: right;\">             52</td><td style=\"text-align: right;\">                0</td><td style=\"text-align: right;\">           1480</td><td style=\"text-align: right;\">       0.621945</td><td style=\"text-align: right;\">        4.30887</td><td style=\"text-align: right;\">           0     </td><td style=\"text-align: right;\">        0      </td><td style=\"text-align: right;\">          4.17859</td><td style=\"text-align: right;\">        6.80726</td><td style=\"text-align: right;\">         17.07  </td><td style=\"text-align: right;\">        12.9615</td><td style=\"text-align: right;\">        27.8852</td><td style=\"text-align: right;\">          4.33511</td><td style=\"text-align: right;\">                 -4.1935</td><td style=\"text-align: right;\">      1.26814</td><td style=\"text-align: right;\">         98.6485</td><td style=\"text-align: right;\">          93.8385</td><td style=\"text-align: right;\">          3.89653</td><td style=\"text-align: right;\">       4.5    </td><td style=\"text-align: right;\">               115</td><td style=\"text-align: right;\">       9      </td><td style=\"text-align: right;\">       0.06374 </td><td style=\"text-align: right;\">          51     </td><td style=\"text-align: right;\">         -1.43602 </td><td style=\"text-align: right;\">        4.13199</td><td style=\"text-align: right;\">      -1.73205 </td><td style=\"text-align: right;\">                42.8333</td><td style=\"text-align: right;\">                 0.176437</td><td style=\"text-align: right;\">                 0.208856</td><td style=\"text-align: right;\">          3.16241</td><td style=\"text-align: right;\">                    3      </td><td style=\"text-align: right;\">       0.000797</td><td style=\"text-align: right;\">        -1.73205 </td><td style=\"text-align: right;\">      19.6667</td><td style=\"text-align: right;\">             0.172593</td><td style=\"text-align: right;\">              67</td><td style=\"text-align: right;\">            0.246541</td><td style=\"text-align: right;\">        0.144781</td><td style=\"text-align: right;\">        3      </td><td style=\"text-align: right;\">           0.018547</td><td style=\"text-align: right;\">               9     </td><td style=\"text-align: right;\">       0.1925  </td><td style=\"text-align: right;\">              2.04878</td><td style=\"text-align: right;\">         1.73737</td><td style=\"text-align: right;\">       9.60469</td><td style=\"text-align: right;\">       0.15504 </td><td style=\"text-align: right;\">      0       </td><td style=\"text-align: right;\">        0      </td><td style=\"text-align: right;\">            1.20353 </td><td style=\"text-align: right;\">              5.14286</td><td style=\"text-align: right;\">       0.495215</td><td style=\"text-align: right;\">            6.60943</td><td style=\"text-align: right;\">            2.35106</td><td style=\"text-align: right;\">           10</td><td style=\"text-align: right;\">            146.132</td><td style=\"text-align: right;\">                 0</td><td style=\"text-align: right;\">       -0.00620449</td><td style=\"text-align: right;\">           3.08196</td><td style=\"text-align: right;\">          0.302695</td><td style=\"text-align: right;\">             3.71176</td><td style=\"text-align: right;\">            3.72031</td><td style=\"text-align: right;\">          -1.73205 </td><td style=\"text-align: right;\">             0       </td><td style=\"text-align: right;\">             0.118913</td><td style=\"text-align: right;\">            0.249579</td><td style=\"text-align: right;\">          0.587338</td><td style=\"text-align: right;\">              1.92645 </td><td style=\"text-align: right;\">                      0.432693</td><td style=\"text-align: right;\">        -1.63286 </td><td style=\"text-align: right;\">           2.41389 </td><td style=\"text-align: right;\">     0.208569</td><td style=\"text-align: right;\">     2.42596 </td><td style=\"text-align: right;\">             34.4197</td><td style=\"text-align: right;\">       2.3248 </td><td style=\"text-align: right;\">         0.922105</td><td style=\"text-align: right;\">        0.450548</td><td style=\"text-align: right;\">         10     </td><td style=\"text-align: right;\">       2.82843</td><td style=\"text-align: right;\">         0.248522</td><td style=\"text-align: right;\">        2.26667</td><td style=\"text-align: right;\">       1.72547 </td><td style=\"text-align: right;\">         7.97168 </td><td style=\"text-align: right;\">           27.0018</td><td style=\"text-align: right;\">                       3.66067</td><td style=\"text-align: right;\">       1.06408 </td><td style=\"text-align: right;\">        1208.67</td><td style=\"text-align: right;\">       0.250728</td><td style=\"text-align: right;\">           0.248522</td><td style=\"text-align: right;\">     0.248522</td><td style=\"text-align: right;\">        3.66756</td><td style=\"text-align: right;\">      0.444231</td><td style=\"text-align: right;\">        3.93314</td><td style=\"text-align: right;\">         80     </td><td style=\"text-align: right;\">          5.16667</td><td style=\"text-align: right;\">      0.546768</td><td style=\"text-align: right;\">       22.6786</td><td style=\"text-align: right;\">       2.82843</td><td style=\"text-align: right;\">     -0.250012</td><td style=\"text-align: right;\">       13.9248</td><td style=\"text-align: right;\">                  1.93333</td><td style=\"text-align: right;\">       0.823833</td><td style=\"text-align: right;\">      -0.279566</td><td style=\"text-align: right;\">        3.17869</td><td style=\"text-align: right;\">          2.33422</td><td style=\"text-align: right;\">            1.99165</td><td style=\"text-align: right;\">            0.195962</td><td style=\"text-align: right;\">            2.9876 </td><td style=\"text-align: right;\">          0.688653</td><td style=\"text-align: right;\">             -0.115214</td><td style=\"text-align: right;\">                7.80887</td><td style=\"text-align: right;\">                107.5</td><td style=\"text-align: right;\">         0.973371</td><td style=\"text-align: right;\">            0.794104</td><td style=\"text-align: right;\">            0.682715</td><td style=\"text-align: right;\">             0.374926</td><td style=\"text-align: right;\">         0.014577</td><td style=\"text-align: right;\">               13.4883</td><td style=\"text-align: right;\">              2.21842</td><td style=\"text-align: right;\">               2.51873 </td><td style=\"text-align: right;\">          1.58779 </td><td style=\"text-align: right;\">                  -0.127233</td><td style=\"text-align: right;\">              0.598142</td><td style=\"text-align: right;\">           0.012707</td><td style=\"text-align: right;\">       0.777142</td><td style=\"text-align: right;\">             1.04939</td><td style=\"text-align: right;\">          17.9638</td><td style=\"text-align: right;\">               2.47139</td><td style=\"text-align: right;\">           0.008638</td><td style=\"text-align: right;\">             16.0454</td><td style=\"text-align: right;\">             243.747 </td><td style=\"text-align: right;\">              2.55156</td><td style=\"text-align: right;\">             6.45205</td><td style=\"text-align: right;\">           23.6289 </td><td style=\"text-align: right;\">             479.502</td><td style=\"text-align: right;\">                     12.2742 </td><td style=\"text-align: right;\">                      2.21486 </td><td style=\"text-align: right;\">                     4.79694 </td><td style=\"text-align: right;\">            0.701259</td><td style=\"text-align: right;\">                     0.450693</td><td style=\"text-align: right;\">         1.70976</td><td style=\"text-align: right;\">            4.5641  </td><td style=\"text-align: right;\">                     7.25   </td><td style=\"text-align: right;\">             18.1311</td><td style=\"text-align: right;\">          1.76928</td><td style=\"text-align: right;\">             0.05712 </td><td style=\"text-align: right;\">              1.84444</td><td style=\"text-align: right;\">             332.667</td><td style=\"text-align: right;\">             0.744444</td><td style=\"text-align: right;\">         0.921007</td><td style=\"text-align: right;\">            0.021768</td><td style=\"text-align: right;\">              59.8916</td><td style=\"text-align: right;\">             4.30887</td><td style=\"text-align: right;\">              98.8234</td><td style=\"text-align: right;\">               17.2634</td><td style=\"text-align: right;\">              0.020252</td><td style=\"text-align: right;\">             25.5815</td><td style=\"text-align: right;\">            23.6289 </td><td style=\"text-align: right;\">                       650    </td><td style=\"text-align: right;\">                      0.005176</td><td style=\"text-align: right;\">              44.2972 </td><td style=\"text-align: right;\">              23.7013</td><td style=\"text-align: right;\">              0.921007</td><td style=\"text-align: right;\">             17.1227</td><td style=\"text-align: right;\">            59.8916</td><td style=\"text-align: right;\">            32.9062</td><td style=\"text-align: right;\">              15.5426</td><td style=\"text-align: right;\">           0.731348</td><td style=\"text-align: right;\">             0.735685</td><td style=\"text-align: right;\">          0.309195</td><td style=\"text-align: right;\">              8.00466</td><td style=\"text-align: right;\">          -4.9227  </td><td style=\"text-align: right;\">            0.199711</td><td style=\"text-align: right;\">          -6.13514 </td><td style=\"text-align: right;\">             3.58513</td><td style=\"text-align: right;\">               109.869</td><td style=\"text-align: right;\">          17.5283  </td><td style=\"text-align: right;\">                     36.0814</td><td style=\"text-align: right;\">                     1.16799</td><td style=\"text-align: right;\">           -1.61598 </td><td style=\"text-align: right;\">            3.83716</td><td style=\"text-align: right;\">          1.77878 </td><td style=\"text-align: right;\">             -4.9227  </td><td style=\"text-align: right;\">                   0.686872</td><td style=\"text-align: right;\">      0.207951</td><td style=\"text-align: right;\">          4.26956</td><td style=\"text-align: right;\">     0.4591  </td><td style=\"text-align: right;\">         -1.43602 </td><td style=\"text-align: right;\">             0.093187</td><td style=\"text-align: right;\">              4.21135</td><td style=\"text-align: right;\">          0.066248 </td><td style=\"text-align: right;\">           12.052  </td></tr>\n",
              "<tr><td>003_24833909.mol_24833909</td><td style=\"text-align: right;\">              34</td><td style=\"text-align: right;\">                8</td><td style=\"text-align: right;\">                      4.16667</td><td style=\"text-align: right;\">       0.776887</td><td style=\"text-align: right;\">         21.3901</td><td style=\"text-align: right;\">                           44</td><td style=\"text-align: right;\">                                        77</td><td style=\"text-align: right;\">          13.1845</td><td style=\"text-align: right;\">             40</td><td style=\"text-align: right;\">                0</td><td style=\"text-align: right;\">           1020</td><td style=\"text-align: right;\">       0.547233</td><td style=\"text-align: right;\">        3.82586</td><td style=\"text-align: right;\">           0     </td><td style=\"text-align: right;\">        0      </td><td style=\"text-align: right;\">          4.11684</td><td style=\"text-align: right;\">        2.7229 </td><td style=\"text-align: right;\">         19.2341</td><td style=\"text-align: right;\">        10.583 </td><td style=\"text-align: right;\">        30.5538</td><td style=\"text-align: right;\">          4.56066</td><td style=\"text-align: right;\">                 -2.9446</td><td style=\"text-align: right;\">      1.23112</td><td style=\"text-align: right;\">         75.6153</td><td style=\"text-align: right;\">          80.1229</td><td style=\"text-align: right;\">          1.69878</td><td style=\"text-align: right;\">       4.16667</td><td style=\"text-align: right;\">               100</td><td style=\"text-align: right;\">       8.33333</td><td style=\"text-align: right;\">       0.089224</td><td style=\"text-align: right;\">          45.8333</td><td style=\"text-align: right;\">         -1.16867 </td><td style=\"text-align: right;\">        5.10254</td><td style=\"text-align: right;\">      -0.24418 </td><td style=\"text-align: right;\">                40.5   </td><td style=\"text-align: right;\">                 0.269704</td><td style=\"text-align: right;\">                 0.216555</td><td style=\"text-align: right;\">          3.27424</td><td style=\"text-align: right;\">                    2.77778</td><td style=\"text-align: right;\">       2.55513 </td><td style=\"text-align: right;\">         0.586172</td><td style=\"text-align: right;\">      10.8333</td><td style=\"text-align: right;\">             0.07288 </td><td style=\"text-align: right;\">              59</td><td style=\"text-align: right;\">            0.254943</td><td style=\"text-align: right;\">        0.082395</td><td style=\"text-align: right;\">        4.16667</td><td style=\"text-align: right;\">           0.023541</td><td style=\"text-align: right;\">              10.6667</td><td style=\"text-align: right;\">       0.256666</td><td style=\"text-align: right;\">              2.01234</td><td style=\"text-align: right;\">         1.79605</td><td style=\"text-align: right;\">       9.53357</td><td style=\"text-align: right;\">       0.238012</td><td style=\"text-align: right;\">     -1.28926 </td><td style=\"text-align: right;\">        0      </td><td style=\"text-align: right;\">            1.21594 </td><td style=\"text-align: right;\">              4.61538</td><td style=\"text-align: right;\">       0.266855</td><td style=\"text-align: right;\">            5.92802</td><td style=\"text-align: right;\">            1.98618</td><td style=\"text-align: right;\">           10</td><td style=\"text-align: right;\">            129.71 </td><td style=\"text-align: right;\">                 0</td><td style=\"text-align: right;\">        0.0263945 </td><td style=\"text-align: right;\">           2.85429</td><td style=\"text-align: right;\">          0.285139</td><td style=\"text-align: right;\">             3.61278</td><td style=\"text-align: right;\">            3.62191</td><td style=\"text-align: right;\">          -0.157417</td><td style=\"text-align: right;\">             2.50604 </td><td style=\"text-align: right;\">             0.105313</td><td style=\"text-align: right;\">            0.318246</td><td style=\"text-align: right;\">          0.552096</td><td style=\"text-align: right;\">              2.19929 </td><td style=\"text-align: right;\">                      0.40815 </td><td style=\"text-align: right;\">        -0.547368</td><td style=\"text-align: right;\">           1.65486 </td><td style=\"text-align: right;\">    -0.819058</td><td style=\"text-align: right;\">     2.76873 </td><td style=\"text-align: right;\">             38.3978</td><td style=\"text-align: right;\">       2.19073</td><td style=\"text-align: right;\">         0.97601 </td><td style=\"text-align: right;\">        0.432931</td><td style=\"text-align: right;\">         11.8033</td><td style=\"text-align: right;\">       2.23607</td><td style=\"text-align: right;\">         0.2263  </td><td style=\"text-align: right;\">        2.08333</td><td style=\"text-align: right;\">       0.054154</td><td style=\"text-align: right;\">         9.7902  </td><td style=\"text-align: right;\">           35.0089</td><td style=\"text-align: right;\">                       5.88928</td><td style=\"text-align: right;\">       0.845848</td><td style=\"text-align: right;\">         815.5 </td><td style=\"text-align: right;\">       0.019816</td><td style=\"text-align: right;\">           0.2263  </td><td style=\"text-align: right;\">     0.2263  </td><td style=\"text-align: right;\">        3.80058</td><td style=\"text-align: right;\">      0.429918</td><td style=\"text-align: right;\">        4.14189</td><td style=\"text-align: right;\">         65.28  </td><td style=\"text-align: right;\">          4.16667</td><td style=\"text-align: right;\">      0.489408</td><td style=\"text-align: right;\">       25.0414</td><td style=\"text-align: right;\">       2.23607</td><td style=\"text-align: right;\">     -0.276692</td><td style=\"text-align: right;\">       14.3325</td><td style=\"text-align: right;\">                  1.9697 </td><td style=\"text-align: right;\">       0.84106 </td><td style=\"text-align: right;\">      -0.26769 </td><td style=\"text-align: right;\">        2.5303 </td><td style=\"text-align: right;\">          2.40823</td><td style=\"text-align: right;\">            1.98606</td><td style=\"text-align: right;\">            0.186809</td><td style=\"text-align: right;\">            2.09917</td><td style=\"text-align: right;\">          0.794995</td><td style=\"text-align: right;\">              0.227595</td><td style=\"text-align: right;\">               12.0142 </td><td style=\"text-align: right;\">                102.5</td><td style=\"text-align: right;\">         1.49627 </td><td style=\"text-align: right;\">            0.935505</td><td style=\"text-align: right;\">            0.909923</td><td style=\"text-align: right;\">             0.38041 </td><td style=\"text-align: right;\">         0.018552</td><td style=\"text-align: right;\">               34.5753</td><td style=\"text-align: right;\">              3.3903 </td><td style=\"text-align: right;\">               2.90729 </td><td style=\"text-align: right;\">          1.56364 </td><td style=\"text-align: right;\">                   0.292803</td><td style=\"text-align: right;\">              0.729921</td><td style=\"text-align: right;\">           0.027272</td><td style=\"text-align: right;\">       0.726956</td><td style=\"text-align: right;\">             2.86897</td><td style=\"text-align: right;\">          19.4137</td><td style=\"text-align: right;\">               1.82857</td><td style=\"text-align: right;\">           0.01046 </td><td style=\"text-align: right;\">             13.0333</td><td style=\"text-align: right;\">             127.002 </td><td style=\"text-align: right;\">              3.19249</td><td style=\"text-align: right;\">             6.33898</td><td style=\"text-align: right;\">           20.4699 </td><td style=\"text-align: right;\">             332.981</td><td style=\"text-align: right;\">                      9.16954</td><td style=\"text-align: right;\">                      2.79485 </td><td style=\"text-align: right;\">                     4.01141 </td><td style=\"text-align: right;\">            0.449783</td><td style=\"text-align: right;\">                     0.340692</td><td style=\"text-align: right;\">         1.2691 </td><td style=\"text-align: right;\">            3.92592 </td><td style=\"text-align: right;\">                     4.82353</td><td style=\"text-align: right;\">             16.9737</td><td style=\"text-align: right;\">          1.23429</td><td style=\"text-align: right;\">             0.060443</td><td style=\"text-align: right;\">              1.37333</td><td style=\"text-align: right;\">             269.167</td><td style=\"text-align: right;\">             0.469696</td><td style=\"text-align: right;\">         0.689731</td><td style=\"text-align: right;\">            0.023264</td><td style=\"text-align: right;\">              89.919 </td><td style=\"text-align: right;\">             3.82586</td><td style=\"text-align: right;\">              75.4505</td><td style=\"text-align: right;\">               16.87  </td><td style=\"text-align: right;\">              0.023565</td><td style=\"text-align: right;\">             22.2753</td><td style=\"text-align: right;\">            20.4699 </td><td style=\"text-align: right;\">                       412.857</td><td style=\"text-align: right;\">                      0       </td><td style=\"text-align: right;\">              47.5124 </td><td style=\"text-align: right;\">              12.6787</td><td style=\"text-align: right;\">              0.689731</td><td style=\"text-align: right;\">             12.5165</td><td style=\"text-align: right;\">            89.919 </td><td style=\"text-align: right;\">            24.8016</td><td style=\"text-align: right;\">              14.2898</td><td style=\"text-align: right;\">           0.684987</td><td style=\"text-align: right;\">             0.688653</td><td style=\"text-align: right;\">          0.321287</td><td style=\"text-align: right;\">              7.80887</td><td style=\"text-align: right;\">          -2.10508 </td><td style=\"text-align: right;\">            0.239605</td><td style=\"text-align: right;\">          -5.68941 </td><td style=\"text-align: right;\">             1.86564</td><td style=\"text-align: right;\">               148.922</td><td style=\"text-align: right;\">          12.3718  </td><td style=\"text-align: right;\">                     43.8246</td><td style=\"text-align: right;\">                     1.04939</td><td style=\"text-align: right;\">           -1.3479  </td><td style=\"text-align: right;\">            3.92966</td><td style=\"text-align: right;\">          1.22963 </td><td style=\"text-align: right;\">             -2.10508 </td><td style=\"text-align: right;\">                   0.484462</td><td style=\"text-align: right;\">      0.196379</td><td style=\"text-align: right;\">          3.96151</td><td style=\"text-align: right;\">    -1.03705 </td><td style=\"text-align: right;\">         -1.16867 </td><td style=\"text-align: right;\">            -0.141535</td><td style=\"text-align: right;\">              4.40312</td><td style=\"text-align: right;\">          0.0699663</td><td style=\"text-align: right;\">            9.49613</td></tr>\n",
              "<tr><td>004_17509523.mol_17509523</td><td style=\"text-align: right;\">              56</td><td style=\"text-align: right;\">               14</td><td style=\"text-align: right;\">                      3.56667</td><td style=\"text-align: right;\">       0.598366</td><td style=\"text-align: right;\">         17.07  </td><td style=\"text-align: right;\">                           58</td><td style=\"text-align: right;\">                                       160</td><td style=\"text-align: right;\">          15.8179</td><td style=\"text-align: right;\">             74</td><td style=\"text-align: right;\">                0</td><td style=\"text-align: right;\">           2240</td><td style=\"text-align: right;\">       0.627482</td><td style=\"text-align: right;\">        5.11723</td><td style=\"text-align: right;\">           0     </td><td style=\"text-align: right;\">        0      </td><td style=\"text-align: right;\">          3.91426</td><td style=\"text-align: right;\">       10.8916 </td><td style=\"text-align: right;\">         17.07  </td><td style=\"text-align: right;\">        12.3693</td><td style=\"text-align: right;\">        40.0898</td><td style=\"text-align: right;\">          4.88095</td><td style=\"text-align: right;\">                 -6.1594</td><td style=\"text-align: right;\">      1.73313</td><td style=\"text-align: right;\">        143.992 </td><td style=\"text-align: right;\">         140.047 </td><td style=\"text-align: right;\">          2.63391</td><td style=\"text-align: right;\">       6.66667</td><td style=\"text-align: right;\">               241</td><td style=\"text-align: right;\">      13.3333 </td><td style=\"text-align: right;\">       0.359943</td><td style=\"text-align: right;\">         100.833 </td><td style=\"text-align: right;\">          1.04159 </td><td style=\"text-align: right;\">        3.91008</td><td style=\"text-align: right;\">       0.345442</td><td style=\"text-align: right;\">               100.833 </td><td style=\"text-align: right;\">                 0.219669</td><td style=\"text-align: right;\">                 0.216549</td><td style=\"text-align: right;\">          2.55335</td><td style=\"text-align: right;\">                    4.44444</td><td style=\"text-align: right;\">       0.795984</td><td style=\"text-align: right;\">         0.876071</td><td style=\"text-align: right;\">      30     </td><td style=\"text-align: right;\">             0.207359</td><td style=\"text-align: right;\">             134</td><td style=\"text-align: right;\">            0.268861</td><td style=\"text-align: right;\">        0.173583</td><td style=\"text-align: right;\">        4.44444</td><td style=\"text-align: right;\">           0.083556</td><td style=\"text-align: right;\">              17.3333</td><td style=\"text-align: right;\">       0.256666</td><td style=\"text-align: right;\">              2.80133</td><td style=\"text-align: right;\">         1.80513</td><td style=\"text-align: right;\">       8.10521</td><td style=\"text-align: right;\">       0.203924</td><td style=\"text-align: right;\">     -3.33333 </td><td style=\"text-align: right;\">        0      </td><td style=\"text-align: right;\">            1.10936 </td><td style=\"text-align: right;\">              4.61538</td><td style=\"text-align: right;\">       0.243376</td><td style=\"text-align: right;\">            6.01722</td><td style=\"text-align: right;\">            1.48746</td><td style=\"text-align: right;\">            9</td><td style=\"text-align: right;\">            211.145</td><td style=\"text-align: right;\">                 0</td><td style=\"text-align: right;\">        0.0373444 </td><td style=\"text-align: right;\">           5.28706</td><td style=\"text-align: right;\">          1.89417 </td><td style=\"text-align: right;\">             3.55988</td><td style=\"text-align: right;\">            3.56484</td><td style=\"text-align: right;\">          -0.64864 </td><td style=\"text-align: right;\">            -3.27525 </td><td style=\"text-align: right;\">             0.124341</td><td style=\"text-align: right;\">            0.231346</td><td style=\"text-align: right;\">         -0.228319</td><td style=\"text-align: right;\">              0.476626</td><td style=\"text-align: right;\">                      1.40061 </td><td style=\"text-align: right;\">        -0.452246</td><td style=\"text-align: right;\">           1.21985 </td><td style=\"text-align: right;\">    12.5437  </td><td style=\"text-align: right;\">     0.817024</td><td style=\"text-align: right;\">             89.1699</td><td style=\"text-align: right;\">       2.45354</td><td style=\"text-align: right;\">         0.936376</td><td style=\"text-align: right;\">        0.433398</td><td style=\"text-align: right;\">         17.1429</td><td style=\"text-align: right;\">       2.89827</td><td style=\"text-align: right;\">         0.330916</td><td style=\"text-align: right;\">        2.80952</td><td style=\"text-align: right;\">       0.762172</td><td style=\"text-align: right;\">         2.0019  </td><td style=\"text-align: right;\">           68.0356</td><td style=\"text-align: right;\">                       5.48634</td><td style=\"text-align: right;\">       0.119747</td><td style=\"text-align: right;\">        2778.83</td><td style=\"text-align: right;\">       0.3074  </td><td style=\"text-align: right;\">           0.330916</td><td style=\"text-align: right;\">     0.330916</td><td style=\"text-align: right;\">        6.05048</td><td style=\"text-align: right;\">      0.429037</td><td style=\"text-align: right;\">        4.3498 </td><td style=\"text-align: right;\">        109.2   </td><td style=\"text-align: right;\">          3.56667</td><td style=\"text-align: right;\">      0.349926</td><td style=\"text-align: right;\">       49.0926</td><td style=\"text-align: right;\">       2.89827</td><td style=\"text-align: right;\">     -0.349783</td><td style=\"text-align: right;\">       16.8801</td><td style=\"text-align: right;\">                  1.90196</td><td style=\"text-align: right;\">       0.809607</td><td style=\"text-align: right;\">      -0.362317</td><td style=\"text-align: right;\">        3.33222</td><td style=\"text-align: right;\">          2.32631</td><td style=\"text-align: right;\">            1.91656</td><td style=\"text-align: right;\">            0.268473</td><td style=\"text-align: right;\">            3.42564</td><td style=\"text-align: right;\">          0.566912</td><td style=\"text-align: right;\">              1.81213 </td><td style=\"text-align: right;\">               -4.37071</td><td style=\"text-align: right;\">                237.5</td><td style=\"text-align: right;\">         2.57902 </td><td style=\"text-align: right;\">            1.63289 </td><td style=\"text-align: right;\">            1.82636 </td><td style=\"text-align: right;\">             0.473286</td><td style=\"text-align: right;\">         0.012343</td><td style=\"text-align: right;\">               36.1741</td><td style=\"text-align: right;\">              3.2892 </td><td style=\"text-align: right;\">               0.805064</td><td style=\"text-align: right;\">          0.44128 </td><td style=\"text-align: right;\">                   1.8748  </td><td style=\"text-align: right;\">              0.621815</td><td style=\"text-align: right;\">           0.013493</td><td style=\"text-align: right;\">       0.956535</td><td style=\"text-align: right;\">             1.86007</td><td style=\"text-align: right;\">          30.577 </td><td style=\"text-align: right;\">               2.28739</td><td style=\"text-align: right;\">           0.009686</td><td style=\"text-align: right;\">             17.0582</td><td style=\"text-align: right;\">             256.953 </td><td style=\"text-align: right;\">              1.62402</td><td style=\"text-align: right;\">             3.45946</td><td style=\"text-align: right;\">           19.0338 </td><td style=\"text-align: right;\">             440.729</td><td style=\"text-align: right;\">                      4.01197</td><td style=\"text-align: right;\">                      2.06334 </td><td style=\"text-align: right;\">                     2.20091 </td><td style=\"text-align: right;\">            0.991259</td><td style=\"text-align: right;\">                     0.855816</td><td style=\"text-align: right;\">         2.60632</td><td style=\"text-align: right;\">            1.6036  </td><td style=\"text-align: right;\">                     9.67857</td><td style=\"text-align: right;\">             17.2261</td><td style=\"text-align: right;\">          1.24312</td><td style=\"text-align: right;\">             0.136427</td><td style=\"text-align: right;\">              1.65946</td><td style=\"text-align: right;\">             592.952</td><td style=\"text-align: right;\">             1.14141 </td><td style=\"text-align: right;\">         3.0234  </td><td style=\"text-align: right;\">            0.025385</td><td style=\"text-align: right;\">              83.5262</td><td style=\"text-align: right;\">             5.11723</td><td style=\"text-align: right;\">              53.0874</td><td style=\"text-align: right;\">               10.2636</td><td style=\"text-align: right;\">              0.005693</td><td style=\"text-align: right;\">             19.5983</td><td style=\"text-align: right;\">            19.0338 </td><td style=\"text-align: right;\">                      1065.75 </td><td style=\"text-align: right;\">                      0.00485 </td><td style=\"text-align: right;\">              57.7736 </td><td style=\"text-align: right;\">              35.9201</td><td style=\"text-align: right;\">              3.0234  </td><td style=\"text-align: right;\">             11.7437</td><td style=\"text-align: right;\">            83.5262</td><td style=\"text-align: right;\">            60.4167</td><td style=\"text-align: right;\">              12.9679</td><td style=\"text-align: right;\">           0.595067</td><td style=\"text-align: right;\">             0.604003</td><td style=\"text-align: right;\">          0.504247</td><td style=\"text-align: right;\">              3.12752</td><td style=\"text-align: right;\">          -3.76011 </td><td style=\"text-align: right;\">            0.228527</td><td style=\"text-align: right;\">          -4.99213 </td><td style=\"text-align: right;\">             1.0092 </td><td style=\"text-align: right;\">               294.206</td><td style=\"text-align: right;\">          27.2509  </td><td style=\"text-align: right;\">                     28.4516</td><td style=\"text-align: right;\">                     9.86575</td><td style=\"text-align: right;\">            1.96291 </td><td style=\"text-align: right;\">            3.63665</td><td style=\"text-align: right;\">          1.52068 </td><td style=\"text-align: right;\">             -3.76011 </td><td style=\"text-align: right;\">                   0.611086</td><td style=\"text-align: right;\">      0.220629</td><td style=\"text-align: right;\">          4.05992</td><td style=\"text-align: right;\">     1.38917 </td><td style=\"text-align: right;\">          1.04159 </td><td style=\"text-align: right;\">             1.18447 </td><td style=\"text-align: right;\">              4.66114</td><td style=\"text-align: right;\">          0.0802992</td><td style=\"text-align: right;\">           10.9022 </td></tr>\n",
              "<tr><td>005_14729847.mol_14729847</td><td style=\"text-align: right;\">              48</td><td style=\"text-align: right;\">               17</td><td style=\"text-align: right;\">                      3.08333</td><td style=\"text-align: right;\">       0.58173 </td><td style=\"text-align: right;\">         24.9738</td><td style=\"text-align: right;\">                           52</td><td style=\"text-align: right;\">                                       109</td><td style=\"text-align: right;\">          17.1372</td><td style=\"text-align: right;\">             64</td><td style=\"text-align: right;\">                0</td><td style=\"text-align: right;\">           1728</td><td style=\"text-align: right;\">       0.63768 </td><td style=\"text-align: right;\">        5.44012</td><td style=\"text-align: right;\">           0     </td><td style=\"text-align: right;\">        0      </td><td style=\"text-align: right;\">          3.89567</td><td style=\"text-align: right;\">       10.8916 </td><td style=\"text-align: right;\">         20.9972</td><td style=\"text-align: right;\">        12.6095</td><td style=\"text-align: right;\">        36.3457</td><td style=\"text-align: right;\">          4.61931</td><td style=\"text-align: right;\">                 -3.8134</td><td style=\"text-align: right;\">      1.34823</td><td style=\"text-align: right;\">        120.952 </td><td style=\"text-align: right;\">         120.479 </td><td style=\"text-align: right;\">          1.68703</td><td style=\"text-align: right;\">       5.5    </td><td style=\"text-align: right;\">               188</td><td style=\"text-align: right;\">      11      </td><td style=\"text-align: right;\">       0.303588</td><td style=\"text-align: right;\">          79.6667</td><td style=\"text-align: right;\">         -0.754952</td><td style=\"text-align: right;\">        5.26429</td><td style=\"text-align: right;\">       0.313692</td><td style=\"text-align: right;\">                79.6667</td><td style=\"text-align: right;\">                 0.246151</td><td style=\"text-align: right;\">                 0.196642</td><td style=\"text-align: right;\">          2.19557</td><td style=\"text-align: right;\">                    3.66667</td><td style=\"text-align: right;\">       0.197347</td><td style=\"text-align: right;\">         1.22549 </td><td style=\"text-align: right;\">      28.6667</td><td style=\"text-align: right;\">             0.242839</td><td style=\"text-align: right;\">             104</td><td style=\"text-align: right;\">            0.262584</td><td style=\"text-align: right;\">        0.13006 </td><td style=\"text-align: right;\">        3.66667</td><td style=\"text-align: right;\">           0.307116</td><td style=\"text-align: right;\">              14.6667</td><td style=\"text-align: right;\">       0.1925  </td><td style=\"text-align: right;\">              2.47554</td><td style=\"text-align: right;\">         1.77622</td><td style=\"text-align: right;\">       7.78353</td><td style=\"text-align: right;\">       0.261788</td><td style=\"text-align: right;\">      2.5     </td><td style=\"text-align: right;\">        0      </td><td style=\"text-align: right;\">            1.20711 </td><td style=\"text-align: right;\">              4.39024</td><td style=\"text-align: right;\">       0.59278 </td><td style=\"text-align: right;\">            6.21089</td><td style=\"text-align: right;\">            1.55103</td><td style=\"text-align: right;\">            8</td><td style=\"text-align: right;\">            183.764</td><td style=\"text-align: right;\">                 0</td><td style=\"text-align: right;\">        0.0197388 </td><td style=\"text-align: right;\">           3.32933</td><td style=\"text-align: right;\">          1.16657 </td><td style=\"text-align: right;\">             3.52243</td><td style=\"text-align: right;\">            3.53366</td><td style=\"text-align: right;\">           0.98886 </td><td style=\"text-align: right;\">             2.2994  </td><td style=\"text-align: right;\">             0.115717</td><td style=\"text-align: right;\">            0.162085</td><td style=\"text-align: right;\">          0.516885</td><td style=\"text-align: right;\">              0.645   </td><td style=\"text-align: right;\">                     -0.484435</td><td style=\"text-align: right;\">         0.100069</td><td style=\"text-align: right;\">           1.61981 </td><td style=\"text-align: right;\">     6.78784 </td><td style=\"text-align: right;\">     0.791397</td><td style=\"text-align: right;\">             50.9562</td><td style=\"text-align: right;\">       2.33329</td><td style=\"text-align: right;\">         0.830516</td><td style=\"text-align: right;\">        0.413556</td><td style=\"text-align: right;\">         16.2684</td><td style=\"text-align: right;\">       2.91547</td><td style=\"text-align: right;\">         0.412349</td><td style=\"text-align: right;\">        2.3125 </td><td style=\"text-align: right;\">      -0.826252</td><td style=\"text-align: right;\">         0.79148 </td><td style=\"text-align: right;\">           42.0272</td><td style=\"text-align: right;\">                       5.15878</td><td style=\"text-align: right;\">       0.663317</td><td style=\"text-align: right;\">        2044.33</td><td style=\"text-align: right;\">       0.138729</td><td style=\"text-align: right;\">           0.412349</td><td style=\"text-align: right;\">     0.412349</td><td style=\"text-align: right;\">        5.60311</td><td style=\"text-align: right;\">      0.405578</td><td style=\"text-align: right;\">        4.30105</td><td style=\"text-align: right;\">         96     </td><td style=\"text-align: right;\">          3.08333</td><td style=\"text-align: right;\">      0.320138</td><td style=\"text-align: right;\">       41.9401</td><td style=\"text-align: right;\">       2.91547</td><td style=\"text-align: right;\">     -0.237249</td><td style=\"text-align: right;\">       16.9222</td><td style=\"text-align: right;\">                  2.0625 </td><td style=\"text-align: right;\">       0.881874</td><td style=\"text-align: right;\">      -0.238337</td><td style=\"text-align: right;\">        2.79817</td><td style=\"text-align: right;\">          2.49463</td><td style=\"text-align: right;\">            2.14087</td><td style=\"text-align: right;\">            0.186402</td><td style=\"text-align: right;\">            3.16928</td><td style=\"text-align: right;\">          0.894785</td><td style=\"text-align: right;\">              0.207954</td><td style=\"text-align: right;\">                5.07653</td><td style=\"text-align: right;\">                163  </td><td style=\"text-align: right;\">         4.98978 </td><td style=\"text-align: right;\">            2.54679 </td><td style=\"text-align: right;\">            2.15889 </td><td style=\"text-align: right;\">             0.365987</td><td style=\"text-align: right;\">         0.015726</td><td style=\"text-align: right;\">               10.6507</td><td style=\"text-align: right;\">              3.00997</td><td style=\"text-align: right;\">               0.777162</td><td style=\"text-align: right;\">          2.11361 </td><td style=\"text-align: right;\">                   1.57721 </td><td style=\"text-align: right;\">              0.578307</td><td style=\"text-align: right;\">           0.014815</td><td style=\"text-align: right;\">       1.1824  </td><td style=\"text-align: right;\">             1.81125</td><td style=\"text-align: right;\">          24.2819</td><td style=\"text-align: right;\">               2.21849</td><td style=\"text-align: right;\">           0.018665</td><td style=\"text-align: right;\">             13.9723</td><td style=\"text-align: right;\">             207.795 </td><td style=\"text-align: right;\">              2.46945</td><td style=\"text-align: right;\">             5.24971</td><td style=\"text-align: right;\">           13.7087 </td><td style=\"text-align: right;\">             419.689</td><td style=\"text-align: right;\">                      6.28774</td><td style=\"text-align: right;\">                      2.56241 </td><td style=\"text-align: right;\">                     3.49703 </td><td style=\"text-align: right;\">            0.943722</td><td style=\"text-align: right;\">                     0.678204</td><td style=\"text-align: right;\">         2.02777</td><td style=\"text-align: right;\">            2.86905 </td><td style=\"text-align: right;\">                     7.04167</td><td style=\"text-align: right;\">             17.3678</td><td style=\"text-align: right;\">          1.43402</td><td style=\"text-align: right;\">             0.313299</td><td style=\"text-align: right;\">              1.74167</td><td style=\"text-align: right;\">             514.625</td><td style=\"text-align: right;\">             1.03175 </td><td style=\"text-align: right;\">         1.79132 </td><td style=\"text-align: right;\">            0.044986</td><td style=\"text-align: right;\">             178.79  </td><td style=\"text-align: right;\">             5.44012</td><td style=\"text-align: right;\">              86.2292</td><td style=\"text-align: right;\">               12.3848</td><td style=\"text-align: right;\">              0.011367</td><td style=\"text-align: right;\">             25.4532</td><td style=\"text-align: right;\">            13.7087 </td><td style=\"text-align: right;\">                       648    </td><td style=\"text-align: right;\">                      0.00378 </td><td style=\"text-align: right;\">              61.4979 </td><td style=\"text-align: right;\">              22.9292</td><td style=\"text-align: right;\">              1.79132 </td><td style=\"text-align: right;\">             14.6659</td><td style=\"text-align: right;\">           178.79  </td><td style=\"text-align: right;\">            34.0312</td><td style=\"text-align: right;\">              16.058 </td><td style=\"text-align: right;\">           0.791503</td><td style=\"text-align: right;\">             0.794995</td><td style=\"text-align: right;\">          0.40665 </td><td style=\"text-align: right;\">             12.0142 </td><td style=\"text-align: right;\">          -3.76874 </td><td style=\"text-align: right;\">            0.168667</td><td style=\"text-align: right;\">          -4.35505 </td><td style=\"text-align: right;\">             2.77806</td><td style=\"text-align: right;\">               221.73 </td><td style=\"text-align: right;\">           9.45359 </td><td style=\"text-align: right;\">                     47.4753</td><td style=\"text-align: right;\">                     2.86897</td><td style=\"text-align: right;\">           -0.735763</td><td style=\"text-align: right;\">            4.24685</td><td style=\"text-align: right;\">          1.11058 </td><td style=\"text-align: right;\">             -3.76874 </td><td style=\"text-align: right;\">                   0.636406</td><td style=\"text-align: right;\">      0.255046</td><td style=\"text-align: right;\">          3.98888</td><td style=\"text-align: right;\">     0.640939</td><td style=\"text-align: right;\">         -0.754952</td><td style=\"text-align: right;\">             0.344076</td><td style=\"text-align: right;\">              4.5627 </td><td style=\"text-align: right;\">          0.0753349</td><td style=\"text-align: right;\">           10.4463 </td></tr>\n",
              "<tr><td>006_49680422.mol_49680422</td><td style=\"text-align: right;\">              44</td><td style=\"text-align: right;\">               18</td><td style=\"text-align: right;\">                      3.52381</td><td style=\"text-align: right;\">       0.829578</td><td style=\"text-align: right;\">         30.9602</td><td style=\"text-align: right;\">                           56</td><td style=\"text-align: right;\">                                       177</td><td style=\"text-align: right;\">          12.8177</td><td style=\"text-align: right;\">             62</td><td style=\"text-align: right;\">                0</td><td style=\"text-align: right;\">           1672</td><td style=\"text-align: right;\">       0.54715 </td><td style=\"text-align: right;\">        5.51785</td><td style=\"text-align: right;\">           0     </td><td style=\"text-align: right;\">        0      </td><td style=\"text-align: right;\">          4.15008</td><td style=\"text-align: right;\">        4.17303</td><td style=\"text-align: right;\">         24.2796</td><td style=\"text-align: right;\">        13.0767</td><td style=\"text-align: right;\">        55.7978</td><td style=\"text-align: right;\">          5.30243</td><td style=\"text-align: right;\">                 -4.0212</td><td style=\"text-align: right;\">      1.19879</td><td style=\"text-align: right;\">        100.735 </td><td style=\"text-align: right;\">         116.308 </td><td style=\"text-align: right;\">          6.54355</td><td style=\"text-align: right;\">       5.95833</td><td style=\"text-align: right;\">               174</td><td style=\"text-align: right;\">      11.9167 </td><td style=\"text-align: right;\">       0.241327</td><td style=\"text-align: right;\">          85.5   </td><td style=\"text-align: right;\">          1.7662  </td><td style=\"text-align: right;\">        5.6172 </td><td style=\"text-align: right;\">      -1.13735 </td><td style=\"text-align: right;\">                75.4167</td><td style=\"text-align: right;\">                 0.09025 </td><td style=\"text-align: right;\">                 0.246968</td><td style=\"text-align: right;\">          3.27432</td><td style=\"text-align: right;\">                    3.97222</td><td style=\"text-align: right;\">       2.11159 </td><td style=\"text-align: right;\">        -0.264591</td><td style=\"text-align: right;\">      11     </td><td style=\"text-align: right;\">             0.203898</td><td style=\"text-align: right;\">             102</td><td style=\"text-align: right;\">            0.265015</td><td style=\"text-align: right;\">        0.078791</td><td style=\"text-align: right;\">        3.97222</td><td style=\"text-align: right;\">          -0.204283</td><td style=\"text-align: right;\">              15.75  </td><td style=\"text-align: right;\">       0.1925  </td><td style=\"text-align: right;\">              1.91848</td><td style=\"text-align: right;\">         1.8373 </td><td style=\"text-align: right;\">      10.2198 </td><td style=\"text-align: right;\">       0.229721</td><td style=\"text-align: right;\">     -0.839999</td><td style=\"text-align: right;\">        0      </td><td style=\"text-align: right;\">            1.50039 </td><td style=\"text-align: right;\">              2.87234</td><td style=\"text-align: right;\">       0.246182</td><td style=\"text-align: right;\">            5.91403</td><td style=\"text-align: right;\">            1.23326</td><td style=\"text-align: right;\">           13</td><td style=\"text-align: right;\">            183.506</td><td style=\"text-align: right;\">                 0</td><td style=\"text-align: right;\">       -0.0505219 </td><td style=\"text-align: right;\">           2.77632</td><td style=\"text-align: right;\">          1.30515 </td><td style=\"text-align: right;\">             3.79012</td><td style=\"text-align: right;\">            3.79303</td><td style=\"text-align: right;\">          -2.40063 </td><td style=\"text-align: right;\">             0.417601</td><td style=\"text-align: right;\">             0.142277</td><td style=\"text-align: right;\">            0.182023</td><td style=\"text-align: right;\">          1.18818 </td><td style=\"text-align: right;\">              1.64355 </td><td style=\"text-align: right;\">                      0.251325</td><td style=\"text-align: right;\">        -1.03792 </td><td style=\"text-align: right;\">           2.37256 </td><td style=\"text-align: right;\">     0.781476</td><td style=\"text-align: right;\">     2.30894 </td><td style=\"text-align: right;\">             91.9726</td><td style=\"text-align: right;\">       2.62894</td><td style=\"text-align: right;\">         1.2389  </td><td style=\"text-align: right;\">        0.426191</td><td style=\"text-align: right;\">         16.5783</td><td style=\"text-align: right;\">       2.72554</td><td style=\"text-align: right;\">         0.362136</td><td style=\"text-align: right;\">        2.14286</td><td style=\"text-align: right;\">       2.03669 </td><td style=\"text-align: right;\">         4.588   </td><td style=\"text-align: right;\">           73.3787</td><td style=\"text-align: right;\">                       6.63028</td><td style=\"text-align: right;\">       0.267013</td><td style=\"text-align: right;\">        1643.83</td><td style=\"text-align: right;\">       0.132601</td><td style=\"text-align: right;\">           0.362136</td><td style=\"text-align: right;\">     0.362136</td><td style=\"text-align: right;\">        6.63372</td><td style=\"text-align: right;\">      0.40119 </td><td style=\"text-align: right;\">        4.51813</td><td style=\"text-align: right;\">         77.5385</td><td style=\"text-align: right;\">          3.52381</td><td style=\"text-align: right;\">      0.433668</td><td style=\"text-align: right;\">       36.5087</td><td style=\"text-align: right;\">       2.72554</td><td style=\"text-align: right;\">     -0.261552</td><td style=\"text-align: right;\">       17.1112</td><td style=\"text-align: right;\">                  1.83333</td><td style=\"text-align: right;\">       0.779166</td><td style=\"text-align: right;\">      -0.335099</td><td style=\"text-align: right;\">        3.1998 </td><td style=\"text-align: right;\">          2.28687</td><td style=\"text-align: right;\">            1.84842</td><td style=\"text-align: right;\">            0.194535</td><td style=\"text-align: right;\">            2.2525 </td><td style=\"text-align: right;\">          0.680929</td><td style=\"text-align: right;\">              0.565911</td><td style=\"text-align: right;\">                5.11381</td><td style=\"text-align: right;\">                205  </td><td style=\"text-align: right;\">         3.99787 </td><td style=\"text-align: right;\">            1.68248 </td><td style=\"text-align: right;\">            1.47387 </td><td style=\"text-align: right;\">             0.452344</td><td style=\"text-align: right;\">         0.014799</td><td style=\"text-align: right;\">               14.0396</td><td style=\"text-align: right;\">              2.75753</td><td style=\"text-align: right;\">               2.3392  </td><td style=\"text-align: right;\">          0.722859</td><td style=\"text-align: right;\">                  -1.05939 </td><td style=\"text-align: right;\">              1.33336 </td><td style=\"text-align: right;\">           0.023217</td><td style=\"text-align: right;\">       2.18502 </td><td style=\"text-align: right;\">             0      </td><td style=\"text-align: right;\">          29.4299</td><td style=\"text-align: right;\">               2.27437</td><td style=\"text-align: right;\">           0.001643</td><td style=\"text-align: right;\">             16.3484</td><td style=\"text-align: right;\">             352.163 </td><td style=\"text-align: right;\">              3.35285</td><td style=\"text-align: right;\">             6.61144</td><td style=\"text-align: right;\">           27.8123 </td><td style=\"text-align: right;\">             452.173</td><td style=\"text-align: right;\">                      3.66094</td><td style=\"text-align: right;\">                      0.966544</td><td style=\"text-align: right;\">                     2.00792 </td><td style=\"text-align: right;\">            0.656003</td><td style=\"text-align: right;\">                     0.53033 </td><td style=\"text-align: right;\">         1.44653</td><td style=\"text-align: right;\">            1.28736 </td><td style=\"text-align: right;\">                     6.90909</td><td style=\"text-align: right;\">             21.3157</td><td style=\"text-align: right;\">          1.66757</td><td style=\"text-align: right;\">             0.290965</td><td style=\"text-align: right;\">              1.7647 </td><td style=\"text-align: right;\">             418.857</td><td style=\"text-align: right;\">             0.686274</td><td style=\"text-align: right;\">         1.35224 </td><td style=\"text-align: right;\">            0.003761</td><td style=\"text-align: right;\">             318.41  </td><td style=\"text-align: right;\">             5.51785</td><td style=\"text-align: right;\">             137.202 </td><td style=\"text-align: right;\">               15.0396</td><td style=\"text-align: right;\">              0.012652</td><td style=\"text-align: right;\">             29.319 </td><td style=\"text-align: right;\">            27.8123 </td><td style=\"text-align: right;\">                       856.308</td><td style=\"text-align: right;\">                      0.004391</td><td style=\"text-align: right;\">              21.264  </td><td style=\"text-align: right;\">              25.1147</td><td style=\"text-align: right;\">              1.35224 </td><td style=\"text-align: right;\">             15.2411</td><td style=\"text-align: right;\">           318.41  </td><td style=\"text-align: right;\">            62.8108</td><td style=\"text-align: right;\">              17.6321</td><td style=\"text-align: right;\">           0.452236</td><td style=\"text-align: right;\">             0.566912</td><td style=\"text-align: right;\">          0.247992</td><td style=\"text-align: right;\">             -4.37071</td><td style=\"text-align: right;\">           3.59208 </td><td style=\"text-align: right;\">            0.264446</td><td style=\"text-align: right;\">          -0.597844</td><td style=\"text-align: right;\">            -3.5762 </td><td style=\"text-align: right;\">               154.348</td><td style=\"text-align: right;\">           4.28671 </td><td style=\"text-align: right;\">                     67.8532</td><td style=\"text-align: right;\">                     1.86007</td><td style=\"text-align: right;\">           -4.071   </td><td style=\"text-align: right;\">            5.0195 </td><td style=\"text-align: right;\">          0.102285</td><td style=\"text-align: right;\">              3.59208 </td><td style=\"text-align: right;\">                   0.5985  </td><td style=\"text-align: right;\">      0.217291</td><td style=\"text-align: right;\">          3.79358</td><td style=\"text-align: right;\">    -0.937899</td><td style=\"text-align: right;\">          1.7662  </td><td style=\"text-align: right;\">             1.42643 </td><td style=\"text-align: right;\">              4.94462</td><td style=\"text-align: right;\">          0.0822617</td><td style=\"text-align: right;\">            9.37356</td></tr>\n",
              "<tr><td>007_22400420.mol_22400420</td><td style=\"text-align: right;\">              42</td><td style=\"text-align: right;\">               19</td><td style=\"text-align: right;\">                      6.07143</td><td style=\"text-align: right;\">       1.23438 </td><td style=\"text-align: right;\">         22.3261</td><td style=\"text-align: right;\">                           42</td><td style=\"text-align: right;\">                                       108</td><td style=\"text-align: right;\">          12.9452</td><td style=\"text-align: right;\">             56</td><td style=\"text-align: right;\">              105</td><td style=\"text-align: right;\">           1260</td><td style=\"text-align: right;\">       0.519744</td><td style=\"text-align: right;\">        5.52877</td><td style=\"text-align: right;\">          35.4525</td><td style=\"text-align: right;\">        6.03849</td><td style=\"text-align: right;\">          3.68638</td><td style=\"text-align: right;\">        5.44581</td><td style=\"text-align: right;\">         18.5906</td><td style=\"text-align: right;\">        12.2066</td><td style=\"text-align: right;\">        29.18  </td><td style=\"text-align: right;\">          4.0044 </td><td style=\"text-align: right;\">                 -2.3738</td><td style=\"text-align: right;\">      1.30658</td><td style=\"text-align: right;\">         96.156 </td><td style=\"text-align: right;\">         106.697 </td><td style=\"text-align: right;\">          7.55915</td><td style=\"text-align: right;\">       5.5    </td><td style=\"text-align: right;\">               143</td><td style=\"text-align: right;\">      11      </td><td style=\"text-align: right;\">       0.396158</td><td style=\"text-align: right;\">          74.3333</td><td style=\"text-align: right;\">          1.59892 </td><td style=\"text-align: right;\">        5.04869</td><td style=\"text-align: right;\">       0.864799</td><td style=\"text-align: right;\">                60     </td><td style=\"text-align: right;\">                 0.335419</td><td style=\"text-align: right;\">                 0.255409</td><td style=\"text-align: right;\">          7.62505</td><td style=\"text-align: right;\">                    3.66667</td><td style=\"text-align: right;\">      -0.582895</td><td style=\"text-align: right;\">         0.672999</td><td style=\"text-align: right;\">      29.5   </td><td style=\"text-align: right;\">             0.505468</td><td style=\"text-align: right;\">              87</td><td style=\"text-align: right;\">            0.284381</td><td style=\"text-align: right;\">        0.255381</td><td style=\"text-align: right;\">        3.66667</td><td style=\"text-align: right;\">           0.043412</td><td style=\"text-align: right;\">              10     </td><td style=\"text-align: right;\">       0.1925  </td><td style=\"text-align: right;\">              2.35232</td><td style=\"text-align: right;\">         1.83043</td><td style=\"text-align: right;\">      20.7505 </td><td style=\"text-align: right;\">       0.224977</td><td style=\"text-align: right;\">     -2.6     </td><td style=\"text-align: right;\">       -1.38964</td><td style=\"text-align: right;\">            0.738498</td><td style=\"text-align: right;\">              2.80467</td><td style=\"text-align: right;\">       0.369274</td><td style=\"text-align: right;\">            5.77995</td><td style=\"text-align: right;\">            1.87956</td><td style=\"text-align: right;\">            8</td><td style=\"text-align: right;\">            177.436</td><td style=\"text-align: right;\">                 0</td><td style=\"text-align: right;\">       -0.0524644 </td><td style=\"text-align: right;\">           5.30202</td><td style=\"text-align: right;\">          1.09128 </td><td style=\"text-align: right;\">             3.69708</td><td style=\"text-align: right;\">            3.71793</td><td style=\"text-align: right;\">          -2.34885 </td><td style=\"text-align: right;\">            -2.53223 </td><td style=\"text-align: right;\">             0.113201</td><td style=\"text-align: right;\">            0.119928</td><td style=\"text-align: right;\">          0.44306 </td><td style=\"text-align: right;\">              0.285435</td><td style=\"text-align: right;\">                      0.674366</td><td style=\"text-align: right;\">         1.11902 </td><td style=\"text-align: right;\">           1.8091  </td><td style=\"text-align: right;\">    -3.02124 </td><td style=\"text-align: right;\">     0.503835</td><td style=\"text-align: right;\">            152.942 </td><td style=\"text-align: right;\">       2.72278</td><td style=\"text-align: right;\">         0.920728</td><td style=\"text-align: right;\">        0.495158</td><td style=\"text-align: right;\">         11.5779</td><td style=\"text-align: right;\">       2.80306</td><td style=\"text-align: right;\">         0.479904</td><td style=\"text-align: right;\">        2.23077</td><td style=\"text-align: right;\">       2.04233 </td><td style=\"text-align: right;\">        -0.622534</td><td style=\"text-align: right;\">          102.489 </td><td style=\"text-align: right;\">                       6.63018</td><td style=\"text-align: right;\">       0.72952 </td><td style=\"text-align: right;\">        1319   </td><td style=\"text-align: right;\">       0.089455</td><td style=\"text-align: right;\">           0.479904</td><td style=\"text-align: right;\">     0.479904</td><td style=\"text-align: right;\">        5.94924</td><td style=\"text-align: right;\">      0.4946  </td><td style=\"text-align: right;\">        4.67531</td><td style=\"text-align: right;\">         76.3636</td><td style=\"text-align: right;\">          6.07143</td><td style=\"text-align: right;\">      0.64528 </td><td style=\"text-align: right;\">       29.7199</td><td style=\"text-align: right;\">       2.80306</td><td style=\"text-align: right;\">     -0.197816</td><td style=\"text-align: right;\">       12.9287</td><td style=\"text-align: right;\">                  1.83333</td><td style=\"text-align: right;\">       0.784583</td><td style=\"text-align: right;\">      -0.197816</td><td style=\"text-align: right;\">        3.27729</td><td style=\"text-align: right;\">          2.34959</td><td style=\"text-align: right;\">            1.86711</td><td style=\"text-align: right;\">            0.165549</td><td style=\"text-align: right;\">            3.58675</td><td style=\"text-align: right;\">          0.968517</td><td style=\"text-align: right;\">              1.34872 </td><td style=\"text-align: right;\">               12.9502 </td><td style=\"text-align: right;\">                153  </td><td style=\"text-align: right;\">         2.00836 </td><td style=\"text-align: right;\">            1.08015 </td><td style=\"text-align: right;\">            1.10178 </td><td style=\"text-align: right;\">             0.514105</td><td style=\"text-align: right;\">         0.018676</td><td style=\"text-align: right;\">               58.5326</td><td style=\"text-align: right;\">              3.81094</td><td style=\"text-align: right;\">               0.539946</td><td style=\"text-align: right;\">          1.77207 </td><td style=\"text-align: right;\">                   2.17739 </td><td style=\"text-align: right;\">              1.1744  </td><td style=\"text-align: right;\">           0.025229</td><td style=\"text-align: right;\">       1.52883 </td><td style=\"text-align: right;\">             4.76176</td><td style=\"text-align: right;\">          36.2536</td><td style=\"text-align: right;\">               2.22222</td><td style=\"text-align: right;\">           0.005764</td><td style=\"text-align: right;\">             15.874 </td><td style=\"text-align: right;\">             274.021 </td><td style=\"text-align: right;\">              1.28403</td><td style=\"text-align: right;\">             5.28786</td><td style=\"text-align: right;\">            1.05917</td><td style=\"text-align: right;\">             283.876</td><td style=\"text-align: right;\">                      5.83039</td><td style=\"text-align: right;\">                      0.156914</td><td style=\"text-align: right;\">                     2.93952 </td><td style=\"text-align: right;\">            0.909296</td><td style=\"text-align: right;\">                     0.492125</td><td style=\"text-align: right;\">         2.50166</td><td style=\"text-align: right;\">            3.41667 </td><td style=\"text-align: right;\">                     9.7619 </td><td style=\"text-align: right;\">             18.259 </td><td style=\"text-align: right;\">          1.22158</td><td style=\"text-align: right;\">             0.352115</td><td style=\"text-align: right;\">              1.496  </td><td style=\"text-align: right;\">             387.308</td><td style=\"text-align: right;\">             1.00758 </td><td style=\"text-align: right;\">         1.12087 </td><td style=\"text-align: right;\">            0.012419</td><td style=\"text-align: right;\">             497.733 </td><td style=\"text-align: right;\">             5.52877</td><td style=\"text-align: right;\">              61.2057</td><td style=\"text-align: right;\">               10.0534</td><td style=\"text-align: right;\">              0.006269</td><td style=\"text-align: right;\">             22.9573</td><td style=\"text-align: right;\">             1.05917</td><td style=\"text-align: right;\">                         0    </td><td style=\"text-align: right;\">                      0.000572</td><td style=\"text-align: right;\">               3.2952 </td><td style=\"text-align: right;\">              30.7246</td><td style=\"text-align: right;\">              1.12087 </td><td style=\"text-align: right;\">             17.8297</td><td style=\"text-align: right;\">           497.733 </td><td style=\"text-align: right;\">             0     </td><td style=\"text-align: right;\">              14.6372</td><td style=\"text-align: right;\">           1.02942 </td><td style=\"text-align: right;\">             0.894785</td><td style=\"text-align: right;\">          0.436282</td><td style=\"text-align: right;\">              5.07653</td><td style=\"text-align: right;\">          -0.311172</td><td style=\"text-align: right;\">            0.177029</td><td style=\"text-align: right;\">           0.838332</td><td style=\"text-align: right;\">            -5.24408</td><td style=\"text-align: right;\">               162.222</td><td style=\"text-align: right;\">          -0.988728</td><td style=\"text-align: right;\">                      0     </td><td style=\"text-align: right;\">                     1.81125</td><td style=\"text-align: right;\">            0.25592 </td><td style=\"text-align: right;\">            4.88097</td><td style=\"text-align: right;\">         -1.05922 </td><td style=\"text-align: right;\">             -0.311172</td><td style=\"text-align: right;\">                   0.782389</td><td style=\"text-align: right;\">      0.2974  </td><td style=\"text-align: right;\">          4.44979</td><td style=\"text-align: right;\">     0.619904</td><td style=\"text-align: right;\">          1.59892 </td><td style=\"text-align: right;\">             0.466976</td><td style=\"text-align: right;\">              5.52118</td><td style=\"text-align: right;\">          0.101846 </td><td style=\"text-align: right;\">           10.7371 </td></tr>\n",
              "<tr><td>008_14726352.mol_14726352</td><td style=\"text-align: right;\">              42</td><td style=\"text-align: right;\">               16</td><td style=\"text-align: right;\">                      3.7    </td><td style=\"text-align: right;\">       0.614693</td><td style=\"text-align: right;\">         22.3261</td><td style=\"text-align: right;\">                           53</td><td style=\"text-align: right;\">                                        24</td><td style=\"text-align: right;\">          22.2658</td><td style=\"text-align: right;\">             56</td><td style=\"text-align: right;\">                0</td><td style=\"text-align: right;\">           1554</td><td style=\"text-align: right;\">       0.705039</td><td style=\"text-align: right;\">        5.98142</td><td style=\"text-align: right;\">           0     </td><td style=\"text-align: right;\">        0      </td><td style=\"text-align: right;\">          3.95904</td><td style=\"text-align: right;\">       10.8916 </td><td style=\"text-align: right;\">         18.5906</td><td style=\"text-align: right;\">        12.1244</td><td style=\"text-align: right;\">        15.5279</td><td style=\"text-align: right;\">          3.8705 </td><td style=\"text-align: right;\">                 -2.7974</td><td style=\"text-align: right;\">      1.66707</td><td style=\"text-align: right;\">        107.994 </td><td style=\"text-align: right;\">         107.55  </td><td style=\"text-align: right;\">         11.031  </td><td style=\"text-align: right;\">       4.58333</td><td style=\"text-align: right;\">               142</td><td style=\"text-align: right;\">      18.3333 </td><td style=\"text-align: right;\">       0.207154</td><td style=\"text-align: right;\">          54.5   </td><td style=\"text-align: right;\">          0.992412</td><td style=\"text-align: right;\">        4.68372</td><td style=\"text-align: right;\">       0       </td><td style=\"text-align: right;\">                44.1667</td><td style=\"text-align: right;\">                 0.38069 </td><td style=\"text-align: right;\">                 0.209302</td><td style=\"text-align: right;\">          3.35863</td><td style=\"text-align: right;\">                    3.05556</td><td style=\"text-align: right;\">      -0.369231</td><td style=\"text-align: right;\">         0       </td><td style=\"text-align: right;\">      22     </td><td style=\"text-align: right;\">             0.393058</td><td style=\"text-align: right;\">              80</td><td style=\"text-align: right;\">            0.2531  </td><td style=\"text-align: right;\">        0.105588</td><td style=\"text-align: right;\">        3.05556</td><td style=\"text-align: right;\">           0.362358</td><td style=\"text-align: right;\">               0     </td><td style=\"text-align: right;\">       0.1925  </td><td style=\"text-align: right;\">              2.21824</td><td style=\"text-align: right;\">         1.74828</td><td style=\"text-align: right;\">       9.62202</td><td style=\"text-align: right;\">       0.332438</td><td style=\"text-align: right;\">     -3.33333 </td><td style=\"text-align: right;\">        0      </td><td style=\"text-align: right;\">            0.620284</td><td style=\"text-align: right;\">              4.44444</td><td style=\"text-align: right;\">       1.50815 </td><td style=\"text-align: right;\">            6.64682</td><td style=\"text-align: right;\">            2.09221</td><td style=\"text-align: right;\">           10</td><td style=\"text-align: right;\">            155.714</td><td style=\"text-align: right;\">                 0</td><td style=\"text-align: right;\">        0.0433593 </td><td style=\"text-align: right;\">           2.71248</td><td style=\"text-align: right;\">          1.14311 </td><td style=\"text-align: right;\">             3.92379</td><td style=\"text-align: right;\">            3.92967</td><td style=\"text-align: right;\">          -2.22837 </td><td style=\"text-align: right;\">            -3.21535 </td><td style=\"text-align: right;\">             0.103774</td><td style=\"text-align: right;\">            0.15785 </td><td style=\"text-align: right;\">          0.149432</td><td style=\"text-align: right;\">             -0.485121</td><td style=\"text-align: right;\">                      1.5817  </td><td style=\"text-align: right;\">         0       </td><td style=\"text-align: right;\">           1.67993 </td><td style=\"text-align: right;\">     2.10517 </td><td style=\"text-align: right;\">    -0.213236</td><td style=\"text-align: right;\">             29.163 </td><td style=\"text-align: right;\">       2.53116</td><td style=\"text-align: right;\">         1.34317 </td><td style=\"text-align: right;\">        0.368337</td><td style=\"text-align: right;\">         14.3182</td><td style=\"text-align: right;\">       3.34664</td><td style=\"text-align: right;\">         0.331938</td><td style=\"text-align: right;\">        2      </td><td style=\"text-align: right;\">       2.22806 </td><td style=\"text-align: right;\">        -1.48246 </td><td style=\"text-align: right;\">           19.0141</td><td style=\"text-align: right;\">                       3.46967</td><td style=\"text-align: right;\">       0.300259</td><td style=\"text-align: right;\">        1526.83</td><td style=\"text-align: right;\">       0.307162</td><td style=\"text-align: right;\">           0.331938</td><td style=\"text-align: right;\">     0.331938</td><td style=\"text-align: right;\">        5.54073</td><td style=\"text-align: right;\">      0.348835</td><td style=\"text-align: right;\">        4.13551</td><td style=\"text-align: right;\">         87.0545</td><td style=\"text-align: right;\">          3.7    </td><td style=\"text-align: right;\">      0.359474</td><td style=\"text-align: right;\">       38     </td><td style=\"text-align: right;\">       3.34664</td><td style=\"text-align: right;\">     -0.211749</td><td style=\"text-align: right;\">       11.8322</td><td style=\"text-align: right;\">                  2.26471</td><td style=\"text-align: right;\">       0.842205</td><td style=\"text-align: right;\">      -0.164552</td><td style=\"text-align: right;\">        2.87604</td><td style=\"text-align: right;\">          2.38083</td><td style=\"text-align: right;\">            2.69622</td><td style=\"text-align: right;\">            0.190141</td><td style=\"text-align: right;\">            3.12098</td><td style=\"text-align: right;\">          0.778929</td><td style=\"text-align: right;\">              1.49541 </td><td style=\"text-align: right;\">                7.33387</td><td style=\"text-align: right;\">                111  </td><td style=\"text-align: right;\">         2.98319 </td><td style=\"text-align: right;\">            1.5714  </td><td style=\"text-align: right;\">            1.69912 </td><td style=\"text-align: right;\">             0.266084</td><td style=\"text-align: right;\">         0.01874 </td><td style=\"text-align: right;\">               35.0251</td><td style=\"text-align: right;\">              3.31935</td><td style=\"text-align: right;\">              -0.176619</td><td style=\"text-align: right;\">          1.72021 </td><td style=\"text-align: right;\">                   0.303168</td><td style=\"text-align: right;\">              0.961575</td><td style=\"text-align: right;\">           0.040498</td><td style=\"text-align: right;\">       2.10056 </td><td style=\"text-align: right;\">             6.121  </td><td style=\"text-align: right;\">          23.8933</td><td style=\"text-align: right;\">               2.36515</td><td style=\"text-align: right;\">           0.005125</td><td style=\"text-align: right;\">              9.5   </td><td style=\"text-align: right;\">              96.2929</td><td style=\"text-align: right;\">              2.24289</td><td style=\"text-align: right;\">             6.28095</td><td style=\"text-align: right;\">           27.5539 </td><td style=\"text-align: right;\">             440.571</td><td style=\"text-align: right;\">                     10.1757 </td><td style=\"text-align: right;\">                      2.85253 </td><td style=\"text-align: right;\">                     4.50955 </td><td style=\"text-align: right;\">            0.613374</td><td style=\"text-align: right;\">                     0.428478</td><td style=\"text-align: right;\">         1.85752</td><td style=\"text-align: right;\">            4.8675  </td><td style=\"text-align: right;\">                     7.19048</td><td style=\"text-align: right;\">             17.8491</td><td style=\"text-align: right;\">          1.58678</td><td style=\"text-align: right;\">             0.060707</td><td style=\"text-align: right;\">              1.75   </td><td style=\"text-align: right;\">             399.143</td><td style=\"text-align: right;\">             0.645833</td><td style=\"text-align: right;\">         1.01602 </td><td style=\"text-align: right;\">            0.011398</td><td style=\"text-align: right;\">             179.465 </td><td style=\"text-align: right;\">             5.98142</td><td style=\"text-align: right;\">              78.2679</td><td style=\"text-align: right;\">               14.4681</td><td style=\"text-align: right;\">              0.003947</td><td style=\"text-align: right;\">             24.7837</td><td style=\"text-align: right;\">            27.5539 </td><td style=\"text-align: right;\">                       882    </td><td style=\"text-align: right;\">                      0.006394</td><td style=\"text-align: right;\">              59.9032 </td><td style=\"text-align: right;\">              21.5058</td><td style=\"text-align: right;\">              1.01602 </td><td style=\"text-align: right;\">             13.8075</td><td style=\"text-align: right;\">           179.465 </td><td style=\"text-align: right;\">            42.0139</td><td style=\"text-align: right;\">              15.4971</td><td style=\"text-align: right;\">           0.677446</td><td style=\"text-align: right;\">             0.680929</td><td style=\"text-align: right;\">          0.338711</td><td style=\"text-align: right;\">              5.11381</td><td style=\"text-align: right;\">          -1.41467 </td><td style=\"text-align: right;\">            0.188338</td><td style=\"text-align: right;\">          -2.66861 </td><td style=\"text-align: right;\">            -7.45654</td><td style=\"text-align: right;\">               171.607</td><td style=\"text-align: right;\">          -0.32208 </td><td style=\"text-align: right;\">                     12.4969</td><td style=\"text-align: right;\">                     0      </td><td style=\"text-align: right;\">            5.23185 </td><td style=\"text-align: right;\">            4.96551</td><td style=\"text-align: right;\">          1.70055 </td><td style=\"text-align: right;\">             -1.41467 </td><td style=\"text-align: right;\">                   0.474481</td><td style=\"text-align: right;\">      0.206795</td><td style=\"text-align: right;\">          3.29535</td><td style=\"text-align: right;\">    -1.32186 </td><td style=\"text-align: right;\">          0.992412</td><td style=\"text-align: right;\">            -0.345371</td><td style=\"text-align: right;\">              4.46395</td><td style=\"text-align: right;\">          0.0705209</td><td style=\"text-align: right;\">           10.3441 </td></tr>\n",
              "<tr><td>009_49822556.mol_49822556</td><td style=\"text-align: right;\">              64</td><td style=\"text-align: right;\">               26</td><td style=\"text-align: right;\">                      5.48333</td><td style=\"text-align: right;\">       1.1565  </td><td style=\"text-align: right;\">         34.14  </td><td style=\"text-align: right;\">                           72</td><td style=\"text-align: right;\">                                       434</td><td style=\"text-align: right;\">          12.5412</td><td style=\"text-align: right;\">             90</td><td style=\"text-align: right;\">              283</td><td style=\"text-align: right;\">           3200</td><td style=\"text-align: right;\">       0.536042</td><td style=\"text-align: right;\">        5.96273</td><td style=\"text-align: right;\">          18.9984</td><td style=\"text-align: right;\">        3.75982</td><td style=\"text-align: right;\">          3.98906</td><td style=\"text-align: right;\">        5.44581</td><td style=\"text-align: right;\">         27.0969</td><td style=\"text-align: right;\">        14.3875</td><td style=\"text-align: right;\">        73.6776</td><td style=\"text-align: right;\">          5.14659</td><td style=\"text-align: right;\">                 -3.3355</td><td style=\"text-align: right;\">      1.11253</td><td style=\"text-align: right;\">        146.523 </td><td style=\"text-align: right;\">         163.674 </td><td style=\"text-align: right;\">          3.01297</td><td style=\"text-align: right;\">       8.33333</td><td style=\"text-align: right;\">               327</td><td style=\"text-align: right;\">      16.6667 </td><td style=\"text-align: right;\">       0.255958</td><td style=\"text-align: right;\">         149.667 </td><td style=\"text-align: right;\">          0.844561</td><td style=\"text-align: right;\">        6.09542</td><td style=\"text-align: right;\">       1.02778 </td><td style=\"text-align: right;\">               147.5   </td><td style=\"text-align: right;\">                 0.168037</td><td style=\"text-align: right;\">                 0.229638</td><td style=\"text-align: right;\">          4.58385</td><td style=\"text-align: right;\">                    5.55556</td><td style=\"text-align: right;\">       0.083192</td><td style=\"text-align: right;\">         0.788287</td><td style=\"text-align: right;\">      49.8333</td><td style=\"text-align: right;\">             0.332926</td><td style=\"text-align: right;\">             187</td><td style=\"text-align: right;\">            0.267793</td><td style=\"text-align: right;\">        0.254965</td><td style=\"text-align: right;\">        5.55556</td><td style=\"text-align: right;\">          -0.089557</td><td style=\"text-align: right;\">              20     </td><td style=\"text-align: right;\">       0.1925  </td><td style=\"text-align: right;\">              2.39801</td><td style=\"text-align: right;\">         1.82745</td><td style=\"text-align: right;\">      18.8333 </td><td style=\"text-align: right;\">       0.113864</td><td style=\"text-align: right;\">     -0.067618</td><td style=\"text-align: right;\">       -1.73205</td><td style=\"text-align: right;\">            1.85512 </td><td style=\"text-align: right;\">              3.56941</td><td style=\"text-align: right;\">       0.257464</td><td style=\"text-align: right;\">            5.8087 </td><td style=\"text-align: right;\">            1.17842</td><td style=\"text-align: right;\">           12</td><td style=\"text-align: right;\">            265.72 </td><td style=\"text-align: right;\">                 0</td><td style=\"text-align: right;\">        0.0644915 </td><td style=\"text-align: right;\">           4.96327</td><td style=\"text-align: right;\">          1.18135 </td><td style=\"text-align: right;\">             3.47298</td><td style=\"text-align: right;\">            3.4889 </td><td style=\"text-align: right;\">          -2.86179 </td><td style=\"text-align: right;\">             0.605638</td><td style=\"text-align: right;\">             0.177353</td><td style=\"text-align: right;\">            0.116481</td><td style=\"text-align: right;\">          0.38676 </td><td style=\"text-align: right;\">              1.23487 </td><td style=\"text-align: right;\">                      0.584059</td><td style=\"text-align: right;\">        -0.746484</td><td style=\"text-align: right;\">           0.911617</td><td style=\"text-align: right;\">   -13.4828  </td><td style=\"text-align: right;\">     1.63941 </td><td style=\"text-align: right;\">            176.658 </td><td style=\"text-align: right;\">       2.59108</td><td style=\"text-align: right;\">         2.14467 </td><td style=\"text-align: right;\">        0.516465</td><td style=\"text-align: right;\">         16.7832</td><td style=\"text-align: right;\">       2.68328</td><td style=\"text-align: right;\">         0.314897</td><td style=\"text-align: right;\">        2.45   </td><td style=\"text-align: right;\">       2.79874 </td><td style=\"text-align: right;\">         3.27262 </td><td style=\"text-align: right;\">          141.729 </td><td style=\"text-align: right;\">                       9.69963</td><td style=\"text-align: right;\">       0.364077</td><td style=\"text-align: right;\">        3473.83</td><td style=\"text-align: right;\">       0.229432</td><td style=\"text-align: right;\">           0.314897</td><td style=\"text-align: right;\">     0.314897</td><td style=\"text-align: right;\">        3.93355</td><td style=\"text-align: right;\">      0.516117</td><td style=\"text-align: right;\">        4.43879</td><td style=\"text-align: right;\">        115.2   </td><td style=\"text-align: right;\">          5.48333</td><td style=\"text-align: right;\">      0.536798</td><td style=\"text-align: right;\">       38.4627</td><td style=\"text-align: right;\">       2.68328</td><td style=\"text-align: right;\">     -0.17819 </td><td style=\"text-align: right;\">       22.2039</td><td style=\"text-align: right;\">                  1.79167</td><td style=\"text-align: right;\">       0.761458</td><td style=\"text-align: right;\">      -0.277958</td><td style=\"text-align: right;\">        3.37958</td><td style=\"text-align: right;\">          2.22691</td><td style=\"text-align: right;\">            1.80854</td><td style=\"text-align: right;\">            0.207824</td><td style=\"text-align: right;\">            3.0402 </td><td style=\"text-align: right;\">          0.677528</td><td style=\"text-align: right;\">              1.246   </td><td style=\"text-align: right;\">               20.0434 </td><td style=\"text-align: right;\">                449  </td><td style=\"text-align: right;\">         1.35542 </td><td style=\"text-align: right;\">            0.98139 </td><td style=\"text-align: right;\">            0.800306</td><td style=\"text-align: right;\">             0.387404</td><td style=\"text-align: right;\">         0.014853</td><td style=\"text-align: right;\">               24.1699</td><td style=\"text-align: right;\">              2.78011</td><td style=\"text-align: right;\">               1.7215  </td><td style=\"text-align: right;\">          0.921609</td><td style=\"text-align: right;\">                  -1.25581 </td><td style=\"text-align: right;\">              1.74858 </td><td style=\"text-align: right;\">           0.016273</td><td style=\"text-align: right;\">       0.552967</td><td style=\"text-align: right;\">             5.06897</td><td style=\"text-align: right;\">          25.5946</td><td style=\"text-align: right;\">               2.55682</td><td style=\"text-align: right;\">           0.014313</td><td style=\"text-align: right;\">             26.9963</td><td style=\"text-align: right;\">            1245.67  </td><td style=\"text-align: right;\">              2.34207</td><td style=\"text-align: right;\">             4.29589</td><td style=\"text-align: right;\">           18.2074 </td><td style=\"text-align: right;\">             575.845</td><td style=\"text-align: right;\">                      2.02223</td><td style=\"text-align: right;\">                      0.195504</td><td style=\"text-align: right;\">                     0.847429</td><td style=\"text-align: right;\">            0.952855</td><td style=\"text-align: right;\">                     1.2354  </td><td style=\"text-align: right;\">         1.81807</td><td style=\"text-align: right;\">            0.711111</td><td style=\"text-align: right;\">                     9.0625 </td><td style=\"text-align: right;\">             19.3198</td><td style=\"text-align: right;\">          1.57451</td><td style=\"text-align: right;\">             0.174608</td><td style=\"text-align: right;\">              1.81143</td><td style=\"text-align: right;\">             984.7  </td><td style=\"text-align: right;\">             1.20833 </td><td style=\"text-align: right;\">         4.29593 </td><td style=\"text-align: right;\">            0.037512</td><td style=\"text-align: right;\">             510.621 </td><td style=\"text-align: right;\">             5.96273</td><td style=\"text-align: right;\">             129.174 </td><td style=\"text-align: right;\">               10.5944</td><td style=\"text-align: right;\">              0.00768 </td><td style=\"text-align: right;\">             30.8796</td><td style=\"text-align: right;\">            18.2074 </td><td style=\"text-align: right;\">                      1238.71 </td><td style=\"text-align: right;\">                      0       </td><td style=\"text-align: right;\">               6.25614</td><td style=\"text-align: right;\">              36.0936</td><td style=\"text-align: right;\">              4.29593 </td><td style=\"text-align: right;\">             16.1237</td><td style=\"text-align: right;\">           510.621 </td><td style=\"text-align: right;\">            84.0054</td><td style=\"text-align: right;\">              18.1826</td><td style=\"text-align: right;\">           0.914421</td><td style=\"text-align: right;\">             0.968517</td><td style=\"text-align: right;\">          0.424938</td><td style=\"text-align: right;\">             12.9502 </td><td style=\"text-align: right;\">          -3.36823 </td><td style=\"text-align: right;\">            0.274008</td><td style=\"text-align: right;\">          -4.20451 </td><td style=\"text-align: right;\">            -1.06487</td><td style=\"text-align: right;\">               189.964</td><td style=\"text-align: right;\">           3.75118 </td><td style=\"text-align: right;\">                     78.3741</td><td style=\"text-align: right;\">                     4.76176</td><td style=\"text-align: right;\">            1.81422 </td><td style=\"text-align: right;\">            5.79671</td><td style=\"text-align: right;\">         -0.871799</td><td style=\"text-align: right;\">             -3.36823 </td><td style=\"text-align: right;\">                   1.16881 </td><td style=\"text-align: right;\">      0.189404</td><td style=\"text-align: right;\">          4.13272</td><td style=\"text-align: right;\">    -0.720975</td><td style=\"text-align: right;\">          0.844561</td><td style=\"text-align: right;\">             1.01399 </td><td style=\"text-align: right;\">              5.0779 </td><td style=\"text-align: right;\">          0.0832131</td><td style=\"text-align: right;\">           10.9359 </td></tr>\n",
              "<tr><td>010_49714709.mol_49714709</td><td style=\"text-align: right;\">              60</td><td style=\"text-align: right;\">               20</td><td style=\"text-align: right;\">                      4.69444</td><td style=\"text-align: right;\">       0.969281</td><td style=\"text-align: right;\">         21.075 </td><td style=\"text-align: right;\">                           74</td><td style=\"text-align: right;\">                                       117</td><td style=\"text-align: right;\">          15.9441</td><td style=\"text-align: right;\">             86</td><td style=\"text-align: right;\">                0</td><td style=\"text-align: right;\">           3120</td><td style=\"text-align: right;\">       0.622977</td><td style=\"text-align: right;\">        6.17975</td><td style=\"text-align: right;\">           0     </td><td style=\"text-align: right;\">        0      </td><td style=\"text-align: right;\">          4.05032</td><td style=\"text-align: right;\">        5.56436</td><td style=\"text-align: right;\">         19.0029</td><td style=\"text-align: right;\">        16.3401</td><td style=\"text-align: right;\">        31.9063</td><td style=\"text-align: right;\">          4.22065</td><td style=\"text-align: right;\">                 -3.9399</td><td style=\"text-align: right;\">      1.31417</td><td style=\"text-align: right;\">        160.104 </td><td style=\"text-align: right;\">         149.48  </td><td style=\"text-align: right;\">          2.08   </td><td style=\"text-align: right;\">       6.91667</td><td style=\"text-align: right;\">               281</td><td style=\"text-align: right;\">      13.8333 </td><td style=\"text-align: right;\">       0.150292</td><td style=\"text-align: right;\">         105.833 </td><td style=\"text-align: right;\">          1.22067 </td><td style=\"text-align: right;\">        4.1918 </td><td style=\"text-align: right;\">       0.471524</td><td style=\"text-align: right;\">                81.5   </td><td style=\"text-align: right;\">                 0.224853</td><td style=\"text-align: right;\">                 0.16799 </td><td style=\"text-align: right;\">          3.6714 </td><td style=\"text-align: right;\">                    4.61111</td><td style=\"text-align: right;\">      -0.762195</td><td style=\"text-align: right;\">         0.068934</td><td style=\"text-align: right;\">      44.8333</td><td style=\"text-align: right;\">             0.224672</td><td style=\"text-align: right;\">             148</td><td style=\"text-align: right;\">            0.252206</td><td style=\"text-align: right;\">        0.120901</td><td style=\"text-align: right;\">        4.61111</td><td style=\"text-align: right;\">           0.02533 </td><td style=\"text-align: right;\">              18     </td><td style=\"text-align: right;\">       0.1925  </td><td style=\"text-align: right;\">              2.72672</td><td style=\"text-align: right;\">         1.75694</td><td style=\"text-align: right;\">      12.9282 </td><td style=\"text-align: right;\">       0.149704</td><td style=\"text-align: right;\">      1.42857 </td><td style=\"text-align: right;\">       -1.73205</td><td style=\"text-align: right;\">            1.08164 </td><td style=\"text-align: right;\">              4.84848</td><td style=\"text-align: right;\">       0.279235</td><td style=\"text-align: right;\">            6.61927</td><td style=\"text-align: right;\">            1.61704</td><td style=\"text-align: right;\">            9</td><td style=\"text-align: right;\">            238.175</td><td style=\"text-align: right;\">                 0</td><td style=\"text-align: right;\">        0.00624763</td><td style=\"text-align: right;\">           6.87747</td><td style=\"text-align: right;\">          0.679548</td><td style=\"text-align: right;\">             3.56784</td><td style=\"text-align: right;\">            3.57766</td><td style=\"text-align: right;\">          -0.070448</td><td style=\"text-align: right;\">             0.830647</td><td style=\"text-align: right;\">             0.132474</td><td style=\"text-align: right;\">            0.119437</td><td style=\"text-align: right;\">          0.293676</td><td style=\"text-align: right;\">              0.67537 </td><td style=\"text-align: right;\">                      0.718883</td><td style=\"text-align: right;\">        -2.14364 </td><td style=\"text-align: right;\">           2.10926 </td><td style=\"text-align: right;\">    -0.567132</td><td style=\"text-align: right;\">     0.871289</td><td style=\"text-align: right;\">            105.003 </td><td style=\"text-align: right;\">       2.53658</td><td style=\"text-align: right;\">         0.901273</td><td style=\"text-align: right;\">        0.482184</td><td style=\"text-align: right;\">         13.421 </td><td style=\"text-align: right;\">       3.3665 </td><td style=\"text-align: right;\">         0.278143</td><td style=\"text-align: right;\">        2.47619</td><td style=\"text-align: right;\">       0.133975</td><td style=\"text-align: right;\">         0.62012 </td><td style=\"text-align: right;\">           70.6878</td><td style=\"text-align: right;\">                       5.64531</td><td style=\"text-align: right;\">       0.304582</td><td style=\"text-align: right;\">        3722.5 </td><td style=\"text-align: right;\">       0.351671</td><td style=\"text-align: right;\">           0.278143</td><td style=\"text-align: right;\">     0.278143</td><td style=\"text-align: right;\">        5.03605</td><td style=\"text-align: right;\">      0.479099</td><td style=\"text-align: right;\">        4.06059</td><td style=\"text-align: right;\">        117.108 </td><td style=\"text-align: right;\">          4.69444</td><td style=\"text-align: right;\">      0.533415</td><td style=\"text-align: right;\">       40.8533</td><td style=\"text-align: right;\">       3.3665 </td><td style=\"text-align: right;\">     -0.185168</td><td style=\"text-align: right;\">       14.022 </td><td style=\"text-align: right;\">                  1.80702</td><td style=\"text-align: right;\">       0.769122</td><td style=\"text-align: right;\">      -0.207363</td><td style=\"text-align: right;\">        3.64728</td><td style=\"text-align: right;\">          2.19628</td><td style=\"text-align: right;\">            1.82734</td><td style=\"text-align: right;\">            0.189238</td><td style=\"text-align: right;\">            4.37952</td><td style=\"text-align: right;\">          0.646515</td><td style=\"text-align: right;\">              0.922596</td><td style=\"text-align: right;\">               10.0245 </td><td style=\"text-align: right;\">                252.5</td><td style=\"text-align: right;\">         3.35248 </td><td style=\"text-align: right;\">            1.31221 </td><td style=\"text-align: right;\">            0.727637</td><td style=\"text-align: right;\">             0.299884</td><td style=\"text-align: right;\">         0.016981</td><td style=\"text-align: right;\">               37.0958</td><td style=\"text-align: right;\">              3.30018</td><td style=\"text-align: right;\">               0.885982</td><td style=\"text-align: right;\">          1.2597  </td><td style=\"text-align: right;\">                   1.94715 </td><td style=\"text-align: right;\">              0.620285</td><td style=\"text-align: right;\">           0.026688</td><td style=\"text-align: right;\">       1.32398 </td><td style=\"text-align: right;\">             4.26173</td><td style=\"text-align: right;\">          21.5417</td><td style=\"text-align: right;\">               3.16406</td><td style=\"text-align: right;\">           0.008485</td><td style=\"text-align: right;\">             22.0927</td><td style=\"text-align: right;\">             527.697 </td><td style=\"text-align: right;\">              2.2621 </td><td style=\"text-align: right;\">             5.98118</td><td style=\"text-align: right;\">           28.1687 </td><td style=\"text-align: right;\">             720.726</td><td style=\"text-align: right;\">                      6.90457</td><td style=\"text-align: right;\">                      1.30143 </td><td style=\"text-align: right;\">                     2.54589 </td><td style=\"text-align: right;\">            1.42013 </td><td style=\"text-align: right;\">                     0.990944</td><td style=\"text-align: right;\">         2.32335</td><td style=\"text-align: right;\">            2.56522 </td><td style=\"text-align: right;\">                    11.6333 </td><td style=\"text-align: right;\">             18.5878</td><td style=\"text-align: right;\">          1.35051</td><td style=\"text-align: right;\">             0.055007</td><td style=\"text-align: right;\">              1.68667</td><td style=\"text-align: right;\">             764.81 </td><td style=\"text-align: right;\">             1.60667 </td><td style=\"text-align: right;\">         3.12866 </td><td style=\"text-align: right;\">            0.023411</td><td style=\"text-align: right;\">             236.394 </td><td style=\"text-align: right;\">             6.17975</td><td style=\"text-align: right;\">             149.004 </td><td style=\"text-align: right;\">               14.9723</td><td style=\"text-align: right;\">              0.008411</td><td style=\"text-align: right;\">             32.9073</td><td style=\"text-align: right;\">            28.1687 </td><td style=\"text-align: right;\">                      1800    </td><td style=\"text-align: right;\">                      0.002251</td><td style=\"text-align: right;\">              39.043  </td><td style=\"text-align: right;\">              42.4912</td><td style=\"text-align: right;\">              3.12866 </td><td style=\"text-align: right;\">             22.4049</td><td style=\"text-align: right;\">           236.394 </td><td style=\"text-align: right;\">            95.6806</td><td style=\"text-align: right;\">              18.7139</td><td style=\"text-align: right;\">           0.864959</td><td style=\"text-align: right;\">             0.869447</td><td style=\"text-align: right;\">          0.365694</td><td style=\"text-align: right;\">             12.8306 </td><td style=\"text-align: right;\">          -4.38047 </td><td style=\"text-align: right;\">            0.202659</td><td style=\"text-align: right;\">          -4.92267 </td><td style=\"text-align: right;\">             4.23547</td><td style=\"text-align: right;\">               144.336</td><td style=\"text-align: right;\">          20.072   </td><td style=\"text-align: right;\">                     26.9417</td><td style=\"text-align: right;\">                     7.652  </td><td style=\"text-align: right;\">           -0.288919</td><td style=\"text-align: right;\">            3.62839</td><td style=\"text-align: right;\">          1.73455 </td><td style=\"text-align: right;\">             -4.38047 </td><td style=\"text-align: right;\">                   0.914444</td><td style=\"text-align: right;\">      0.179653</td><td style=\"text-align: right;\">          4.23763</td><td style=\"text-align: right;\">    13.9408  </td><td style=\"text-align: right;\">          1.22067 </td><td style=\"text-align: right;\">            -0.183571</td><td style=\"text-align: right;\">              4.44749</td><td style=\"text-align: right;\">          0.0724224</td><td style=\"text-align: right;\">           13.6137 </td></tr>\n",
              "</tbody>\n",
              "</table>"
            ]
          },
          "metadata": {}
        },
        {
          "output_type": "execute_result",
          "data": {
            "text/plain": [
              ""
            ]
          },
          "metadata": {},
          "execution_count": 39
        }
      ]
    },
    {
      "cell_type": "code",
      "source": [
        "splits = df1.split_frame(ratios=[0.8],seed=1)\n",
        "train = splits[0]\n",
        "test = splits[1]"
      ],
      "metadata": {
        "id": "LDmngr_buH6Z"
      },
      "execution_count": 41,
      "outputs": []
    },
    {
      "cell_type": "code",
      "source": [
        "y = \"logEC50\" \n",
        "x = df1.columns \n",
        "x.remove(y) \n",
        "x.remove(\"name\")"
      ],
      "metadata": {
        "id": "aCeRC31euUHR"
      },
      "execution_count": 43,
      "outputs": []
    },
    {
      "cell_type": "code",
      "source": [
        "aml = H2OAutoML(max_runtime_secs=120, seed=1)\n",
        "aml.train(x=x,y=y, training_frame=train)"
      ],
      "metadata": {
        "colab": {
          "base_uri": "https://localhost:8080/"
        },
        "id": "jREBMoMVvOYC",
        "outputId": "d931e54d-f54c-4df9-eeff-ef24ef580196"
      },
      "execution_count": 44,
      "outputs": [
        {
          "output_type": "stream",
          "name": "stdout",
          "text": [
            "AutoML progress: |██████\n",
            "12:25:38.452: GBM_1_AutoML_1_20220323_122526 [GBM def_5] failed: water.exceptions.H2OModelBuilderIllegalArgumentException: Illegal argument(s) for GBM model: GBM_1_AutoML_1_20220323_122526.  Details: ERRR on field: _min_rows: The dataset size is too small to split for min_rows=100.0: must have at least 200.0 (weighted) rows, but have only 168.0.\n",
            "ERRR on field: _min_rows: The dataset size is too small to split for min_rows=100.0: must have at least 200.0 (weighted) rows, but have only 168.0.\n",
            "ERRR on field: _min_rows: The dataset size is too small to split for min_rows=100.0: must have at least 200.0 (weighted) rows, but have only 168.0.\n",
            "ERRR on field: _min_rows: The dataset size is too small to split for min_rows=100.0: must have at least 200.0 (weighted) rows, but have only 168.0.\n",
            "ERRR on field: _min_rows: The dataset size is too small to split for min_rows=100.0: must have at least 200.0 (weighted) rows, but have only 168.0.\n",
            "\n",
            "\n",
            "█████████████████████████████████████████████████████████| (done) 100%\n",
            "Model Details\n",
            "=============\n",
            "H2OStackedEnsembleEstimator :  Stacked Ensemble\n",
            "Model Key:  StackedEnsemble_BestOfFamily_3_AutoML_1_20220323_122526\n",
            "\n",
            "No model summary for this model\n",
            "\n",
            "ModelMetricsRegressionGLM: stackedensemble\n",
            "** Reported on train data. **\n",
            "\n",
            "MSE: 9.464735750888329\n",
            "RMSE: 3.0764810662327062\n",
            "MAE: 1.977169241414922\n",
            "RMSLE: NaN\n",
            "R^2: 0.9946296941555355\n",
            "Mean Residual Deviance: 9.464735750888329\n",
            "Null degrees of freedom: 209\n",
            "Residual degrees of freedom: 206\n",
            "Null deviance: 370108.2517926366\n",
            "Residual deviance: 1987.5945076865492\n",
            "AIC: 1077.9444857466924\n",
            "\n",
            "ModelMetricsRegressionGLM: stackedensemble\n",
            "** Reported on cross-validation data. **\n",
            "\n",
            "MSE: 61.719221604179715\n",
            "RMSE: 7.856158196229231\n",
            "MAE: 4.551848335888166\n",
            "RMSLE: 0.23054573508580642\n",
            "R^2: 0.9649804172857526\n",
            "Mean Residual Deviance: 61.719221604179715\n",
            "Null degrees of freedom: 209\n",
            "Residual degrees of freedom: 206\n",
            "Null deviance: 371467.4983130906\n",
            "Residual deviance: 12961.03653687774\n",
            "AIC: 1471.6992212404316\n"
          ]
        },
        {
          "output_type": "execute_result",
          "data": {
            "text/plain": [
              ""
            ]
          },
          "metadata": {},
          "execution_count": 44
        }
      ]
    },
    {
      "cell_type": "code",
      "source": [
        "lb = aml.leaderboard\n",
        "lb.head()"
      ],
      "metadata": {
        "colab": {
          "base_uri": "https://localhost:8080/",
          "height": 249
        },
        "id": "aWgRkNLGwKCp",
        "outputId": "e63a1ee4-1339-4d41-b9df-d6366166efa0"
      },
      "execution_count": 45,
      "outputs": [
        {
          "output_type": "display_data",
          "data": {
            "text/html": [
              "<table>\n",
              "<thead>\n",
              "<tr><th>model_id                                               </th><th style=\"text-align: right;\">  mean_residual_deviance</th><th style=\"text-align: right;\">    rmse</th><th style=\"text-align: right;\">     mse</th><th style=\"text-align: right;\">    mae</th><th style=\"text-align: right;\">   rmsle</th></tr>\n",
              "</thead>\n",
              "<tbody>\n",
              "<tr><td>StackedEnsemble_BestOfFamily_3_AutoML_1_20220323_122526</td><td style=\"text-align: right;\">                 61.7192</td><td style=\"text-align: right;\"> 7.85616</td><td style=\"text-align: right;\"> 61.7192</td><td style=\"text-align: right;\">4.55185</td><td style=\"text-align: right;\">0.230546</td></tr>\n",
              "<tr><td>StackedEnsemble_AllModels_2_AutoML_1_20220323_122526   </td><td style=\"text-align: right;\">                 61.8134</td><td style=\"text-align: right;\"> 7.86215</td><td style=\"text-align: right;\"> 61.8134</td><td style=\"text-align: right;\">4.68332</td><td style=\"text-align: right;\">0.25893 </td></tr>\n",
              "<tr><td>StackedEnsemble_BestOfFamily_2_AutoML_1_20220323_122526</td><td style=\"text-align: right;\">                 62.1958</td><td style=\"text-align: right;\"> 7.88643</td><td style=\"text-align: right;\"> 62.1958</td><td style=\"text-align: right;\">4.61982</td><td style=\"text-align: right;\">0.244452</td></tr>\n",
              "<tr><td>GBM_3_AutoML_1_20220323_122526                         </td><td style=\"text-align: right;\">                 64.2803</td><td style=\"text-align: right;\"> 8.0175 </td><td style=\"text-align: right;\"> 64.2803</td><td style=\"text-align: right;\">4.55973</td><td style=\"text-align: right;\">0.329298</td></tr>\n",
              "<tr><td>StackedEnsemble_AllModels_1_AutoML_1_20220323_122526   </td><td style=\"text-align: right;\">                 64.6257</td><td style=\"text-align: right;\"> 8.03901</td><td style=\"text-align: right;\"> 64.6257</td><td style=\"text-align: right;\">4.73455</td><td style=\"text-align: right;\">0.282283</td></tr>\n",
              "<tr><td>XGBoost_2_AutoML_1_20220323_122526                     </td><td style=\"text-align: right;\">                 86.9127</td><td style=\"text-align: right;\"> 9.3227 </td><td style=\"text-align: right;\"> 86.9127</td><td style=\"text-align: right;\">5.87751</td><td style=\"text-align: right;\">0.340296</td></tr>\n",
              "<tr><td>XGBoost_grid_1_AutoML_1_20220323_122526_model_1        </td><td style=\"text-align: right;\">                 92.2109</td><td style=\"text-align: right;\"> 9.60265</td><td style=\"text-align: right;\"> 92.2109</td><td style=\"text-align: right;\">6.37293</td><td style=\"text-align: right;\">0.375994</td></tr>\n",
              "<tr><td>GBM_2_AutoML_1_20220323_122526                         </td><td style=\"text-align: right;\">                128.815 </td><td style=\"text-align: right;\">11.3496 </td><td style=\"text-align: right;\">128.815 </td><td style=\"text-align: right;\">7.40798</td><td style=\"text-align: right;\">0.382549</td></tr>\n",
              "<tr><td>GBM_4_AutoML_1_20220323_122526                         </td><td style=\"text-align: right;\">                133.442 </td><td style=\"text-align: right;\">11.5517 </td><td style=\"text-align: right;\">133.442 </td><td style=\"text-align: right;\">7.65885</td><td style=\"text-align: right;\">0.376825</td></tr>\n",
              "<tr><td>XGBoost_3_AutoML_1_20220323_122526                     </td><td style=\"text-align: right;\">                139.675 </td><td style=\"text-align: right;\">11.8184 </td><td style=\"text-align: right;\">139.675 </td><td style=\"text-align: right;\">8.11426</td><td style=\"text-align: right;\">0.421894</td></tr>\n",
              "</tbody>\n",
              "</table>"
            ]
          },
          "metadata": {}
        },
        {
          "output_type": "execute_result",
          "data": {
            "text/plain": [
              ""
            ]
          },
          "metadata": {},
          "execution_count": 45
        }
      ]
    },
    {
      "cell_type": "code",
      "source": [
        "# Get model ids for all models in the AutoML Leaderboard\n",
        "model_ids = list(aml.leaderboard['model_id'].as_data_frame().iloc[:,0])\n",
        "# Get the \"All Models\" Stacked Ensemble model\n",
        "se = h2o.get_model([mid for mid in model_ids if \"StackedEnsemble_AllModels\" in mid][0])\n",
        "# Get the Stacked Ensemble metalearner model\n",
        "metalearner = h2o.get_model(se.metalearner()['name'])"
      ],
      "metadata": {
        "colab": {
          "base_uri": "https://localhost:8080/"
        },
        "id": "5l8Aqf2UwcZA",
        "outputId": "a77d657a-622b-4e68-90a9-01dbed135502"
      },
      "execution_count": 46,
      "outputs": [
        {
          "output_type": "stream",
          "name": "stderr",
          "text": [
            "/usr/local/lib/python3.7/dist-packages/h2o/estimators/stackedensemble.py:929: H2ODeprecationWarning: The usage of stacked_ensemble.metalearner()['name'] will be deprecated. Metalearner now returns the metalearner object. If you need to get the 'name' please use stacked_ensemble.metalearner().model_id\n",
            "  H2ODeprecationWarning\n"
          ]
        }
      ]
    },
    {
      "cell_type": "code",
      "source": [
        "%matplotlib inline\n",
        "metalearner.std_coef_plot()"
      ],
      "metadata": {
        "colab": {
          "base_uri": "https://localhost:8080/",
          "height": 630
        },
        "id": "kvsR01wQwtZg",
        "outputId": "cf92d74e-5145-4822-acd6-2565403365f8"
      },
      "execution_count": 47,
      "outputs": [
        {
          "output_type": "execute_result",
          "data": {
            "text/plain": [
              "<h2o.plot._plot_result._MObject at 0x7f899e59d350>"
            ]
          },
          "metadata": {},
          "execution_count": 47
        },
        {
          "output_type": "display_data",
          "data": {
            "text/plain": [
              "<Figure size 1008x720 with 1 Axes>"
            ],
            "image/png": "[encoded data removed]"
          },
          "metadata": {
            "needs_background": "light"
          }
        }
      ]
    },
    {
      "cell_type": "code",
      "source": [
        "pred = aml.predict(test)\n",
        "pred.head()"
      ],
      "metadata": {
        "colab": {
          "base_uri": "https://localhost:8080/",
          "height": 266
        },
        "id": "mcbGuagmxETw",
        "outputId": "9a187bec-1ec1-4be0-dfbe-0102b4627bbd"
      },
      "execution_count": 48,
      "outputs": [
        {
          "output_type": "stream",
          "name": "stdout",
          "text": [
            "stackedensemble prediction progress: |███████████████████████████████████████████| (done) 100%\n"
          ]
        },
        {
          "output_type": "display_data",
          "data": {
            "text/html": [
              "<table>\n",
              "<thead>\n",
              "<tr><th style=\"text-align: right;\">  predict</th></tr>\n",
              "</thead>\n",
              "<tbody>\n",
              "<tr><td style=\"text-align: right;\"> 12.3766 </td></tr>\n",
              "<tr><td style=\"text-align: right;\"> 47.3263 </td></tr>\n",
              "<tr><td style=\"text-align: right;\"> 12.1219 </td></tr>\n",
              "<tr><td style=\"text-align: right;\"> 52.4768 </td></tr>\n",
              "<tr><td style=\"text-align: right;\"> 48.9455 </td></tr>\n",
              "<tr><td style=\"text-align: right;\"> 58.6248 </td></tr>\n",
              "<tr><td style=\"text-align: right;\"> 56.9302 </td></tr>\n",
              "<tr><td style=\"text-align: right;\"> 14.626  </td></tr>\n",
              "<tr><td style=\"text-align: right;\"> 80.8581 </td></tr>\n",
              "<tr><td style=\"text-align: right;\">  4.66962</td></tr>\n",
              "</tbody>\n",
              "</table>"
            ]
          },
          "metadata": {}
        },
        {
          "output_type": "execute_result",
          "data": {
            "text/plain": [
              ""
            ]
          },
          "metadata": {},
          "execution_count": 48
        }
      ]
    },
    {
      "cell_type": "code",
      "source": [
        "h2o.save_model(aml.leader, path=\"./product_backorders_model_bin\")"
      ],
      "metadata": {
        "id": "5HWfIqrBxXEI"
      },
      "execution_count": null,
      "outputs": []
    },
    {
      "cell_type": "code",
      "source": [
        ""
      ],
      "metadata": {
        "id": "dWvCWJJqyObw"
      },
      "execution_count": null,
      "outputs": []
    },
    {
      "cell_type": "code",
      "source": [
        ""
      ],
      "metadata": {
        "id": "ARNzuAqkyQVw"
      },
      "execution_count": null,
      "outputs": []
    },
    {
      "cell_type": "code",
      "source": [
        ""
      ],
      "metadata": {
        "id": "5QCEnWfQyQyg"
      },
      "execution_count": null,
      "outputs": []
    }
  ]
}