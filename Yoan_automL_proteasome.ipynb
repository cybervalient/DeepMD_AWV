{
  "cells": [
    {
      "cell_type": "markdown",
      "metadata": {
        "id": "view-in-github",
        "colab_type": "text"
      },
      "source": [
        "<a href=\"https://colab.research.google.com/github/cybervalient/DeepMD_AWV/blob/main/Yoan_automL_proteasome.ipynb\" target=\"_parent\"><img src=\"https://colab.research.google.com/assets/colab-badge.svg\" alt=\"Open In Colab\"/></a>"
      ]
    },
    {
      "cell_type": "code",
      "execution_count": null,
      "id": "d2cde0c8-111a-4e1d-a4c7-19d9f6df5f19",
      "metadata": {
        "id": "d2cde0c8-111a-4e1d-a4c7-19d9f6df5f19"
      },
      "outputs": [],
      "source": [
        "import numpy as np\n",
        "import matplotlib.pyplot as plt"
      ]
    },
    {
      "cell_type": "code",
      "execution_count": null,
      "id": "2798639b-20ae-4853-91c7-e949cf40e1e7",
      "metadata": {
        "id": "2798639b-20ae-4853-91c7-e949cf40e1e7"
      },
      "outputs": [],
      "source": []
    },
    {
      "cell_type": "code",
      "execution_count": null,
      "id": "2e97dea8-b551-4a9b-9f6e-78317bb40713",
      "metadata": {
        "id": "2e97dea8-b551-4a9b-9f6e-78317bb40713",
        "outputId": "52d25483-58e8-453c-e627-8de68b68cb1e",
        "colab": {
          "base_uri": "https://localhost:8080/",
          "height": 573
        }
      },
      "outputs": [
        {
          "output_type": "display_data",
          "data": {
            "text/plain": [
              "<Figure size 432x288 with 1 Axes>"
            ],
            "image/png": "[encoded data removed]"
          },
          "metadata": {
            "needs_background": "light"
          }
        },
        {
          "output_type": "display_data",
          "data": {
            "text/plain": [
              "<Figure size 432x288 with 1 Axes>"
            ],
            "image/png": "[encoded data removed]"
          },
          "metadata": {
            "needs_background": "light"
          }
        }
      ],
      "source": [
        "import numpy as np\n",
        "import matplotlib.pyplot as plt\n",
        "objects= ('112','115','121','135','143','161')\n",
        "accuracy=(52.12,54.11,54.40,54.31,54.72,54.26)\n",
        "y_pos=np.arange(len(objects))\n",
        "                \n",
        "plt.bar(y_pos,accuracy,align='center',alpha=0.6,color='gray',width=0.6)\n",
        "plt.xticks(y_pos,objects)\n",
        "plt.ylabel('Accuracy')\n",
        "plt.xlabel('Number of remaining features')               \n",
        "plt.title('Accuracy vs Near-constant variable values')\n",
        "\n",
        "plt.show()  \n",
        "#plt.savefig(\"box_plot_100_1.png\",dpi=600)\n",
        "#plt.close()\n",
        "\n",
        "import numpy as np\n",
        "import matplotlib.pyplot as plt\n",
        "objects= ('15','17','23','32','55','67','87')\n",
        "accuracy=(54.83,54.97,55.09,56.18,57.16,58.68,59.18)\n",
        "y_pos=np.arange(len(objects))\n",
        "                \n",
        "plt.bar(y_pos,accuracy,align='center',alpha=0.6,color='gray',width=0.6)\n",
        "plt.xticks(y_pos,objects)\n",
        "plt.ylabel('Accuracy')\n",
        "plt.xlabel('Number of discarded outliers')               \n",
        "plt.title('Accuracy vs Outliers')\n",
        "\n",
        "plt.show()  \n",
        "#plt.savefig(\"box_plot_100_1.png\",dpi=600)\n",
        "#plt.close()\n"
      ]
    },
    {
      "cell_type": "code",
      "execution_count": null,
      "id": "c1bf406b-e297-450f-b942-17f344f563fe",
      "metadata": {
        "id": "c1bf406b-e297-450f-b942-17f344f563fe",
        "outputId": "0a112407-33ac-4389-f9c1-465ee9ce3dac",
        "colab": {
          "base_uri": "https://localhost:8080/",
          "height": 235
        }
      },
      "outputs": [
        {
          "output_type": "error",
          "ename": "NameError",
          "evalue": "ignored",
          "traceback": [
            "\u001b[0;31m---------------------------------------------------------------------------\u001b[0m",
            "\u001b[0;31mNameError\u001b[0m                                 Traceback (most recent call last)",
            "\u001b[0;32m<ipython-input-26-a2648af43b7b>\u001b[0m in \u001b[0;36m<module>\u001b[0;34m\u001b[0m\n\u001b[0;32m----> 1\u001b[0;31m \u001b[0mdataforplot\u001b[0m\u001b[0;34m.\u001b[0m\u001b[0mplot\u001b[0m\u001b[0;34m(\u001b[0m\u001b[0mkind\u001b[0m\u001b[0;34m=\u001b[0m\u001b[0;34m'bar'\u001b[0m\u001b[0;34m,\u001b[0m\u001b[0malpha\u001b[0m\u001b[0;34m=\u001b[0m\u001b[0;36m1\u001b[0m\u001b[0;34m,\u001b[0m \u001b[0mwidth\u001b[0m\u001b[0;34m=\u001b[0m\u001b[0;36m0.75\u001b[0m\u001b[0;34m,\u001b[0m\u001b[0mfigsize\u001b[0m\u001b[0;34m=\u001b[0m\u001b[0;34m[\u001b[0m\u001b[0;36m8\u001b[0m\u001b[0;34m,\u001b[0m\u001b[0;36m8\u001b[0m\u001b[0;34m]\u001b[0m\u001b[0;34m)\u001b[0m\u001b[0;34m\u001b[0m\u001b[0;34m\u001b[0m\u001b[0m\n\u001b[0m\u001b[1;32m      2\u001b[0m \u001b[0;31m#dataforplot.plot(kind='bar',alpha=1, width=0.75,figsize=[8,8],colormap='Pastel2')\u001b[0m\u001b[0;34m\u001b[0m\u001b[0;34m\u001b[0m\u001b[0;34m\u001b[0m\u001b[0m\n\u001b[1;32m      3\u001b[0m \u001b[0;34m\u001b[0m\u001b[0m\n\u001b[1;32m      4\u001b[0m \u001b[0mplt\u001b[0m\u001b[0;34m.\u001b[0m\u001b[0mtitle\u001b[0m\u001b[0;34m(\u001b[0m\u001b[0;34m'Machine Learning Models Performance'\u001b[0m\u001b[0;34m,\u001b[0m\u001b[0mfontsize\u001b[0m\u001b[0;34m=\u001b[0m\u001b[0;36m16\u001b[0m\u001b[0;34m)\u001b[0m\u001b[0;34m\u001b[0m\u001b[0;34m\u001b[0m\u001b[0m\n\u001b[1;32m      5\u001b[0m \u001b[0mlabels\u001b[0m\u001b[0;34m=\u001b[0m\u001b[0;34m[\u001b[0m\u001b[0;34m'$R^2_{train}$'\u001b[0m\u001b[0;34m,\u001b[0m\u001b[0;34m'$Q^2_{cv}$'\u001b[0m\u001b[0;34m,\u001b[0m\u001b[0;34m'$Q^2_{ext}$'\u001b[0m\u001b[0;34m]\u001b[0m\u001b[0;34m\u001b[0m\u001b[0;34m\u001b[0m\u001b[0m\n",
            "\u001b[0;31mNameError\u001b[0m: name 'dataforplot' is not defined"
          ]
        }
      ],
      "source": [
        "dataforplot.plot(kind='bar',alpha=1, width=0.75,figsize=[8,8])\n",
        "#dataforplot.plot(kind='bar',alpha=1, width=0.75,figsize=[8,8],colormap='Pastel2')\n",
        "\n",
        "plt.title('Machine Learning Models Performance',fontsize=16)\n",
        "labels=['$R^2_{train}$','$Q^2_{cv}$','$Q^2_{ext}$']\n",
        "plt.xticks(np.arange(3), labels,rotation=0,fontsize=14)\n",
        "plt.ylabel('Determination Coefficient',fontsize=14)\n",
        "plt.legend(bbox_to_anchor=(0.65, 0.99), loc='best',fontsize=12, borderaxespad=0.)\n",
        "\n",
        "plt.grid(True,ls='dashed',color='black',lw=0.4,alpha=0.6)\n",
        "#plt.savefig(\"figure5_machine_learning_models_performance_v2.png\",dpi=600)\n",
        "#plt.close()\n",
        "plt.show()"
      ]
    },
    {
      "cell_type": "code",
      "execution_count": null,
      "id": "0c4361b3-1f13-4b2e-a56b-61a589bd1ecd",
      "metadata": {
        "id": "0c4361b3-1f13-4b2e-a56b-61a589bd1ecd",
        "outputId": "84b7b15a-0f72-4431-c02f-d27a2345c36d",
        "colab": {
          "base_uri": "https://localhost:8080/",
          "height": 955
        }
      },
      "outputs": [
        {
          "output_type": "error",
          "ename": "TypeError",
          "evalue": "ignored",
          "traceback": [
            "\u001b[0;31m---------------------------------------------------------------------------\u001b[0m",
            "\u001b[0;31mTypeError\u001b[0m                                 Traceback (most recent call last)",
            "\u001b[0;32m<ipython-input-25-e1990021600c>\u001b[0m in \u001b[0;36m<module>\u001b[0;34m\u001b[0m\n\u001b[1;32m     13\u001b[0m \u001b[0;34m\u001b[0m\u001b[0m\n\u001b[1;32m     14\u001b[0m \u001b[0max\u001b[0m\u001b[0;34m.\u001b[0m\u001b[0mbarh\u001b[0m\u001b[0;34m(\u001b[0m\u001b[0my_pos\u001b[0m\u001b[0;34m,\u001b[0m\u001b[0maccuracy\u001b[0m\u001b[0;34m,\u001b[0m\u001b[0malign\u001b[0m\u001b[0;34m=\u001b[0m\u001b[0;34m'center'\u001b[0m\u001b[0;34m,\u001b[0m\u001b[0malpha\u001b[0m\u001b[0;34m=\u001b[0m\u001b[0;36m1\u001b[0m\u001b[0;34m,\u001b[0m\u001b[0mcolor\u001b[0m\u001b[0;34m=\u001b[0m\u001b[0;34m'blue'\u001b[0m\u001b[0;34m)\u001b[0m\u001b[0;34m\u001b[0m\u001b[0;34m\u001b[0m\u001b[0m\n\u001b[0;32m---> 15\u001b[0;31m \u001b[0max\u001b[0m\u001b[0;34m.\u001b[0m\u001b[0mset_yticks\u001b[0m\u001b[0;34m(\u001b[0m\u001b[0my_pos\u001b[0m\u001b[0;34m,\u001b[0m \u001b[0mlabels\u001b[0m\u001b[0;34m=\u001b[0m\u001b[0mobjects\u001b[0m\u001b[0;34m)\u001b[0m\u001b[0;34m\u001b[0m\u001b[0;34m\u001b[0m\u001b[0m\n\u001b[0m\u001b[1;32m     16\u001b[0m \u001b[0max\u001b[0m\u001b[0;34m.\u001b[0m\u001b[0minvert_yaxis\u001b[0m\u001b[0;34m(\u001b[0m\u001b[0;34m)\u001b[0m  \u001b[0;31m# labels read top-to-bottom\u001b[0m\u001b[0;34m\u001b[0m\u001b[0;34m\u001b[0m\u001b[0m\n\u001b[1;32m     17\u001b[0m \u001b[0max\u001b[0m\u001b[0;34m.\u001b[0m\u001b[0mset_xlabel\u001b[0m\u001b[0;34m(\u001b[0m\u001b[0;34m'Performance'\u001b[0m\u001b[0;34m,\u001b[0m\u001b[0mfontsize\u001b[0m\u001b[0;34m=\u001b[0m\u001b[0;36m30\u001b[0m\u001b[0;34m)\u001b[0m\u001b[0;34m\u001b[0m\u001b[0;34m\u001b[0m\u001b[0m\n",
            "\u001b[0;32m/usr/local/lib/python3.8/dist-packages/matplotlib/cbook/deprecation.py\u001b[0m in \u001b[0;36mwrapper\u001b[0;34m(*args, **kwargs)\u001b[0m\n\u001b[1;32m    391\u001b[0m     \u001b[0;34m@\u001b[0m\u001b[0mfunctools\u001b[0m\u001b[0;34m.\u001b[0m\u001b[0mwraps\u001b[0m\u001b[0;34m(\u001b[0m\u001b[0mfunc\u001b[0m\u001b[0;34m)\u001b[0m\u001b[0;34m\u001b[0m\u001b[0;34m\u001b[0m\u001b[0m\n\u001b[1;32m    392\u001b[0m     \u001b[0;32mdef\u001b[0m \u001b[0mwrapper\u001b[0m\u001b[0;34m(\u001b[0m\u001b[0;34m*\u001b[0m\u001b[0margs\u001b[0m\u001b[0;34m,\u001b[0m \u001b[0;34m**\u001b[0m\u001b[0mkwargs\u001b[0m\u001b[0;34m)\u001b[0m\u001b[0;34m:\u001b[0m\u001b[0;34m\u001b[0m\u001b[0;34m\u001b[0m\u001b[0m\n\u001b[0;32m--> 393\u001b[0;31m         \u001b[0mbound\u001b[0m \u001b[0;34m=\u001b[0m \u001b[0msignature\u001b[0m\u001b[0;34m.\u001b[0m\u001b[0mbind\u001b[0m\u001b[0;34m(\u001b[0m\u001b[0;34m*\u001b[0m\u001b[0margs\u001b[0m\u001b[0;34m,\u001b[0m \u001b[0;34m**\u001b[0m\u001b[0mkwargs\u001b[0m\u001b[0;34m)\u001b[0m\u001b[0;34m\u001b[0m\u001b[0;34m\u001b[0m\u001b[0m\n\u001b[0m\u001b[1;32m    394\u001b[0m         \u001b[0;32mif\u001b[0m \u001b[0mname\u001b[0m \u001b[0;32min\u001b[0m \u001b[0mbound\u001b[0m\u001b[0;34m.\u001b[0m\u001b[0marguments\u001b[0m \u001b[0;32mand\u001b[0m \u001b[0mname\u001b[0m \u001b[0;32mnot\u001b[0m \u001b[0;32min\u001b[0m \u001b[0mkwargs\u001b[0m\u001b[0;34m:\u001b[0m\u001b[0;34m\u001b[0m\u001b[0;34m\u001b[0m\u001b[0m\n\u001b[1;32m    395\u001b[0m             warn_deprecated(\n",
            "\u001b[0;32m/usr/lib/python3.8/inspect.py\u001b[0m in \u001b[0;36mbind\u001b[0;34m(self, *args, **kwargs)\u001b[0m\n\u001b[1;32m   3035\u001b[0m         \u001b[0;32mif\u001b[0m \u001b[0mthe\u001b[0m \u001b[0mpassed\u001b[0m \u001b[0marguments\u001b[0m \u001b[0mcan\u001b[0m \u001b[0;32mnot\u001b[0m \u001b[0mbe\u001b[0m \u001b[0mbound\u001b[0m\u001b[0;34m.\u001b[0m\u001b[0;34m\u001b[0m\u001b[0;34m\u001b[0m\u001b[0m\n\u001b[1;32m   3036\u001b[0m         \"\"\"\n\u001b[0;32m-> 3037\u001b[0;31m         \u001b[0;32mreturn\u001b[0m \u001b[0mself\u001b[0m\u001b[0;34m.\u001b[0m\u001b[0m_bind\u001b[0m\u001b[0;34m(\u001b[0m\u001b[0margs\u001b[0m\u001b[0;34m,\u001b[0m \u001b[0mkwargs\u001b[0m\u001b[0;34m)\u001b[0m\u001b[0;34m\u001b[0m\u001b[0;34m\u001b[0m\u001b[0m\n\u001b[0m\u001b[1;32m   3038\u001b[0m \u001b[0;34m\u001b[0m\u001b[0m\n\u001b[1;32m   3039\u001b[0m     \u001b[0;32mdef\u001b[0m \u001b[0mbind_partial\u001b[0m\u001b[0;34m(\u001b[0m\u001b[0mself\u001b[0m\u001b[0;34m,\u001b[0m \u001b[0;34m/\u001b[0m\u001b[0;34m,\u001b[0m \u001b[0;34m*\u001b[0m\u001b[0margs\u001b[0m\u001b[0;34m,\u001b[0m \u001b[0;34m**\u001b[0m\u001b[0mkwargs\u001b[0m\u001b[0;34m)\u001b[0m\u001b[0;34m:\u001b[0m\u001b[0;34m\u001b[0m\u001b[0;34m\u001b[0m\u001b[0m\n",
            "\u001b[0;32m/usr/lib/python3.8/inspect.py\u001b[0m in \u001b[0;36m_bind\u001b[0;34m(self, args, kwargs, partial)\u001b[0m\n\u001b[1;32m   3024\u001b[0m                 \u001b[0marguments\u001b[0m\u001b[0;34m[\u001b[0m\u001b[0mkwargs_param\u001b[0m\u001b[0;34m.\u001b[0m\u001b[0mname\u001b[0m\u001b[0;34m]\u001b[0m \u001b[0;34m=\u001b[0m \u001b[0mkwargs\u001b[0m\u001b[0;34m\u001b[0m\u001b[0;34m\u001b[0m\u001b[0m\n\u001b[1;32m   3025\u001b[0m             \u001b[0;32melse\u001b[0m\u001b[0;34m:\u001b[0m\u001b[0;34m\u001b[0m\u001b[0;34m\u001b[0m\u001b[0m\n\u001b[0;32m-> 3026\u001b[0;31m                 raise TypeError(\n\u001b[0m\u001b[1;32m   3027\u001b[0m                     'got an unexpected keyword argument {arg!r}'.format(\n\u001b[1;32m   3028\u001b[0m                         arg=next(iter(kwargs))))\n",
            "\u001b[0;31mTypeError\u001b[0m: got an unexpected keyword argument 'labels'"
          ]
        },
        {
          "output_type": "display_data",
          "data": {
            "text/plain": [
              "<Figure size 1512x720 with 1 Axes>"
            ],
            "image/png": "[encoded data removed]"
          },
          "metadata": {
            "needs_background": "light"
          }
        }
      ],
      "source": [
        "import numpy as np\n",
        "import matplotlib.pyplot as plt\n",
        "\n",
        "fig, ax = plt.subplots()\n",
        "fig.set_size_inches(21,10)\n",
        "objects= ('4GI(K)CCB','4TS(M)AHT','GI1(DE)RIS','TS6(S)IN5GL','Q1RCB','ES(K)DC2HA','GI3(PN)LS',\n",
        "          'Q1IN9GL','GI3(S)DC4T','AC8(CV)ET','TS7(G)CLA','TS8(S)BDGL','KDC2HA','DELHA',\n",
        "          'Q1IN9T','TS4(PN)ZCB','ES(Q1)IN16GL','TS4(N2)ZCB','AC8(V)KUIS','AC1(K)CIS')\n",
        "\n",
        "accuracy=(1,0.839868,0.792588,0.740589,0.731407,0.723965,0.678705,0.66691,0.65937,0.656283,0.633333,\n",
        "          0.626904,0.619502,0.616678,0.605904,0.599379,0.585258,0.566948,0.565606,0.552321)\n",
        "y_pos=np.arange(len(objects))\n",
        "                \n",
        "ax.barh(y_pos,accuracy,align='center',alpha=1,color='blue')\n",
        "ax.set_yticks(y_pos, labels=objects)\n",
        "ax.invert_yaxis()  # labels read top-to-bottom\n",
        "ax.set_xlabel('Performance',fontsize=30)              \n",
        "plt.title('Feature Importance',fontsize=30)\n",
        "\n",
        "plt.yticks(fontsize=20)\n",
        "plt.xticks(fontsize=20)\n",
        "\n",
        "plt.show()  \n",
        "#plt.savefig(\"feature_importance.png\",dpi=600)\n",
        "#plt.close()"
      ]
    },
    {
      "cell_type": "code",
      "execution_count": 1,
      "id": "38f1859f-ccb2-4136-99fd-3a91f949ff07",
      "metadata": {
        "id": "38f1859f-ccb2-4136-99fd-3a91f949ff07",
        "outputId": "6fc44cfd-158a-4f03-c4ab-90e0101ebb33",
        "colab": {
          "base_uri": "https://localhost:8080/",
          "height": 73
        }
      },
      "outputs": [
        {
          "output_type": "display_data",
          "data": {
            "text/plain": [
              "<IPython.core.display.HTML object>"
            ],
            "text/html": [
              "\n",
              "     <input type=\"file\" id=\"files-296246bb-671c-47e5-a244-4cdb507e65d7\" name=\"files[]\" multiple disabled\n",
              "        style=\"border:none\" />\n",
              "     <output id=\"result-296246bb-671c-47e5-a244-4cdb507e65d7\">\n",
              "      Upload widget is only available when the cell has been executed in the\n",
              "      current browser session. Please rerun this cell to enable.\n",
              "      </output>\n",
              "      <script>// Copyright 2017 Google LLC\n",
              "//\n",
              "// Licensed under the Apache License, Version 2.0 (the \"License\");\n",
              "// you may not use this file except in compliance with the License.\n",
              "// You may obtain a copy of the License at\n",
              "//\n",
              "//      http://www.apache.org/licenses/LICENSE-2.0\n",
              "//\n",
              "// Unless required by applicable law or agreed to in writing, software\n",
              "// distributed under the License is distributed on an \"AS IS\" BASIS,\n",
              "// WITHOUT WARRANTIES OR CONDITIONS OF ANY KIND, either express or implied.\n",
              "// See the License for the specific language governing permissions and\n",
              "// limitations under the License.\n",
              "\n",
              "/**\n",
              " * @fileoverview Helpers for google.colab Python module.\n",
              " */\n",
              "(function(scope) {\n",
              "function span(text, styleAttributes = {}) {\n",
              "  const element = document.createElement('span');\n",
              "  element.textContent = text;\n",
              "  for (const key of Object.keys(styleAttributes)) {\n",
              "    element.style[key] = styleAttributes[key];\n",
              "  }\n",
              "  return element;\n",
              "}\n",
              "\n",
              "// Max number of bytes which will be uploaded at a time.\n",
              "const MAX_PAYLOAD_SIZE = 100 * 1024;\n",
              "\n",
              "function _uploadFiles(inputId, outputId) {\n",
              "  const steps = uploadFilesStep(inputId, outputId);\n",
              "  const outputElement = document.getElementById(outputId);\n",
              "  // Cache steps on the outputElement to make it available for the next call\n",
              "  // to uploadFilesContinue from Python.\n",
              "  outputElement.steps = steps;\n",
              "\n",
              "  return _uploadFilesContinue(outputId);\n",
              "}\n",
              "\n",
              "// This is roughly an async generator (not supported in the browser yet),\n",
              "// where there are multiple asynchronous steps and the Python side is going\n",
              "// to poll for completion of each step.\n",
              "// This uses a Promise to block the python side on completion of each step,\n",
              "// then passes the result of the previous step as the input to the next step.\n",
              "function _uploadFilesContinue(outputId) {\n",
              "  const outputElement = document.getElementById(outputId);\n",
              "  const steps = outputElement.steps;\n",
              "\n",
              "  const next = steps.next(outputElement.lastPromiseValue);\n",
              "  return Promise.resolve(next.value.promise).then((value) => {\n",
              "    // Cache the last promise value to make it available to the next\n",
              "    // step of the generator.\n",
              "    outputElement.lastPromiseValue = value;\n",
              "    return next.value.response;\n",
              "  });\n",
              "}\n",
              "\n",
              "/**\n",
              " * Generator function which is called between each async step of the upload\n",
              " * process.\n",
              " * @param {string} inputId Element ID of the input file picker element.\n",
              " * @param {string} outputId Element ID of the output display.\n",
              " * @return {!Iterable<!Object>} Iterable of next steps.\n",
              " */\n",
              "function* uploadFilesStep(inputId, outputId) {\n",
              "  const inputElement = document.getElementById(inputId);\n",
              "  inputElement.disabled = false;\n",
              "\n",
              "  const outputElement = document.getElementById(outputId);\n",
              "  outputElement.innerHTML = '';\n",
              "\n",
              "  const pickedPromise = new Promise((resolve) => {\n",
              "    inputElement.addEventListener('change', (e) => {\n",
              "      resolve(e.target.files);\n",
              "    });\n",
              "  });\n",
              "\n",
              "  const cancel = document.createElement('button');\n",
              "  inputElement.parentElement.appendChild(cancel);\n",
              "  cancel.textContent = 'Cancel upload';\n",
              "  const cancelPromise = new Promise((resolve) => {\n",
              "    cancel.onclick = () => {\n",
              "      resolve(null);\n",
              "    };\n",
              "  });\n",
              "\n",
              "  // Wait for the user to pick the files.\n",
              "  const files = yield {\n",
              "    promise: Promise.race([pickedPromise, cancelPromise]),\n",
              "    response: {\n",
              "      action: 'starting',\n",
              "    }\n",
              "  };\n",
              "\n",
              "  cancel.remove();\n",
              "\n",
              "  // Disable the input element since further picks are not allowed.\n",
              "  inputElement.disabled = true;\n",
              "\n",
              "  if (!files) {\n",
              "    return {\n",
              "      response: {\n",
              "        action: 'complete',\n",
              "      }\n",
              "    };\n",
              "  }\n",
              "\n",
              "  for (const file of files) {\n",
              "    const li = document.createElement('li');\n",
              "    li.append(span(file.name, {fontWeight: 'bold'}));\n",
              "    li.append(span(\n",
              "        `(${file.type || 'n/a'}) - ${file.size} bytes, ` +\n",
              "        `last modified: ${\n",
              "            file.lastModifiedDate ? file.lastModifiedDate.toLocaleDateString() :\n",
              "                                    'n/a'} - `));\n",
              "    const percent = span('0% done');\n",
              "    li.appendChild(percent);\n",
              "\n",
              "    outputElement.appendChild(li);\n",
              "\n",
              "    const fileDataPromise = new Promise((resolve) => {\n",
              "      const reader = new FileReader();\n",
              "      reader.onload = (e) => {\n",
              "        resolve(e.target.result);\n",
              "      };\n",
              "      reader.readAsArrayBuffer(file);\n",
              "    });\n",
              "    // Wait for the data to be ready.\n",
              "    let fileData = yield {\n",
              "      promise: fileDataPromise,\n",
              "      response: {\n",
              "        action: 'continue',\n",
              "      }\n",
              "    };\n",
              "\n",
              "    // Use a chunked sending to avoid message size limits. See b/62115660.\n",
              "    let position = 0;\n",
              "    do {\n",
              "      const length = Math.min(fileData.byteLength - position, MAX_PAYLOAD_SIZE);\n",
              "      const chunk = new Uint8Array(fileData, position, length);\n",
              "      position += length;\n",
              "\n",
              "      const base64 = btoa(String.fromCharCode.apply(null, chunk));\n",
              "      yield {\n",
              "        response: {\n",
              "          action: 'append',\n",
              "          file: file.name,\n",
              "          data: base64,\n",
              "        },\n",
              "      };\n",
              "\n",
              "      let percentDone = fileData.byteLength === 0 ?\n",
              "          100 :\n",
              "          Math.round((position / fileData.byteLength) * 100);\n",
              "      percent.textContent = `${percentDone}% done`;\n",
              "\n",
              "    } while (position < fileData.byteLength);\n",
              "  }\n",
              "\n",
              "  // All done.\n",
              "  yield {\n",
              "    response: {\n",
              "      action: 'complete',\n",
              "    }\n",
              "  };\n",
              "}\n",
              "\n",
              "scope.google = scope.google || {};\n",
              "scope.google.colab = scope.google.colab || {};\n",
              "scope.google.colab._files = {\n",
              "  _uploadFiles,\n",
              "  _uploadFilesContinue,\n",
              "};\n",
              "})(self);\n",
              "</script> "
            ]
          },
          "metadata": {}
        },
        {
          "output_type": "stream",
          "name": "stdout",
          "text": [
            "Saving Result.csv to Result.csv\n"
          ]
        }
      ],
      "source": [
        "from google.colab import files \n",
        "  \n",
        "  \n",
        "uploaded = files.upload()"
      ]
    },
    {
      "cell_type": "code",
      "execution_count": 2,
      "id": "bce001fd-aee9-418b-9c2c-e9132286a3cf",
      "metadata": {
        "id": "bce001fd-aee9-418b-9c2c-e9132286a3cf"
      },
      "outputs": [],
      "source": [
        "import pandas as pd\n",
        "df=pd.read_csv('Result.csv')"
      ]
    },
    {
      "cell_type": "code",
      "execution_count": 3,
      "id": "840313fa-8a75-4ba2-8e3f-9e20e9cbf21b",
      "metadata": {
        "id": "840313fa-8a75-4ba2-8e3f-9e20e9cbf21b"
      },
      "outputs": [],
      "source": [
        "df=df.set_index('Method')"
      ]
    },
    {
      "cell_type": "code",
      "execution_count": 4,
      "id": "e3d97ce3-c6fe-423d-9f80-69f25874d9f1",
      "metadata": {
        "id": "e3d97ce3-c6fe-423d-9f80-69f25874d9f1",
        "outputId": "ae315b76-ffd9-4812-f317-8d21cce69043",
        "colab": {
          "base_uri": "https://localhost:8080/",
          "height": 269
        }
      },
      "outputs": [
        {
          "output_type": "execute_result",
          "data": {
            "text/plain": [
              "                          R2\n",
              "Method                      \n",
              "Decision Tree         0.8860\n",
              "Linear Regression     0.7220\n",
              "M5Rules               0.9030\n",
              "REPTree               0.9300\n",
              "MultilayerPerceptron  0.8820\n",
              "GLM-MTS               0.9736"
            ],
            "text/html": [
              "\n",
              "  <div id=\"df-947586dd-957a-452a-bd97-6161bbc5e503\">\n",
              "    <div class=\"colab-df-container\">\n",
              "      <div>\n",
              "<style scoped>\n",
              "    .dataframe tbody tr th:only-of-type {\n",
              "        vertical-align: middle;\n",
              "    }\n",
              "\n",
              "    .dataframe tbody tr th {\n",
              "        vertical-align: top;\n",
              "    }\n",
              "\n",
              "    .dataframe thead th {\n",
              "        text-align: right;\n",
              "    }\n",
              "</style>\n",
              "<table border=\"1\" class=\"dataframe\">\n",
              "  <thead>\n",
              "    <tr style=\"text-align: right;\">\n",
              "      <th></th>\n",
              "      <th>R2</th>\n",
              "    </tr>\n",
              "    <tr>\n",
              "      <th>Method</th>\n",
              "      <th></th>\n",
              "    </tr>\n",
              "  </thead>\n",
              "  <tbody>\n",
              "    <tr>\n",
              "      <th>Decision Tree</th>\n",
              "      <td>0.8860</td>\n",
              "    </tr>\n",
              "    <tr>\n",
              "      <th>Linear Regression</th>\n",
              "      <td>0.7220</td>\n",
              "    </tr>\n",
              "    <tr>\n",
              "      <th>M5Rules</th>\n",
              "      <td>0.9030</td>\n",
              "    </tr>\n",
              "    <tr>\n",
              "      <th>REPTree</th>\n",
              "      <td>0.9300</td>\n",
              "    </tr>\n",
              "    <tr>\n",
              "      <th>MultilayerPerceptron</th>\n",
              "      <td>0.8820</td>\n",
              "    </tr>\n",
              "    <tr>\n",
              "      <th>GLM-MTS</th>\n",
              "      <td>0.9736</td>\n",
              "    </tr>\n",
              "  </tbody>\n",
              "</table>\n",
              "</div>\n",
              "      <button class=\"colab-df-convert\" onclick=\"convertToInteractive('df-947586dd-957a-452a-bd97-6161bbc5e503')\"\n",
              "              title=\"Convert this dataframe to an interactive table.\"\n",
              "              style=\"display:none;\">\n",
              "        \n",
              "  <svg xmlns=\"http://www.w3.org/2000/svg\" height=\"24px\"viewBox=\"0 0 24 24\"\n",
              "       width=\"24px\">\n",
              "    <path d=\"M0 0h24v24H0V0z\" fill=\"none\"/>\n",
              "    <path d=\"M18.56 5.44l.94 2.06.94-2.06 2.06-.94-2.06-.94-.94-2.06-.94 2.06-2.06.94zm-11 1L8.5 8.5l.94-2.06 2.06-.94-2.06-.94L8.5 2.5l-.94 2.06-2.06.94zm10 10l.94 2.06.94-2.06 2.06-.94-2.06-.94-.94-2.06-.94 2.06-2.06.94z\"/><path d=\"M17.41 7.96l-1.37-1.37c-.4-.4-.92-.59-1.43-.59-.52 0-1.04.2-1.43.59L10.3 9.45l-7.72 7.72c-.78.78-.78 2.05 0 2.83L4 21.41c.39.39.9.59 1.41.59.51 0 1.02-.2 1.41-.59l7.78-7.78 2.81-2.81c.8-.78.8-2.07 0-2.86zM5.41 20L4 18.59l7.72-7.72 1.47 1.35L5.41 20z\"/>\n",
              "  </svg>\n",
              "      </button>\n",
              "      \n",
              "  <style>\n",
              "    .colab-df-container {\n",
              "      display:flex;\n",
              "      flex-wrap:wrap;\n",
              "      gap: 12px;\n",
              "    }\n",
              "\n",
              "    .colab-df-convert {\n",
              "      background-color: #E8F0FE;\n",
              "      border: none;\n",
              "      border-radius: 50%;\n",
              "      cursor: pointer;\n",
              "      display: none;\n",
              "      fill: #1967D2;\n",
              "      height: 32px;\n",
              "      padding: 0 0 0 0;\n",
              "      width: 32px;\n",
              "    }\n",
              "\n",
              "    .colab-df-convert:hover {\n",
              "      background-color: #E2EBFA;\n",
              "      box-shadow: 0px 1px 2px rgba(60, 64, 67, 0.3), 0px 1px 3px 1px rgba(60, 64, 67, 0.15);\n",
              "      fill: #174EA6;\n",
              "    }\n",
              "\n",
              "    [theme=dark] .colab-df-convert {\n",
              "      background-color: #3B4455;\n",
              "      fill: #D2E3FC;\n",
              "    }\n",
              "\n",
              "    [theme=dark] .colab-df-convert:hover {\n",
              "      background-color: #434B5C;\n",
              "      box-shadow: 0px 1px 3px 1px rgba(0, 0, 0, 0.15);\n",
              "      filter: drop-shadow(0px 1px 2px rgba(0, 0, 0, 0.3));\n",
              "      fill: #FFFFFF;\n",
              "    }\n",
              "  </style>\n",
              "\n",
              "      <script>\n",
              "        const buttonEl =\n",
              "          document.querySelector('#df-947586dd-957a-452a-bd97-6161bbc5e503 button.colab-df-convert');\n",
              "        buttonEl.style.display =\n",
              "          google.colab.kernel.accessAllowed ? 'block' : 'none';\n",
              "\n",
              "        async function convertToInteractive(key) {\n",
              "          const element = document.querySelector('#df-947586dd-957a-452a-bd97-6161bbc5e503');\n",
              "          const dataTable =\n",
              "            await google.colab.kernel.invokeFunction('convertToInteractive',\n",
              "                                                     [key], {});\n",
              "          if (!dataTable) return;\n",
              "\n",
              "          const docLinkHtml = 'Like what you see? Visit the ' +\n",
              "            '<a target=\"_blank\" href=https://colab.research.google.com/notebooks/data_table.ipynb>data table notebook</a>'\n",
              "            + ' to learn more about interactive tables.';\n",
              "          element.innerHTML = '';\n",
              "          dataTable['output_type'] = 'display_data';\n",
              "          await google.colab.output.renderOutput(dataTable, element);\n",
              "          const docLink = document.createElement('div');\n",
              "          docLink.innerHTML = docLinkHtml;\n",
              "          element.appendChild(docLink);\n",
              "        }\n",
              "      </script>\n",
              "    </div>\n",
              "  </div>\n",
              "  "
            ]
          },
          "metadata": {},
          "execution_count": 4
        }
      ],
      "source": [
        "df"
      ]
    },
    {
      "cell_type": "code",
      "execution_count": null,
      "id": "bf62408c-8b54-4020-8d56-91a91b1ca02b",
      "metadata": {
        "id": "bf62408c-8b54-4020-8d56-91a91b1ca02b"
      },
      "outputs": [],
      "source": []
    },
    {
      "cell_type": "code",
      "execution_count": 9,
      "id": "16ec7b37-c316-4120-a127-8a5561b359e7",
      "metadata": {
        "id": "16ec7b37-c316-4120-a127-8a5561b359e7",
        "outputId": "d7eeda42-331a-4e71-e8be-b4ad1e61ef08",
        "colab": {
          "base_uri": "https://localhost:8080/",
          "height": 650
        }
      },
      "outputs": [
        {
          "output_type": "display_data",
          "data": {
            "text/plain": [
              "<Figure size 1080x720 with 1 Axes>"
            ],
            "image/png": "[encoded data removed]"
          },
          "metadata": {
            "needs_background": "light"
          }
        }
      ],
      "source": [
        "import numpy as np\n",
        "import matplotlib.pyplot as plt\n",
        "\n",
        "#fig, ax = plt.subplots()\n",
        "#fig.set_size_inches(4,2)\n",
        "#fig, ax = plt.subplots()\n",
        "#df = pd.DataFrame({'contribution': [0.188137,0.160208,0.160208,0.151654,0.149489,0.135975,0.063206]}\n",
        " #                 ,index=['A','B','C','D','E','F','G'])\n",
        "\n",
        "colors = ['b', 'green', 'y', 'pink','orange','cyan','darkgrey']\n",
        "\n",
        "\n",
        "#y_pos=np.arange(len(objects))\n",
        "#ax=ax.barh(y_pos,R2,align='center',alpha=1,color=colors)\n",
        "ax = df.plot(figsize=(15,10),kind='barh', color=colors, legend=False)\n",
        "\n",
        "for bar in ax.patches:\n",
        "    bar.set_facecolor('blue')\n",
        "\n",
        "#highlight = 'Lei et al. (2016)'\n",
        "#pos = df.index.get_loc(highlight)\n",
        "#ax.patches[pos].set_facecolor('orangered')\n",
        "#ax.legend()\n",
        "\n",
        "#highlight1 = 'IQ (15) [7]'\n",
        "#pos1 = df.index.get_loc(highlight1)\n",
        "#ax.patches[pos1].set_facecolor('plum')\n",
        "\n",
        "\n",
        "#highlight2 = 'Subhash, 2011'\n",
        "#pos2 = df.index.get_loc(highlight2)\n",
        "#ax.patches[pos2].set_facecolor('orangered')\n",
        "\n",
        "ax.set_xlabel('Determination coefficient $R^2$',fontsize=24) \n",
        "ax.set_ylabel('Method', fontsize=24) \n",
        "\n",
        "plt.title('Model Comparison',fontsize=16)\n",
        "\n",
        "plt.yticks(fontsize=20)\n",
        "plt.xticks(fontsize=20)\n",
        "\n",
        "plt.show()\n",
        "#plt.savefig(\"modelcomparison2.png\",dpi=600)\n",
        "#plt.close()"
      ]
    },
    {
      "cell_type": "code",
      "source": [
        "from google.colab import files \n",
        "  \n",
        "  \n",
        "uploaded = files.upload()"
      ],
      "metadata": {
        "id": "GuRYhj53Mi3C",
        "colab": {
          "base_uri": "https://localhost:8080/",
          "height": 73
        },
        "outputId": "9f2c46b1-6484-471e-d3a8-017ea83c5738"
      },
      "id": "GuRYhj53Mi3C",
      "execution_count": 6,
      "outputs": [
        {
          "output_type": "display_data",
          "data": {
            "text/plain": [
              "<IPython.core.display.HTML object>"
            ],
            "text/html": [
              "\n",
              "     <input type=\"file\" id=\"files-867628f1-8be6-493a-aefd-7d933451207a\" name=\"files[]\" multiple disabled\n",
              "        style=\"border:none\" />\n",
              "     <output id=\"result-867628f1-8be6-493a-aefd-7d933451207a\">\n",
              "      Upload widget is only available when the cell has been executed in the\n",
              "      current browser session. Please rerun this cell to enable.\n",
              "      </output>\n",
              "      <script>// Copyright 2017 Google LLC\n",
              "//\n",
              "// Licensed under the Apache License, Version 2.0 (the \"License\");\n",
              "// you may not use this file except in compliance with the License.\n",
              "// You may obtain a copy of the License at\n",
              "//\n",
              "//      http://www.apache.org/licenses/LICENSE-2.0\n",
              "//\n",
              "// Unless required by applicable law or agreed to in writing, software\n",
              "// distributed under the License is distributed on an \"AS IS\" BASIS,\n",
              "// WITHOUT WARRANTIES OR CONDITIONS OF ANY KIND, either express or implied.\n",
              "// See the License for the specific language governing permissions and\n",
              "// limitations under the License.\n",
              "\n",
              "/**\n",
              " * @fileoverview Helpers for google.colab Python module.\n",
              " */\n",
              "(function(scope) {\n",
              "function span(text, styleAttributes = {}) {\n",
              "  const element = document.createElement('span');\n",
              "  element.textContent = text;\n",
              "  for (const key of Object.keys(styleAttributes)) {\n",
              "    element.style[key] = styleAttributes[key];\n",
              "  }\n",
              "  return element;\n",
              "}\n",
              "\n",
              "// Max number of bytes which will be uploaded at a time.\n",
              "const MAX_PAYLOAD_SIZE = 100 * 1024;\n",
              "\n",
              "function _uploadFiles(inputId, outputId) {\n",
              "  const steps = uploadFilesStep(inputId, outputId);\n",
              "  const outputElement = document.getElementById(outputId);\n",
              "  // Cache steps on the outputElement to make it available for the next call\n",
              "  // to uploadFilesContinue from Python.\n",
              "  outputElement.steps = steps;\n",
              "\n",
              "  return _uploadFilesContinue(outputId);\n",
              "}\n",
              "\n",
              "// This is roughly an async generator (not supported in the browser yet),\n",
              "// where there are multiple asynchronous steps and the Python side is going\n",
              "// to poll for completion of each step.\n",
              "// This uses a Promise to block the python side on completion of each step,\n",
              "// then passes the result of the previous step as the input to the next step.\n",
              "function _uploadFilesContinue(outputId) {\n",
              "  const outputElement = document.getElementById(outputId);\n",
              "  const steps = outputElement.steps;\n",
              "\n",
              "  const next = steps.next(outputElement.lastPromiseValue);\n",
              "  return Promise.resolve(next.value.promise).then((value) => {\n",
              "    // Cache the last promise value to make it available to the next\n",
              "    // step of the generator.\n",
              "    outputElement.lastPromiseValue = value;\n",
              "    return next.value.response;\n",
              "  });\n",
              "}\n",
              "\n",
              "/**\n",
              " * Generator function which is called between each async step of the upload\n",
              " * process.\n",
              " * @param {string} inputId Element ID of the input file picker element.\n",
              " * @param {string} outputId Element ID of the output display.\n",
              " * @return {!Iterable<!Object>} Iterable of next steps.\n",
              " */\n",
              "function* uploadFilesStep(inputId, outputId) {\n",
              "  const inputElement = document.getElementById(inputId);\n",
              "  inputElement.disabled = false;\n",
              "\n",
              "  const outputElement = document.getElementById(outputId);\n",
              "  outputElement.innerHTML = '';\n",
              "\n",
              "  const pickedPromise = new Promise((resolve) => {\n",
              "    inputElement.addEventListener('change', (e) => {\n",
              "      resolve(e.target.files);\n",
              "    });\n",
              "  });\n",
              "\n",
              "  const cancel = document.createElement('button');\n",
              "  inputElement.parentElement.appendChild(cancel);\n",
              "  cancel.textContent = 'Cancel upload';\n",
              "  const cancelPromise = new Promise((resolve) => {\n",
              "    cancel.onclick = () => {\n",
              "      resolve(null);\n",
              "    };\n",
              "  });\n",
              "\n",
              "  // Wait for the user to pick the files.\n",
              "  const files = yield {\n",
              "    promise: Promise.race([pickedPromise, cancelPromise]),\n",
              "    response: {\n",
              "      action: 'starting',\n",
              "    }\n",
              "  };\n",
              "\n",
              "  cancel.remove();\n",
              "\n",
              "  // Disable the input element since further picks are not allowed.\n",
              "  inputElement.disabled = true;\n",
              "\n",
              "  if (!files) {\n",
              "    return {\n",
              "      response: {\n",
              "        action: 'complete',\n",
              "      }\n",
              "    };\n",
              "  }\n",
              "\n",
              "  for (const file of files) {\n",
              "    const li = document.createElement('li');\n",
              "    li.append(span(file.name, {fontWeight: 'bold'}));\n",
              "    li.append(span(\n",
              "        `(${file.type || 'n/a'}) - ${file.size} bytes, ` +\n",
              "        `last modified: ${\n",
              "            file.lastModifiedDate ? file.lastModifiedDate.toLocaleDateString() :\n",
              "                                    'n/a'} - `));\n",
              "    const percent = span('0% done');\n",
              "    li.appendChild(percent);\n",
              "\n",
              "    outputElement.appendChild(li);\n",
              "\n",
              "    const fileDataPromise = new Promise((resolve) => {\n",
              "      const reader = new FileReader();\n",
              "      reader.onload = (e) => {\n",
              "        resolve(e.target.result);\n",
              "      };\n",
              "      reader.readAsArrayBuffer(file);\n",
              "    });\n",
              "    // Wait for the data to be ready.\n",
              "    let fileData = yield {\n",
              "      promise: fileDataPromise,\n",
              "      response: {\n",
              "        action: 'continue',\n",
              "      }\n",
              "    };\n",
              "\n",
              "    // Use a chunked sending to avoid message size limits. See b/62115660.\n",
              "    let position = 0;\n",
              "    do {\n",
              "      const length = Math.min(fileData.byteLength - position, MAX_PAYLOAD_SIZE);\n",
              "      const chunk = new Uint8Array(fileData, position, length);\n",
              "      position += length;\n",
              "\n",
              "      const base64 = btoa(String.fromCharCode.apply(null, chunk));\n",
              "      yield {\n",
              "        response: {\n",
              "          action: 'append',\n",
              "          file: file.name,\n",
              "          data: base64,\n",
              "        },\n",
              "      };\n",
              "\n",
              "      let percentDone = fileData.byteLength === 0 ?\n",
              "          100 :\n",
              "          Math.round((position / fileData.byteLength) * 100);\n",
              "      percent.textContent = `${percentDone}% done`;\n",
              "\n",
              "    } while (position < fileData.byteLength);\n",
              "  }\n",
              "\n",
              "  // All done.\n",
              "  yield {\n",
              "    response: {\n",
              "      action: 'complete',\n",
              "    }\n",
              "  };\n",
              "}\n",
              "\n",
              "scope.google = scope.google || {};\n",
              "scope.google.colab = scope.google.colab || {};\n",
              "scope.google.colab._files = {\n",
              "  _uploadFiles,\n",
              "  _uploadFilesContinue,\n",
              "};\n",
              "})(self);\n",
              "</script> "
            ]
          },
          "metadata": {}
        },
        {
          "output_type": "stream",
          "name": "stdout",
          "text": [
            "Saving MAE.csv to MAE.csv\n"
          ]
        }
      ]
    },
    {
      "cell_type": "code",
      "execution_count": 7,
      "id": "2105093e-5661-4664-884b-2fe460811b74",
      "metadata": {
        "id": "2105093e-5661-4664-884b-2fe460811b74",
        "colab": {
          "base_uri": "https://localhost:8080/",
          "height": 269
        },
        "outputId": "b657242a-24d5-46dd-b9ea-ebc212c85ded"
      },
      "outputs": [
        {
          "output_type": "execute_result",
          "data": {
            "text/plain": [
              "                            R2\n",
              "Method                        \n",
              "Decision Tree         413.3159\n",
              "Linear Regression     638.9799\n",
              "M5Rules               382.0424\n",
              "REPTree               325.4744\n",
              "MultilayerPerceptron  421.3206\n",
              "GLM-MTS               210.8735"
            ],
            "text/html": [
              "\n",
              "  <div id=\"df-bd339e60-6fe8-4b07-a1ec-f5b9751604bb\">\n",
              "    <div class=\"colab-df-container\">\n",
              "      <div>\n",
              "<style scoped>\n",
              "    .dataframe tbody tr th:only-of-type {\n",
              "        vertical-align: middle;\n",
              "    }\n",
              "\n",
              "    .dataframe tbody tr th {\n",
              "        vertical-align: top;\n",
              "    }\n",
              "\n",
              "    .dataframe thead th {\n",
              "        text-align: right;\n",
              "    }\n",
              "</style>\n",
              "<table border=\"1\" class=\"dataframe\">\n",
              "  <thead>\n",
              "    <tr style=\"text-align: right;\">\n",
              "      <th></th>\n",
              "      <th>R2</th>\n",
              "    </tr>\n",
              "    <tr>\n",
              "      <th>Method</th>\n",
              "      <th></th>\n",
              "    </tr>\n",
              "  </thead>\n",
              "  <tbody>\n",
              "    <tr>\n",
              "      <th>Decision Tree</th>\n",
              "      <td>413.3159</td>\n",
              "    </tr>\n",
              "    <tr>\n",
              "      <th>Linear Regression</th>\n",
              "      <td>638.9799</td>\n",
              "    </tr>\n",
              "    <tr>\n",
              "      <th>M5Rules</th>\n",
              "      <td>382.0424</td>\n",
              "    </tr>\n",
              "    <tr>\n",
              "      <th>REPTree</th>\n",
              "      <td>325.4744</td>\n",
              "    </tr>\n",
              "    <tr>\n",
              "      <th>MultilayerPerceptron</th>\n",
              "      <td>421.3206</td>\n",
              "    </tr>\n",
              "    <tr>\n",
              "      <th>GLM-MTS</th>\n",
              "      <td>210.8735</td>\n",
              "    </tr>\n",
              "  </tbody>\n",
              "</table>\n",
              "</div>\n",
              "      <button class=\"colab-df-convert\" onclick=\"convertToInteractive('df-bd339e60-6fe8-4b07-a1ec-f5b9751604bb')\"\n",
              "              title=\"Convert this dataframe to an interactive table.\"\n",
              "              style=\"display:none;\">\n",
              "        \n",
              "  <svg xmlns=\"http://www.w3.org/2000/svg\" height=\"24px\"viewBox=\"0 0 24 24\"\n",
              "       width=\"24px\">\n",
              "    <path d=\"M0 0h24v24H0V0z\" fill=\"none\"/>\n",
              "    <path d=\"M18.56 5.44l.94 2.06.94-2.06 2.06-.94-2.06-.94-.94-2.06-.94 2.06-2.06.94zm-11 1L8.5 8.5l.94-2.06 2.06-.94-2.06-.94L8.5 2.5l-.94 2.06-2.06.94zm10 10l.94 2.06.94-2.06 2.06-.94-2.06-.94-.94-2.06-.94 2.06-2.06.94z\"/><path d=\"M17.41 7.96l-1.37-1.37c-.4-.4-.92-.59-1.43-.59-.52 0-1.04.2-1.43.59L10.3 9.45l-7.72 7.72c-.78.78-.78 2.05 0 2.83L4 21.41c.39.39.9.59 1.41.59.51 0 1.02-.2 1.41-.59l7.78-7.78 2.81-2.81c.8-.78.8-2.07 0-2.86zM5.41 20L4 18.59l7.72-7.72 1.47 1.35L5.41 20z\"/>\n",
              "  </svg>\n",
              "      </button>\n",
              "      \n",
              "  <style>\n",
              "    .colab-df-container {\n",
              "      display:flex;\n",
              "      flex-wrap:wrap;\n",
              "      gap: 12px;\n",
              "    }\n",
              "\n",
              "    .colab-df-convert {\n",
              "      background-color: #E8F0FE;\n",
              "      border: none;\n",
              "      border-radius: 50%;\n",
              "      cursor: pointer;\n",
              "      display: none;\n",
              "      fill: #1967D2;\n",
              "      height: 32px;\n",
              "      padding: 0 0 0 0;\n",
              "      width: 32px;\n",
              "    }\n",
              "\n",
              "    .colab-df-convert:hover {\n",
              "      background-color: #E2EBFA;\n",
              "      box-shadow: 0px 1px 2px rgba(60, 64, 67, 0.3), 0px 1px 3px 1px rgba(60, 64, 67, 0.15);\n",
              "      fill: #174EA6;\n",
              "    }\n",
              "\n",
              "    [theme=dark] .colab-df-convert {\n",
              "      background-color: #3B4455;\n",
              "      fill: #D2E3FC;\n",
              "    }\n",
              "\n",
              "    [theme=dark] .colab-df-convert:hover {\n",
              "      background-color: #434B5C;\n",
              "      box-shadow: 0px 1px 3px 1px rgba(0, 0, 0, 0.15);\n",
              "      filter: drop-shadow(0px 1px 2px rgba(0, 0, 0, 0.3));\n",
              "      fill: #FFFFFF;\n",
              "    }\n",
              "  </style>\n",
              "\n",
              "      <script>\n",
              "        const buttonEl =\n",
              "          document.querySelector('#df-bd339e60-6fe8-4b07-a1ec-f5b9751604bb button.colab-df-convert');\n",
              "        buttonEl.style.display =\n",
              "          google.colab.kernel.accessAllowed ? 'block' : 'none';\n",
              "\n",
              "        async function convertToInteractive(key) {\n",
              "          const element = document.querySelector('#df-bd339e60-6fe8-4b07-a1ec-f5b9751604bb');\n",
              "          const dataTable =\n",
              "            await google.colab.kernel.invokeFunction('convertToInteractive',\n",
              "                                                     [key], {});\n",
              "          if (!dataTable) return;\n",
              "\n",
              "          const docLinkHtml = 'Like what you see? Visit the ' +\n",
              "            '<a target=\"_blank\" href=https://colab.research.google.com/notebooks/data_table.ipynb>data table notebook</a>'\n",
              "            + ' to learn more about interactive tables.';\n",
              "          element.innerHTML = '';\n",
              "          dataTable['output_type'] = 'display_data';\n",
              "          await google.colab.output.renderOutput(dataTable, element);\n",
              "          const docLink = document.createElement('div');\n",
              "          docLink.innerHTML = docLinkHtml;\n",
              "          element.appendChild(docLink);\n",
              "        }\n",
              "      </script>\n",
              "    </div>\n",
              "  </div>\n",
              "  "
            ]
          },
          "metadata": {},
          "execution_count": 7
        }
      ],
      "source": [
        "import pandas as pd\n",
        "df=pd.read_csv('MAE.csv')\n",
        "df=df.set_index('Method')\n",
        "df"
      ]
    },
    {
      "cell_type": "code",
      "execution_count": 8,
      "id": "83cafcb4-4338-4eaf-a18f-f1feffd2bfd6",
      "metadata": {
        "id": "83cafcb4-4338-4eaf-a18f-f1feffd2bfd6",
        "colab": {
          "base_uri": "https://localhost:8080/",
          "height": 650
        },
        "outputId": "a7425050-4adf-44ea-ec85-9ed2de0e5dbf"
      },
      "outputs": [
        {
          "output_type": "display_data",
          "data": {
            "text/plain": [
              "<Figure size 1080x720 with 1 Axes>"
            ],
            "image/png": "[encoded data removed]"
          },
          "metadata": {
            "needs_background": "light"
          }
        }
      ],
      "source": [
        "import numpy as np\n",
        "import matplotlib.pyplot as plt\n",
        "\n",
        "#fig, ax = plt.subplots()\n",
        "#fig.set_size_inches(4,2)\n",
        "#fig, ax = plt.subplots()\n",
        "#df = pd.DataFrame({'contribution': [0.188137,0.160208,0.160208,0.151654,0.149489,0.135975,0.063206]}\n",
        " #                 ,index=['A','B','C','D','E','F','G'])\n",
        "\n",
        "colors = ['b', 'green', 'y', 'pink','orange','cyan','darkgrey']\n",
        "\n",
        "\n",
        "#y_pos=np.arange(len(objects))\n",
        "#ax=ax.barh(y_pos,R2,align='center',alpha=1,color=colors)\n",
        "ax = df.plot(figsize=(15,10),kind='barh', color=colors, legend=False)\n",
        "\n",
        "for bar in ax.patches:\n",
        "    bar.set_facecolor('blue')\n",
        "\n",
        "#highlight = 'Lei et al. (2016)'\n",
        "#pos = df.index.get_loc(highlight)\n",
        "#ax.patches[pos].set_facecolor('orangered')\n",
        "#ax.legend()\n",
        "\n",
        "#highlight1 = 'IQ (15) [7]'\n",
        "#pos1 = df.index.get_loc(highlight1)\n",
        "#ax.patches[pos1].set_facecolor('plum')\n",
        "\n",
        "\n",
        "#highlight2 = 'Subhash, 2011'\n",
        "#pos2 = df.index.get_loc(highlight2)\n",
        "#ax.patches[pos2].set_facecolor('orangered')\n",
        "\n",
        "ax.set_xlabel('Root mean squared error $RMSE$',fontsize=24) \n",
        "ax.set_ylabel('Method', fontsize=24) \n",
        "\n",
        "plt.title('Model Comparison',fontsize=16)\n",
        "\n",
        "plt.yticks(fontsize=20)\n",
        "plt.xticks(fontsize=20)\n",
        "\n",
        "plt.show()\n",
        "#plt.savefig(\"modelcomparison2.png\",dpi=600)\n",
        "#plt.close()"
      ]
    },
    {
      "cell_type": "code",
      "source": [
        "from google.colab import files \n",
        "  \n",
        "  \n",
        "uploaded = files.upload()"
      ],
      "metadata": {
        "colab": {
          "base_uri": "https://localhost:8080/",
          "height": 73
        },
        "id": "nxNFQ1BiN3Hc",
        "outputId": "d7e818d7-1af3-4246-dc87-7f3d7388fb93"
      },
      "id": "nxNFQ1BiN3Hc",
      "execution_count": 10,
      "outputs": [
        {
          "output_type": "display_data",
          "data": {
            "text/plain": [
              "<IPython.core.display.HTML object>"
            ],
            "text/html": [
              "\n",
              "     <input type=\"file\" id=\"files-99ab85f6-c939-48c3-87a4-1ba6207d56fe\" name=\"files[]\" multiple disabled\n",
              "        style=\"border:none\" />\n",
              "     <output id=\"result-99ab85f6-c939-48c3-87a4-1ba6207d56fe\">\n",
              "      Upload widget is only available when the cell has been executed in the\n",
              "      current browser session. Please rerun this cell to enable.\n",
              "      </output>\n",
              "      <script>// Copyright 2017 Google LLC\n",
              "//\n",
              "// Licensed under the Apache License, Version 2.0 (the \"License\");\n",
              "// you may not use this file except in compliance with the License.\n",
              "// You may obtain a copy of the License at\n",
              "//\n",
              "//      http://www.apache.org/licenses/LICENSE-2.0\n",
              "//\n",
              "// Unless required by applicable law or agreed to in writing, software\n",
              "// distributed under the License is distributed on an \"AS IS\" BASIS,\n",
              "// WITHOUT WARRANTIES OR CONDITIONS OF ANY KIND, either express or implied.\n",
              "// See the License for the specific language governing permissions and\n",
              "// limitations under the License.\n",
              "\n",
              "/**\n",
              " * @fileoverview Helpers for google.colab Python module.\n",
              " */\n",
              "(function(scope) {\n",
              "function span(text, styleAttributes = {}) {\n",
              "  const element = document.createElement('span');\n",
              "  element.textContent = text;\n",
              "  for (const key of Object.keys(styleAttributes)) {\n",
              "    element.style[key] = styleAttributes[key];\n",
              "  }\n",
              "  return element;\n",
              "}\n",
              "\n",
              "// Max number of bytes which will be uploaded at a time.\n",
              "const MAX_PAYLOAD_SIZE = 100 * 1024;\n",
              "\n",
              "function _uploadFiles(inputId, outputId) {\n",
              "  const steps = uploadFilesStep(inputId, outputId);\n",
              "  const outputElement = document.getElementById(outputId);\n",
              "  // Cache steps on the outputElement to make it available for the next call\n",
              "  // to uploadFilesContinue from Python.\n",
              "  outputElement.steps = steps;\n",
              "\n",
              "  return _uploadFilesContinue(outputId);\n",
              "}\n",
              "\n",
              "// This is roughly an async generator (not supported in the browser yet),\n",
              "// where there are multiple asynchronous steps and the Python side is going\n",
              "// to poll for completion of each step.\n",
              "// This uses a Promise to block the python side on completion of each step,\n",
              "// then passes the result of the previous step as the input to the next step.\n",
              "function _uploadFilesContinue(outputId) {\n",
              "  const outputElement = document.getElementById(outputId);\n",
              "  const steps = outputElement.steps;\n",
              "\n",
              "  const next = steps.next(outputElement.lastPromiseValue);\n",
              "  return Promise.resolve(next.value.promise).then((value) => {\n",
              "    // Cache the last promise value to make it available to the next\n",
              "    // step of the generator.\n",
              "    outputElement.lastPromiseValue = value;\n",
              "    return next.value.response;\n",
              "  });\n",
              "}\n",
              "\n",
              "/**\n",
              " * Generator function which is called between each async step of the upload\n",
              " * process.\n",
              " * @param {string} inputId Element ID of the input file picker element.\n",
              " * @param {string} outputId Element ID of the output display.\n",
              " * @return {!Iterable<!Object>} Iterable of next steps.\n",
              " */\n",
              "function* uploadFilesStep(inputId, outputId) {\n",
              "  const inputElement = document.getElementById(inputId);\n",
              "  inputElement.disabled = false;\n",
              "\n",
              "  const outputElement = document.getElementById(outputId);\n",
              "  outputElement.innerHTML = '';\n",
              "\n",
              "  const pickedPromise = new Promise((resolve) => {\n",
              "    inputElement.addEventListener('change', (e) => {\n",
              "      resolve(e.target.files);\n",
              "    });\n",
              "  });\n",
              "\n",
              "  const cancel = document.createElement('button');\n",
              "  inputElement.parentElement.appendChild(cancel);\n",
              "  cancel.textContent = 'Cancel upload';\n",
              "  const cancelPromise = new Promise((resolve) => {\n",
              "    cancel.onclick = () => {\n",
              "      resolve(null);\n",
              "    };\n",
              "  });\n",
              "\n",
              "  // Wait for the user to pick the files.\n",
              "  const files = yield {\n",
              "    promise: Promise.race([pickedPromise, cancelPromise]),\n",
              "    response: {\n",
              "      action: 'starting',\n",
              "    }\n",
              "  };\n",
              "\n",
              "  cancel.remove();\n",
              "\n",
              "  // Disable the input element since further picks are not allowed.\n",
              "  inputElement.disabled = true;\n",
              "\n",
              "  if (!files) {\n",
              "    return {\n",
              "      response: {\n",
              "        action: 'complete',\n",
              "      }\n",
              "    };\n",
              "  }\n",
              "\n",
              "  for (const file of files) {\n",
              "    const li = document.createElement('li');\n",
              "    li.append(span(file.name, {fontWeight: 'bold'}));\n",
              "    li.append(span(\n",
              "        `(${file.type || 'n/a'}) - ${file.size} bytes, ` +\n",
              "        `last modified: ${\n",
              "            file.lastModifiedDate ? file.lastModifiedDate.toLocaleDateString() :\n",
              "                                    'n/a'} - `));\n",
              "    const percent = span('0% done');\n",
              "    li.appendChild(percent);\n",
              "\n",
              "    outputElement.appendChild(li);\n",
              "\n",
              "    const fileDataPromise = new Promise((resolve) => {\n",
              "      const reader = new FileReader();\n",
              "      reader.onload = (e) => {\n",
              "        resolve(e.target.result);\n",
              "      };\n",
              "      reader.readAsArrayBuffer(file);\n",
              "    });\n",
              "    // Wait for the data to be ready.\n",
              "    let fileData = yield {\n",
              "      promise: fileDataPromise,\n",
              "      response: {\n",
              "        action: 'continue',\n",
              "      }\n",
              "    };\n",
              "\n",
              "    // Use a chunked sending to avoid message size limits. See b/62115660.\n",
              "    let position = 0;\n",
              "    do {\n",
              "      const length = Math.min(fileData.byteLength - position, MAX_PAYLOAD_SIZE);\n",
              "      const chunk = new Uint8Array(fileData, position, length);\n",
              "      position += length;\n",
              "\n",
              "      const base64 = btoa(String.fromCharCode.apply(null, chunk));\n",
              "      yield {\n",
              "        response: {\n",
              "          action: 'append',\n",
              "          file: file.name,\n",
              "          data: base64,\n",
              "        },\n",
              "      };\n",
              "\n",
              "      let percentDone = fileData.byteLength === 0 ?\n",
              "          100 :\n",
              "          Math.round((position / fileData.byteLength) * 100);\n",
              "      percent.textContent = `${percentDone}% done`;\n",
              "\n",
              "    } while (position < fileData.byteLength);\n",
              "  }\n",
              "\n",
              "  // All done.\n",
              "  yield {\n",
              "    response: {\n",
              "      action: 'complete',\n",
              "    }\n",
              "  };\n",
              "}\n",
              "\n",
              "scope.google = scope.google || {};\n",
              "scope.google.colab = scope.google.colab || {};\n",
              "scope.google.colab._files = {\n",
              "  _uploadFiles,\n",
              "  _uploadFilesContinue,\n",
              "};\n",
              "})(self);\n",
              "</script> "
            ]
          },
          "metadata": {}
        },
        {
          "output_type": "stream",
          "name": "stdout",
          "text": [
            "Saving MARTINEZLOPEZ_10242022.csv to MARTINEZLOPEZ_10242022.csv\n"
          ]
        }
      ]
    },
    {
      "cell_type": "code",
      "source": [
        "import pandas as pd\n",
        "df=pd.read_csv('MARTINEZLOPEZ_10242022.csv')\n",
        "#df=df.set_index('Time')\n",
        "df"
      ],
      "metadata": {
        "colab": {
          "base_uri": "https://localhost:8080/",
          "height": 423
        },
        "id": "lTHWagH9N8o7",
        "outputId": "9fddf164-c374-4ee1-d33b-4eaa5a331355"
      },
      "id": "lTHWagH9N8o7",
      "execution_count": 19,
      "outputs": [
        {
          "output_type": "execute_result",
          "data": {
            "text/plain": [
              "     Time  Solar Generation Forecast\n",
              "0       0                   0.000000\n",
              "1       1                   0.000000\n",
              "2       2                   0.000000\n",
              "3       3                   0.000000\n",
              "4       4                   0.000000\n",
              "..    ...                        ...\n",
              "163    19                 314.569833\n",
              "164    20                  74.364731\n",
              "165    21                   0.000000\n",
              "166    22                   0.000000\n",
              "167    23                   0.000000\n",
              "\n",
              "[168 rows x 2 columns]"
            ],
            "text/html": [
              "\n",
              "  <div id=\"df-3f6af9ab-f018-4e1e-a4e8-94619e458371\">\n",
              "    <div class=\"colab-df-container\">\n",
              "      <div>\n",
              "<style scoped>\n",
              "    .dataframe tbody tr th:only-of-type {\n",
              "        vertical-align: middle;\n",
              "    }\n",
              "\n",
              "    .dataframe tbody tr th {\n",
              "        vertical-align: top;\n",
              "    }\n",
              "\n",
              "    .dataframe thead th {\n",
              "        text-align: right;\n",
              "    }\n",
              "</style>\n",
              "<table border=\"1\" class=\"dataframe\">\n",
              "  <thead>\n",
              "    <tr style=\"text-align: right;\">\n",
              "      <th></th>\n",
              "      <th>Time</th>\n",
              "      <th>Solar Generation Forecast</th>\n",
              "    </tr>\n",
              "  </thead>\n",
              "  <tbody>\n",
              "    <tr>\n",
              "      <th>0</th>\n",
              "      <td>0</td>\n",
              "      <td>0.000000</td>\n",
              "    </tr>\n",
              "    <tr>\n",
              "      <th>1</th>\n",
              "      <td>1</td>\n",
              "      <td>0.000000</td>\n",
              "    </tr>\n",
              "    <tr>\n",
              "      <th>2</th>\n",
              "      <td>2</td>\n",
              "      <td>0.000000</td>\n",
              "    </tr>\n",
              "    <tr>\n",
              "      <th>3</th>\n",
              "      <td>3</td>\n",
              "      <td>0.000000</td>\n",
              "    </tr>\n",
              "    <tr>\n",
              "      <th>4</th>\n",
              "      <td>4</td>\n",
              "      <td>0.000000</td>\n",
              "    </tr>\n",
              "    <tr>\n",
              "      <th>...</th>\n",
              "      <td>...</td>\n",
              "      <td>...</td>\n",
              "    </tr>\n",
              "    <tr>\n",
              "      <th>163</th>\n",
              "      <td>19</td>\n",
              "      <td>314.569833</td>\n",
              "    </tr>\n",
              "    <tr>\n",
              "      <th>164</th>\n",
              "      <td>20</td>\n",
              "      <td>74.364731</td>\n",
              "    </tr>\n",
              "    <tr>\n",
              "      <th>165</th>\n",
              "      <td>21</td>\n",
              "      <td>0.000000</td>\n",
              "    </tr>\n",
              "    <tr>\n",
              "      <th>166</th>\n",
              "      <td>22</td>\n",
              "      <td>0.000000</td>\n",
              "    </tr>\n",
              "    <tr>\n",
              "      <th>167</th>\n",
              "      <td>23</td>\n",
              "      <td>0.000000</td>\n",
              "    </tr>\n",
              "  </tbody>\n",
              "</table>\n",
              "<p>168 rows × 2 columns</p>\n",
              "</div>\n",
              "      <button class=\"colab-df-convert\" onclick=\"convertToInteractive('df-3f6af9ab-f018-4e1e-a4e8-94619e458371')\"\n",
              "              title=\"Convert this dataframe to an interactive table.\"\n",
              "              style=\"display:none;\">\n",
              "        \n",
              "  <svg xmlns=\"http://www.w3.org/2000/svg\" height=\"24px\"viewBox=\"0 0 24 24\"\n",
              "       width=\"24px\">\n",
              "    <path d=\"M0 0h24v24H0V0z\" fill=\"none\"/>\n",
              "    <path d=\"M18.56 5.44l.94 2.06.94-2.06 2.06-.94-2.06-.94-.94-2.06-.94 2.06-2.06.94zm-11 1L8.5 8.5l.94-2.06 2.06-.94-2.06-.94L8.5 2.5l-.94 2.06-2.06.94zm10 10l.94 2.06.94-2.06 2.06-.94-2.06-.94-.94-2.06-.94 2.06-2.06.94z\"/><path d=\"M17.41 7.96l-1.37-1.37c-.4-.4-.92-.59-1.43-.59-.52 0-1.04.2-1.43.59L10.3 9.45l-7.72 7.72c-.78.78-.78 2.05 0 2.83L4 21.41c.39.39.9.59 1.41.59.51 0 1.02-.2 1.41-.59l7.78-7.78 2.81-2.81c.8-.78.8-2.07 0-2.86zM5.41 20L4 18.59l7.72-7.72 1.47 1.35L5.41 20z\"/>\n",
              "  </svg>\n",
              "      </button>\n",
              "      \n",
              "  <style>\n",
              "    .colab-df-container {\n",
              "      display:flex;\n",
              "      flex-wrap:wrap;\n",
              "      gap: 12px;\n",
              "    }\n",
              "\n",
              "    .colab-df-convert {\n",
              "      background-color: #E8F0FE;\n",
              "      border: none;\n",
              "      border-radius: 50%;\n",
              "      cursor: pointer;\n",
              "      display: none;\n",
              "      fill: #1967D2;\n",
              "      height: 32px;\n",
              "      padding: 0 0 0 0;\n",
              "      width: 32px;\n",
              "    }\n",
              "\n",
              "    .colab-df-convert:hover {\n",
              "      background-color: #E2EBFA;\n",
              "      box-shadow: 0px 1px 2px rgba(60, 64, 67, 0.3), 0px 1px 3px 1px rgba(60, 64, 67, 0.15);\n",
              "      fill: #174EA6;\n",
              "    }\n",
              "\n",
              "    [theme=dark] .colab-df-convert {\n",
              "      background-color: #3B4455;\n",
              "      fill: #D2E3FC;\n",
              "    }\n",
              "\n",
              "    [theme=dark] .colab-df-convert:hover {\n",
              "      background-color: #434B5C;\n",
              "      box-shadow: 0px 1px 3px 1px rgba(0, 0, 0, 0.15);\n",
              "      filter: drop-shadow(0px 1px 2px rgba(0, 0, 0, 0.3));\n",
              "      fill: #FFFFFF;\n",
              "    }\n",
              "  </style>\n",
              "\n",
              "      <script>\n",
              "        const buttonEl =\n",
              "          document.querySelector('#df-3f6af9ab-f018-4e1e-a4e8-94619e458371 button.colab-df-convert');\n",
              "        buttonEl.style.display =\n",
              "          google.colab.kernel.accessAllowed ? 'block' : 'none';\n",
              "\n",
              "        async function convertToInteractive(key) {\n",
              "          const element = document.querySelector('#df-3f6af9ab-f018-4e1e-a4e8-94619e458371');\n",
              "          const dataTable =\n",
              "            await google.colab.kernel.invokeFunction('convertToInteractive',\n",
              "                                                     [key], {});\n",
              "          if (!dataTable) return;\n",
              "\n",
              "          const docLinkHtml = 'Like what you see? Visit the ' +\n",
              "            '<a target=\"_blank\" href=https://colab.research.google.com/notebooks/data_table.ipynb>data table notebook</a>'\n",
              "            + ' to learn more about interactive tables.';\n",
              "          element.innerHTML = '';\n",
              "          dataTable['output_type'] = 'display_data';\n",
              "          await google.colab.output.renderOutput(dataTable, element);\n",
              "          const docLink = document.createElement('div');\n",
              "          docLink.innerHTML = docLinkHtml;\n",
              "          element.appendChild(docLink);\n",
              "        }\n",
              "      </script>\n",
              "    </div>\n",
              "  </div>\n",
              "  "
            ]
          },
          "metadata": {},
          "execution_count": 19
        }
      ]
    },
    {
      "cell_type": "code",
      "source": [
        "plt.plot(df['Solar Generation Forecast'])\n",
        "plt.ylabel(\"Solar Generation Forecast\",fontsize=20)\n",
        "plt.xlabel(\"Time(Hours)\",fontsize=20)\n",
        "plt.legend(['PV'])\n",
        "plt.show()\n",
        "\n",
        "\n"
      ],
      "metadata": {
        "colab": {
          "base_uri": "https://localhost:8080/",
          "height": 310
        },
        "id": "yKAjVWlFOHVO",
        "outputId": "0465ed4c-deac-452c-b8c4-a879a22af28f"
      },
      "id": "yKAjVWlFOHVO",
      "execution_count": 21,
      "outputs": [
        {
          "output_type": "display_data",
          "data": {
            "text/plain": [
              "<Figure size 432x288 with 1 Axes>"
            ],
            "image/png": "[encoded data removed]"
          },
          "metadata": {
            "needs_background": "light"
          }
        }
      ]
    },
    {
      "cell_type": "code",
      "execution_count": null,
      "id": "69c7d4d6-5d19-4bf6-bfe1-db0fb5bf8f46",
      "metadata": {
        "id": "69c7d4d6-5d19-4bf6-bfe1-db0fb5bf8f46",
        "outputId": "aafaf2ab-e34c-46aa-a0af-4508ecdb4a94"
      },
      "outputs": [
        {
          "name": "stdout",
          "output_type": "stream",
          "text": [
            "D:\\Dropbox\\Gerardo\\29_Proteasome08032014\\00000YoanPaper\n"
          ]
        }
      ],
      "source": [
        "cd D:\\Dropbox\\Gerardo\\29_Proteasome08032014\\00000YoanPaper"
      ]
    },
    {
      "cell_type": "code",
      "execution_count": null,
      "id": "fff7275f-7ac0-4fe4-a5da-04468d2db925",
      "metadata": {
        "id": "fff7275f-7ac0-4fe4-a5da-04468d2db925",
        "outputId": "5463af0a-37c7-40c0-881f-1e456ef34e35"
      },
      "outputs": [
        {
          "name": "stdout",
          "output_type": "stream",
          "text": [
            " Volume in drive D is Windows\n",
            " Volume Serial Number is 66A4-ACD1\n",
            "\n",
            " Directory of D:\\Dropbox\\Gerardo\\29_Proteasome08032014\\00000YoanPaper\n",
            "\n",
            "10/22/2022  12:33 PM    <DIR>          .\n",
            "10/22/2022  12:33 PM    <DIR>          ..\n",
            "07/09/2022  03:39 PM           561,568 Exploring Proteasome Inhibition using Atomic Weighted Vector and Machine and Deep Learning.docx\n",
            "07/09/2022  03:52 PM               807 feature_importance.csv\n",
            "07/09/2022  05:00 PM               790 feature_importanceT.csv\n",
            "07/09/2022  07:20 PM               238 modelcomparison.csv\n",
            "07/09/2022  03:49 PM             9,662 modelcomparison.xlsx\n",
            "10/22/2022  12:33 PM               214 modelcomparison2.csv\n",
            "07/09/2022  03:51 PM             6,187 New Microsoft Excel Worksheet.xlsx\n",
            "07/09/2022  03:37 PM            16,220 prediction-result-general.xlsx\n",
            "07/09/2022  03:38 PM         1,598,079 SI-Proteasoma.zip\n",
            "10/22/2022  12:26 PM            95,263 Yoan_automL_proteasome.ipynb\n",
            "              10 File(s)      2,289,028 bytes\n",
            "               2 Dir(s)  447,972,417,536 bytes free\n"
          ]
        }
      ],
      "source": [
        "ls"
      ]
    },
    {
      "cell_type": "code",
      "execution_count": null,
      "id": "30192cbe-f3ab-4777-96a7-9517ab20a67d",
      "metadata": {
        "id": "30192cbe-f3ab-4777-96a7-9517ab20a67d"
      },
      "outputs": [],
      "source": []
    },
    {
      "cell_type": "code",
      "execution_count": null,
      "id": "42e6ac1d-8138-412a-8714-386c61e823ff",
      "metadata": {
        "id": "42e6ac1d-8138-412a-8714-386c61e823ff"
      },
      "outputs": [],
      "source": [
        "import numpy as np"
      ]
    },
    {
      "cell_type": "code",
      "execution_count": null,
      "id": "a77e968c-4564-4c04-88d2-b8c49cd38858",
      "metadata": {
        "id": "a77e968c-4564-4c04-88d2-b8c49cd38858"
      },
      "outputs": [],
      "source": []
    },
    {
      "cell_type": "code",
      "execution_count": null,
      "id": "6aa1c809-5942-42e8-9f25-f9aa68e8ce13",
      "metadata": {
        "id": "6aa1c809-5942-42e8-9f25-f9aa68e8ce13"
      },
      "outputs": [],
      "source": [
        "with open('dark_logo.npy','wb') as f:\n",
        "    np.save(f, dark_logo_array)"
      ]
    },
    {
      "cell_type": "code",
      "execution_count": null,
      "id": "fdbc739c-1f48-4825-a4e8-891b99030f94",
      "metadata": {
        "id": "fdbc739c-1f48-4825-a4e8-891b99030f94"
      },
      "outputs": [],
      "source": []
    },
    {
      "cell_type": "code",
      "execution_count": null,
      "id": "64bb5dcf-0749-4db4-8ccf-3da0a77dd4e2",
      "metadata": {
        "id": "64bb5dcf-0749-4db4-8ccf-3da0a77dd4e2"
      },
      "outputs": [],
      "source": [
        "dark_logo_array=[1,2,3,4]"
      ]
    },
    {
      "cell_type": "code",
      "execution_count": null,
      "id": "48880776-c9f5-4e18-a6fe-2590aa71d43a",
      "metadata": {
        "id": "48880776-c9f5-4e18-a6fe-2590aa71d43a",
        "outputId": "d85aef21-2678-4667-f8a1-dc1854d49b7c"
      },
      "outputs": [
        {
          "data": {
            "text/plain": [
              "[1, 2, 3, 4]"
            ]
          },
          "execution_count": 14,
          "metadata": {},
          "output_type": "execute_result"
        }
      ],
      "source": [
        "dark_logo_array"
      ]
    },
    {
      "cell_type": "code",
      "execution_count": null,
      "id": "7a639c94-a61d-4d83-89fb-c6012f227c1e",
      "metadata": {
        "id": "7a639c94-a61d-4d83-89fb-c6012f227c1e"
      },
      "outputs": [],
      "source": [
        "with open ('dark_logo.npy','rb') as f:\n",
        "    logo_rgb_array=np.load(f)"
      ]
    },
    {
      "cell_type": "code",
      "execution_count": null,
      "id": "ad2f1cb6-03f9-4ee2-8d25-b5d137631624",
      "metadata": {
        "id": "ad2f1cb6-03f9-4ee2-8d25-b5d137631624",
        "outputId": "aaf3a95f-5bac-4a0c-8ddf-39602496ab0a"
      },
      "outputs": [
        {
          "data": {
            "text/plain": [
              "array([1, 2, 3, 4])"
            ]
          },
          "execution_count": 17,
          "metadata": {},
          "output_type": "execute_result"
        }
      ],
      "source": [
        "logo_rgb_array"
      ]
    },
    {
      "cell_type": "code",
      "execution_count": null,
      "id": "92d01122-1607-47df-8af4-9d9022062b0e",
      "metadata": {
        "id": "92d01122-1607-47df-8af4-9d9022062b0e"
      },
      "outputs": [],
      "source": [
        "flipped=np.flip(logo_rgb_array)"
      ]
    },
    {
      "cell_type": "code",
      "execution_count": null,
      "id": "fd2bacc0-d915-42e5-8455-b51b517ff5d0",
      "metadata": {
        "id": "fd2bacc0-d915-42e5-8455-b51b517ff5d0",
        "outputId": "f60ea133-0655-4cb5-ef78-497304c07778"
      },
      "outputs": [
        {
          "data": {
            "text/plain": [
              "array([4, 3, 2, 1])"
            ]
          },
          "execution_count": 19,
          "metadata": {},
          "output_type": "execute_result"
        }
      ],
      "source": [
        "flipped"
      ]
    },
    {
      "cell_type": "code",
      "execution_count": null,
      "id": "a9968520-810b-4015-bc88-6ab752b8f66e",
      "metadata": {
        "colab": {
          "base_uri": "https://localhost:8080/",
          "height": 74
        },
        "id": "a9968520-810b-4015-bc88-6ab752b8f66e",
        "outputId": "b49252e2-4803-449f-c143-79171d3b8ad4"
      },
      "outputs": [
        {
          "output_type": "display_data",
          "data": {
            "text/plain": [
              "<IPython.core.display.HTML object>"
            ],
            "text/html": [
              "\n",
              "     <input type=\"file\" id=\"files-1d171c50-52fd-49cd-a02a-4ffe9b2b0b35\" name=\"files[]\" multiple disabled\n",
              "        style=\"border:none\" />\n",
              "     <output id=\"result-1d171c50-52fd-49cd-a02a-4ffe9b2b0b35\">\n",
              "      Upload widget is only available when the cell has been executed in the\n",
              "      current browser session. Please rerun this cell to enable.\n",
              "      </output>\n",
              "      <script>// Copyright 2017 Google LLC\n",
              "//\n",
              "// Licensed under the Apache License, Version 2.0 (the \"License\");\n",
              "// you may not use this file except in compliance with the License.\n",
              "// You may obtain a copy of the License at\n",
              "//\n",
              "//      http://www.apache.org/licenses/LICENSE-2.0\n",
              "//\n",
              "// Unless required by applicable law or agreed to in writing, software\n",
              "// distributed under the License is distributed on an \"AS IS\" BASIS,\n",
              "// WITHOUT WARRANTIES OR CONDITIONS OF ANY KIND, either express or implied.\n",
              "// See the License for the specific language governing permissions and\n",
              "// limitations under the License.\n",
              "\n",
              "/**\n",
              " * @fileoverview Helpers for google.colab Python module.\n",
              " */\n",
              "(function(scope) {\n",
              "function span(text, styleAttributes = {}) {\n",
              "  const element = document.createElement('span');\n",
              "  element.textContent = text;\n",
              "  for (const key of Object.keys(styleAttributes)) {\n",
              "    element.style[key] = styleAttributes[key];\n",
              "  }\n",
              "  return element;\n",
              "}\n",
              "\n",
              "// Max number of bytes which will be uploaded at a time.\n",
              "const MAX_PAYLOAD_SIZE = 100 * 1024;\n",
              "\n",
              "function _uploadFiles(inputId, outputId) {\n",
              "  const steps = uploadFilesStep(inputId, outputId);\n",
              "  const outputElement = document.getElementById(outputId);\n",
              "  // Cache steps on the outputElement to make it available for the next call\n",
              "  // to uploadFilesContinue from Python.\n",
              "  outputElement.steps = steps;\n",
              "\n",
              "  return _uploadFilesContinue(outputId);\n",
              "}\n",
              "\n",
              "// This is roughly an async generator (not supported in the browser yet),\n",
              "// where there are multiple asynchronous steps and the Python side is going\n",
              "// to poll for completion of each step.\n",
              "// This uses a Promise to block the python side on completion of each step,\n",
              "// then passes the result of the previous step as the input to the next step.\n",
              "function _uploadFilesContinue(outputId) {\n",
              "  const outputElement = document.getElementById(outputId);\n",
              "  const steps = outputElement.steps;\n",
              "\n",
              "  const next = steps.next(outputElement.lastPromiseValue);\n",
              "  return Promise.resolve(next.value.promise).then((value) => {\n",
              "    // Cache the last promise value to make it available to the next\n",
              "    // step of the generator.\n",
              "    outputElement.lastPromiseValue = value;\n",
              "    return next.value.response;\n",
              "  });\n",
              "}\n",
              "\n",
              "/**\n",
              " * Generator function which is called between each async step of the upload\n",
              " * process.\n",
              " * @param {string} inputId Element ID of the input file picker element.\n",
              " * @param {string} outputId Element ID of the output display.\n",
              " * @return {!Iterable<!Object>} Iterable of next steps.\n",
              " */\n",
              "function* uploadFilesStep(inputId, outputId) {\n",
              "  const inputElement = document.getElementById(inputId);\n",
              "  inputElement.disabled = false;\n",
              "\n",
              "  const outputElement = document.getElementById(outputId);\n",
              "  outputElement.innerHTML = '';\n",
              "\n",
              "  const pickedPromise = new Promise((resolve) => {\n",
              "    inputElement.addEventListener('change', (e) => {\n",
              "      resolve(e.target.files);\n",
              "    });\n",
              "  });\n",
              "\n",
              "  const cancel = document.createElement('button');\n",
              "  inputElement.parentElement.appendChild(cancel);\n",
              "  cancel.textContent = 'Cancel upload';\n",
              "  const cancelPromise = new Promise((resolve) => {\n",
              "    cancel.onclick = () => {\n",
              "      resolve(null);\n",
              "    };\n",
              "  });\n",
              "\n",
              "  // Wait for the user to pick the files.\n",
              "  const files = yield {\n",
              "    promise: Promise.race([pickedPromise, cancelPromise]),\n",
              "    response: {\n",
              "      action: 'starting',\n",
              "    }\n",
              "  };\n",
              "\n",
              "  cancel.remove();\n",
              "\n",
              "  // Disable the input element since further picks are not allowed.\n",
              "  inputElement.disabled = true;\n",
              "\n",
              "  if (!files) {\n",
              "    return {\n",
              "      response: {\n",
              "        action: 'complete',\n",
              "      }\n",
              "    };\n",
              "  }\n",
              "\n",
              "  for (const file of files) {\n",
              "    const li = document.createElement('li');\n",
              "    li.append(span(file.name, {fontWeight: 'bold'}));\n",
              "    li.append(span(\n",
              "        `(${file.type || 'n/a'}) - ${file.size} bytes, ` +\n",
              "        `last modified: ${\n",
              "            file.lastModifiedDate ? file.lastModifiedDate.toLocaleDateString() :\n",
              "                                    'n/a'} - `));\n",
              "    const percent = span('0% done');\n",
              "    li.appendChild(percent);\n",
              "\n",
              "    outputElement.appendChild(li);\n",
              "\n",
              "    const fileDataPromise = new Promise((resolve) => {\n",
              "      const reader = new FileReader();\n",
              "      reader.onload = (e) => {\n",
              "        resolve(e.target.result);\n",
              "      };\n",
              "      reader.readAsArrayBuffer(file);\n",
              "    });\n",
              "    // Wait for the data to be ready.\n",
              "    let fileData = yield {\n",
              "      promise: fileDataPromise,\n",
              "      response: {\n",
              "        action: 'continue',\n",
              "      }\n",
              "    };\n",
              "\n",
              "    // Use a chunked sending to avoid message size limits. See b/62115660.\n",
              "    let position = 0;\n",
              "    do {\n",
              "      const length = Math.min(fileData.byteLength - position, MAX_PAYLOAD_SIZE);\n",
              "      const chunk = new Uint8Array(fileData, position, length);\n",
              "      position += length;\n",
              "\n",
              "      const base64 = btoa(String.fromCharCode.apply(null, chunk));\n",
              "      yield {\n",
              "        response: {\n",
              "          action: 'append',\n",
              "          file: file.name,\n",
              "          data: base64,\n",
              "        },\n",
              "      };\n",
              "\n",
              "      let percentDone = fileData.byteLength === 0 ?\n",
              "          100 :\n",
              "          Math.round((position / fileData.byteLength) * 100);\n",
              "      percent.textContent = `${percentDone}% done`;\n",
              "\n",
              "    } while (position < fileData.byteLength);\n",
              "  }\n",
              "\n",
              "  // All done.\n",
              "  yield {\n",
              "    response: {\n",
              "      action: 'complete',\n",
              "    }\n",
              "  };\n",
              "}\n",
              "\n",
              "scope.google = scope.google || {};\n",
              "scope.google.colab = scope.google.colab || {};\n",
              "scope.google.colab._files = {\n",
              "  _uploadFiles,\n",
              "  _uploadFilesContinue,\n",
              "};\n",
              "})(self);\n",
              "</script> "
            ]
          },
          "metadata": {}
        },
        {
          "output_type": "stream",
          "name": "stdout",
          "text": [
            "Saving BBB-ML.csv to BBB-ML.csv\n"
          ]
        }
      ],
      "source": [
        "from google.colab import files \n",
        "  \n",
        "  \n",
        "uploaded = files.upload()\n"
      ]
    },
    {
      "cell_type": "code",
      "execution_count": null,
      "id": "a978943a-15a7-47f8-8fc4-3a4631c41d1a",
      "metadata": {
        "id": "a978943a-15a7-47f8-8fc4-3a4631c41d1a"
      },
      "outputs": [],
      "source": [
        "import pandas as pd\n",
        "df=pd.read_csv('BBB-ML.csv')"
      ]
    },
    {
      "cell_type": "code",
      "source": [
        "df=df.set_index('ML Method')"
      ],
      "metadata": {
        "id": "5IXDnLjZOli7"
      },
      "id": "5IXDnLjZOli7",
      "execution_count": null,
      "outputs": []
    },
    {
      "cell_type": "code",
      "source": [
        "df"
      ],
      "metadata": {
        "colab": {
          "base_uri": "https://localhost:8080/",
          "height": 551
        },
        "id": "gtcfEpSPMQee",
        "outputId": "04067744-59c6-418b-97dd-8e025616ba54"
      },
      "id": "gtcfEpSPMQee",
      "execution_count": null,
      "outputs": [
        {
          "output_type": "execute_result",
          "data": {
            "text/plain": [
              "                    Accurac(ACC)\n",
              "ML Method                       \n",
              "Naive Bayes - AWV       0.660871\n",
              "NNET - AWV              0.767113\n",
              "AVNNET- AWV             0.768841\n",
              "KNN- AWV                0.712073\n",
              "KKNN- AWV               0.727122\n",
              "Earth- AWV              0.716820\n",
              "SVML- AWV               0.761089\n",
              "SVMR- AWV               0.738731\n",
              "SVMP- AWV               0.757227\n",
              "Random Forest- AWV      0.776791\n",
              "Ranger- AWV             0.764931\n",
              "GBM- AWV                0.784087\n",
              "RPART- AWV              0.681963\n",
              "C50tree- AWV            0.669053\n",
              "c5- AWV                 0.748433"
            ],
            "text/html": [
              "\n",
              "  <div id=\"df-e1584220-1054-4eec-99ed-cef3c46b6510\">\n",
              "    <div class=\"colab-df-container\">\n",
              "      <div>\n",
              "<style scoped>\n",
              "    .dataframe tbody tr th:only-of-type {\n",
              "        vertical-align: middle;\n",
              "    }\n",
              "\n",
              "    .dataframe tbody tr th {\n",
              "        vertical-align: top;\n",
              "    }\n",
              "\n",
              "    .dataframe thead th {\n",
              "        text-align: right;\n",
              "    }\n",
              "</style>\n",
              "<table border=\"1\" class=\"dataframe\">\n",
              "  <thead>\n",
              "    <tr style=\"text-align: right;\">\n",
              "      <th></th>\n",
              "      <th>Accurac(ACC)</th>\n",
              "    </tr>\n",
              "    <tr>\n",
              "      <th>ML Method</th>\n",
              "      <th></th>\n",
              "    </tr>\n",
              "  </thead>\n",
              "  <tbody>\n",
              "    <tr>\n",
              "      <th>Naive Bayes - AWV</th>\n",
              "      <td>0.660871</td>\n",
              "    </tr>\n",
              "    <tr>\n",
              "      <th>NNET - AWV</th>\n",
              "      <td>0.767113</td>\n",
              "    </tr>\n",
              "    <tr>\n",
              "      <th>AVNNET- AWV</th>\n",
              "      <td>0.768841</td>\n",
              "    </tr>\n",
              "    <tr>\n",
              "      <th>KNN- AWV</th>\n",
              "      <td>0.712073</td>\n",
              "    </tr>\n",
              "    <tr>\n",
              "      <th>KKNN- AWV</th>\n",
              "      <td>0.727122</td>\n",
              "    </tr>\n",
              "    <tr>\n",
              "      <th>Earth- AWV</th>\n",
              "      <td>0.716820</td>\n",
              "    </tr>\n",
              "    <tr>\n",
              "      <th>SVML- AWV</th>\n",
              "      <td>0.761089</td>\n",
              "    </tr>\n",
              "    <tr>\n",
              "      <th>SVMR- AWV</th>\n",
              "      <td>0.738731</td>\n",
              "    </tr>\n",
              "    <tr>\n",
              "      <th>SVMP- AWV</th>\n",
              "      <td>0.757227</td>\n",
              "    </tr>\n",
              "    <tr>\n",
              "      <th>Random Forest- AWV</th>\n",
              "      <td>0.776791</td>\n",
              "    </tr>\n",
              "    <tr>\n",
              "      <th>Ranger- AWV</th>\n",
              "      <td>0.764931</td>\n",
              "    </tr>\n",
              "    <tr>\n",
              "      <th>GBM- AWV</th>\n",
              "      <td>0.784087</td>\n",
              "    </tr>\n",
              "    <tr>\n",
              "      <th>RPART- AWV</th>\n",
              "      <td>0.681963</td>\n",
              "    </tr>\n",
              "    <tr>\n",
              "      <th>C50tree- AWV</th>\n",
              "      <td>0.669053</td>\n",
              "    </tr>\n",
              "    <tr>\n",
              "      <th>c5- AWV</th>\n",
              "      <td>0.748433</td>\n",
              "    </tr>\n",
              "  </tbody>\n",
              "</table>\n",
              "</div>\n",
              "      <button class=\"colab-df-convert\" onclick=\"convertToInteractive('df-e1584220-1054-4eec-99ed-cef3c46b6510')\"\n",
              "              title=\"Convert this dataframe to an interactive table.\"\n",
              "              style=\"display:none;\">\n",
              "        \n",
              "  <svg xmlns=\"http://www.w3.org/2000/svg\" height=\"24px\"viewBox=\"0 0 24 24\"\n",
              "       width=\"24px\">\n",
              "    <path d=\"M0 0h24v24H0V0z\" fill=\"none\"/>\n",
              "    <path d=\"M18.56 5.44l.94 2.06.94-2.06 2.06-.94-2.06-.94-.94-2.06-.94 2.06-2.06.94zm-11 1L8.5 8.5l.94-2.06 2.06-.94-2.06-.94L8.5 2.5l-.94 2.06-2.06.94zm10 10l.94 2.06.94-2.06 2.06-.94-2.06-.94-.94-2.06-.94 2.06-2.06.94z\"/><path d=\"M17.41 7.96l-1.37-1.37c-.4-.4-.92-.59-1.43-.59-.52 0-1.04.2-1.43.59L10.3 9.45l-7.72 7.72c-.78.78-.78 2.05 0 2.83L4 21.41c.39.39.9.59 1.41.59.51 0 1.02-.2 1.41-.59l7.78-7.78 2.81-2.81c.8-.78.8-2.07 0-2.86zM5.41 20L4 18.59l7.72-7.72 1.47 1.35L5.41 20z\"/>\n",
              "  </svg>\n",
              "      </button>\n",
              "      \n",
              "  <style>\n",
              "    .colab-df-container {\n",
              "      display:flex;\n",
              "      flex-wrap:wrap;\n",
              "      gap: 12px;\n",
              "    }\n",
              "\n",
              "    .colab-df-convert {\n",
              "      background-color: #E8F0FE;\n",
              "      border: none;\n",
              "      border-radius: 50%;\n",
              "      cursor: pointer;\n",
              "      display: none;\n",
              "      fill: #1967D2;\n",
              "      height: 32px;\n",
              "      padding: 0 0 0 0;\n",
              "      width: 32px;\n",
              "    }\n",
              "\n",
              "    .colab-df-convert:hover {\n",
              "      background-color: #E2EBFA;\n",
              "      box-shadow: 0px 1px 2px rgba(60, 64, 67, 0.3), 0px 1px 3px 1px rgba(60, 64, 67, 0.15);\n",
              "      fill: #174EA6;\n",
              "    }\n",
              "\n",
              "    [theme=dark] .colab-df-convert {\n",
              "      background-color: #3B4455;\n",
              "      fill: #D2E3FC;\n",
              "    }\n",
              "\n",
              "    [theme=dark] .colab-df-convert:hover {\n",
              "      background-color: #434B5C;\n",
              "      box-shadow: 0px 1px 3px 1px rgba(0, 0, 0, 0.15);\n",
              "      filter: drop-shadow(0px 1px 2px rgba(0, 0, 0, 0.3));\n",
              "      fill: #FFFFFF;\n",
              "    }\n",
              "  </style>\n",
              "\n",
              "      <script>\n",
              "        const buttonEl =\n",
              "          document.querySelector('#df-e1584220-1054-4eec-99ed-cef3c46b6510 button.colab-df-convert');\n",
              "        buttonEl.style.display =\n",
              "          google.colab.kernel.accessAllowed ? 'block' : 'none';\n",
              "\n",
              "        async function convertToInteractive(key) {\n",
              "          const element = document.querySelector('#df-e1584220-1054-4eec-99ed-cef3c46b6510');\n",
              "          const dataTable =\n",
              "            await google.colab.kernel.invokeFunction('convertToInteractive',\n",
              "                                                     [key], {});\n",
              "          if (!dataTable) return;\n",
              "\n",
              "          const docLinkHtml = 'Like what you see? Visit the ' +\n",
              "            '<a target=\"_blank\" href=https://colab.research.google.com/notebooks/data_table.ipynb>data table notebook</a>'\n",
              "            + ' to learn more about interactive tables.';\n",
              "          element.innerHTML = '';\n",
              "          dataTable['output_type'] = 'display_data';\n",
              "          await google.colab.output.renderOutput(dataTable, element);\n",
              "          const docLink = document.createElement('div');\n",
              "          docLink.innerHTML = docLinkHtml;\n",
              "          element.appendChild(docLink);\n",
              "        }\n",
              "      </script>\n",
              "    </div>\n",
              "  </div>\n",
              "  "
            ]
          },
          "metadata": {},
          "execution_count": 13
        }
      ]
    },
    {
      "cell_type": "code",
      "source": [
        "import numpy as np\n",
        "import matplotlib.pyplot as plt\n",
        "\n",
        "#fig, ax = plt.subplots()\n",
        "#fig.set_size_inches(4,2)\n",
        "#fig, ax = plt.subplots()\n",
        "#df = pd.DataFrame({'contribution': [0.188137,0.160208,0.160208,0.151654,0.149489,0.135975,0.063206]}\n",
        " #                 ,index=['A','B','C','D','E','F','G'])\n",
        "\n",
        "colors = ['b', 'green', 'y', 'pink','orange','cyan','darkgrey']\n",
        "\n",
        "\n",
        "#y_pos=np.arange(len(objects))\n",
        "#ax=ax.barh(y_pos,R2,align='center',alpha=1,color=colors)\n",
        "ax = df.plot(figsize=(15,10),kind='barh', color=colors, legend=False)\n",
        "\n",
        "for bar in ax.patches:\n",
        "    bar.set_facecolor('green')\n",
        "\n",
        "ax.set_xlabel('Accuracy $(ACC)$',fontsize=24) \n",
        "ax.set_ylabel('Machine Learning Method', fontsize=24) \n",
        "\n",
        "plt.title('Predicting BBB Passage using AWV and ML',fontsize=16)\n",
        "\n",
        "plt.yticks(fontsize=20)\n",
        "plt.xticks(fontsize=20)\n"
      ],
      "metadata": {
        "colab": {
          "base_uri": "https://localhost:8080/",
          "height": 685
        },
        "id": "jladI6TwMkrg",
        "outputId": "1159b4f9-ee70-4be1-e7f3-ba88eac4eab8"
      },
      "id": "jladI6TwMkrg",
      "execution_count": null,
      "outputs": [
        {
          "output_type": "execute_result",
          "data": {
            "text/plain": [
              "(array([0. , 0.1, 0.2, 0.3, 0.4, 0.5, 0.6, 0.7, 0.8, 0.9]),\n",
              " <a list of 10 Text major ticklabel objects>)"
            ]
          },
          "metadata": {},
          "execution_count": 17
        },
        {
          "output_type": "display_data",
          "data": {
            "text/plain": [
              "<Figure size 1080x720 with 1 Axes>"
            ],
            "image/png": "[encoded data removed]"
          },
          "metadata": {
            "needs_background": "light"
          }
        }
      ]
    },
    {
      "cell_type": "code",
      "source": [
        "pip install pgmpy"
      ],
      "metadata": {
        "colab": {
          "base_uri": "https://localhost:8080/"
        },
        "id": "OPsbBPOtrpTR",
        "outputId": "618b5fee-5515-480e-9d08-b54d39fb645c"
      },
      "id": "OPsbBPOtrpTR",
      "execution_count": 12,
      "outputs": [
        {
          "output_type": "stream",
          "name": "stdout",
          "text": [
            "Looking in indexes: https://pypi.org/simple, https://us-python.pkg.dev/colab-wheels/public/simple/\n",
            "Collecting pgmpy\n",
            "  Downloading pgmpy-0.1.21-py3-none-any.whl (1.9 MB)\n",
            "\u001b[2K     \u001b[90m━━━━━━━━━━━━━━━━━━━━━━━━━━━━━━━━━━━━━━━━\u001b[0m \u001b[32m1.9/1.9 MB\u001b[0m \u001b[31m43.0 MB/s\u001b[0m eta \u001b[36m0:00:00\u001b[0m\n",
            "\u001b[?25hRequirement already satisfied: pyparsing in /usr/local/lib/python3.9/dist-packages (from pgmpy) (3.0.9)\n",
            "Requirement already satisfied: numpy in /usr/local/lib/python3.9/dist-packages (from pgmpy) (1.22.4)\n",
            "Requirement already satisfied: pandas in /usr/local/lib/python3.9/dist-packages (from pgmpy) (1.3.5)\n",
            "Requirement already satisfied: scipy in /usr/local/lib/python3.9/dist-packages (from pgmpy) (1.10.1)\n",
            "Requirement already satisfied: networkx in /usr/local/lib/python3.9/dist-packages (from pgmpy) (3.0)\n",
            "Requirement already satisfied: torch in /usr/local/lib/python3.9/dist-packages (from pgmpy) (1.13.1+cu116)\n",
            "Requirement already satisfied: tqdm in /usr/local/lib/python3.9/dist-packages (from pgmpy) (4.65.0)\n",
            "Requirement already satisfied: joblib in /usr/local/lib/python3.9/dist-packages (from pgmpy) (1.2.0)\n",
            "Requirement already satisfied: opt-einsum in /usr/local/lib/python3.9/dist-packages (from pgmpy) (3.3.0)\n",
            "Requirement already satisfied: statsmodels in /usr/local/lib/python3.9/dist-packages (from pgmpy) (0.13.5)\n",
            "Requirement already satisfied: scikit-learn in /usr/local/lib/python3.9/dist-packages (from pgmpy) (1.2.1)\n",
            "Requirement already satisfied: pytz>=2017.3 in /usr/local/lib/python3.9/dist-packages (from pandas->pgmpy) (2022.7.1)\n",
            "Requirement already satisfied: python-dateutil>=2.7.3 in /usr/local/lib/python3.9/dist-packages (from pandas->pgmpy) (2.8.2)\n",
            "Requirement already satisfied: threadpoolctl>=2.0.0 in /usr/local/lib/python3.9/dist-packages (from scikit-learn->pgmpy) (3.1.0)\n",
            "Requirement already satisfied: patsy>=0.5.2 in /usr/local/lib/python3.9/dist-packages (from statsmodels->pgmpy) (0.5.3)\n",
            "Requirement already satisfied: packaging>=21.3 in /usr/local/lib/python3.9/dist-packages (from statsmodels->pgmpy) (23.0)\n",
            "Requirement already satisfied: typing-extensions in /usr/local/lib/python3.9/dist-packages (from torch->pgmpy) (4.5.0)\n",
            "Requirement already satisfied: six in /usr/local/lib/python3.9/dist-packages (from patsy>=0.5.2->statsmodels->pgmpy) (1.15.0)\n",
            "Installing collected packages: pgmpy\n",
            "Successfully installed pgmpy-0.1.21\n"
          ]
        }
      ]
    },
    {
      "cell_type": "code",
      "source": [
        "from pgmpy.models import BayesianNetwork\n",
        "from pgmpy.factors.discrete import TabularCPD\n",
        "\n",
        "# Crear modelo de red bayesiana\n",
        "model = BayesianNetwork([('Clima', 'Lluvia'), ('Temperatura', 'Lluvia')])"
      ],
      "metadata": {
        "id": "0a8vFSGbr9Q6"
      },
      "id": "0a8vFSGbr9Q6",
      "execution_count": 77,
      "outputs": []
    },
    {
      "cell_type": "code",
      "source": [
        "# Definir las distribuciones de probabilidad condicional\n",
        "# Definir las distribuciones de probabilidad condicional\n",
        "cpd_clima = TabularCPD('Clima',2, [[0.5], [0.5]])\n",
        "cpd_temperatura = TabularCPD('Temperatura', 2, [[0.4], [0.6]])\n",
        "cpd_lluvia = TabularCPD('Lluvia',3,\n",
        "                        [[0.8, 0.6, 0.4, 0.1], \n",
        "                         [0.1, 0.2, 0.3, 0.2],\n",
        "                         [0.1, 0.2, 0.3, 0.7]], \n",
        "                        evidence=['Clima', 'Temperatura'], \n",
        "                        evidence_card=[2, 2])\n",
        "print(cpd_lluvia)"
      ],
      "metadata": {
        "colab": {
          "base_uri": "https://localhost:8080/"
        },
        "id": "LSF7CFPHsV72",
        "outputId": "8386f6c5-868e-4c97-b6ab-3ac8f392d74e"
      },
      "id": "LSF7CFPHsV72",
      "execution_count": 96,
      "outputs": [
        {
          "output_type": "stream",
          "name": "stdout",
          "text": [
            "+-------------+----------------+-----+----------------+----------------+\n",
            "| Clima       | Clima(0)       | ... | Clima(1)       | Clima(1)       |\n",
            "+-------------+----------------+-----+----------------+----------------+\n",
            "| Temperatura | Temperatura(0) | ... | Temperatura(0) | Temperatura(1) |\n",
            "+-------------+----------------+-----+----------------+----------------+\n",
            "| Lluvia(0)   | 0.8            | ... | 0.4            | 0.1            |\n",
            "+-------------+----------------+-----+----------------+----------------+\n",
            "| Lluvia(1)   | 0.1            | ... | 0.3            | 0.2            |\n",
            "+-------------+----------------+-----+----------------+----------------+\n",
            "| Lluvia(2)   | 0.1            | ... | 0.3            | 0.7            |\n",
            "+-------------+----------------+-----+----------------+----------------+\n"
          ]
        }
      ]
    },
    {
      "cell_type": "code",
      "source": [
        "# Asignar las distribuciones de probabilidad condicional al modelo\n",
        "model.add_cpds(cpd_clima,cpd_temperatura,cpd_lluvia)"
      ],
      "metadata": {
        "id": "XbjFZjkosglm"
      },
      "id": "XbjFZjkosglm",
      "execution_count": 97,
      "outputs": []
    },
    {
      "cell_type": "code",
      "source": [
        "from pgmpy.inference import VariableElimination\n",
        "\n",
        "# Crear objeto de inferencia\n",
        "infer = VariableElimination(model)\n",
        "\n",
        "# Calcular la probabilidad de lluvia dado el clima es frío y la temperatura es alta\n",
        "q = infer.query(['Lluvia'], evidence={'Clima': 0, 'Temperatura': 0})\n",
        "print(q)"
      ],
      "metadata": {
        "colab": {
          "base_uri": "https://localhost:8080/"
        },
        "id": "YyU8dAfVsrG-",
        "outputId": "b639e6c6-88a2-4607-b621-4d482b6db1e8"
      },
      "id": "YyU8dAfVsrG-",
      "execution_count": 105,
      "outputs": [
        {
          "output_type": "stream",
          "name": "stdout",
          "text": [
            "+-----------+---------------+\n",
            "| Lluvia    |   phi(Lluvia) |\n",
            "+===========+===============+\n",
            "| Lluvia(0) |        0.8000 |\n",
            "+-----------+---------------+\n",
            "| Lluvia(1) |        0.1000 |\n",
            "+-----------+---------------+\n",
            "| Lluvia(2) |        0.1000 |\n",
            "+-----------+---------------+\n"
          ]
        }
      ]
    },
    {
      "cell_type": "code",
      "source": [
        "import networkx as nx\n",
        "import matplotlib.pyplot as plt\n",
        "\n",
        "# Crear un objeto de grafo NetworkX a partir del modelo de red bayesiana\n",
        "G = nx.DiGraph(model.edges())\n",
        "G.add_node('Clima')\n",
        "G.add_node('Lluvia')\n",
        "G.add_node('Temperatura')\n",
        "\n",
        "# Dibujar grafo\n",
        "nx.draw_networkx(G, with_labels=True)\n",
        "plt.show()"
      ],
      "metadata": {
        "colab": {
          "base_uri": "https://localhost:8080/",
          "height": 248
        },
        "id": "dgP62I0O-h1A",
        "outputId": "a265432e-3f82-4968-9347-05c2e0f57e0f"
      },
      "id": "dgP62I0O-h1A",
      "execution_count": 121,
      "outputs": [
        {
          "output_type": "display_data",
          "data": {
            "text/plain": [
              "<Figure size 432x288 with 1 Axes>"
            ],
            "image/png": "[encoded data removed]"
          },
          "metadata": {}
        }
      ]
    },
    {
      "cell_type": "code",
      "source": [
        "list(G.nodes(data=True))"
      ],
      "metadata": {
        "colab": {
          "base_uri": "https://localhost:8080/"
        },
        "id": "rqPq_Y5aEtPn",
        "outputId": "a884d517-f895-4ff0-d239-fafb22f63fb0"
      },
      "id": "rqPq_Y5aEtPn",
      "execution_count": 122,
      "outputs": [
        {
          "output_type": "execute_result",
          "data": {
            "text/plain": [
              "[('Clima', {}), ('Lluvia', {}), ('Temperatura', {})]"
            ]
          },
          "metadata": {},
          "execution_count": 122
        }
      ]
    },
    {
      "cell_type": "code",
      "source": [],
      "metadata": {
        "colab": {
          "base_uri": "https://localhost:8080/",
          "height": 248
        },
        "id": "mGgZx7NvAgn_",
        "outputId": "cf6b12ff-5cff-4ed3-835e-4e39e89a4a51"
      },
      "id": "mGgZx7NvAgn_",
      "execution_count": 108,
      "outputs": [
        {
          "output_type": "display_data",
          "data": {
            "text/plain": [
              "<Figure size 432x288 with 1 Axes>"
            ],
            "image/png": "[encoded data removed]"
          },
          "metadata": {}
        }
      ]
    },
    {
      "cell_type": "code",
      "source": [
        "from pgmpy.inference import Inference\n",
        "from pgmpy.models import BayesianNetwork\n",
        "from pgmpy.factors.discrete import TabularCPD\n",
        "student = BayesianNetwork([('diff', 'grade'), ('intel', 'grade')])\n",
        "diff_cpd = TabularCPD('diff', 2, [[0.2], [0.8]])\n",
        "intel_cpd = TabularCPD('intel', 2, [[0.3], [0.7]])\n",
        "grade_cpd = TabularCPD('grade', 3, [[0.1, 0.1, 0.1, 0.1],\n",
        "                                    [0.1, 0.1, 0.1, 0.1],\n",
        "                                    [0.8, 0.8, 0.8, 0.8]],\n",
        "                                    evidence=['diff', 'intel'], evidence_card=[2, 2])\n",
        "student.add_cpds(diff_cpd, intel_cpd, grade_cpd)\n",
        "#model = Inference(student)\n",
        "model = VariableElimination(student)\n",
        "q = model.query(['grade'], evidence={'diff': 0, 'intel': 0}) \n",
        "print(q)"
      ],
      "metadata": {
        "colab": {
          "base_uri": "https://localhost:8080/"
        },
        "id": "LgexAJ272vMn",
        "outputId": "46eed6fc-2fd5-4724-ee13-aac3cf6748a8"
      },
      "id": "LgexAJ272vMn",
      "execution_count": 73,
      "outputs": [
        {
          "output_type": "stream",
          "name": "stdout",
          "text": [
            "+----------+--------------+\n",
            "| grade    |   phi(grade) |\n",
            "+==========+==============+\n",
            "| grade(0) |       0.1000 |\n",
            "+----------+--------------+\n",
            "| grade(1) |       0.1000 |\n",
            "+----------+--------------+\n",
            "| grade(2) |       0.8000 |\n",
            "+----------+--------------+\n"
          ]
        }
      ]
    },
    {
      "cell_type": "code",
      "source": [
        "import pandas as pd\n",
        "from pgmpy.models import BayesianNetwork\n",
        "from pgmpy.estimators import MaximumLikelihoodEstimator, BayesianEstimator\n",
        "import networkx as nx\n",
        "import matplotlib.pyplot as plt\n",
        "from sklearn.datasets import load_iris"
      ],
      "metadata": {
        "id": "ZGyooX2gJxmG"
      },
      "id": "ZGyooX2gJxmG",
      "execution_count": 156,
      "outputs": []
    },
    {
      "cell_type": "code",
      "source": [
        "import networkx as nx\n",
        "import matplotlib.pyplot as plt"
      ],
      "metadata": {
        "id": "qwu5hQ8EN203"
      },
      "id": "qwu5hQ8EN203",
      "execution_count": 157,
      "outputs": []
    },
    {
      "cell_type": "code",
      "source": [
        "# Cargar datos\n",
        "datos = load_iris()\n",
        "df = pd.DataFrame(data=datos.data, columns=datos.feature_names)"
      ],
      "metadata": {
        "id": "9nRq99wkJzg2"
      },
      "id": "9nRq99wkJzg2",
      "execution_count": 150,
      "outputs": []
    },
    {
      "cell_type": "code",
      "source": [
        "# Crear modelo bayesiano\n",
        "modelo = BayesianNetwork([('petal width (cm)', 'petal length (cm)'), ('petal length (cm)', 'sepal length (cm)'), ('sepal length (cm)', 'sepal width (cm)')])"
      ],
      "metadata": {
        "id": "W-Abc6WAJ5WV"
      },
      "id": "W-Abc6WAJ5WV",
      "execution_count": 158,
      "outputs": []
    },
    {
      "cell_type": "code",
      "source": [
        "# Estimación de máxima verosimilitud de los parámetros\n",
        "modelo.fit(df, estimator=MaximumLikelihoodEstimator)\n",
        "\n",
        "# Estimación bayesiana de los parámetros\n",
        "modelo.fit(df, estimator=BayesianEstimator)"
      ],
      "metadata": {
        "id": "PgEcLcZfKMae"
      },
      "id": "PgEcLcZfKMae",
      "execution_count": 159,
      "outputs": []
    },
    {
      "cell_type": "code",
      "source": [
        "# Dibujar grafo\n",
        "G = nx.DiGraph(modelo.edges())\n",
        "G.add_node('petal width (cm)')\n",
        "G.add_node('petal length (cm)')\n",
        "G.add_node('sepal length (cm)')\n",
        "G.add_node('sepal width (cm)')\n",
        "nx.draw_networkx(G, with_labels=True)\n",
        "plt.show()"
      ],
      "metadata": {
        "colab": {
          "base_uri": "https://localhost:8080/",
          "height": 248
        },
        "id": "bIgFBBGHLjlm",
        "outputId": "cef2e469-16ce-45fc-df87-9f4afbfcc11e"
      },
      "id": "bIgFBBGHLjlm",
      "execution_count": 160,
      "outputs": [
        {
          "output_type": "display_data",
          "data": {
            "text/plain": [
              "<Figure size 432x288 with 1 Axes>"
            ],
            "image/png": "[encoded data removed]"
          },
          "metadata": {}
        }
      ]
    },
    {
      "cell_type": "code",
      "source": [
        "import pandas as pd\n",
        "from pgmpy.models import BayesianNetwork\n",
        "from pgmpy.estimators import MaximumLikelihoodEstimator, BayesianEstimator\n",
        "import networkx as nx\n",
        "import matplotlib.pyplot as plt\n",
        "from sklearn.datasets import load_iris"
      ],
      "metadata": {
        "id": "zTkPLTYeQX-4"
      },
      "id": "zTkPLTYeQX-4",
      "execution_count": 161,
      "outputs": []
    },
    {
      "cell_type": "code",
      "source": [
        "# Cargar datos\n",
        "datos = load_iris()\n",
        "df = pd.DataFrame(data=datos.data, columns=datos.feature_names)\n",
        "df"
      ],
      "metadata": {
        "colab": {
          "base_uri": "https://localhost:8080/",
          "height": 423
        },
        "id": "PxnrUJAQQb2m",
        "outputId": "008a9e85-a621-40c7-ac9a-7be153373dd3"
      },
      "id": "PxnrUJAQQb2m",
      "execution_count": 166,
      "outputs": [
        {
          "output_type": "execute_result",
          "data": {
            "text/plain": [
              "     sepal length (cm)  sepal width (cm)  petal length (cm)  petal width (cm)\n",
              "0                  5.1               3.5                1.4               0.2\n",
              "1                  4.9               3.0                1.4               0.2\n",
              "2                  4.7               3.2                1.3               0.2\n",
              "3                  4.6               3.1                1.5               0.2\n",
              "4                  5.0               3.6                1.4               0.2\n",
              "..                 ...               ...                ...               ...\n",
              "145                6.7               3.0                5.2               2.3\n",
              "146                6.3               2.5                5.0               1.9\n",
              "147                6.5               3.0                5.2               2.0\n",
              "148                6.2               3.4                5.4               2.3\n",
              "149                5.9               3.0                5.1               1.8\n",
              "\n",
              "[150 rows x 4 columns]"
            ],
            "text/html": [
              "\n",
              "  <div id=\"df-5d35d44d-a376-4d35-9d5d-37f509c98096\">\n",
              "    <div class=\"colab-df-container\">\n",
              "      <div>\n",
              "<style scoped>\n",
              "    .dataframe tbody tr th:only-of-type {\n",
              "        vertical-align: middle;\n",
              "    }\n",
              "\n",
              "    .dataframe tbody tr th {\n",
              "        vertical-align: top;\n",
              "    }\n",
              "\n",
              "    .dataframe thead th {\n",
              "        text-align: right;\n",
              "    }\n",
              "</style>\n",
              "<table border=\"1\" class=\"dataframe\">\n",
              "  <thead>\n",
              "    <tr style=\"text-align: right;\">\n",
              "      <th></th>\n",
              "      <th>sepal length (cm)</th>\n",
              "      <th>sepal width (cm)</th>\n",
              "      <th>petal length (cm)</th>\n",
              "      <th>petal width (cm)</th>\n",
              "    </tr>\n",
              "  </thead>\n",
              "  <tbody>\n",
              "    <tr>\n",
              "      <th>0</th>\n",
              "      <td>5.1</td>\n",
              "      <td>3.5</td>\n",
              "      <td>1.4</td>\n",
              "      <td>0.2</td>\n",
              "    </tr>\n",
              "    <tr>\n",
              "      <th>1</th>\n",
              "      <td>4.9</td>\n",
              "      <td>3.0</td>\n",
              "      <td>1.4</td>\n",
              "      <td>0.2</td>\n",
              "    </tr>\n",
              "    <tr>\n",
              "      <th>2</th>\n",
              "      <td>4.7</td>\n",
              "      <td>3.2</td>\n",
              "      <td>1.3</td>\n",
              "      <td>0.2</td>\n",
              "    </tr>\n",
              "    <tr>\n",
              "      <th>3</th>\n",
              "      <td>4.6</td>\n",
              "      <td>3.1</td>\n",
              "      <td>1.5</td>\n",
              "      <td>0.2</td>\n",
              "    </tr>\n",
              "    <tr>\n",
              "      <th>4</th>\n",
              "      <td>5.0</td>\n",
              "      <td>3.6</td>\n",
              "      <td>1.4</td>\n",
              "      <td>0.2</td>\n",
              "    </tr>\n",
              "    <tr>\n",
              "      <th>...</th>\n",
              "      <td>...</td>\n",
              "      <td>...</td>\n",
              "      <td>...</td>\n",
              "      <td>...</td>\n",
              "    </tr>\n",
              "    <tr>\n",
              "      <th>145</th>\n",
              "      <td>6.7</td>\n",
              "      <td>3.0</td>\n",
              "      <td>5.2</td>\n",
              "      <td>2.3</td>\n",
              "    </tr>\n",
              "    <tr>\n",
              "      <th>146</th>\n",
              "      <td>6.3</td>\n",
              "      <td>2.5</td>\n",
              "      <td>5.0</td>\n",
              "      <td>1.9</td>\n",
              "    </tr>\n",
              "    <tr>\n",
              "      <th>147</th>\n",
              "      <td>6.5</td>\n",
              "      <td>3.0</td>\n",
              "      <td>5.2</td>\n",
              "      <td>2.0</td>\n",
              "    </tr>\n",
              "    <tr>\n",
              "      <th>148</th>\n",
              "      <td>6.2</td>\n",
              "      <td>3.4</td>\n",
              "      <td>5.4</td>\n",
              "      <td>2.3</td>\n",
              "    </tr>\n",
              "    <tr>\n",
              "      <th>149</th>\n",
              "      <td>5.9</td>\n",
              "      <td>3.0</td>\n",
              "      <td>5.1</td>\n",
              "      <td>1.8</td>\n",
              "    </tr>\n",
              "  </tbody>\n",
              "</table>\n",
              "<p>150 rows × 4 columns</p>\n",
              "</div>\n",
              "      <button class=\"colab-df-convert\" onclick=\"convertToInteractive('df-5d35d44d-a376-4d35-9d5d-37f509c98096')\"\n",
              "              title=\"Convert this dataframe to an interactive table.\"\n",
              "              style=\"display:none;\">\n",
              "        \n",
              "  <svg xmlns=\"http://www.w3.org/2000/svg\" height=\"24px\"viewBox=\"0 0 24 24\"\n",
              "       width=\"24px\">\n",
              "    <path d=\"M0 0h24v24H0V0z\" fill=\"none\"/>\n",
              "    <path d=\"M18.56 5.44l.94 2.06.94-2.06 2.06-.94-2.06-.94-.94-2.06-.94 2.06-2.06.94zm-11 1L8.5 8.5l.94-2.06 2.06-.94-2.06-.94L8.5 2.5l-.94 2.06-2.06.94zm10 10l.94 2.06.94-2.06 2.06-.94-2.06-.94-.94-2.06-.94 2.06-2.06.94z\"/><path d=\"M17.41 7.96l-1.37-1.37c-.4-.4-.92-.59-1.43-.59-.52 0-1.04.2-1.43.59L10.3 9.45l-7.72 7.72c-.78.78-.78 2.05 0 2.83L4 21.41c.39.39.9.59 1.41.59.51 0 1.02-.2 1.41-.59l7.78-7.78 2.81-2.81c.8-.78.8-2.07 0-2.86zM5.41 20L4 18.59l7.72-7.72 1.47 1.35L5.41 20z\"/>\n",
              "  </svg>\n",
              "      </button>\n",
              "      \n",
              "  <style>\n",
              "    .colab-df-container {\n",
              "      display:flex;\n",
              "      flex-wrap:wrap;\n",
              "      gap: 12px;\n",
              "    }\n",
              "\n",
              "    .colab-df-convert {\n",
              "      background-color: #E8F0FE;\n",
              "      border: none;\n",
              "      border-radius: 50%;\n",
              "      cursor: pointer;\n",
              "      display: none;\n",
              "      fill: #1967D2;\n",
              "      height: 32px;\n",
              "      padding: 0 0 0 0;\n",
              "      width: 32px;\n",
              "    }\n",
              "\n",
              "    .colab-df-convert:hover {\n",
              "      background-color: #E2EBFA;\n",
              "      box-shadow: 0px 1px 2px rgba(60, 64, 67, 0.3), 0px 1px 3px 1px rgba(60, 64, 67, 0.15);\n",
              "      fill: #174EA6;\n",
              "    }\n",
              "\n",
              "    [theme=dark] .colab-df-convert {\n",
              "      background-color: #3B4455;\n",
              "      fill: #D2E3FC;\n",
              "    }\n",
              "\n",
              "    [theme=dark] .colab-df-convert:hover {\n",
              "      background-color: #434B5C;\n",
              "      box-shadow: 0px 1px 3px 1px rgba(0, 0, 0, 0.15);\n",
              "      filter: drop-shadow(0px 1px 2px rgba(0, 0, 0, 0.3));\n",
              "      fill: #FFFFFF;\n",
              "    }\n",
              "  </style>\n",
              "\n",
              "      <script>\n",
              "        const buttonEl =\n",
              "          document.querySelector('#df-5d35d44d-a376-4d35-9d5d-37f509c98096 button.colab-df-convert');\n",
              "        buttonEl.style.display =\n",
              "          google.colab.kernel.accessAllowed ? 'block' : 'none';\n",
              "\n",
              "        async function convertToInteractive(key) {\n",
              "          const element = document.querySelector('#df-5d35d44d-a376-4d35-9d5d-37f509c98096');\n",
              "          const dataTable =\n",
              "            await google.colab.kernel.invokeFunction('convertToInteractive',\n",
              "                                                     [key], {});\n",
              "          if (!dataTable) return;\n",
              "\n",
              "          const docLinkHtml = 'Like what you see? Visit the ' +\n",
              "            '<a target=\"_blank\" href=https://colab.research.google.com/notebooks/data_table.ipynb>data table notebook</a>'\n",
              "            + ' to learn more about interactive tables.';\n",
              "          element.innerHTML = '';\n",
              "          dataTable['output_type'] = 'display_data';\n",
              "          await google.colab.output.renderOutput(dataTable, element);\n",
              "          const docLink = document.createElement('div');\n",
              "          docLink.innerHTML = docLinkHtml;\n",
              "          element.appendChild(docLink);\n",
              "        }\n",
              "      </script>\n",
              "    </div>\n",
              "  </div>\n",
              "  "
            ]
          },
          "metadata": {},
          "execution_count": 166
        }
      ]
    },
    {
      "cell_type": "code",
      "source": [
        "# Crear modelo bayesiano\n",
        "modelo = BayesianNetwork([('petal width (cm)', 'petal length (cm)'), ('petal length (cm)', 'sepal length (cm)'), ('sepal length (cm)', 'sepal width (cm)')])"
      ],
      "metadata": {
        "id": "2zT_upVXQgI2"
      },
      "id": "2zT_upVXQgI2",
      "execution_count": 167,
      "outputs": []
    },
    {
      "cell_type": "code",
      "source": [
        "# Estimación de máxima verosimilitud de los parámetros\n",
        "modelo.fit(df, estimator=MaximumLikelihoodEstimator)\n",
        "\n",
        "# Estimación bayesiana de los parámetros\n",
        "modelo.fit(df, estimator=BayesianEstimator)"
      ],
      "metadata": {
        "id": "hFpVqrxrQl6e"
      },
      "id": "hFpVqrxrQl6e",
      "execution_count": 168,
      "outputs": []
    },
    {
      "cell_type": "code",
      "source": [
        "# Dibujar la red bayesiana\n",
        "# Dibujar grafo\n",
        "G = nx.DiGraph(modelo.edges())\n",
        "G.add_node('petal width (cm)')\n",
        "G.add_node('petal length (cm)')\n",
        "G.add_node('sepal length (cm)')\n",
        "G.add_node('sepal width (cm)')\n",
        "nx.draw_networkx(G, with_labels=True)\n",
        "plt.show()"
      ],
      "metadata": {
        "colab": {
          "base_uri": "https://localhost:8080/",
          "height": 248
        },
        "id": "GmpwnnivQ3p3",
        "outputId": "46e6ecb3-6b08-4cfd-82d3-2b5befaf1bf7"
      },
      "id": "GmpwnnivQ3p3",
      "execution_count": 175,
      "outputs": [
        {
          "output_type": "display_data",
          "data": {
            "text/plain": [
              "<Figure size 432x288 with 1 Axes>"
            ],
            "image/png": "[encoded data removed]"
          },
          "metadata": {}
        }
      ]
    },
    {
      "cell_type": "code",
      "source": [
        "# Imprimir las probabilidades condicionales\n",
        "for cpd in modelo.get_cpds():\n",
        "    print(cpd)"
      ],
      "metadata": {
        "colab": {
          "base_uri": "https://localhost:8080/"
        },
        "id": "zm3AmSW4SCU2",
        "outputId": "6c63da74-4883-4d1c-aa48-40a4b4c9b5a5"
      },
      "id": "zm3AmSW4SCU2",
      "execution_count": 176,
      "outputs": [
        {
          "output_type": "stream",
          "name": "stdout",
          "text": [
            "+-----------------------+------------+\n",
            "| petal width (cm)(0.1) | 0.0337243  |\n",
            "+-----------------------+------------+\n",
            "| petal width (cm)(0.2) | 0.188563   |\n",
            "+-----------------------+------------+\n",
            "| petal width (cm)(0.3) | 0.0466276  |\n",
            "+-----------------------+------------+\n",
            "| petal width (cm)(0.4) | 0.0466276  |\n",
            "+-----------------------+------------+\n",
            "| petal width (cm)(0.5) | 0.00791789 |\n",
            "+-----------------------+------------+\n",
            "| petal width (cm)(0.6) | 0.00791789 |\n",
            "+-----------------------+------------+\n",
            "| petal width (cm)(1.0) | 0.0466276  |\n",
            "+-----------------------+------------+\n",
            "| petal width (cm)(1.1) | 0.0208211  |\n",
            "+-----------------------+------------+\n",
            "| petal width (cm)(1.2) | 0.0337243  |\n",
            "+-----------------------+------------+\n",
            "| petal width (cm)(1.3) | 0.0853372  |\n",
            "+-----------------------+------------+\n",
            "| petal width (cm)(1.4) | 0.0530792  |\n",
            "+-----------------------+------------+\n",
            "| petal width (cm)(1.5) | 0.0788856  |\n",
            "+-----------------------+------------+\n",
            "| petal width (cm)(1.6) | 0.0272727  |\n",
            "+-----------------------+------------+\n",
            "| petal width (cm)(1.7) | 0.0143695  |\n",
            "+-----------------------+------------+\n",
            "| petal width (cm)(1.8) | 0.0788856  |\n",
            "+-----------------------+------------+\n",
            "| petal width (cm)(1.9) | 0.0337243  |\n",
            "+-----------------------+------------+\n",
            "| petal width (cm)(2.0) | 0.040176   |\n",
            "+-----------------------+------------+\n",
            "| petal width (cm)(2.1) | 0.040176   |\n",
            "+-----------------------+------------+\n",
            "| petal width (cm)(2.2) | 0.0208211  |\n",
            "+-----------------------+------------+\n",
            "| petal width (cm)(2.3) | 0.0530792  |\n",
            "+-----------------------+------------+\n",
            "| petal width (cm)(2.4) | 0.0208211  |\n",
            "+-----------------------+------------+\n",
            "| petal width (cm)(2.5) | 0.0208211  |\n",
            "+-----------------------+------------+\n",
            "+------------------------+-----+-----------------------+\n",
            "| petal width (cm)       | ... | petal width (cm)(2.5) |\n",
            "+------------------------+-----+-----------------------+\n",
            "| petal length (cm)(1.0) | ... | 0.0016377333770062228 |\n",
            "+------------------------+-----+-----------------------+\n",
            "| petal length (cm)(1.1) | ... | 0.0016377333770062228 |\n",
            "+------------------------+-----+-----------------------+\n",
            "| petal length (cm)(1.2) | ... | 0.0016377333770062228 |\n",
            "+------------------------+-----+-----------------------+\n",
            "| petal length (cm)(1.3) | ... | 0.0016377333770062228 |\n",
            "+------------------------+-----+-----------------------+\n",
            "| petal length (cm)(1.4) | ... | 0.0016377333770062228 |\n",
            "+------------------------+-----+-----------------------+\n",
            "| petal length (cm)(1.5) | ... | 0.0016377333770062228 |\n",
            "+------------------------+-----+-----------------------+\n",
            "| petal length (cm)(1.6) | ... | 0.0016377333770062228 |\n",
            "+------------------------+-----+-----------------------+\n",
            "| petal length (cm)(1.7) | ... | 0.0016377333770062228 |\n",
            "+------------------------+-----+-----------------------+\n",
            "| petal length (cm)(1.9) | ... | 0.0016377333770062228 |\n",
            "+------------------------+-----+-----------------------+\n",
            "| petal length (cm)(3.0) | ... | 0.0016377333770062228 |\n",
            "+------------------------+-----+-----------------------+\n",
            "| petal length (cm)(3.3) | ... | 0.0016377333770062228 |\n",
            "+------------------------+-----+-----------------------+\n",
            "| petal length (cm)(3.5) | ... | 0.0016377333770062228 |\n",
            "+------------------------+-----+-----------------------+\n",
            "| petal length (cm)(3.6) | ... | 0.0016377333770062228 |\n",
            "+------------------------+-----+-----------------------+\n",
            "| petal length (cm)(3.7) | ... | 0.0016377333770062228 |\n",
            "+------------------------+-----+-----------------------+\n",
            "| petal length (cm)(3.8) | ... | 0.0016377333770062228 |\n",
            "+------------------------+-----+-----------------------+\n",
            "| petal length (cm)(3.9) | ... | 0.0016377333770062228 |\n",
            "+------------------------+-----+-----------------------+\n",
            "| petal length (cm)(4.0) | ... | 0.0016377333770062228 |\n",
            "+------------------------+-----+-----------------------+\n",
            "| petal length (cm)(4.1) | ... | 0.0016377333770062228 |\n",
            "+------------------------+-----+-----------------------+\n",
            "| petal length (cm)(4.2) | ... | 0.0016377333770062228 |\n",
            "+------------------------+-----+-----------------------+\n",
            "| petal length (cm)(4.3) | ... | 0.0016377333770062228 |\n",
            "+------------------------+-----+-----------------------+\n",
            "| petal length (cm)(4.4) | ... | 0.0016377333770062228 |\n",
            "+------------------------+-----+-----------------------+\n",
            "| petal length (cm)(4.5) | ... | 0.0016377333770062228 |\n",
            "+------------------------+-----+-----------------------+\n",
            "| petal length (cm)(4.6) | ... | 0.0016377333770062228 |\n",
            "+------------------------+-----+-----------------------+\n",
            "| petal length (cm)(4.7) | ... | 0.0016377333770062228 |\n",
            "+------------------------+-----+-----------------------+\n",
            "| petal length (cm)(4.8) | ... | 0.0016377333770062228 |\n",
            "+------------------------+-----+-----------------------+\n",
            "| petal length (cm)(4.9) | ... | 0.0016377333770062228 |\n",
            "+------------------------+-----+-----------------------+\n",
            "| petal length (cm)(5.0) | ... | 0.0016377333770062228 |\n",
            "+------------------------+-----+-----------------------+\n",
            "| petal length (cm)(5.1) | ... | 0.0016377333770062228 |\n",
            "+------------------------+-----+-----------------------+\n",
            "| petal length (cm)(5.2) | ... | 0.0016377333770062228 |\n",
            "+------------------------+-----+-----------------------+\n",
            "| petal length (cm)(5.3) | ... | 0.0016377333770062228 |\n",
            "+------------------------+-----+-----------------------+\n",
            "| petal length (cm)(5.4) | ... | 0.0016377333770062228 |\n",
            "+------------------------+-----+-----------------------+\n",
            "| petal length (cm)(5.5) | ... | 0.0016377333770062228 |\n",
            "+------------------------+-----+-----------------------+\n",
            "| petal length (cm)(5.6) | ... | 0.0016377333770062228 |\n",
            "+------------------------+-----+-----------------------+\n",
            "| petal length (cm)(5.7) | ... | 0.31149688830658356   |\n",
            "+------------------------+-----+-----------------------+\n",
            "| petal length (cm)(5.8) | ... | 0.0016377333770062228 |\n",
            "+------------------------+-----+-----------------------+\n",
            "| petal length (cm)(5.9) | ... | 0.0016377333770062228 |\n",
            "+------------------------+-----+-----------------------+\n",
            "| petal length (cm)(6.0) | ... | 0.31149688830658356   |\n",
            "+------------------------+-----+-----------------------+\n",
            "| petal length (cm)(6.1) | ... | 0.31149688830658356   |\n",
            "+------------------------+-----+-----------------------+\n",
            "| petal length (cm)(6.3) | ... | 0.0016377333770062228 |\n",
            "+------------------------+-----+-----------------------+\n",
            "| petal length (cm)(6.4) | ... | 0.0016377333770062228 |\n",
            "+------------------------+-----+-----------------------+\n",
            "| petal length (cm)(6.6) | ... | 0.0016377333770062228 |\n",
            "+------------------------+-----+-----------------------+\n",
            "| petal length (cm)(6.7) | ... | 0.0016377333770062228 |\n",
            "+------------------------+-----+-----------------------+\n",
            "| petal length (cm)(6.9) | ... | 0.0016377333770062228 |\n",
            "+------------------------+-----+-----------------------+\n",
            "+------------------------+-----+------------------------+\n",
            "| petal length (cm)      | ... | petal length (cm)(6.9) |\n",
            "+------------------------+-----+------------------------+\n",
            "| sepal length (cm)(4.3) | ... | 0.002976190476190477   |\n",
            "+------------------------+-----+------------------------+\n",
            "| sepal length (cm)(4.4) | ... | 0.002976190476190477   |\n",
            "+------------------------+-----+------------------------+\n",
            "| sepal length (cm)(4.5) | ... | 0.002976190476190477   |\n",
            "+------------------------+-----+------------------------+\n",
            "| sepal length (cm)(4.6) | ... | 0.002976190476190477   |\n",
            "+------------------------+-----+------------------------+\n",
            "| sepal length (cm)(4.7) | ... | 0.002976190476190477   |\n",
            "+------------------------+-----+------------------------+\n",
            "| sepal length (cm)(4.8) | ... | 0.002976190476190477   |\n",
            "+------------------------+-----+------------------------+\n",
            "| sepal length (cm)(4.9) | ... | 0.002976190476190477   |\n",
            "+------------------------+-----+------------------------+\n",
            "| sepal length (cm)(5.0) | ... | 0.002976190476190477   |\n",
            "+------------------------+-----+------------------------+\n",
            "| sepal length (cm)(5.1) | ... | 0.002976190476190477   |\n",
            "+------------------------+-----+------------------------+\n",
            "| sepal length (cm)(5.2) | ... | 0.002976190476190477   |\n",
            "+------------------------+-----+------------------------+\n",
            "| sepal length (cm)(5.3) | ... | 0.002976190476190477   |\n",
            "+------------------------+-----+------------------------+\n",
            "| sepal length (cm)(5.4) | ... | 0.002976190476190477   |\n",
            "+------------------------+-----+------------------------+\n",
            "| sepal length (cm)(5.5) | ... | 0.002976190476190477   |\n",
            "+------------------------+-----+------------------------+\n",
            "| sepal length (cm)(5.6) | ... | 0.002976190476190477   |\n",
            "+------------------------+-----+------------------------+\n",
            "| sepal length (cm)(5.7) | ... | 0.002976190476190477   |\n",
            "+------------------------+-----+------------------------+\n",
            "| sepal length (cm)(5.8) | ... | 0.002976190476190477   |\n",
            "+------------------------+-----+------------------------+\n",
            "| sepal length (cm)(5.9) | ... | 0.002976190476190477   |\n",
            "+------------------------+-----+------------------------+\n",
            "| sepal length (cm)(6.0) | ... | 0.002976190476190477   |\n",
            "+------------------------+-----+------------------------+\n",
            "| sepal length (cm)(6.1) | ... | 0.002976190476190477   |\n",
            "+------------------------+-----+------------------------+\n",
            "| sepal length (cm)(6.2) | ... | 0.002976190476190477   |\n",
            "+------------------------+-----+------------------------+\n",
            "| sepal length (cm)(6.3) | ... | 0.002976190476190477   |\n",
            "+------------------------+-----+------------------------+\n",
            "| sepal length (cm)(6.4) | ... | 0.002976190476190477   |\n",
            "+------------------------+-----+------------------------+\n",
            "| sepal length (cm)(6.5) | ... | 0.002976190476190477   |\n",
            "+------------------------+-----+------------------------+\n",
            "| sepal length (cm)(6.6) | ... | 0.002976190476190477   |\n",
            "+------------------------+-----+------------------------+\n",
            "| sepal length (cm)(6.7) | ... | 0.002976190476190477   |\n",
            "+------------------------+-----+------------------------+\n",
            "| sepal length (cm)(6.8) | ... | 0.002976190476190477   |\n",
            "+------------------------+-----+------------------------+\n",
            "| sepal length (cm)(6.9) | ... | 0.002976190476190477   |\n",
            "+------------------------+-----+------------------------+\n",
            "| sepal length (cm)(7.0) | ... | 0.002976190476190477   |\n",
            "+------------------------+-----+------------------------+\n",
            "| sepal length (cm)(7.1) | ... | 0.002976190476190477   |\n",
            "+------------------------+-----+------------------------+\n",
            "| sepal length (cm)(7.2) | ... | 0.002976190476190477   |\n",
            "+------------------------+-----+------------------------+\n",
            "| sepal length (cm)(7.3) | ... | 0.002976190476190477   |\n",
            "+------------------------+-----+------------------------+\n",
            "| sepal length (cm)(7.4) | ... | 0.002976190476190477   |\n",
            "+------------------------+-----+------------------------+\n",
            "| sepal length (cm)(7.6) | ... | 0.002976190476190477   |\n",
            "+------------------------+-----+------------------------+\n",
            "| sepal length (cm)(7.7) | ... | 0.898809523809524      |\n",
            "+------------------------+-----+------------------------+\n",
            "| sepal length (cm)(7.9) | ... | 0.002976190476190477   |\n",
            "+------------------------+-----+------------------------+\n",
            "+-----------------------+-----+------------------------+\n",
            "| sepal length (cm)     | ... | sepal length (cm)(7.9) |\n",
            "+-----------------------+-----+------------------------+\n",
            "| sepal width (cm)(2.0) | ... | 0.005434782608695655   |\n",
            "+-----------------------+-----+------------------------+\n",
            "| sepal width (cm)(2.2) | ... | 0.005434782608695655   |\n",
            "+-----------------------+-----+------------------------+\n",
            "| sepal width (cm)(2.3) | ... | 0.005434782608695655   |\n",
            "+-----------------------+-----+------------------------+\n",
            "| sepal width (cm)(2.4) | ... | 0.005434782608695655   |\n",
            "+-----------------------+-----+------------------------+\n",
            "| sepal width (cm)(2.5) | ... | 0.005434782608695655   |\n",
            "+-----------------------+-----+------------------------+\n",
            "| sepal width (cm)(2.6) | ... | 0.005434782608695655   |\n",
            "+-----------------------+-----+------------------------+\n",
            "| sepal width (cm)(2.7) | ... | 0.005434782608695655   |\n",
            "+-----------------------+-----+------------------------+\n",
            "| sepal width (cm)(2.8) | ... | 0.005434782608695655   |\n",
            "+-----------------------+-----+------------------------+\n",
            "| sepal width (cm)(2.9) | ... | 0.005434782608695655   |\n",
            "+-----------------------+-----+------------------------+\n",
            "| sepal width (cm)(3.0) | ... | 0.005434782608695655   |\n",
            "+-----------------------+-----+------------------------+\n",
            "| sepal width (cm)(3.1) | ... | 0.005434782608695655   |\n",
            "+-----------------------+-----+------------------------+\n",
            "| sepal width (cm)(3.2) | ... | 0.005434782608695655   |\n",
            "+-----------------------+-----+------------------------+\n",
            "| sepal width (cm)(3.3) | ... | 0.005434782608695655   |\n",
            "+-----------------------+-----+------------------------+\n",
            "| sepal width (cm)(3.4) | ... | 0.005434782608695655   |\n",
            "+-----------------------+-----+------------------------+\n",
            "| sepal width (cm)(3.5) | ... | 0.005434782608695655   |\n",
            "+-----------------------+-----+------------------------+\n",
            "| sepal width (cm)(3.6) | ... | 0.005434782608695655   |\n",
            "+-----------------------+-----+------------------------+\n",
            "| sepal width (cm)(3.7) | ... | 0.005434782608695655   |\n",
            "+-----------------------+-----+------------------------+\n",
            "| sepal width (cm)(3.8) | ... | 0.880434782608696      |\n",
            "+-----------------------+-----+------------------------+\n",
            "| sepal width (cm)(3.9) | ... | 0.005434782608695655   |\n",
            "+-----------------------+-----+------------------------+\n",
            "| sepal width (cm)(4.0) | ... | 0.005434782608695655   |\n",
            "+-----------------------+-----+------------------------+\n",
            "| sepal width (cm)(4.1) | ... | 0.005434782608695655   |\n",
            "+-----------------------+-----+------------------------+\n",
            "| sepal width (cm)(4.2) | ... | 0.005434782608695655   |\n",
            "+-----------------------+-----+------------------------+\n",
            "| sepal width (cm)(4.4) | ... | 0.005434782608695655   |\n",
            "+-----------------------+-----+------------------------+\n"
          ]
        }
      ]
    },
    {
      "cell_type": "code",
      "source": [
        "# Importar las bibliotecas necesarias\n",
        "from sklearn.datasets import load_iris\n",
        "from sklearn.linear_model import LogisticRegression\n",
        "from sklearn.model_selection import train_test_split\n",
        "from sklearn.metrics import accuracy_score"
      ],
      "metadata": {
        "id": "VyVazBi79Gip"
      },
      "id": "VyVazBi79Gip",
      "execution_count": 1,
      "outputs": []
    },
    {
      "cell_type": "code",
      "source": [
        "# Cargar el conjunto de datos de iris\n",
        "iris = load_iris()\n",
        "\n",
        "# Dividir los datos en un conjunto de entrenamiento y un conjunto de prueba\n",
        "X_train, X_test, y_train, y_test = train_test_split(iris.data, iris.target, test_size=0.2, random_state=42)\n",
        "\n",
        "# Crear un modelo de regresión logística\n",
        "model = LogisticRegression()\n",
        "\n",
        "# Entrenar el modelo con el conjunto de entrenamiento\n",
        "model.fit(X_train, y_train)\n",
        "\n",
        "# Predecir las etiquetas de clase para el conjunto de prueba\n",
        "y_pred = model.predict(X_test)\n",
        "\n",
        "# Calcular la precisión del modelo en el conjunto de prueba\n",
        "accuracy = accuracy_score(y_test, y_pred)\n",
        "\n",
        "# Imprimir la precisión del modelo\n",
        "print(\"Precisión del modelo: {:.2f}\".format(accuracy))"
      ],
      "metadata": {
        "colab": {
          "base_uri": "https://localhost:8080/"
        },
        "id": "Tk7urLg59M2H",
        "outputId": "12092515-e590-4480-9710-f47631c2ee8f"
      },
      "id": "Tk7urLg59M2H",
      "execution_count": 2,
      "outputs": [
        {
          "output_type": "stream",
          "name": "stdout",
          "text": [
            "Precisión del modelo: 1.00\n"
          ]
        },
        {
          "output_type": "stream",
          "name": "stderr",
          "text": [
            "/usr/local/lib/python3.9/dist-packages/sklearn/linear_model/_logistic.py:458: ConvergenceWarning: lbfgs failed to converge (status=1):\n",
            "STOP: TOTAL NO. of ITERATIONS REACHED LIMIT.\n",
            "\n",
            "Increase the number of iterations (max_iter) or scale the data as shown in:\n",
            "    https://scikit-learn.org/stable/modules/preprocessing.html\n",
            "Please also refer to the documentation for alternative solver options:\n",
            "    https://scikit-learn.org/stable/modules/linear_model.html#logistic-regression\n",
            "  n_iter_i = _check_optimize_result(\n"
          ]
        }
      ]
    },
    {
      "cell_type": "code",
      "source": [
        "# Importar las bibliotecas necesarias\n",
        "import pandas as pd\n",
        "from sklearn.linear_model import LogisticRegression\n",
        "from sklearn.model_selection import train_test_split\n",
        "from sklearn.metrics import accuracy_score"
      ],
      "metadata": {
        "id": "EOLg7mcG-JyY"
      },
      "id": "EOLg7mcG-JyY",
      "execution_count": null,
      "outputs": []
    },
    {
      "cell_type": "code",
      "source": [
        "# Cargar el conjunto de datos de Pima Indians Diabetes\n",
        "df = pd.read_csv('pima-indians-diabetes.csv')\n",
        "\n",
        "# Dividir los datos en un conjunto de entrenamiento y un conjunto de prueba\n",
        "X = df.drop('Outcome', axis=1)\n",
        "y = df['Outcome']\n",
        "X_train, X_test, y_train, y_test = train_test_split(X, y, test_size=0.2, random_state=42)\n",
        "\n",
        "# Crear un modelo de regresión logística\n",
        "model = LogisticRegression()\n",
        "\n",
        "# Entrenar el modelo con el conjunto de entrenamiento\n",
        "model.fit(X_train, y_train)\n",
        "\n",
        "# Predecir las etiquetas de clase para el conjunto de prueba\n",
        "y_pred = model.predict(X_test)\n",
        "\n",
        "# Calcular la precisión del modelo en el conjunto de prueba\n",
        "accuracy = accuracy_score(y_test, y_pred)\n",
        "\n",
        "# Imprimir la precisión del modelo\n",
        "print(\"Precisión del modelo: {:.2f}\".format(accuracy))"
      ],
      "metadata": {
        "id": "hgm16QPU-K_P"
      },
      "id": "hgm16QPU-K_P",
      "execution_count": null,
      "outputs": []
    }
  ],
  "metadata": {
    "kernelspec": {
      "display_name": "Python 3 (ipykernel)",
      "language": "python",
      "name": "python3"
    },
    "language_info": {
      "codemirror_mode": {
        "name": "ipython",
        "version": 3
      },
      "file_extension": ".py",
      "mimetype": "text/x-python",
      "name": "python",
      "nbconvert_exporter": "python",
      "pygments_lexer": "ipython3",
      "version": "3.9.12"
    },
    "colab": {
      "provenance": [],
      "include_colab_link": true
    }
  },
  "nbformat": 4,
  "nbformat_minor": 5
}