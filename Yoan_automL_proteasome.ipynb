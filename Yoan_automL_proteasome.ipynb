{
  "cells": [
    {
      "cell_type": "markdown",
      "metadata": {
        "id": "view-in-github",
        "colab_type": "text"
      },
      "source": [
        "<a href=\"https://colab.research.google.com/github/cybervalient/DeepMD_AWV/blob/main/Yoan_automL_proteasome.ipynb\" target=\"_parent\"><img src=\"https://colab.research.google.com/assets/colab-badge.svg\" alt=\"Open In Colab\"/></a>"
      ]
    },
    {
      "cell_type": "code",
      "execution_count": 10,
      "id": "d2cde0c8-111a-4e1d-a4c7-19d9f6df5f19",
      "metadata": {
        "id": "d2cde0c8-111a-4e1d-a4c7-19d9f6df5f19"
      },
      "outputs": [],
      "source": [
        "import numpy as np\n",
        "import matplotlib.pyplot as plt"
      ]
    },
    {
      "cell_type": "code",
      "execution_count": null,
      "id": "2798639b-20ae-4853-91c7-e949cf40e1e7",
      "metadata": {
        "id": "2798639b-20ae-4853-91c7-e949cf40e1e7"
      },
      "outputs": [],
      "source": []
    },
    {
      "cell_type": "code",
      "execution_count": 8,
      "id": "2e97dea8-b551-4a9b-9f6e-78317bb40713",
      "metadata": {
        "id": "2e97dea8-b551-4a9b-9f6e-78317bb40713",
        "outputId": "52d25483-58e8-453c-e627-8de68b68cb1e",
        "colab": {
          "base_uri": "https://localhost:8080/",
          "height": 573
        }
      },
      "outputs": [
        {
          "output_type": "display_data",
          "data": {
            "text/plain": [
              "<Figure size 432x288 with 1 Axes>"
            ],
            "image/png": "[encoded data removed]"
          },
          "metadata": {
            "needs_background": "light"
          }
        },
        {
          "output_type": "display_data",
          "data": {
            "text/plain": [
              "<Figure size 432x288 with 1 Axes>"
            ],
            "image/png": "[encoded data removed]"
          },
          "metadata": {
            "needs_background": "light"
          }
        }
      ],
      "source": [
        "import numpy as np\n",
        "import matplotlib.pyplot as plt\n",
        "objects= ('112','115','121','135','143','161')\n",
        "accuracy=(52.12,54.11,54.40,54.31,54.72,54.26)\n",
        "y_pos=np.arange(len(objects))\n",
        "                \n",
        "plt.bar(y_pos,accuracy,align='center',alpha=0.6,color='gray',width=0.6)\n",
        "plt.xticks(y_pos,objects)\n",
        "plt.ylabel('Accuracy')\n",
        "plt.xlabel('Number of remaining features')               \n",
        "plt.title('Accuracy vs Near-constant variable values')\n",
        "\n",
        "plt.show()  \n",
        "#plt.savefig(\"box_plot_100_1.png\",dpi=600)\n",
        "#plt.close()\n",
        "\n",
        "import numpy as np\n",
        "import matplotlib.pyplot as plt\n",
        "objects= ('15','17','23','32','55','67','87')\n",
        "accuracy=(54.83,54.97,55.09,56.18,57.16,58.68,59.18)\n",
        "y_pos=np.arange(len(objects))\n",
        "                \n",
        "plt.bar(y_pos,accuracy,align='center',alpha=0.6,color='gray',width=0.6)\n",
        "plt.xticks(y_pos,objects)\n",
        "plt.ylabel('Accuracy')\n",
        "plt.xlabel('Number of discarded outliers')               \n",
        "plt.title('Accuracy vs Outliers')\n",
        "\n",
        "plt.show()  \n",
        "#plt.savefig(\"box_plot_100_1.png\",dpi=600)\n",
        "#plt.close()\n"
      ]
    },
    {
      "cell_type": "code",
      "execution_count": 26,
      "id": "c1bf406b-e297-450f-b942-17f344f563fe",
      "metadata": {
        "id": "c1bf406b-e297-450f-b942-17f344f563fe",
        "outputId": "0a112407-33ac-4389-f9c1-465ee9ce3dac",
        "colab": {
          "base_uri": "https://localhost:8080/",
          "height": 235
        }
      },
      "outputs": [
        {
          "output_type": "error",
          "ename": "NameError",
          "evalue": "ignored",
          "traceback": [
            "\u001b[0;31m---------------------------------------------------------------------------\u001b[0m",
            "\u001b[0;31mNameError\u001b[0m                                 Traceback (most recent call last)",
            "\u001b[0;32m<ipython-input-26-a2648af43b7b>\u001b[0m in \u001b[0;36m<module>\u001b[0;34m\u001b[0m\n\u001b[0;32m----> 1\u001b[0;31m \u001b[0mdataforplot\u001b[0m\u001b[0;34m.\u001b[0m\u001b[0mplot\u001b[0m\u001b[0;34m(\u001b[0m\u001b[0mkind\u001b[0m\u001b[0;34m=\u001b[0m\u001b[0;34m'bar'\u001b[0m\u001b[0;34m,\u001b[0m\u001b[0malpha\u001b[0m\u001b[0;34m=\u001b[0m\u001b[0;36m1\u001b[0m\u001b[0;34m,\u001b[0m \u001b[0mwidth\u001b[0m\u001b[0;34m=\u001b[0m\u001b[0;36m0.75\u001b[0m\u001b[0;34m,\u001b[0m\u001b[0mfigsize\u001b[0m\u001b[0;34m=\u001b[0m\u001b[0;34m[\u001b[0m\u001b[0;36m8\u001b[0m\u001b[0;34m,\u001b[0m\u001b[0;36m8\u001b[0m\u001b[0;34m]\u001b[0m\u001b[0;34m)\u001b[0m\u001b[0;34m\u001b[0m\u001b[0;34m\u001b[0m\u001b[0m\n\u001b[0m\u001b[1;32m      2\u001b[0m \u001b[0;31m#dataforplot.plot(kind='bar',alpha=1, width=0.75,figsize=[8,8],colormap='Pastel2')\u001b[0m\u001b[0;34m\u001b[0m\u001b[0;34m\u001b[0m\u001b[0;34m\u001b[0m\u001b[0m\n\u001b[1;32m      3\u001b[0m \u001b[0;34m\u001b[0m\u001b[0m\n\u001b[1;32m      4\u001b[0m \u001b[0mplt\u001b[0m\u001b[0;34m.\u001b[0m\u001b[0mtitle\u001b[0m\u001b[0;34m(\u001b[0m\u001b[0;34m'Machine Learning Models Performance'\u001b[0m\u001b[0;34m,\u001b[0m\u001b[0mfontsize\u001b[0m\u001b[0;34m=\u001b[0m\u001b[0;36m16\u001b[0m\u001b[0;34m)\u001b[0m\u001b[0;34m\u001b[0m\u001b[0;34m\u001b[0m\u001b[0m\n\u001b[1;32m      5\u001b[0m \u001b[0mlabels\u001b[0m\u001b[0;34m=\u001b[0m\u001b[0;34m[\u001b[0m\u001b[0;34m'$R^2_{train}$'\u001b[0m\u001b[0;34m,\u001b[0m\u001b[0;34m'$Q^2_{cv}$'\u001b[0m\u001b[0;34m,\u001b[0m\u001b[0;34m'$Q^2_{ext}$'\u001b[0m\u001b[0;34m]\u001b[0m\u001b[0;34m\u001b[0m\u001b[0;34m\u001b[0m\u001b[0m\n",
            "\u001b[0;31mNameError\u001b[0m: name 'dataforplot' is not defined"
          ]
        }
      ],
      "source": [
        "dataforplot.plot(kind='bar',alpha=1, width=0.75,figsize=[8,8])\n",
        "#dataforplot.plot(kind='bar',alpha=1, width=0.75,figsize=[8,8],colormap='Pastel2')\n",
        "\n",
        "plt.title('Machine Learning Models Performance',fontsize=16)\n",
        "labels=['$R^2_{train}$','$Q^2_{cv}$','$Q^2_{ext}$']\n",
        "plt.xticks(np.arange(3), labels,rotation=0,fontsize=14)\n",
        "plt.ylabel('Determination Coefficient',fontsize=14)\n",
        "plt.legend(bbox_to_anchor=(0.65, 0.99), loc='best',fontsize=12, borderaxespad=0.)\n",
        "\n",
        "plt.grid(True,ls='dashed',color='black',lw=0.4,alpha=0.6)\n",
        "#plt.savefig(\"figure5_machine_learning_models_performance_v2.png\",dpi=600)\n",
        "#plt.close()\n",
        "plt.show()"
      ]
    },
    {
      "cell_type": "code",
      "execution_count": 25,
      "id": "0c4361b3-1f13-4b2e-a56b-61a589bd1ecd",
      "metadata": {
        "id": "0c4361b3-1f13-4b2e-a56b-61a589bd1ecd",
        "outputId": "84b7b15a-0f72-4431-c02f-d27a2345c36d",
        "colab": {
          "base_uri": "https://localhost:8080/",
          "height": 955
        }
      },
      "outputs": [
        {
          "output_type": "error",
          "ename": "TypeError",
          "evalue": "ignored",
          "traceback": [
            "\u001b[0;31m---------------------------------------------------------------------------\u001b[0m",
            "\u001b[0;31mTypeError\u001b[0m                                 Traceback (most recent call last)",
            "\u001b[0;32m<ipython-input-25-e1990021600c>\u001b[0m in \u001b[0;36m<module>\u001b[0;34m\u001b[0m\n\u001b[1;32m     13\u001b[0m \u001b[0;34m\u001b[0m\u001b[0m\n\u001b[1;32m     14\u001b[0m \u001b[0max\u001b[0m\u001b[0;34m.\u001b[0m\u001b[0mbarh\u001b[0m\u001b[0;34m(\u001b[0m\u001b[0my_pos\u001b[0m\u001b[0;34m,\u001b[0m\u001b[0maccuracy\u001b[0m\u001b[0;34m,\u001b[0m\u001b[0malign\u001b[0m\u001b[0;34m=\u001b[0m\u001b[0;34m'center'\u001b[0m\u001b[0;34m,\u001b[0m\u001b[0malpha\u001b[0m\u001b[0;34m=\u001b[0m\u001b[0;36m1\u001b[0m\u001b[0;34m,\u001b[0m\u001b[0mcolor\u001b[0m\u001b[0;34m=\u001b[0m\u001b[0;34m'blue'\u001b[0m\u001b[0;34m)\u001b[0m\u001b[0;34m\u001b[0m\u001b[0;34m\u001b[0m\u001b[0m\n\u001b[0;32m---> 15\u001b[0;31m \u001b[0max\u001b[0m\u001b[0;34m.\u001b[0m\u001b[0mset_yticks\u001b[0m\u001b[0;34m(\u001b[0m\u001b[0my_pos\u001b[0m\u001b[0;34m,\u001b[0m \u001b[0mlabels\u001b[0m\u001b[0;34m=\u001b[0m\u001b[0mobjects\u001b[0m\u001b[0;34m)\u001b[0m\u001b[0;34m\u001b[0m\u001b[0;34m\u001b[0m\u001b[0m\n\u001b[0m\u001b[1;32m     16\u001b[0m \u001b[0max\u001b[0m\u001b[0;34m.\u001b[0m\u001b[0minvert_yaxis\u001b[0m\u001b[0;34m(\u001b[0m\u001b[0;34m)\u001b[0m  \u001b[0;31m# labels read top-to-bottom\u001b[0m\u001b[0;34m\u001b[0m\u001b[0;34m\u001b[0m\u001b[0m\n\u001b[1;32m     17\u001b[0m \u001b[0max\u001b[0m\u001b[0;34m.\u001b[0m\u001b[0mset_xlabel\u001b[0m\u001b[0;34m(\u001b[0m\u001b[0;34m'Performance'\u001b[0m\u001b[0;34m,\u001b[0m\u001b[0mfontsize\u001b[0m\u001b[0;34m=\u001b[0m\u001b[0;36m30\u001b[0m\u001b[0;34m)\u001b[0m\u001b[0;34m\u001b[0m\u001b[0;34m\u001b[0m\u001b[0m\n",
            "\u001b[0;32m/usr/local/lib/python3.8/dist-packages/matplotlib/cbook/deprecation.py\u001b[0m in \u001b[0;36mwrapper\u001b[0;34m(*args, **kwargs)\u001b[0m\n\u001b[1;32m    391\u001b[0m     \u001b[0;34m@\u001b[0m\u001b[0mfunctools\u001b[0m\u001b[0;34m.\u001b[0m\u001b[0mwraps\u001b[0m\u001b[0;34m(\u001b[0m\u001b[0mfunc\u001b[0m\u001b[0;34m)\u001b[0m\u001b[0;34m\u001b[0m\u001b[0;34m\u001b[0m\u001b[0m\n\u001b[1;32m    392\u001b[0m     \u001b[0;32mdef\u001b[0m \u001b[0mwrapper\u001b[0m\u001b[0;34m(\u001b[0m\u001b[0;34m*\u001b[0m\u001b[0margs\u001b[0m\u001b[0;34m,\u001b[0m \u001b[0;34m**\u001b[0m\u001b[0mkwargs\u001b[0m\u001b[0;34m)\u001b[0m\u001b[0;34m:\u001b[0m\u001b[0;34m\u001b[0m\u001b[0;34m\u001b[0m\u001b[0m\n\u001b[0;32m--> 393\u001b[0;31m         \u001b[0mbound\u001b[0m \u001b[0;34m=\u001b[0m \u001b[0msignature\u001b[0m\u001b[0;34m.\u001b[0m\u001b[0mbind\u001b[0m\u001b[0;34m(\u001b[0m\u001b[0;34m*\u001b[0m\u001b[0margs\u001b[0m\u001b[0;34m,\u001b[0m \u001b[0;34m**\u001b[0m\u001b[0mkwargs\u001b[0m\u001b[0;34m)\u001b[0m\u001b[0;34m\u001b[0m\u001b[0;34m\u001b[0m\u001b[0m\n\u001b[0m\u001b[1;32m    394\u001b[0m         \u001b[0;32mif\u001b[0m \u001b[0mname\u001b[0m \u001b[0;32min\u001b[0m \u001b[0mbound\u001b[0m\u001b[0;34m.\u001b[0m\u001b[0marguments\u001b[0m \u001b[0;32mand\u001b[0m \u001b[0mname\u001b[0m \u001b[0;32mnot\u001b[0m \u001b[0;32min\u001b[0m \u001b[0mkwargs\u001b[0m\u001b[0;34m:\u001b[0m\u001b[0;34m\u001b[0m\u001b[0;34m\u001b[0m\u001b[0m\n\u001b[1;32m    395\u001b[0m             warn_deprecated(\n",
            "\u001b[0;32m/usr/lib/python3.8/inspect.py\u001b[0m in \u001b[0;36mbind\u001b[0;34m(self, *args, **kwargs)\u001b[0m\n\u001b[1;32m   3035\u001b[0m         \u001b[0;32mif\u001b[0m \u001b[0mthe\u001b[0m \u001b[0mpassed\u001b[0m \u001b[0marguments\u001b[0m \u001b[0mcan\u001b[0m \u001b[0;32mnot\u001b[0m \u001b[0mbe\u001b[0m \u001b[0mbound\u001b[0m\u001b[0;34m.\u001b[0m\u001b[0;34m\u001b[0m\u001b[0;34m\u001b[0m\u001b[0m\n\u001b[1;32m   3036\u001b[0m         \"\"\"\n\u001b[0;32m-> 3037\u001b[0;31m         \u001b[0;32mreturn\u001b[0m \u001b[0mself\u001b[0m\u001b[0;34m.\u001b[0m\u001b[0m_bind\u001b[0m\u001b[0;34m(\u001b[0m\u001b[0margs\u001b[0m\u001b[0;34m,\u001b[0m \u001b[0mkwargs\u001b[0m\u001b[0;34m)\u001b[0m\u001b[0;34m\u001b[0m\u001b[0;34m\u001b[0m\u001b[0m\n\u001b[0m\u001b[1;32m   3038\u001b[0m \u001b[0;34m\u001b[0m\u001b[0m\n\u001b[1;32m   3039\u001b[0m     \u001b[0;32mdef\u001b[0m \u001b[0mbind_partial\u001b[0m\u001b[0;34m(\u001b[0m\u001b[0mself\u001b[0m\u001b[0;34m,\u001b[0m \u001b[0;34m/\u001b[0m\u001b[0;34m,\u001b[0m \u001b[0;34m*\u001b[0m\u001b[0margs\u001b[0m\u001b[0;34m,\u001b[0m \u001b[0;34m**\u001b[0m\u001b[0mkwargs\u001b[0m\u001b[0;34m)\u001b[0m\u001b[0;34m:\u001b[0m\u001b[0;34m\u001b[0m\u001b[0;34m\u001b[0m\u001b[0m\n",
            "\u001b[0;32m/usr/lib/python3.8/inspect.py\u001b[0m in \u001b[0;36m_bind\u001b[0;34m(self, args, kwargs, partial)\u001b[0m\n\u001b[1;32m   3024\u001b[0m                 \u001b[0marguments\u001b[0m\u001b[0;34m[\u001b[0m\u001b[0mkwargs_param\u001b[0m\u001b[0;34m.\u001b[0m\u001b[0mname\u001b[0m\u001b[0;34m]\u001b[0m \u001b[0;34m=\u001b[0m \u001b[0mkwargs\u001b[0m\u001b[0;34m\u001b[0m\u001b[0;34m\u001b[0m\u001b[0m\n\u001b[1;32m   3025\u001b[0m             \u001b[0;32melse\u001b[0m\u001b[0;34m:\u001b[0m\u001b[0;34m\u001b[0m\u001b[0;34m\u001b[0m\u001b[0m\n\u001b[0;32m-> 3026\u001b[0;31m                 raise TypeError(\n\u001b[0m\u001b[1;32m   3027\u001b[0m                     'got an unexpected keyword argument {arg!r}'.format(\n\u001b[1;32m   3028\u001b[0m                         arg=next(iter(kwargs))))\n",
            "\u001b[0;31mTypeError\u001b[0m: got an unexpected keyword argument 'labels'"
          ]
        },
        {
          "output_type": "display_data",
          "data": {
            "text/plain": [
              "<Figure size 1512x720 with 1 Axes>"
            ],
            "image/png": "[encoded data removed]"
          },
          "metadata": {
            "needs_background": "light"
          }
        }
      ],
      "source": [
        "import numpy as np\n",
        "import matplotlib.pyplot as plt\n",
        "\n",
        "fig, ax = plt.subplots()\n",
        "fig.set_size_inches(21,10)\n",
        "objects= ('4GI(K)CCB','4TS(M)AHT','GI1(DE)RIS','TS6(S)IN5GL','Q1RCB','ES(K)DC2HA','GI3(PN)LS',\n",
        "          'Q1IN9GL','GI3(S)DC4T','AC8(CV)ET','TS7(G)CLA','TS8(S)BDGL','KDC2HA','DELHA',\n",
        "          'Q1IN9T','TS4(PN)ZCB','ES(Q1)IN16GL','TS4(N2)ZCB','AC8(V)KUIS','AC1(K)CIS')\n",
        "\n",
        "accuracy=(1,0.839868,0.792588,0.740589,0.731407,0.723965,0.678705,0.66691,0.65937,0.656283,0.633333,\n",
        "          0.626904,0.619502,0.616678,0.605904,0.599379,0.585258,0.566948,0.565606,0.552321)\n",
        "y_pos=np.arange(len(objects))\n",
        "                \n",
        "ax.barh(y_pos,accuracy,align='center',alpha=1,color='blue')\n",
        "ax.set_yticks(y_pos, labels=objects)\n",
        "ax.invert_yaxis()  # labels read top-to-bottom\n",
        "ax.set_xlabel('Performance',fontsize=30)              \n",
        "plt.title('Feature Importance',fontsize=30)\n",
        "\n",
        "plt.yticks(fontsize=20)\n",
        "plt.xticks(fontsize=20)\n",
        "\n",
        "plt.show()  \n",
        "#plt.savefig(\"feature_importance.png\",dpi=600)\n",
        "#plt.close()"
      ]
    },
    {
      "cell_type": "code",
      "execution_count": 20,
      "id": "38f1859f-ccb2-4136-99fd-3a91f949ff07",
      "metadata": {
        "id": "38f1859f-ccb2-4136-99fd-3a91f949ff07",
        "outputId": "2d4d48e9-38dc-4ece-8879-ead0e7a4de69",
        "colab": {
          "base_uri": "https://localhost:8080/",
          "height": 73
        }
      },
      "outputs": [
        {
          "output_type": "display_data",
          "data": {
            "text/plain": [
              "<IPython.core.display.HTML object>"
            ],
            "text/html": [
              "\n",
              "     <input type=\"file\" id=\"files-40c8451a-56e3-45bc-aeaf-f092b0004f0f\" name=\"files[]\" multiple disabled\n",
              "        style=\"border:none\" />\n",
              "     <output id=\"result-40c8451a-56e3-45bc-aeaf-f092b0004f0f\">\n",
              "      Upload widget is only available when the cell has been executed in the\n",
              "      current browser session. Please rerun this cell to enable.\n",
              "      </output>\n",
              "      <script>// Copyright 2017 Google LLC\n",
              "//\n",
              "// Licensed under the Apache License, Version 2.0 (the \"License\");\n",
              "// you may not use this file except in compliance with the License.\n",
              "// You may obtain a copy of the License at\n",
              "//\n",
              "//      http://www.apache.org/licenses/LICENSE-2.0\n",
              "//\n",
              "// Unless required by applicable law or agreed to in writing, software\n",
              "// distributed under the License is distributed on an \"AS IS\" BASIS,\n",
              "// WITHOUT WARRANTIES OR CONDITIONS OF ANY KIND, either express or implied.\n",
              "// See the License for the specific language governing permissions and\n",
              "// limitations under the License.\n",
              "\n",
              "/**\n",
              " * @fileoverview Helpers for google.colab Python module.\n",
              " */\n",
              "(function(scope) {\n",
              "function span(text, styleAttributes = {}) {\n",
              "  const element = document.createElement('span');\n",
              "  element.textContent = text;\n",
              "  for (const key of Object.keys(styleAttributes)) {\n",
              "    element.style[key] = styleAttributes[key];\n",
              "  }\n",
              "  return element;\n",
              "}\n",
              "\n",
              "// Max number of bytes which will be uploaded at a time.\n",
              "const MAX_PAYLOAD_SIZE = 100 * 1024;\n",
              "\n",
              "function _uploadFiles(inputId, outputId) {\n",
              "  const steps = uploadFilesStep(inputId, outputId);\n",
              "  const outputElement = document.getElementById(outputId);\n",
              "  // Cache steps on the outputElement to make it available for the next call\n",
              "  // to uploadFilesContinue from Python.\n",
              "  outputElement.steps = steps;\n",
              "\n",
              "  return _uploadFilesContinue(outputId);\n",
              "}\n",
              "\n",
              "// This is roughly an async generator (not supported in the browser yet),\n",
              "// where there are multiple asynchronous steps and the Python side is going\n",
              "// to poll for completion of each step.\n",
              "// This uses a Promise to block the python side on completion of each step,\n",
              "// then passes the result of the previous step as the input to the next step.\n",
              "function _uploadFilesContinue(outputId) {\n",
              "  const outputElement = document.getElementById(outputId);\n",
              "  const steps = outputElement.steps;\n",
              "\n",
              "  const next = steps.next(outputElement.lastPromiseValue);\n",
              "  return Promise.resolve(next.value.promise).then((value) => {\n",
              "    // Cache the last promise value to make it available to the next\n",
              "    // step of the generator.\n",
              "    outputElement.lastPromiseValue = value;\n",
              "    return next.value.response;\n",
              "  });\n",
              "}\n",
              "\n",
              "/**\n",
              " * Generator function which is called between each async step of the upload\n",
              " * process.\n",
              " * @param {string} inputId Element ID of the input file picker element.\n",
              " * @param {string} outputId Element ID of the output display.\n",
              " * @return {!Iterable<!Object>} Iterable of next steps.\n",
              " */\n",
              "function* uploadFilesStep(inputId, outputId) {\n",
              "  const inputElement = document.getElementById(inputId);\n",
              "  inputElement.disabled = false;\n",
              "\n",
              "  const outputElement = document.getElementById(outputId);\n",
              "  outputElement.innerHTML = '';\n",
              "\n",
              "  const pickedPromise = new Promise((resolve) => {\n",
              "    inputElement.addEventListener('change', (e) => {\n",
              "      resolve(e.target.files);\n",
              "    });\n",
              "  });\n",
              "\n",
              "  const cancel = document.createElement('button');\n",
              "  inputElement.parentElement.appendChild(cancel);\n",
              "  cancel.textContent = 'Cancel upload';\n",
              "  const cancelPromise = new Promise((resolve) => {\n",
              "    cancel.onclick = () => {\n",
              "      resolve(null);\n",
              "    };\n",
              "  });\n",
              "\n",
              "  // Wait for the user to pick the files.\n",
              "  const files = yield {\n",
              "    promise: Promise.race([pickedPromise, cancelPromise]),\n",
              "    response: {\n",
              "      action: 'starting',\n",
              "    }\n",
              "  };\n",
              "\n",
              "  cancel.remove();\n",
              "\n",
              "  // Disable the input element since further picks are not allowed.\n",
              "  inputElement.disabled = true;\n",
              "\n",
              "  if (!files) {\n",
              "    return {\n",
              "      response: {\n",
              "        action: 'complete',\n",
              "      }\n",
              "    };\n",
              "  }\n",
              "\n",
              "  for (const file of files) {\n",
              "    const li = document.createElement('li');\n",
              "    li.append(span(file.name, {fontWeight: 'bold'}));\n",
              "    li.append(span(\n",
              "        `(${file.type || 'n/a'}) - ${file.size} bytes, ` +\n",
              "        `last modified: ${\n",
              "            file.lastModifiedDate ? file.lastModifiedDate.toLocaleDateString() :\n",
              "                                    'n/a'} - `));\n",
              "    const percent = span('0% done');\n",
              "    li.appendChild(percent);\n",
              "\n",
              "    outputElement.appendChild(li);\n",
              "\n",
              "    const fileDataPromise = new Promise((resolve) => {\n",
              "      const reader = new FileReader();\n",
              "      reader.onload = (e) => {\n",
              "        resolve(e.target.result);\n",
              "      };\n",
              "      reader.readAsArrayBuffer(file);\n",
              "    });\n",
              "    // Wait for the data to be ready.\n",
              "    let fileData = yield {\n",
              "      promise: fileDataPromise,\n",
              "      response: {\n",
              "        action: 'continue',\n",
              "      }\n",
              "    };\n",
              "\n",
              "    // Use a chunked sending to avoid message size limits. See b/62115660.\n",
              "    let position = 0;\n",
              "    do {\n",
              "      const length = Math.min(fileData.byteLength - position, MAX_PAYLOAD_SIZE);\n",
              "      const chunk = new Uint8Array(fileData, position, length);\n",
              "      position += length;\n",
              "\n",
              "      const base64 = btoa(String.fromCharCode.apply(null, chunk));\n",
              "      yield {\n",
              "        response: {\n",
              "          action: 'append',\n",
              "          file: file.name,\n",
              "          data: base64,\n",
              "        },\n",
              "      };\n",
              "\n",
              "      let percentDone = fileData.byteLength === 0 ?\n",
              "          100 :\n",
              "          Math.round((position / fileData.byteLength) * 100);\n",
              "      percent.textContent = `${percentDone}% done`;\n",
              "\n",
              "    } while (position < fileData.byteLength);\n",
              "  }\n",
              "\n",
              "  // All done.\n",
              "  yield {\n",
              "    response: {\n",
              "      action: 'complete',\n",
              "    }\n",
              "  };\n",
              "}\n",
              "\n",
              "scope.google = scope.google || {};\n",
              "scope.google.colab = scope.google.colab || {};\n",
              "scope.google.colab._files = {\n",
              "  _uploadFiles,\n",
              "  _uploadFilesContinue,\n",
              "};\n",
              "})(self);\n",
              "</script> "
            ]
          },
          "metadata": {}
        },
        {
          "output_type": "stream",
          "name": "stdout",
          "text": [
            "Saving modelcomparison2.csv to modelcomparison2 (5).csv\n"
          ]
        }
      ],
      "source": [
        "from google.colab import files \n",
        "  \n",
        "  \n",
        "uploaded = files.upload()"
      ]
    },
    {
      "cell_type": "code",
      "execution_count": 21,
      "id": "bce001fd-aee9-418b-9c2c-e9132286a3cf",
      "metadata": {
        "id": "bce001fd-aee9-418b-9c2c-e9132286a3cf"
      },
      "outputs": [],
      "source": [
        "import pandas as pd\n",
        "df=pd.read_csv('modelcomparison2 (5).csv')"
      ]
    },
    {
      "cell_type": "code",
      "execution_count": 28,
      "id": "840313fa-8a75-4ba2-8e3f-9e20e9cbf21b",
      "metadata": {
        "id": "840313fa-8a75-4ba2-8e3f-9e20e9cbf21b"
      },
      "outputs": [],
      "source": [
        "df=df.set_index('Method')"
      ]
    },
    {
      "cell_type": "code",
      "execution_count": 29,
      "id": "e3d97ce3-c6fe-423d-9f80-69f25874d9f1",
      "metadata": {
        "id": "e3d97ce3-c6fe-423d-9f80-69f25874d9f1",
        "outputId": "e8bc4957-e2e0-47d2-cc3d-22e128ca2c3e",
        "colab": {
          "base_uri": "https://localhost:8080/",
          "height": 394
        }
      },
      "outputs": [
        {
          "output_type": "execute_result",
          "data": {
            "text/plain": [
              "                        R2\n",
              "Method                    \n",
              "AWV-RLM-AG(175/57)  0.6165\n",
              "AWV-RLM-AG(194/64)  0.5719\n",
              "Subhash 2011        0.6820\n",
              "IQ(15)[7]           0.6096\n",
              "AWV-DeepNeural      0.7697\n",
              "AWV-GLM             0.7133\n",
              "AWV-IBK             0.3910\n",
              "AWV-RF              0.4179\n",
              "AWV-BF-RF           0.4488\n",
              "AWV-MLP             0.3548"
            ],
            "text/html": [
              "\n",
              "  <div id=\"df-6c2f2fb4-cc13-44b3-af72-430511b1f95e\">\n",
              "    <div class=\"colab-df-container\">\n",
              "      <div>\n",
              "<style scoped>\n",
              "    .dataframe tbody tr th:only-of-type {\n",
              "        vertical-align: middle;\n",
              "    }\n",
              "\n",
              "    .dataframe tbody tr th {\n",
              "        vertical-align: top;\n",
              "    }\n",
              "\n",
              "    .dataframe thead th {\n",
              "        text-align: right;\n",
              "    }\n",
              "</style>\n",
              "<table border=\"1\" class=\"dataframe\">\n",
              "  <thead>\n",
              "    <tr style=\"text-align: right;\">\n",
              "      <th></th>\n",
              "      <th>R2</th>\n",
              "    </tr>\n",
              "    <tr>\n",
              "      <th>Method</th>\n",
              "      <th></th>\n",
              "    </tr>\n",
              "  </thead>\n",
              "  <tbody>\n",
              "    <tr>\n",
              "      <th>AWV-RLM-AG(175/57)</th>\n",
              "      <td>0.6165</td>\n",
              "    </tr>\n",
              "    <tr>\n",
              "      <th>AWV-RLM-AG(194/64)</th>\n",
              "      <td>0.5719</td>\n",
              "    </tr>\n",
              "    <tr>\n",
              "      <th>Subhash 2011</th>\n",
              "      <td>0.6820</td>\n",
              "    </tr>\n",
              "    <tr>\n",
              "      <th>IQ(15)[7]</th>\n",
              "      <td>0.6096</td>\n",
              "    </tr>\n",
              "    <tr>\n",
              "      <th>AWV-DeepNeural</th>\n",
              "      <td>0.7697</td>\n",
              "    </tr>\n",
              "    <tr>\n",
              "      <th>AWV-GLM</th>\n",
              "      <td>0.7133</td>\n",
              "    </tr>\n",
              "    <tr>\n",
              "      <th>AWV-IBK</th>\n",
              "      <td>0.3910</td>\n",
              "    </tr>\n",
              "    <tr>\n",
              "      <th>AWV-RF</th>\n",
              "      <td>0.4179</td>\n",
              "    </tr>\n",
              "    <tr>\n",
              "      <th>AWV-BF-RF</th>\n",
              "      <td>0.4488</td>\n",
              "    </tr>\n",
              "    <tr>\n",
              "      <th>AWV-MLP</th>\n",
              "      <td>0.3548</td>\n",
              "    </tr>\n",
              "  </tbody>\n",
              "</table>\n",
              "</div>\n",
              "      <button class=\"colab-df-convert\" onclick=\"convertToInteractive('df-6c2f2fb4-cc13-44b3-af72-430511b1f95e')\"\n",
              "              title=\"Convert this dataframe to an interactive table.\"\n",
              "              style=\"display:none;\">\n",
              "        \n",
              "  <svg xmlns=\"http://www.w3.org/2000/svg\" height=\"24px\"viewBox=\"0 0 24 24\"\n",
              "       width=\"24px\">\n",
              "    <path d=\"M0 0h24v24H0V0z\" fill=\"none\"/>\n",
              "    <path d=\"M18.56 5.44l.94 2.06.94-2.06 2.06-.94-2.06-.94-.94-2.06-.94 2.06-2.06.94zm-11 1L8.5 8.5l.94-2.06 2.06-.94-2.06-.94L8.5 2.5l-.94 2.06-2.06.94zm10 10l.94 2.06.94-2.06 2.06-.94-2.06-.94-.94-2.06-.94 2.06-2.06.94z\"/><path d=\"M17.41 7.96l-1.37-1.37c-.4-.4-.92-.59-1.43-.59-.52 0-1.04.2-1.43.59L10.3 9.45l-7.72 7.72c-.78.78-.78 2.05 0 2.83L4 21.41c.39.39.9.59 1.41.59.51 0 1.02-.2 1.41-.59l7.78-7.78 2.81-2.81c.8-.78.8-2.07 0-2.86zM5.41 20L4 18.59l7.72-7.72 1.47 1.35L5.41 20z\"/>\n",
              "  </svg>\n",
              "      </button>\n",
              "      \n",
              "  <style>\n",
              "    .colab-df-container {\n",
              "      display:flex;\n",
              "      flex-wrap:wrap;\n",
              "      gap: 12px;\n",
              "    }\n",
              "\n",
              "    .colab-df-convert {\n",
              "      background-color: #E8F0FE;\n",
              "      border: none;\n",
              "      border-radius: 50%;\n",
              "      cursor: pointer;\n",
              "      display: none;\n",
              "      fill: #1967D2;\n",
              "      height: 32px;\n",
              "      padding: 0 0 0 0;\n",
              "      width: 32px;\n",
              "    }\n",
              "\n",
              "    .colab-df-convert:hover {\n",
              "      background-color: #E2EBFA;\n",
              "      box-shadow: 0px 1px 2px rgba(60, 64, 67, 0.3), 0px 1px 3px 1px rgba(60, 64, 67, 0.15);\n",
              "      fill: #174EA6;\n",
              "    }\n",
              "\n",
              "    [theme=dark] .colab-df-convert {\n",
              "      background-color: #3B4455;\n",
              "      fill: #D2E3FC;\n",
              "    }\n",
              "\n",
              "    [theme=dark] .colab-df-convert:hover {\n",
              "      background-color: #434B5C;\n",
              "      box-shadow: 0px 1px 3px 1px rgba(0, 0, 0, 0.15);\n",
              "      filter: drop-shadow(0px 1px 2px rgba(0, 0, 0, 0.3));\n",
              "      fill: #FFFFFF;\n",
              "    }\n",
              "  </style>\n",
              "\n",
              "      <script>\n",
              "        const buttonEl =\n",
              "          document.querySelector('#df-6c2f2fb4-cc13-44b3-af72-430511b1f95e button.colab-df-convert');\n",
              "        buttonEl.style.display =\n",
              "          google.colab.kernel.accessAllowed ? 'block' : 'none';\n",
              "\n",
              "        async function convertToInteractive(key) {\n",
              "          const element = document.querySelector('#df-6c2f2fb4-cc13-44b3-af72-430511b1f95e');\n",
              "          const dataTable =\n",
              "            await google.colab.kernel.invokeFunction('convertToInteractive',\n",
              "                                                     [key], {});\n",
              "          if (!dataTable) return;\n",
              "\n",
              "          const docLinkHtml = 'Like what you see? Visit the ' +\n",
              "            '<a target=\"_blank\" href=https://colab.research.google.com/notebooks/data_table.ipynb>data table notebook</a>'\n",
              "            + ' to learn more about interactive tables.';\n",
              "          element.innerHTML = '';\n",
              "          dataTable['output_type'] = 'display_data';\n",
              "          await google.colab.output.renderOutput(dataTable, element);\n",
              "          const docLink = document.createElement('div');\n",
              "          docLink.innerHTML = docLinkHtml;\n",
              "          element.appendChild(docLink);\n",
              "        }\n",
              "      </script>\n",
              "    </div>\n",
              "  </div>\n",
              "  "
            ]
          },
          "metadata": {},
          "execution_count": 29
        }
      ],
      "source": [
        "df"
      ]
    },
    {
      "cell_type": "code",
      "execution_count": 29,
      "id": "bf62408c-8b54-4020-8d56-91a91b1ca02b",
      "metadata": {
        "id": "bf62408c-8b54-4020-8d56-91a91b1ca02b"
      },
      "outputs": [],
      "source": []
    },
    {
      "cell_type": "code",
      "execution_count": 31,
      "id": "16ec7b37-c316-4120-a127-8a5561b359e7",
      "metadata": {
        "id": "16ec7b37-c316-4120-a127-8a5561b359e7",
        "outputId": "271ae899-cce0-4570-e98a-04922dd2f44e",
        "colab": {
          "base_uri": "https://localhost:8080/",
          "height": 650
        }
      },
      "outputs": [
        {
          "output_type": "display_data",
          "data": {
            "text/plain": [
              "<Figure size 1080x720 with 1 Axes>"
            ],
            "image/png": "[encoded data removed]"
          },
          "metadata": {
            "needs_background": "light"
          }
        }
      ],
      "source": [
        "import numpy as np\n",
        "import matplotlib.pyplot as plt\n",
        "\n",
        "#fig, ax = plt.subplots()\n",
        "#fig.set_size_inches(4,2)\n",
        "#fig, ax = plt.subplots()\n",
        "#df = pd.DataFrame({'contribution': [0.188137,0.160208,0.160208,0.151654,0.149489,0.135975,0.063206]}\n",
        " #                 ,index=['A','B','C','D','E','F','G'])\n",
        "\n",
        "colors = ['b', 'green', 'y', 'pink','orange','cyan','darkgrey']\n",
        "\n",
        "\n",
        "#y_pos=np.arange(len(objects))\n",
        "#ax=ax.barh(y_pos,R2,align='center',alpha=1,color=colors)\n",
        "ax = df.plot(figsize=(15,10),kind='barh', color=colors, legend=False)\n",
        "\n",
        "for bar in ax.patches:\n",
        "    bar.set_facecolor('blue')\n",
        "\n",
        "#highlight = 'Lei et al. (2016)'\n",
        "#pos = df.index.get_loc(highlight)\n",
        "#ax.patches[pos].set_facecolor('orangered')\n",
        "#ax.legend()\n",
        "\n",
        "#highlight1 = 'IQ (15) [7]'\n",
        "#pos1 = df.index.get_loc(highlight1)\n",
        "#ax.patches[pos1].set_facecolor('plum')\n",
        "\n",
        "\n",
        "#highlight2 = 'Subhash, 2011'\n",
        "#pos2 = df.index.get_loc(highlight2)\n",
        "#ax.patches[pos2].set_facecolor('orangered')\n",
        "\n",
        "ax.set_xlabel('determination coefficient $R^2$',fontsize=24) \n",
        "ax.set_ylabel('Method', fontsize=24) \n",
        "\n",
        "plt.title('Model Comparison',fontsize=16)\n",
        "\n",
        "plt.yticks(fontsize=20)\n",
        "plt.xticks(fontsize=20)\n",
        "\n",
        "plt.show()\n",
        "#plt.savefig(\"modelcomparison2.png\",dpi=600)\n",
        "#plt.close()"
      ]
    },
    {
      "cell_type": "code",
      "source": [],
      "metadata": {
        "id": "GuRYhj53Mi3C"
      },
      "id": "GuRYhj53Mi3C",
      "execution_count": null,
      "outputs": []
    },
    {
      "cell_type": "code",
      "execution_count": null,
      "id": "2105093e-5661-4664-884b-2fe460811b74",
      "metadata": {
        "id": "2105093e-5661-4664-884b-2fe460811b74"
      },
      "outputs": [],
      "source": []
    },
    {
      "cell_type": "code",
      "execution_count": null,
      "id": "83cafcb4-4338-4eaf-a18f-f1feffd2bfd6",
      "metadata": {
        "id": "83cafcb4-4338-4eaf-a18f-f1feffd2bfd6"
      },
      "outputs": [],
      "source": []
    },
    {
      "cell_type": "code",
      "execution_count": null,
      "id": "69c7d4d6-5d19-4bf6-bfe1-db0fb5bf8f46",
      "metadata": {
        "id": "69c7d4d6-5d19-4bf6-bfe1-db0fb5bf8f46",
        "outputId": "aafaf2ab-e34c-46aa-a0af-4508ecdb4a94"
      },
      "outputs": [
        {
          "name": "stdout",
          "output_type": "stream",
          "text": [
            "D:\\Dropbox\\Gerardo\\29_Proteasome08032014\\00000YoanPaper\n"
          ]
        }
      ],
      "source": [
        "cd D:\\Dropbox\\Gerardo\\29_Proteasome08032014\\00000YoanPaper"
      ]
    },
    {
      "cell_type": "code",
      "execution_count": null,
      "id": "fff7275f-7ac0-4fe4-a5da-04468d2db925",
      "metadata": {
        "id": "fff7275f-7ac0-4fe4-a5da-04468d2db925",
        "outputId": "5463af0a-37c7-40c0-881f-1e456ef34e35"
      },
      "outputs": [
        {
          "name": "stdout",
          "output_type": "stream",
          "text": [
            " Volume in drive D is Windows\n",
            " Volume Serial Number is 66A4-ACD1\n",
            "\n",
            " Directory of D:\\Dropbox\\Gerardo\\29_Proteasome08032014\\00000YoanPaper\n",
            "\n",
            "10/22/2022  12:33 PM    <DIR>          .\n",
            "10/22/2022  12:33 PM    <DIR>          ..\n",
            "07/09/2022  03:39 PM           561,568 Exploring Proteasome Inhibition using Atomic Weighted Vector and Machine and Deep Learning.docx\n",
            "07/09/2022  03:52 PM               807 feature_importance.csv\n",
            "07/09/2022  05:00 PM               790 feature_importanceT.csv\n",
            "07/09/2022  07:20 PM               238 modelcomparison.csv\n",
            "07/09/2022  03:49 PM             9,662 modelcomparison.xlsx\n",
            "10/22/2022  12:33 PM               214 modelcomparison2.csv\n",
            "07/09/2022  03:51 PM             6,187 New Microsoft Excel Worksheet.xlsx\n",
            "07/09/2022  03:37 PM            16,220 prediction-result-general.xlsx\n",
            "07/09/2022  03:38 PM         1,598,079 SI-Proteasoma.zip\n",
            "10/22/2022  12:26 PM            95,263 Yoan_automL_proteasome.ipynb\n",
            "              10 File(s)      2,289,028 bytes\n",
            "               2 Dir(s)  447,972,417,536 bytes free\n"
          ]
        }
      ],
      "source": [
        "ls"
      ]
    },
    {
      "cell_type": "code",
      "execution_count": null,
      "id": "30192cbe-f3ab-4777-96a7-9517ab20a67d",
      "metadata": {
        "id": "30192cbe-f3ab-4777-96a7-9517ab20a67d"
      },
      "outputs": [],
      "source": []
    },
    {
      "cell_type": "code",
      "execution_count": null,
      "id": "42e6ac1d-8138-412a-8714-386c61e823ff",
      "metadata": {
        "id": "42e6ac1d-8138-412a-8714-386c61e823ff"
      },
      "outputs": [],
      "source": [
        "import numpy as np"
      ]
    },
    {
      "cell_type": "code",
      "execution_count": null,
      "id": "a77e968c-4564-4c04-88d2-b8c49cd38858",
      "metadata": {
        "id": "a77e968c-4564-4c04-88d2-b8c49cd38858"
      },
      "outputs": [],
      "source": []
    },
    {
      "cell_type": "code",
      "execution_count": null,
      "id": "6aa1c809-5942-42e8-9f25-f9aa68e8ce13",
      "metadata": {
        "id": "6aa1c809-5942-42e8-9f25-f9aa68e8ce13"
      },
      "outputs": [],
      "source": [
        "with open('dark_logo.npy','wb') as f:\n",
        "    np.save(f, dark_logo_array)"
      ]
    },
    {
      "cell_type": "code",
      "execution_count": null,
      "id": "fdbc739c-1f48-4825-a4e8-891b99030f94",
      "metadata": {
        "id": "fdbc739c-1f48-4825-a4e8-891b99030f94"
      },
      "outputs": [],
      "source": []
    },
    {
      "cell_type": "code",
      "execution_count": null,
      "id": "64bb5dcf-0749-4db4-8ccf-3da0a77dd4e2",
      "metadata": {
        "id": "64bb5dcf-0749-4db4-8ccf-3da0a77dd4e2"
      },
      "outputs": [],
      "source": [
        "dark_logo_array=[1,2,3,4]"
      ]
    },
    {
      "cell_type": "code",
      "execution_count": null,
      "id": "48880776-c9f5-4e18-a6fe-2590aa71d43a",
      "metadata": {
        "id": "48880776-c9f5-4e18-a6fe-2590aa71d43a",
        "outputId": "d85aef21-2678-4667-f8a1-dc1854d49b7c"
      },
      "outputs": [
        {
          "data": {
            "text/plain": [
              "[1, 2, 3, 4]"
            ]
          },
          "execution_count": 14,
          "metadata": {},
          "output_type": "execute_result"
        }
      ],
      "source": [
        "dark_logo_array"
      ]
    },
    {
      "cell_type": "code",
      "execution_count": null,
      "id": "7a639c94-a61d-4d83-89fb-c6012f227c1e",
      "metadata": {
        "id": "7a639c94-a61d-4d83-89fb-c6012f227c1e"
      },
      "outputs": [],
      "source": [
        "with open ('dark_logo.npy','rb') as f:\n",
        "    logo_rgb_array=np.load(f)"
      ]
    },
    {
      "cell_type": "code",
      "execution_count": null,
      "id": "ad2f1cb6-03f9-4ee2-8d25-b5d137631624",
      "metadata": {
        "id": "ad2f1cb6-03f9-4ee2-8d25-b5d137631624",
        "outputId": "aaf3a95f-5bac-4a0c-8ddf-39602496ab0a"
      },
      "outputs": [
        {
          "data": {
            "text/plain": [
              "array([1, 2, 3, 4])"
            ]
          },
          "execution_count": 17,
          "metadata": {},
          "output_type": "execute_result"
        }
      ],
      "source": [
        "logo_rgb_array"
      ]
    },
    {
      "cell_type": "code",
      "execution_count": null,
      "id": "92d01122-1607-47df-8af4-9d9022062b0e",
      "metadata": {
        "id": "92d01122-1607-47df-8af4-9d9022062b0e"
      },
      "outputs": [],
      "source": [
        "flipped=np.flip(logo_rgb_array)"
      ]
    },
    {
      "cell_type": "code",
      "execution_count": null,
      "id": "fd2bacc0-d915-42e5-8455-b51b517ff5d0",
      "metadata": {
        "id": "fd2bacc0-d915-42e5-8455-b51b517ff5d0",
        "outputId": "f60ea133-0655-4cb5-ef78-497304c07778"
      },
      "outputs": [
        {
          "data": {
            "text/plain": [
              "array([4, 3, 2, 1])"
            ]
          },
          "execution_count": 19,
          "metadata": {},
          "output_type": "execute_result"
        }
      ],
      "source": [
        "flipped"
      ]
    },
    {
      "cell_type": "code",
      "execution_count": null,
      "id": "a9968520-810b-4015-bc88-6ab752b8f66e",
      "metadata": {
        "colab": {
          "base_uri": "https://localhost:8080/",
          "height": 74
        },
        "id": "a9968520-810b-4015-bc88-6ab752b8f66e",
        "outputId": "b49252e2-4803-449f-c143-79171d3b8ad4"
      },
      "outputs": [
        {
          "output_type": "display_data",
          "data": {
            "text/plain": [
              "<IPython.core.display.HTML object>"
            ],
            "text/html": [
              "\n",
              "     <input type=\"file\" id=\"files-1d171c50-52fd-49cd-a02a-4ffe9b2b0b35\" name=\"files[]\" multiple disabled\n",
              "        style=\"border:none\" />\n",
              "     <output id=\"result-1d171c50-52fd-49cd-a02a-4ffe9b2b0b35\">\n",
              "      Upload widget is only available when the cell has been executed in the\n",
              "      current browser session. Please rerun this cell to enable.\n",
              "      </output>\n",
              "      <script>// Copyright 2017 Google LLC\n",
              "//\n",
              "// Licensed under the Apache License, Version 2.0 (the \"License\");\n",
              "// you may not use this file except in compliance with the License.\n",
              "// You may obtain a copy of the License at\n",
              "//\n",
              "//      http://www.apache.org/licenses/LICENSE-2.0\n",
              "//\n",
              "// Unless required by applicable law or agreed to in writing, software\n",
              "// distributed under the License is distributed on an \"AS IS\" BASIS,\n",
              "// WITHOUT WARRANTIES OR CONDITIONS OF ANY KIND, either express or implied.\n",
              "// See the License for the specific language governing permissions and\n",
              "// limitations under the License.\n",
              "\n",
              "/**\n",
              " * @fileoverview Helpers for google.colab Python module.\n",
              " */\n",
              "(function(scope) {\n",
              "function span(text, styleAttributes = {}) {\n",
              "  const element = document.createElement('span');\n",
              "  element.textContent = text;\n",
              "  for (const key of Object.keys(styleAttributes)) {\n",
              "    element.style[key] = styleAttributes[key];\n",
              "  }\n",
              "  return element;\n",
              "}\n",
              "\n",
              "// Max number of bytes which will be uploaded at a time.\n",
              "const MAX_PAYLOAD_SIZE = 100 * 1024;\n",
              "\n",
              "function _uploadFiles(inputId, outputId) {\n",
              "  const steps = uploadFilesStep(inputId, outputId);\n",
              "  const outputElement = document.getElementById(outputId);\n",
              "  // Cache steps on the outputElement to make it available for the next call\n",
              "  // to uploadFilesContinue from Python.\n",
              "  outputElement.steps = steps;\n",
              "\n",
              "  return _uploadFilesContinue(outputId);\n",
              "}\n",
              "\n",
              "// This is roughly an async generator (not supported in the browser yet),\n",
              "// where there are multiple asynchronous steps and the Python side is going\n",
              "// to poll for completion of each step.\n",
              "// This uses a Promise to block the python side on completion of each step,\n",
              "// then passes the result of the previous step as the input to the next step.\n",
              "function _uploadFilesContinue(outputId) {\n",
              "  const outputElement = document.getElementById(outputId);\n",
              "  const steps = outputElement.steps;\n",
              "\n",
              "  const next = steps.next(outputElement.lastPromiseValue);\n",
              "  return Promise.resolve(next.value.promise).then((value) => {\n",
              "    // Cache the last promise value to make it available to the next\n",
              "    // step of the generator.\n",
              "    outputElement.lastPromiseValue = value;\n",
              "    return next.value.response;\n",
              "  });\n",
              "}\n",
              "\n",
              "/**\n",
              " * Generator function which is called between each async step of the upload\n",
              " * process.\n",
              " * @param {string} inputId Element ID of the input file picker element.\n",
              " * @param {string} outputId Element ID of the output display.\n",
              " * @return {!Iterable<!Object>} Iterable of next steps.\n",
              " */\n",
              "function* uploadFilesStep(inputId, outputId) {\n",
              "  const inputElement = document.getElementById(inputId);\n",
              "  inputElement.disabled = false;\n",
              "\n",
              "  const outputElement = document.getElementById(outputId);\n",
              "  outputElement.innerHTML = '';\n",
              "\n",
              "  const pickedPromise = new Promise((resolve) => {\n",
              "    inputElement.addEventListener('change', (e) => {\n",
              "      resolve(e.target.files);\n",
              "    });\n",
              "  });\n",
              "\n",
              "  const cancel = document.createElement('button');\n",
              "  inputElement.parentElement.appendChild(cancel);\n",
              "  cancel.textContent = 'Cancel upload';\n",
              "  const cancelPromise = new Promise((resolve) => {\n",
              "    cancel.onclick = () => {\n",
              "      resolve(null);\n",
              "    };\n",
              "  });\n",
              "\n",
              "  // Wait for the user to pick the files.\n",
              "  const files = yield {\n",
              "    promise: Promise.race([pickedPromise, cancelPromise]),\n",
              "    response: {\n",
              "      action: 'starting',\n",
              "    }\n",
              "  };\n",
              "\n",
              "  cancel.remove();\n",
              "\n",
              "  // Disable the input element since further picks are not allowed.\n",
              "  inputElement.disabled = true;\n",
              "\n",
              "  if (!files) {\n",
              "    return {\n",
              "      response: {\n",
              "        action: 'complete',\n",
              "      }\n",
              "    };\n",
              "  }\n",
              "\n",
              "  for (const file of files) {\n",
              "    const li = document.createElement('li');\n",
              "    li.append(span(file.name, {fontWeight: 'bold'}));\n",
              "    li.append(span(\n",
              "        `(${file.type || 'n/a'}) - ${file.size} bytes, ` +\n",
              "        `last modified: ${\n",
              "            file.lastModifiedDate ? file.lastModifiedDate.toLocaleDateString() :\n",
              "                                    'n/a'} - `));\n",
              "    const percent = span('0% done');\n",
              "    li.appendChild(percent);\n",
              "\n",
              "    outputElement.appendChild(li);\n",
              "\n",
              "    const fileDataPromise = new Promise((resolve) => {\n",
              "      const reader = new FileReader();\n",
              "      reader.onload = (e) => {\n",
              "        resolve(e.target.result);\n",
              "      };\n",
              "      reader.readAsArrayBuffer(file);\n",
              "    });\n",
              "    // Wait for the data to be ready.\n",
              "    let fileData = yield {\n",
              "      promise: fileDataPromise,\n",
              "      response: {\n",
              "        action: 'continue',\n",
              "      }\n",
              "    };\n",
              "\n",
              "    // Use a chunked sending to avoid message size limits. See b/62115660.\n",
              "    let position = 0;\n",
              "    do {\n",
              "      const length = Math.min(fileData.byteLength - position, MAX_PAYLOAD_SIZE);\n",
              "      const chunk = new Uint8Array(fileData, position, length);\n",
              "      position += length;\n",
              "\n",
              "      const base64 = btoa(String.fromCharCode.apply(null, chunk));\n",
              "      yield {\n",
              "        response: {\n",
              "          action: 'append',\n",
              "          file: file.name,\n",
              "          data: base64,\n",
              "        },\n",
              "      };\n",
              "\n",
              "      let percentDone = fileData.byteLength === 0 ?\n",
              "          100 :\n",
              "          Math.round((position / fileData.byteLength) * 100);\n",
              "      percent.textContent = `${percentDone}% done`;\n",
              "\n",
              "    } while (position < fileData.byteLength);\n",
              "  }\n",
              "\n",
              "  // All done.\n",
              "  yield {\n",
              "    response: {\n",
              "      action: 'complete',\n",
              "    }\n",
              "  };\n",
              "}\n",
              "\n",
              "scope.google = scope.google || {};\n",
              "scope.google.colab = scope.google.colab || {};\n",
              "scope.google.colab._files = {\n",
              "  _uploadFiles,\n",
              "  _uploadFilesContinue,\n",
              "};\n",
              "})(self);\n",
              "</script> "
            ]
          },
          "metadata": {}
        },
        {
          "output_type": "stream",
          "name": "stdout",
          "text": [
            "Saving BBB-ML.csv to BBB-ML.csv\n"
          ]
        }
      ],
      "source": [
        "from google.colab import files \n",
        "  \n",
        "  \n",
        "uploaded = files.upload()\n"
      ]
    },
    {
      "cell_type": "code",
      "execution_count": null,
      "id": "a978943a-15a7-47f8-8fc4-3a4631c41d1a",
      "metadata": {
        "id": "a978943a-15a7-47f8-8fc4-3a4631c41d1a"
      },
      "outputs": [],
      "source": [
        "import pandas as pd\n",
        "df=pd.read_csv('BBB-ML.csv')"
      ]
    },
    {
      "cell_type": "code",
      "source": [
        "df=df.set_index('ML Method')"
      ],
      "metadata": {
        "id": "5IXDnLjZOli7"
      },
      "id": "5IXDnLjZOli7",
      "execution_count": null,
      "outputs": []
    },
    {
      "cell_type": "code",
      "source": [
        "df"
      ],
      "metadata": {
        "colab": {
          "base_uri": "https://localhost:8080/",
          "height": 551
        },
        "id": "gtcfEpSPMQee",
        "outputId": "04067744-59c6-418b-97dd-8e025616ba54"
      },
      "id": "gtcfEpSPMQee",
      "execution_count": null,
      "outputs": [
        {
          "output_type": "execute_result",
          "data": {
            "text/plain": [
              "                    Accurac(ACC)\n",
              "ML Method                       \n",
              "Naive Bayes - AWV       0.660871\n",
              "NNET - AWV              0.767113\n",
              "AVNNET- AWV             0.768841\n",
              "KNN- AWV                0.712073\n",
              "KKNN- AWV               0.727122\n",
              "Earth- AWV              0.716820\n",
              "SVML- AWV               0.761089\n",
              "SVMR- AWV               0.738731\n",
              "SVMP- AWV               0.757227\n",
              "Random Forest- AWV      0.776791\n",
              "Ranger- AWV             0.764931\n",
              "GBM- AWV                0.784087\n",
              "RPART- AWV              0.681963\n",
              "C50tree- AWV            0.669053\n",
              "c5- AWV                 0.748433"
            ],
            "text/html": [
              "\n",
              "  <div id=\"df-e1584220-1054-4eec-99ed-cef3c46b6510\">\n",
              "    <div class=\"colab-df-container\">\n",
              "      <div>\n",
              "<style scoped>\n",
              "    .dataframe tbody tr th:only-of-type {\n",
              "        vertical-align: middle;\n",
              "    }\n",
              "\n",
              "    .dataframe tbody tr th {\n",
              "        vertical-align: top;\n",
              "    }\n",
              "\n",
              "    .dataframe thead th {\n",
              "        text-align: right;\n",
              "    }\n",
              "</style>\n",
              "<table border=\"1\" class=\"dataframe\">\n",
              "  <thead>\n",
              "    <tr style=\"text-align: right;\">\n",
              "      <th></th>\n",
              "      <th>Accurac(ACC)</th>\n",
              "    </tr>\n",
              "    <tr>\n",
              "      <th>ML Method</th>\n",
              "      <th></th>\n",
              "    </tr>\n",
              "  </thead>\n",
              "  <tbody>\n",
              "    <tr>\n",
              "      <th>Naive Bayes - AWV</th>\n",
              "      <td>0.660871</td>\n",
              "    </tr>\n",
              "    <tr>\n",
              "      <th>NNET - AWV</th>\n",
              "      <td>0.767113</td>\n",
              "    </tr>\n",
              "    <tr>\n",
              "      <th>AVNNET- AWV</th>\n",
              "      <td>0.768841</td>\n",
              "    </tr>\n",
              "    <tr>\n",
              "      <th>KNN- AWV</th>\n",
              "      <td>0.712073</td>\n",
              "    </tr>\n",
              "    <tr>\n",
              "      <th>KKNN- AWV</th>\n",
              "      <td>0.727122</td>\n",
              "    </tr>\n",
              "    <tr>\n",
              "      <th>Earth- AWV</th>\n",
              "      <td>0.716820</td>\n",
              "    </tr>\n",
              "    <tr>\n",
              "      <th>SVML- AWV</th>\n",
              "      <td>0.761089</td>\n",
              "    </tr>\n",
              "    <tr>\n",
              "      <th>SVMR- AWV</th>\n",
              "      <td>0.738731</td>\n",
              "    </tr>\n",
              "    <tr>\n",
              "      <th>SVMP- AWV</th>\n",
              "      <td>0.757227</td>\n",
              "    </tr>\n",
              "    <tr>\n",
              "      <th>Random Forest- AWV</th>\n",
              "      <td>0.776791</td>\n",
              "    </tr>\n",
              "    <tr>\n",
              "      <th>Ranger- AWV</th>\n",
              "      <td>0.764931</td>\n",
              "    </tr>\n",
              "    <tr>\n",
              "      <th>GBM- AWV</th>\n",
              "      <td>0.784087</td>\n",
              "    </tr>\n",
              "    <tr>\n",
              "      <th>RPART- AWV</th>\n",
              "      <td>0.681963</td>\n",
              "    </tr>\n",
              "    <tr>\n",
              "      <th>C50tree- AWV</th>\n",
              "      <td>0.669053</td>\n",
              "    </tr>\n",
              "    <tr>\n",
              "      <th>c5- AWV</th>\n",
              "      <td>0.748433</td>\n",
              "    </tr>\n",
              "  </tbody>\n",
              "</table>\n",
              "</div>\n",
              "      <button class=\"colab-df-convert\" onclick=\"convertToInteractive('df-e1584220-1054-4eec-99ed-cef3c46b6510')\"\n",
              "              title=\"Convert this dataframe to an interactive table.\"\n",
              "              style=\"display:none;\">\n",
              "        \n",
              "  <svg xmlns=\"http://www.w3.org/2000/svg\" height=\"24px\"viewBox=\"0 0 24 24\"\n",
              "       width=\"24px\">\n",
              "    <path d=\"M0 0h24v24H0V0z\" fill=\"none\"/>\n",
              "    <path d=\"M18.56 5.44l.94 2.06.94-2.06 2.06-.94-2.06-.94-.94-2.06-.94 2.06-2.06.94zm-11 1L8.5 8.5l.94-2.06 2.06-.94-2.06-.94L8.5 2.5l-.94 2.06-2.06.94zm10 10l.94 2.06.94-2.06 2.06-.94-2.06-.94-.94-2.06-.94 2.06-2.06.94z\"/><path d=\"M17.41 7.96l-1.37-1.37c-.4-.4-.92-.59-1.43-.59-.52 0-1.04.2-1.43.59L10.3 9.45l-7.72 7.72c-.78.78-.78 2.05 0 2.83L4 21.41c.39.39.9.59 1.41.59.51 0 1.02-.2 1.41-.59l7.78-7.78 2.81-2.81c.8-.78.8-2.07 0-2.86zM5.41 20L4 18.59l7.72-7.72 1.47 1.35L5.41 20z\"/>\n",
              "  </svg>\n",
              "      </button>\n",
              "      \n",
              "  <style>\n",
              "    .colab-df-container {\n",
              "      display:flex;\n",
              "      flex-wrap:wrap;\n",
              "      gap: 12px;\n",
              "    }\n",
              "\n",
              "    .colab-df-convert {\n",
              "      background-color: #E8F0FE;\n",
              "      border: none;\n",
              "      border-radius: 50%;\n",
              "      cursor: pointer;\n",
              "      display: none;\n",
              "      fill: #1967D2;\n",
              "      height: 32px;\n",
              "      padding: 0 0 0 0;\n",
              "      width: 32px;\n",
              "    }\n",
              "\n",
              "    .colab-df-convert:hover {\n",
              "      background-color: #E2EBFA;\n",
              "      box-shadow: 0px 1px 2px rgba(60, 64, 67, 0.3), 0px 1px 3px 1px rgba(60, 64, 67, 0.15);\n",
              "      fill: #174EA6;\n",
              "    }\n",
              "\n",
              "    [theme=dark] .colab-df-convert {\n",
              "      background-color: #3B4455;\n",
              "      fill: #D2E3FC;\n",
              "    }\n",
              "\n",
              "    [theme=dark] .colab-df-convert:hover {\n",
              "      background-color: #434B5C;\n",
              "      box-shadow: 0px 1px 3px 1px rgba(0, 0, 0, 0.15);\n",
              "      filter: drop-shadow(0px 1px 2px rgba(0, 0, 0, 0.3));\n",
              "      fill: #FFFFFF;\n",
              "    }\n",
              "  </style>\n",
              "\n",
              "      <script>\n",
              "        const buttonEl =\n",
              "          document.querySelector('#df-e1584220-1054-4eec-99ed-cef3c46b6510 button.colab-df-convert');\n",
              "        buttonEl.style.display =\n",
              "          google.colab.kernel.accessAllowed ? 'block' : 'none';\n",
              "\n",
              "        async function convertToInteractive(key) {\n",
              "          const element = document.querySelector('#df-e1584220-1054-4eec-99ed-cef3c46b6510');\n",
              "          const dataTable =\n",
              "            await google.colab.kernel.invokeFunction('convertToInteractive',\n",
              "                                                     [key], {});\n",
              "          if (!dataTable) return;\n",
              "\n",
              "          const docLinkHtml = 'Like what you see? Visit the ' +\n",
              "            '<a target=\"_blank\" href=https://colab.research.google.com/notebooks/data_table.ipynb>data table notebook</a>'\n",
              "            + ' to learn more about interactive tables.';\n",
              "          element.innerHTML = '';\n",
              "          dataTable['output_type'] = 'display_data';\n",
              "          await google.colab.output.renderOutput(dataTable, element);\n",
              "          const docLink = document.createElement('div');\n",
              "          docLink.innerHTML = docLinkHtml;\n",
              "          element.appendChild(docLink);\n",
              "        }\n",
              "      </script>\n",
              "    </div>\n",
              "  </div>\n",
              "  "
            ]
          },
          "metadata": {},
          "execution_count": 13
        }
      ]
    },
    {
      "cell_type": "code",
      "source": [
        "import numpy as np\n",
        "import matplotlib.pyplot as plt\n",
        "\n",
        "#fig, ax = plt.subplots()\n",
        "#fig.set_size_inches(4,2)\n",
        "#fig, ax = plt.subplots()\n",
        "#df = pd.DataFrame({'contribution': [0.188137,0.160208,0.160208,0.151654,0.149489,0.135975,0.063206]}\n",
        " #                 ,index=['A','B','C','D','E','F','G'])\n",
        "\n",
        "colors = ['b', 'green', 'y', 'pink','orange','cyan','darkgrey']\n",
        "\n",
        "\n",
        "#y_pos=np.arange(len(objects))\n",
        "#ax=ax.barh(y_pos,R2,align='center',alpha=1,color=colors)\n",
        "ax = df.plot(figsize=(15,10),kind='barh', color=colors, legend=False)\n",
        "\n",
        "for bar in ax.patches:\n",
        "    bar.set_facecolor('green')\n",
        "\n",
        "ax.set_xlabel('Accuracy $(ACC)$',fontsize=24) \n",
        "ax.set_ylabel('Machine Learning Method', fontsize=24) \n",
        "\n",
        "plt.title('Predicting BBB Passage using AWV and ML',fontsize=16)\n",
        "\n",
        "plt.yticks(fontsize=20)\n",
        "plt.xticks(fontsize=20)\n"
      ],
      "metadata": {
        "colab": {
          "base_uri": "https://localhost:8080/",
          "height": 685
        },
        "id": "jladI6TwMkrg",
        "outputId": "1159b4f9-ee70-4be1-e7f3-ba88eac4eab8"
      },
      "id": "jladI6TwMkrg",
      "execution_count": null,
      "outputs": [
        {
          "output_type": "execute_result",
          "data": {
            "text/plain": [
              "(array([0. , 0.1, 0.2, 0.3, 0.4, 0.5, 0.6, 0.7, 0.8, 0.9]),\n",
              " <a list of 10 Text major ticklabel objects>)"
            ]
          },
          "metadata": {},
          "execution_count": 17
        },
        {
          "output_type": "display_data",
          "data": {
            "text/plain": [
              "<Figure size 1080x720 with 1 Axes>"
            ],
            "image/png": "[encoded data removed]"
          },
          "metadata": {
            "needs_background": "light"
          }
        }
      ]
    }
  ],
  "metadata": {
    "kernelspec": {
      "display_name": "Python 3 (ipykernel)",
      "language": "python",
      "name": "python3"
    },
    "language_info": {
      "codemirror_mode": {
        "name": "ipython",
        "version": 3
      },
      "file_extension": ".py",
      "mimetype": "text/x-python",
      "name": "python",
      "nbconvert_exporter": "python",
      "pygments_lexer": "ipython3",
      "version": "3.9.12"
    },
    "colab": {
      "provenance": [],
      "include_colab_link": true
    }
  },
  "nbformat": 4,
  "nbformat_minor": 5
}